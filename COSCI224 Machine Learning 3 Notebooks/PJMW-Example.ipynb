{
 "cells": [
  {
   "cell_type": "code",
   "execution_count": 1,
   "metadata": {
    "colab": {
     "base_uri": "https://localhost:8080/"
    },
    "execution": {
     "iopub.execute_input": "2025-02-14T09:35:27.452108Z",
     "iopub.status.busy": "2025-02-14T09:35:27.451907Z",
     "iopub.status.idle": "2025-02-14T09:35:33.149861Z",
     "shell.execute_reply": "2025-02-14T09:35:33.148903Z",
     "shell.execute_reply.started": "2025-02-14T09:35:27.452087Z"
    },
    "id": "1nGHRM_tZ_5R",
    "outputId": "ceb89dad-2db4-4a48-bf04-f6827b3bda95"
   },
   "outputs": [],
   "source": [
    "# IMPORT LIBRARIES\n",
    "import os\n",
    "import time\n",
    "import pandas as pd\n",
    "import numpy as np\n",
    "import random as rn\n",
    "import matplotlib.pyplot as plt\n",
    "import tensorflow as tf\n",
    "import keras\n",
    "\n",
    "from sklearn.preprocessing import LabelEncoder\n",
    "from sklearn.model_selection import train_test_split\n",
    "from sklearn.preprocessing import MinMaxScaler\n",
    "from sklearn.metrics import classification_report\n",
    "from sklearn.metrics import confusion_matrix, ConfusionMatrixDisplay\n",
    "\n",
    "import statsmodels.api as sm\n",
    "from sklearn.metrics import (\n",
    "    mean_absolute_error,\n",
    "    mean_absolute_percentage_error,\n",
    "    mean_squared_error,\n",
    ")\n",
    "from sklearn.preprocessing import StandardScaler\n",
    "from statsmodels.graphics.tsaplots import plot_acf\n",
    "from tqdm.notebook import tqdm\n",
    "\n",
    "import warnings\n",
    "\n",
    "warnings.filterwarnings(\"ignore\") # Suppress warnings\n",
    "\n",
    "plt.rcParams[\"figure.figsize\"] = (15, 3)\n",
    "plt.rcParams[\"lines.linewidth\"] = 2"
   ]
  },
  {
   "cell_type": "markdown",
   "metadata": {
    "id": "7GnLVxzf-Os6"
   },
   "source": [
    "## 🔵 Data Preprocessing\n"
   ]
  },
  {
   "cell_type": "markdown",
   "metadata": {
    "id": "bHEF5pgyebwA"
   },
   "source": [
    "### 🔃 Loading the dataset\n",
    " Import the dataset containing hourly energy consumption data for the PJM West Region."
   ]
  },
  {
   "cell_type": "code",
   "execution_count": 2,
   "metadata": {
    "colab": {
     "base_uri": "https://localhost:8080/",
     "height": 204
    },
    "execution": {
     "iopub.execute_input": "2025-02-14T09:35:33.151148Z",
     "iopub.status.busy": "2025-02-14T09:35:33.150712Z",
     "iopub.status.idle": "2025-02-14T09:35:33.256991Z",
     "shell.execute_reply": "2025-02-14T09:35:33.256176Z",
     "shell.execute_reply.started": "2025-02-14T09:35:33.151126Z"
    },
    "id": "3swPucMnSaaa",
    "outputId": "05257f25-6e0a-490e-d5c1-08bb367d274e"
   },
   "outputs": [
    {
     "data": {
      "text/html": [
       "<div>\n",
       "<style scoped>\n",
       "    .dataframe tbody tr th:only-of-type {\n",
       "        vertical-align: middle;\n",
       "    }\n",
       "\n",
       "    .dataframe tbody tr th {\n",
       "        vertical-align: top;\n",
       "    }\n",
       "\n",
       "    .dataframe thead th {\n",
       "        text-align: right;\n",
       "    }\n",
       "</style>\n",
       "<table border=\"1\" class=\"dataframe\">\n",
       "  <thead>\n",
       "    <tr style=\"text-align: right;\">\n",
       "      <th></th>\n",
       "      <th>Datetime</th>\n",
       "      <th>PJMW_MW</th>\n",
       "    </tr>\n",
       "  </thead>\n",
       "  <tbody>\n",
       "    <tr>\n",
       "      <th>0</th>\n",
       "      <td>2002-12-31 01:00:00</td>\n",
       "      <td>5077.0</td>\n",
       "    </tr>\n",
       "    <tr>\n",
       "      <th>1</th>\n",
       "      <td>2002-12-31 02:00:00</td>\n",
       "      <td>4939.0</td>\n",
       "    </tr>\n",
       "    <tr>\n",
       "      <th>2</th>\n",
       "      <td>2002-12-31 03:00:00</td>\n",
       "      <td>4885.0</td>\n",
       "    </tr>\n",
       "    <tr>\n",
       "      <th>3</th>\n",
       "      <td>2002-12-31 04:00:00</td>\n",
       "      <td>4857.0</td>\n",
       "    </tr>\n",
       "    <tr>\n",
       "      <th>4</th>\n",
       "      <td>2002-12-31 05:00:00</td>\n",
       "      <td>4930.0</td>\n",
       "    </tr>\n",
       "  </tbody>\n",
       "</table>\n",
       "</div>"
      ],
      "text/plain": [
       "              Datetime  PJMW_MW\n",
       "0  2002-12-31 01:00:00   5077.0\n",
       "1  2002-12-31 02:00:00   4939.0\n",
       "2  2002-12-31 03:00:00   4885.0\n",
       "3  2002-12-31 04:00:00   4857.0\n",
       "4  2002-12-31 05:00:00   4930.0"
      ]
     },
     "execution_count": 2,
     "metadata": {},
     "output_type": "execute_result"
    }
   ],
   "source": [
    "DATA_DIR = 'data/'\n",
    "dataset_filepath = DATA_DIR + 'PJMW_hourly.csv'\n",
    "data = pd.read_csv(dataset_filepath)\n",
    "data.head()"
   ]
  },
  {
   "cell_type": "code",
   "execution_count": 3,
   "metadata": {
    "colab": {
     "base_uri": "https://localhost:8080/",
     "height": 235
    },
    "execution": {
     "iopub.execute_input": "2025-02-14T09:35:33.258011Z",
     "iopub.status.busy": "2025-02-14T09:35:33.257801Z",
     "iopub.status.idle": "2025-02-14T09:35:33.319266Z",
     "shell.execute_reply": "2025-02-14T09:35:33.318455Z",
     "shell.execute_reply.started": "2025-02-14T09:35:33.257992Z"
    },
    "id": "3LeMpKZJ1ou5",
    "outputId": "1323dd7a-5560-4821-86a6-d1b414464568"
   },
   "outputs": [
    {
     "data": {
      "text/html": [
       "<div>\n",
       "<style scoped>\n",
       "    .dataframe tbody tr th:only-of-type {\n",
       "        vertical-align: middle;\n",
       "    }\n",
       "\n",
       "    .dataframe tbody tr th {\n",
       "        vertical-align: top;\n",
       "    }\n",
       "\n",
       "    .dataframe thead th {\n",
       "        text-align: right;\n",
       "    }\n",
       "</style>\n",
       "<table border=\"1\" class=\"dataframe\">\n",
       "  <thead>\n",
       "    <tr style=\"text-align: right;\">\n",
       "      <th></th>\n",
       "      <th>PJMW_MW</th>\n",
       "    </tr>\n",
       "    <tr>\n",
       "      <th>Datetime</th>\n",
       "      <th></th>\n",
       "    </tr>\n",
       "  </thead>\n",
       "  <tbody>\n",
       "    <tr>\n",
       "      <th>2002-04-01 01:00:00</th>\n",
       "      <td>4374.0</td>\n",
       "    </tr>\n",
       "    <tr>\n",
       "      <th>2002-04-01 02:00:00</th>\n",
       "      <td>4306.0</td>\n",
       "    </tr>\n",
       "    <tr>\n",
       "      <th>2002-04-01 03:00:00</th>\n",
       "      <td>4322.0</td>\n",
       "    </tr>\n",
       "    <tr>\n",
       "      <th>2002-04-01 04:00:00</th>\n",
       "      <td>4359.0</td>\n",
       "    </tr>\n",
       "    <tr>\n",
       "      <th>2002-04-01 05:00:00</th>\n",
       "      <td>4436.0</td>\n",
       "    </tr>\n",
       "  </tbody>\n",
       "</table>\n",
       "</div>"
      ],
      "text/plain": [
       "                     PJMW_MW\n",
       "Datetime                    \n",
       "2002-04-01 01:00:00   4374.0\n",
       "2002-04-01 02:00:00   4306.0\n",
       "2002-04-01 03:00:00   4322.0\n",
       "2002-04-01 04:00:00   4359.0\n",
       "2002-04-01 05:00:00   4436.0"
      ]
     },
     "execution_count": 3,
     "metadata": {},
     "output_type": "execute_result"
    }
   ],
   "source": [
    "data = data.set_index('Datetime')\n",
    "data.index = pd.to_datetime(data.index)\n",
    "data = data.sort_index()\n",
    "data.head()"
   ]
  },
  {
   "cell_type": "code",
   "execution_count": 4,
   "metadata": {
    "colab": {
     "base_uri": "https://localhost:8080/",
     "height": 235
    },
    "execution": {
     "iopub.execute_input": "2025-02-14T09:35:33.321177Z",
     "iopub.status.busy": "2025-02-14T09:35:33.320939Z",
     "iopub.status.idle": "2025-02-14T09:35:33.330155Z",
     "shell.execute_reply": "2025-02-14T09:35:33.329303Z",
     "shell.execute_reply.started": "2025-02-14T09:35:33.321157Z"
    },
    "id": "Rah3Ll0W3WIJ",
    "outputId": "f54dda5c-404e-4f00-f43d-6b22de3814a0"
   },
   "outputs": [
    {
     "data": {
      "text/html": [
       "<div>\n",
       "<style scoped>\n",
       "    .dataframe tbody tr th:only-of-type {\n",
       "        vertical-align: middle;\n",
       "    }\n",
       "\n",
       "    .dataframe tbody tr th {\n",
       "        vertical-align: top;\n",
       "    }\n",
       "\n",
       "    .dataframe thead th {\n",
       "        text-align: right;\n",
       "    }\n",
       "</style>\n",
       "<table border=\"1\" class=\"dataframe\">\n",
       "  <thead>\n",
       "    <tr style=\"text-align: right;\">\n",
       "      <th></th>\n",
       "      <th>PJMW_MW</th>\n",
       "    </tr>\n",
       "    <tr>\n",
       "      <th>Datetime</th>\n",
       "      <th></th>\n",
       "    </tr>\n",
       "  </thead>\n",
       "  <tbody>\n",
       "    <tr>\n",
       "      <th>2018-08-02 20:00:00</th>\n",
       "      <td>6545.0</td>\n",
       "    </tr>\n",
       "    <tr>\n",
       "      <th>2018-08-02 21:00:00</th>\n",
       "      <td>6496.0</td>\n",
       "    </tr>\n",
       "    <tr>\n",
       "      <th>2018-08-02 22:00:00</th>\n",
       "      <td>6325.0</td>\n",
       "    </tr>\n",
       "    <tr>\n",
       "      <th>2018-08-02 23:00:00</th>\n",
       "      <td>5892.0</td>\n",
       "    </tr>\n",
       "    <tr>\n",
       "      <th>2018-08-03 00:00:00</th>\n",
       "      <td>5489.0</td>\n",
       "    </tr>\n",
       "  </tbody>\n",
       "</table>\n",
       "</div>"
      ],
      "text/plain": [
       "                     PJMW_MW\n",
       "Datetime                    \n",
       "2018-08-02 20:00:00   6545.0\n",
       "2018-08-02 21:00:00   6496.0\n",
       "2018-08-02 22:00:00   6325.0\n",
       "2018-08-02 23:00:00   5892.0\n",
       "2018-08-03 00:00:00   5489.0"
      ]
     },
     "execution_count": 4,
     "metadata": {},
     "output_type": "execute_result"
    }
   ],
   "source": [
    "data.tail()"
   ]
  },
  {
   "cell_type": "markdown",
   "metadata": {
    "id": "ccqEooXRVJX8"
   },
   "source": [
    "**Create a version of the dataset that is aggregated on the daily level**"
   ]
  },
  {
   "cell_type": "code",
   "execution_count": 5,
   "metadata": {
    "colab": {
     "base_uri": "https://localhost:8080/",
     "height": 450
    },
    "execution": {
     "iopub.execute_input": "2025-02-14T09:35:33.331048Z",
     "iopub.status.busy": "2025-02-14T09:35:33.330843Z",
     "iopub.status.idle": "2025-02-14T09:35:33.352154Z",
     "shell.execute_reply": "2025-02-14T09:35:33.351490Z",
     "shell.execute_reply.started": "2025-02-14T09:35:33.331028Z"
    },
    "id": "16IRAgaFVPkr",
    "outputId": "8faa7d97-130a-4301-9559-174f15990e30"
   },
   "outputs": [
    {
     "data": {
      "text/html": [
       "<div>\n",
       "<style scoped>\n",
       "    .dataframe tbody tr th:only-of-type {\n",
       "        vertical-align: middle;\n",
       "    }\n",
       "\n",
       "    .dataframe tbody tr th {\n",
       "        vertical-align: top;\n",
       "    }\n",
       "\n",
       "    .dataframe thead th {\n",
       "        text-align: right;\n",
       "    }\n",
       "</style>\n",
       "<table border=\"1\" class=\"dataframe\">\n",
       "  <thead>\n",
       "    <tr style=\"text-align: right;\">\n",
       "      <th></th>\n",
       "      <th>PJMW_MW</th>\n",
       "    </tr>\n",
       "    <tr>\n",
       "      <th>Datetime</th>\n",
       "      <th></th>\n",
       "    </tr>\n",
       "  </thead>\n",
       "  <tbody>\n",
       "    <tr>\n",
       "      <th>2002-04-01</th>\n",
       "      <td>5271.173913</td>\n",
       "    </tr>\n",
       "    <tr>\n",
       "      <th>2002-04-02</th>\n",
       "      <td>5310.416667</td>\n",
       "    </tr>\n",
       "    <tr>\n",
       "      <th>2002-04-03</th>\n",
       "      <td>5325.916667</td>\n",
       "    </tr>\n",
       "    <tr>\n",
       "      <th>2002-04-04</th>\n",
       "      <td>5670.791667</td>\n",
       "    </tr>\n",
       "    <tr>\n",
       "      <th>2002-04-05</th>\n",
       "      <td>5686.125000</td>\n",
       "    </tr>\n",
       "    <tr>\n",
       "      <th>...</th>\n",
       "      <td>...</td>\n",
       "    </tr>\n",
       "    <tr>\n",
       "      <th>2018-07-30</th>\n",
       "      <td>5492.708333</td>\n",
       "    </tr>\n",
       "    <tr>\n",
       "      <th>2018-07-31</th>\n",
       "      <td>5660.750000</td>\n",
       "    </tr>\n",
       "    <tr>\n",
       "      <th>2018-08-01</th>\n",
       "      <td>5959.708333</td>\n",
       "    </tr>\n",
       "    <tr>\n",
       "      <th>2018-08-02</th>\n",
       "      <td>5805.041667</td>\n",
       "    </tr>\n",
       "    <tr>\n",
       "      <th>2018-08-03</th>\n",
       "      <td>5489.000000</td>\n",
       "    </tr>\n",
       "  </tbody>\n",
       "</table>\n",
       "<p>5969 rows × 1 columns</p>\n",
       "</div>"
      ],
      "text/plain": [
       "                PJMW_MW\n",
       "Datetime               \n",
       "2002-04-01  5271.173913\n",
       "2002-04-02  5310.416667\n",
       "2002-04-03  5325.916667\n",
       "2002-04-04  5670.791667\n",
       "2002-04-05  5686.125000\n",
       "...                 ...\n",
       "2018-07-30  5492.708333\n",
       "2018-07-31  5660.750000\n",
       "2018-08-01  5959.708333\n",
       "2018-08-02  5805.041667\n",
       "2018-08-03  5489.000000\n",
       "\n",
       "[5969 rows x 1 columns]"
      ]
     },
     "execution_count": 5,
     "metadata": {},
     "output_type": "execute_result"
    }
   ],
   "source": [
    "data_daily = data.resample('D').mean()\n",
    "data_daily"
   ]
  },
  {
   "cell_type": "markdown",
   "metadata": {
    "id": "n5T9H_ZRtG80"
   },
   "source": [
    "### 🔍 Data Exploration and Preprocessing"
   ]
  },
  {
   "cell_type": "markdown",
   "metadata": {
    "id": "BLZZaNS2ydOZ"
   },
   "source": [
    "Plotting the daily electricity consumption data."
   ]
  },
  {
   "cell_type": "code",
   "execution_count": 6,
   "metadata": {
    "colab": {
     "base_uri": "https://localhost:8080/",
     "height": 322
    },
    "execution": {
     "iopub.execute_input": "2025-02-14T09:35:33.353103Z",
     "iopub.status.busy": "2025-02-14T09:35:33.352883Z",
     "iopub.status.idle": "2025-02-14T09:35:34.164477Z",
     "shell.execute_reply": "2025-02-14T09:35:34.163612Z",
     "shell.execute_reply.started": "2025-02-14T09:35:33.353083Z"
    },
    "id": "KjNH5lDV2Vc1",
    "outputId": "4dd925ff-61d1-480a-c8b0-7fae3c4b9ca4"
   },
   "outputs": [
    {
     "data": {
      "image/png": "[encoded data removed]",
      "text/plain": [
       "<Figure size 1500x300 with 1 Axes>"
      ]
     },
     "metadata": {},
     "output_type": "display_data"
    }
   ],
   "source": [
    "data.plot(\n",
    "    title=\"Daily Electricity Consumption of Pennsylvania-New Jersey-Maryland Interconnection (PJM) West Region\",\n",
    "    xlabel=\"Date\",\n",
    "    ylabel=\"Consumption(MW)\",\n",
    ")\n",
    "plt.autoscale()\n",
    "plt.show()"
   ]
  },
  {
   "cell_type": "code",
   "execution_count": 7,
   "metadata": {
    "colab": {
     "base_uri": "https://localhost:8080/",
     "height": 333
    },
    "execution": {
     "iopub.execute_input": "2025-02-14T09:35:34.165352Z",
     "iopub.status.busy": "2025-02-14T09:35:34.165133Z",
     "iopub.status.idle": "2025-02-14T09:35:34.495265Z",
     "shell.execute_reply": "2025-02-14T09:35:34.494046Z",
     "shell.execute_reply.started": "2025-02-14T09:35:34.165332Z"
    },
    "id": "lSSa1ctaVdVY",
    "outputId": "8b086770-6da5-442b-8a1d-8bb600bb2eb2"
   },
   "outputs": [
    {
     "data": {
      "image/png": "[encoded data removed]",
      "text/plain": [
       "<Figure size 1500x300 with 1 Axes>"
      ]
     },
     "metadata": {},
     "output_type": "display_data"
    }
   ],
   "source": [
    "data_daily.plot(\n",
    "    title=\"Daily Electricity Consumption of Pennsylvania-New Jersey-Maryland Interconnection (PJM) West Region\",\n",
    "    xlabel=\"Date\",\n",
    "    ylabel=\"Consumption(MW)\",\n",
    ")\n",
    "plt.autoscale()\n",
    "plt.show()"
   ]
  },
  {
   "cell_type": "markdown",
   "metadata": {
    "id": "yeOc1Gf-hIcE"
   },
   "source": [
    "Identify missing values with the hourly data and forward fill missing dates."
   ]
  },
  {
   "cell_type": "code",
   "execution_count": 8,
   "metadata": {
    "execution": {
     "iopub.execute_input": "2025-02-14T09:35:34.496214Z",
     "iopub.status.busy": "2025-02-14T09:35:34.495995Z",
     "iopub.status.idle": "2025-02-14T09:35:34.526757Z",
     "shell.execute_reply": "2025-02-14T09:35:34.525765Z",
     "shell.execute_reply.started": "2025-02-14T09:35:34.496193Z"
    },
    "id": "woxx8DmC2qM2"
   },
   "outputs": [],
   "source": [
    "num_missval = None\n",
    "num_missdates = None\n",
    "\n",
    "# get all dates (in days) based on min and max dates in the dataset\n",
    "dates = pd.date_range(start=data.index[0], end=data.index[-1], freq='H')\n",
    "data = data[~data.index.duplicated(keep='first')]\n",
    "data = data.reindex(dates, fill_value=None)\n",
    "\n",
    "# get all dates (in days) based on min and max dates in the dataset\n",
    "dates_daily = pd.date_range(start=data_daily.index[0], end=data_daily.index[-1], freq='D')\n",
    "data_daily = data_daily[~data_daily.index.duplicated(keep='first')]\n",
    "data_daily = data_daily.reindex(dates_daily, fill_value=None)\n",
    "\n",
    "# create series with complete dates\n",
    "ts = pd.Series(data=data['PJMW_MW'].values, index=dates)\n",
    "ts = ts.round(2)  # round for nice printing\n",
    "\n",
    "# create series with complete dates\n",
    "ts_daily = pd.Series(data=data_daily['PJMW_MW'].values, index=dates_daily)\n",
    "ts_daily = ts_daily.round(2)  # round for nice printing\n",
    "\n",
    "# get number of dates with missing values\n",
    "num_missval = ts.isnull().sum()\n",
    "# get dates with missing values\n",
    "num_missdates = ts.isnull()\n",
    "\n",
    "# get number of dates with missing values\n",
    "num_missval_daily = ts_daily.isnull().sum()\n",
    "# get dates with missing values\n",
    "num_missdates_daily = ts_daily.isnull()"
   ]
  },
  {
   "cell_type": "code",
   "execution_count": 9,
   "metadata": {
    "colab": {
     "base_uri": "https://localhost:8080/",
     "height": 1000
    },
    "execution": {
     "iopub.execute_input": "2025-02-14T09:35:34.527621Z",
     "iopub.status.busy": "2025-02-14T09:35:34.527409Z",
     "iopub.status.idle": "2025-02-14T09:35:34.537482Z",
     "shell.execute_reply": "2025-02-14T09:35:34.536502Z",
     "shell.execute_reply.started": "2025-02-14T09:35:34.527602Z"
    },
    "id": "-meXwB8g7j61",
    "outputId": "fe565b97-da6d-4788-8783-2ce28a1302f8"
   },
   "outputs": [
    {
     "data": {
      "text/plain": [
       "2002-04-07 03:00:00    True\n",
       "2002-10-27 02:00:00    True\n",
       "2003-04-06 03:00:00    True\n",
       "2003-10-26 02:00:00    True\n",
       "2004-04-04 03:00:00    True\n",
       "2004-10-31 02:00:00    True\n",
       "2005-04-03 03:00:00    True\n",
       "2005-10-30 02:00:00    True\n",
       "2006-04-02 03:00:00    True\n",
       "2006-10-29 02:00:00    True\n",
       "2007-03-11 03:00:00    True\n",
       "2007-11-04 02:00:00    True\n",
       "2008-03-09 03:00:00    True\n",
       "2008-11-02 02:00:00    True\n",
       "2009-03-08 03:00:00    True\n",
       "2009-11-01 02:00:00    True\n",
       "2010-03-14 03:00:00    True\n",
       "2010-11-07 02:00:00    True\n",
       "2010-12-10 00:00:00    True\n",
       "2011-03-13 03:00:00    True\n",
       "2011-11-06 02:00:00    True\n",
       "2012-03-11 03:00:00    True\n",
       "2012-11-04 02:00:00    True\n",
       "2013-03-10 03:00:00    True\n",
       "2013-11-03 02:00:00    True\n",
       "2014-03-09 03:00:00    True\n",
       "2015-03-08 03:00:00    True\n",
       "2016-03-13 03:00:00    True\n",
       "2017-03-12 03:00:00    True\n",
       "2018-03-11 03:00:00    True\n",
       "dtype: bool"
      ]
     },
     "execution_count": 9,
     "metadata": {},
     "output_type": "execute_result"
    }
   ],
   "source": [
    "num_missdates[num_missdates == True]"
   ]
  },
  {
   "cell_type": "code",
   "execution_count": 10,
   "metadata": {
    "colab": {
     "base_uri": "https://localhost:8080/",
     "height": 82
    },
    "execution": {
     "iopub.execute_input": "2025-02-14T09:35:34.539714Z",
     "iopub.status.busy": "2025-02-14T09:35:34.538836Z",
     "iopub.status.idle": "2025-02-14T09:35:34.547814Z",
     "shell.execute_reply": "2025-02-14T09:35:34.546928Z",
     "shell.execute_reply.started": "2025-02-14T09:35:34.539663Z"
    },
    "id": "-dPfGPyPV0Bh",
    "outputId": "cba1e4e3-aa49-4821-846c-e6fb5be30ecb"
   },
   "outputs": [
    {
     "data": {
      "text/plain": [
       "Series([], Freq: D, dtype: bool)"
      ]
     },
     "execution_count": 10,
     "metadata": {},
     "output_type": "execute_result"
    }
   ],
   "source": [
    "num_missdates_daily[num_missdates_daily == True]"
   ]
  },
  {
   "cell_type": "code",
   "execution_count": 11,
   "metadata": {
    "colab": {
     "base_uri": "https://localhost:8080/",
     "height": 114
    },
    "execution": {
     "iopub.execute_input": "2025-02-14T09:35:34.549449Z",
     "iopub.status.busy": "2025-02-14T09:35:34.548872Z",
     "iopub.status.idle": "2025-02-14T09:35:34.561928Z",
     "shell.execute_reply": "2025-02-14T09:35:34.560954Z",
     "shell.execute_reply.started": "2025-02-14T09:35:34.549411Z"
    },
    "id": "dRFZxOHw8RvN",
    "outputId": "deecbc3f-ac17-471b-9e9e-fbb81e82fe46"
   },
   "outputs": [
    {
     "data": {
      "text/plain": [
       "PJMW_MW    0\n",
       "dtype: int64"
      ]
     },
     "execution_count": 11,
     "metadata": {},
     "output_type": "execute_result"
    }
   ],
   "source": [
    "ts_filled = pd.DataFrame(index=ts.index)\n",
    "ts_filled['PJMW_MW'] =  ts.ffill().values\n",
    "ts_filled.isnull().sum()"
   ]
  },
  {
   "cell_type": "code",
   "execution_count": 12,
   "metadata": {
    "colab": {
     "base_uri": "https://localhost:8080/"
    },
    "execution": {
     "iopub.execute_input": "2025-02-14T09:35:34.564715Z",
     "iopub.status.busy": "2025-02-14T09:35:34.563627Z",
     "iopub.status.idle": "2025-02-14T09:35:34.574485Z",
     "shell.execute_reply": "2025-02-14T09:35:34.573159Z",
     "shell.execute_reply.started": "2025-02-14T09:35:34.564656Z"
    },
    "id": "npmP3YHXYPEk",
    "outputId": "1f92c717-5842-4372-dc43-3081dd33a987"
   },
   "outputs": [
    {
     "data": {
      "text/plain": [
       "(143232, 1)"
      ]
     },
     "execution_count": 12,
     "metadata": {},
     "output_type": "execute_result"
    }
   ],
   "source": [
    "ts_filled.shape"
   ]
  },
  {
   "cell_type": "code",
   "execution_count": 13,
   "metadata": {
    "colab": {
     "base_uri": "https://localhost:8080/",
     "height": 453
    },
    "execution": {
     "iopub.execute_input": "2025-02-14T09:35:34.582715Z",
     "iopub.status.busy": "2025-02-14T09:35:34.581372Z",
     "iopub.status.idle": "2025-02-14T09:35:34.593618Z",
     "shell.execute_reply": "2025-02-14T09:35:34.592325Z",
     "shell.execute_reply.started": "2025-02-14T09:35:34.582664Z"
    },
    "id": "C0Qmv3qZYrMY",
    "outputId": "3c98eec5-43d0-4529-9814-938f24e39034"
   },
   "outputs": [
    {
     "data": {
      "text/plain": [
       "2002-04-01    5271.17\n",
       "2002-04-02    5310.42\n",
       "2002-04-03    5325.92\n",
       "2002-04-04    5670.79\n",
       "2002-04-05    5686.12\n",
       "               ...   \n",
       "2018-07-30    5492.71\n",
       "2018-07-31    5660.75\n",
       "2018-08-01    5959.71\n",
       "2018-08-02    5805.04\n",
       "2018-08-03    5489.00\n",
       "Freq: D, Length: 5969, dtype: float64"
      ]
     },
     "execution_count": 13,
     "metadata": {},
     "output_type": "execute_result"
    }
   ],
   "source": [
    "ts_daily"
   ]
  },
  {
   "cell_type": "code",
   "execution_count": 14,
   "metadata": {
    "colab": {
     "base_uri": "https://localhost:8080/",
     "height": 114
    },
    "execution": {
     "iopub.execute_input": "2025-02-14T09:35:34.595055Z",
     "iopub.status.busy": "2025-02-14T09:35:34.594691Z",
     "iopub.status.idle": "2025-02-14T09:35:34.606502Z",
     "shell.execute_reply": "2025-02-14T09:35:34.605502Z",
     "shell.execute_reply.started": "2025-02-14T09:35:34.595020Z"
    },
    "id": "_B2z3DBvXyqr",
    "outputId": "d06c940d-903c-4ba9-8b33-277e5c1f44e1"
   },
   "outputs": [
    {
     "data": {
      "text/plain": [
       "PJMW_MW    0\n",
       "dtype: int64"
      ]
     },
     "execution_count": 14,
     "metadata": {},
     "output_type": "execute_result"
    }
   ],
   "source": [
    "ts_filled_daily = pd.DataFrame(index=ts_daily.index)\n",
    "ts_filled_daily['PJMW_MW'] =  ts_daily.ffill().values\n",
    "ts_filled_daily.isnull().sum()"
   ]
  },
  {
   "cell_type": "code",
   "execution_count": 15,
   "metadata": {
    "colab": {
     "base_uri": "https://localhost:8080/"
    },
    "execution": {
     "iopub.execute_input": "2025-02-14T09:35:34.607684Z",
     "iopub.status.busy": "2025-02-14T09:35:34.607356Z",
     "iopub.status.idle": "2025-02-14T09:35:34.614967Z",
     "shell.execute_reply": "2025-02-14T09:35:34.613926Z",
     "shell.execute_reply.started": "2025-02-14T09:35:34.607650Z"
    },
    "id": "uUIh5BdE9U8k",
    "outputId": "c93f2f5b-5979-4bff-a803-92fe26b15f88"
   },
   "outputs": [
    {
     "data": {
      "text/plain": [
       "(5969, 1)"
      ]
     },
     "execution_count": 15,
     "metadata": {},
     "output_type": "execute_result"
    }
   ],
   "source": [
    "ts_filled_daily.shape"
   ]
  },
  {
   "cell_type": "code",
   "execution_count": 16,
   "metadata": {
    "colab": {
     "base_uri": "https://localhost:8080/",
     "height": 297
    },
    "execution": {
     "iopub.execute_input": "2025-02-14T09:35:34.616346Z",
     "iopub.status.busy": "2025-02-14T09:35:34.615967Z",
     "iopub.status.idle": "2025-02-14T09:35:34.638073Z",
     "shell.execute_reply": "2025-02-14T09:35:34.636853Z",
     "shell.execute_reply.started": "2025-02-14T09:35:34.616313Z"
    },
    "id": "hgAx_bfVYSe4",
    "outputId": "c5ab759c-a128-489d-8166-05815f96baf2"
   },
   "outputs": [
    {
     "data": {
      "text/html": [
       "<div>\n",
       "<style scoped>\n",
       "    .dataframe tbody tr th:only-of-type {\n",
       "        vertical-align: middle;\n",
       "    }\n",
       "\n",
       "    .dataframe tbody tr th {\n",
       "        vertical-align: top;\n",
       "    }\n",
       "\n",
       "    .dataframe thead th {\n",
       "        text-align: right;\n",
       "    }\n",
       "</style>\n",
       "<table border=\"1\" class=\"dataframe\">\n",
       "  <thead>\n",
       "    <tr style=\"text-align: right;\">\n",
       "      <th></th>\n",
       "      <th>PJMW_MW</th>\n",
       "    </tr>\n",
       "  </thead>\n",
       "  <tbody>\n",
       "    <tr>\n",
       "      <th>count</th>\n",
       "      <td>143232.000000</td>\n",
       "    </tr>\n",
       "    <tr>\n",
       "      <th>mean</th>\n",
       "      <td>5602.227805</td>\n",
       "    </tr>\n",
       "    <tr>\n",
       "      <th>std</th>\n",
       "      <td>979.165847</td>\n",
       "    </tr>\n",
       "    <tr>\n",
       "      <th>min</th>\n",
       "      <td>487.000000</td>\n",
       "    </tr>\n",
       "    <tr>\n",
       "      <th>25%</th>\n",
       "      <td>4906.000000</td>\n",
       "    </tr>\n",
       "    <tr>\n",
       "      <th>50%</th>\n",
       "      <td>5530.000000</td>\n",
       "    </tr>\n",
       "    <tr>\n",
       "      <th>75%</th>\n",
       "      <td>6252.000000</td>\n",
       "    </tr>\n",
       "    <tr>\n",
       "      <th>max</th>\n",
       "      <td>9594.000000</td>\n",
       "    </tr>\n",
       "  </tbody>\n",
       "</table>\n",
       "</div>"
      ],
      "text/plain": [
       "             PJMW_MW\n",
       "count  143232.000000\n",
       "mean     5602.227805\n",
       "std       979.165847\n",
       "min       487.000000\n",
       "25%      4906.000000\n",
       "50%      5530.000000\n",
       "75%      6252.000000\n",
       "max      9594.000000"
      ]
     },
     "execution_count": 16,
     "metadata": {},
     "output_type": "execute_result"
    }
   ],
   "source": [
    "ts_filled.describe()"
   ]
  },
  {
   "cell_type": "code",
   "execution_count": 17,
   "metadata": {
    "colab": {
     "base_uri": "https://localhost:8080/",
     "height": 297
    },
    "execution": {
     "iopub.execute_input": "2025-02-14T09:35:34.638967Z",
     "iopub.status.busy": "2025-02-14T09:35:34.638742Z",
     "iopub.status.idle": "2025-02-14T09:35:34.650862Z",
     "shell.execute_reply": "2025-02-14T09:35:34.650025Z",
     "shell.execute_reply.started": "2025-02-14T09:35:34.638946Z"
    },
    "id": "K96y62sZV90Q",
    "outputId": "45f601ae-ac29-4aa4-b007-b6fac2b083e2"
   },
   "outputs": [
    {
     "data": {
      "text/html": [
       "<div>\n",
       "<style scoped>\n",
       "    .dataframe tbody tr th:only-of-type {\n",
       "        vertical-align: middle;\n",
       "    }\n",
       "\n",
       "    .dataframe tbody tr th {\n",
       "        vertical-align: top;\n",
       "    }\n",
       "\n",
       "    .dataframe thead th {\n",
       "        text-align: right;\n",
       "    }\n",
       "</style>\n",
       "<table border=\"1\" class=\"dataframe\">\n",
       "  <thead>\n",
       "    <tr style=\"text-align: right;\">\n",
       "      <th></th>\n",
       "      <th>PJMW_MW</th>\n",
       "    </tr>\n",
       "  </thead>\n",
       "  <tbody>\n",
       "    <tr>\n",
       "      <th>count</th>\n",
       "      <td>5969.000000</td>\n",
       "    </tr>\n",
       "    <tr>\n",
       "      <th>mean</th>\n",
       "      <td>5602.278303</td>\n",
       "    </tr>\n",
       "    <tr>\n",
       "      <th>std</th>\n",
       "      <td>737.718840</td>\n",
       "    </tr>\n",
       "    <tr>\n",
       "      <th>min</th>\n",
       "      <td>3018.040000</td>\n",
       "    </tr>\n",
       "    <tr>\n",
       "      <th>25%</th>\n",
       "      <td>5043.880000</td>\n",
       "    </tr>\n",
       "    <tr>\n",
       "      <th>50%</th>\n",
       "      <td>5522.460000</td>\n",
       "    </tr>\n",
       "    <tr>\n",
       "      <th>75%</th>\n",
       "      <td>6086.000000</td>\n",
       "    </tr>\n",
       "    <tr>\n",
       "      <th>max</th>\n",
       "      <td>8794.580000</td>\n",
       "    </tr>\n",
       "  </tbody>\n",
       "</table>\n",
       "</div>"
      ],
      "text/plain": [
       "           PJMW_MW\n",
       "count  5969.000000\n",
       "mean   5602.278303\n",
       "std     737.718840\n",
       "min    3018.040000\n",
       "25%    5043.880000\n",
       "50%    5522.460000\n",
       "75%    6086.000000\n",
       "max    8794.580000"
      ]
     },
     "execution_count": 17,
     "metadata": {},
     "output_type": "execute_result"
    }
   ],
   "source": [
    "ts_filled_daily.describe()"
   ]
  },
  {
   "cell_type": "markdown",
   "metadata": {
    "id": "cGeOlBdZyxlo"
   },
   "source": [
    "Plot the autocorrelation function (ACF) of the time series to analyze its correlations over different lag values."
   ]
  },
  {
   "cell_type": "code",
   "execution_count": 18,
   "metadata": {
    "colab": {
     "base_uri": "https://localhost:8080/",
     "height": 333
    },
    "execution": {
     "iopub.execute_input": "2025-02-14T09:35:34.651630Z",
     "iopub.status.busy": "2025-02-14T09:35:34.651438Z",
     "iopub.status.idle": "2025-02-14T09:35:37.335908Z",
     "shell.execute_reply": "2025-02-14T09:35:37.335008Z",
     "shell.execute_reply.started": "2025-02-14T09:35:34.651611Z"
    },
    "id": "LSIwmdf58gbe",
    "outputId": "3cfef067-716a-42fc-e0ea-527ad48a7c65"
   },
   "outputs": [
    {
     "data": {
      "image/png": "[encoded data removed]",
      "text/plain": [
       "<Figure size 1500x300 with 1 Axes>"
      ]
     },
     "metadata": {},
     "output_type": "display_data"
    }
   ],
   "source": [
    "plot_acf(ts_filled)\n",
    "plt.autoscale()\n",
    "plt.xlabel(\"lag value (k)\")\n",
    "plt.show()"
   ]
  },
  {
   "cell_type": "code",
   "execution_count": 19,
   "metadata": {
    "colab": {
     "base_uri": "https://localhost:8080/",
     "height": 333
    },
    "execution": {
     "iopub.execute_input": "2025-02-14T09:35:37.336982Z",
     "iopub.status.busy": "2025-02-14T09:35:37.336747Z",
     "iopub.status.idle": "2025-02-14T09:35:37.499686Z",
     "shell.execute_reply": "2025-02-14T09:35:37.498877Z",
     "shell.execute_reply.started": "2025-02-14T09:35:37.336961Z"
    },
    "id": "sfPgTy1zZhhv",
    "outputId": "69210b1b-ac29-4215-d94c-bf72d195c311"
   },
   "outputs": [
    {
     "data": {
      "image/png": "[encoded data removed]",
      "text/plain": [
       "<Figure size 1500x300 with 1 Axes>"
      ]
     },
     "metadata": {},
     "output_type": "display_data"
    }
   ],
   "source": [
    "plot_acf(ts_filled_daily)\n",
    "plt.autoscale()\n",
    "plt.xlabel(\"lag value (k)\")\n",
    "plt.show()"
   ]
  },
  {
   "cell_type": "markdown",
   "metadata": {
    "id": "FkjYWVDay6mn"
   },
   "source": [
    "On the hourly level, the autocorrelation function (ACF) indicates a 24-hour seasonality or daily in the time series data.\n",
    "\n",
    "On the daily level, the autocorrelation function (ACF) indicates a 7-day seasonality or weekly in the time series data."
   ]
  },
  {
   "cell_type": "markdown",
   "metadata": {
    "id": "Vd21jSrhvhvz"
   },
   "source": [
    "### 🔨 Prepare train/validation data"
   ]
  },
  {
   "cell_type": "markdown",
   "metadata": {
    "id": "vF2EEcHSTkvc"
   },
   "source": [
    "#### 🔀 Train Test Split"
   ]
  },
  {
   "cell_type": "markdown",
   "metadata": {
    "id": "Izt14YZvzBRj"
   },
   "source": [
    "Defining parmaters:\n",
    "- 24-hour daily pattern\n",
    "- Target 30-day forecast horizon"
   ]
  },
  {
   "cell_type": "code",
   "execution_count": 20,
   "metadata": {
    "execution": {
     "iopub.execute_input": "2025-02-14T09:35:37.500553Z",
     "iopub.status.busy": "2025-02-14T09:35:37.500339Z",
     "iopub.status.idle": "2025-02-14T09:35:37.504492Z",
     "shell.execute_reply": "2025-02-14T09:35:37.503717Z",
     "shell.execute_reply.started": "2025-02-14T09:35:37.500534Z"
    },
    "id": "pyFvoaHQtDYk"
   },
   "outputs": [],
   "source": [
    "m = 24 # 24 hour daily pattern\n",
    "h = 24 * 30 #  One Month in Advance Forecast\n",
    "\n",
    "m_daily = 7 # One week pattern\n",
    "h_daily = 30 #  One Month in Advance Forecast"
   ]
  },
  {
   "cell_type": "markdown",
   "metadata": {
    "id": "4cPmpz_QzROe"
   },
   "source": [
    "Prepare data for ARIMA by splitting the time series into 80% training and validation set and 20% test set. This will be used later for AutoML"
   ]
  },
  {
   "cell_type": "code",
   "execution_count": 21,
   "metadata": {
    "execution": {
     "iopub.execute_input": "2025-02-14T09:35:37.505176Z",
     "iopub.status.busy": "2025-02-14T09:35:37.504981Z",
     "iopub.status.idle": "2025-02-14T09:35:37.511415Z",
     "shell.execute_reply": "2025-02-14T09:35:37.510490Z",
     "shell.execute_reply.started": "2025-02-14T09:35:37.505158Z"
    },
    "id": "LGXGmE32RZbD"
   },
   "outputs": [],
   "source": [
    "test_size = round(ts_filled.shape[0] * 0.2) # 20% train-test split\n",
    "ts_trainval = ts_filled[:-test_size]\n",
    "ts_test = ts_filled[-test_size:]"
   ]
  },
  {
   "cell_type": "code",
   "execution_count": 22,
   "metadata": {
    "execution": {
     "iopub.execute_input": "2025-02-14T09:35:37.512706Z",
     "iopub.status.busy": "2025-02-14T09:35:37.512455Z",
     "iopub.status.idle": "2025-02-14T09:35:37.517524Z",
     "shell.execute_reply": "2025-02-14T09:35:37.516387Z",
     "shell.execute_reply.started": "2025-02-14T09:35:37.512684Z"
    },
    "id": "QX6UlqJiZ81R"
   },
   "outputs": [],
   "source": [
    "test_size_daily = round(ts_filled_daily.shape[0] * 0.2) # 20% train-test split\n",
    "ts_trainval_daily = ts_filled_daily[:-test_size_daily]\n",
    "ts_test_daily = ts_filled_daily[-test_size_daily:]"
   ]
  },
  {
   "cell_type": "markdown",
   "metadata": {
    "id": "fDumYODtzV2-"
   },
   "source": [
    "Create a dataframe with lagged features and future values for ARIMA, then remove rows with missing values."
   ]
  },
  {
   "cell_type": "code",
   "execution_count": 23,
   "metadata": {
    "colab": {
     "base_uri": "https://localhost:8080/",
     "height": 233
    },
    "execution": {
     "iopub.execute_input": "2025-02-14T09:35:37.518536Z",
     "iopub.status.busy": "2025-02-14T09:35:37.518298Z",
     "iopub.status.idle": "2025-02-14T09:35:39.518514Z",
     "shell.execute_reply": "2025-02-14T09:35:39.517549Z",
     "shell.execute_reply.started": "2025-02-14T09:35:37.518514Z"
    },
    "id": "GLNdS0O_1lyt",
    "outputId": "1339da6c-ac0f-4d0d-dce3-58d965eefa67"
   },
   "outputs": [
    {
     "data": {
      "text/html": [
       "<div>\n",
       "<style scoped>\n",
       "    .dataframe tbody tr th:only-of-type {\n",
       "        vertical-align: middle;\n",
       "    }\n",
       "\n",
       "    .dataframe tbody tr th {\n",
       "        vertical-align: top;\n",
       "    }\n",
       "\n",
       "    .dataframe thead th {\n",
       "        text-align: right;\n",
       "    }\n",
       "</style>\n",
       "<table border=\"1\" class=\"dataframe\">\n",
       "  <thead>\n",
       "    <tr style=\"text-align: right;\">\n",
       "      <th></th>\n",
       "      <th>x1</th>\n",
       "      <th>x2</th>\n",
       "      <th>x3</th>\n",
       "      <th>x4</th>\n",
       "      <th>x5</th>\n",
       "      <th>x6</th>\n",
       "      <th>x7</th>\n",
       "      <th>x8</th>\n",
       "      <th>x9</th>\n",
       "      <th>x10</th>\n",
       "      <th>...</th>\n",
       "      <th>y711</th>\n",
       "      <th>y712</th>\n",
       "      <th>y713</th>\n",
       "      <th>y714</th>\n",
       "      <th>y715</th>\n",
       "      <th>y716</th>\n",
       "      <th>y717</th>\n",
       "      <th>y718</th>\n",
       "      <th>y719</th>\n",
       "      <th>y720</th>\n",
       "    </tr>\n",
       "  </thead>\n",
       "  <tbody>\n",
       "    <tr>\n",
       "      <th>2002-04-02 01:00:00</th>\n",
       "      <td>5038.0</td>\n",
       "      <td>5406.0</td>\n",
       "      <td>5783.0</td>\n",
       "      <td>5978.0</td>\n",
       "      <td>5954.0</td>\n",
       "      <td>5556.0</td>\n",
       "      <td>5323.0</td>\n",
       "      <td>5272.0</td>\n",
       "      <td>5346.0</td>\n",
       "      <td>5425.0</td>\n",
       "      <td>...</td>\n",
       "      <td>5346.0</td>\n",
       "      <td>5291.0</td>\n",
       "      <td>5297.0</td>\n",
       "      <td>5262.0</td>\n",
       "      <td>5236.0</td>\n",
       "      <td>5294.0</td>\n",
       "      <td>5609.0</td>\n",
       "      <td>5528.0</td>\n",
       "      <td>5130.0</td>\n",
       "      <td>4673.0</td>\n",
       "    </tr>\n",
       "    <tr>\n",
       "      <th>2002-04-02 02:00:00</th>\n",
       "      <td>4873.0</td>\n",
       "      <td>5038.0</td>\n",
       "      <td>5406.0</td>\n",
       "      <td>5783.0</td>\n",
       "      <td>5978.0</td>\n",
       "      <td>5954.0</td>\n",
       "      <td>5556.0</td>\n",
       "      <td>5323.0</td>\n",
       "      <td>5272.0</td>\n",
       "      <td>5346.0</td>\n",
       "      <td>...</td>\n",
       "      <td>5291.0</td>\n",
       "      <td>5297.0</td>\n",
       "      <td>5262.0</td>\n",
       "      <td>5236.0</td>\n",
       "      <td>5294.0</td>\n",
       "      <td>5609.0</td>\n",
       "      <td>5528.0</td>\n",
       "      <td>5130.0</td>\n",
       "      <td>4673.0</td>\n",
       "      <td>4392.0</td>\n",
       "    </tr>\n",
       "    <tr>\n",
       "      <th>2002-04-02 03:00:00</th>\n",
       "      <td>4768.0</td>\n",
       "      <td>4873.0</td>\n",
       "      <td>5038.0</td>\n",
       "      <td>5406.0</td>\n",
       "      <td>5783.0</td>\n",
       "      <td>5978.0</td>\n",
       "      <td>5954.0</td>\n",
       "      <td>5556.0</td>\n",
       "      <td>5323.0</td>\n",
       "      <td>5272.0</td>\n",
       "      <td>...</td>\n",
       "      <td>5297.0</td>\n",
       "      <td>5262.0</td>\n",
       "      <td>5236.0</td>\n",
       "      <td>5294.0</td>\n",
       "      <td>5609.0</td>\n",
       "      <td>5528.0</td>\n",
       "      <td>5130.0</td>\n",
       "      <td>4673.0</td>\n",
       "      <td>4392.0</td>\n",
       "      <td>4251.0</td>\n",
       "    </tr>\n",
       "    <tr>\n",
       "      <th>2002-04-02 04:00:00</th>\n",
       "      <td>4713.0</td>\n",
       "      <td>4768.0</td>\n",
       "      <td>4873.0</td>\n",
       "      <td>5038.0</td>\n",
       "      <td>5406.0</td>\n",
       "      <td>5783.0</td>\n",
       "      <td>5978.0</td>\n",
       "      <td>5954.0</td>\n",
       "      <td>5556.0</td>\n",
       "      <td>5323.0</td>\n",
       "      <td>...</td>\n",
       "      <td>5262.0</td>\n",
       "      <td>5236.0</td>\n",
       "      <td>5294.0</td>\n",
       "      <td>5609.0</td>\n",
       "      <td>5528.0</td>\n",
       "      <td>5130.0</td>\n",
       "      <td>4673.0</td>\n",
       "      <td>4392.0</td>\n",
       "      <td>4251.0</td>\n",
       "      <td>4214.0</td>\n",
       "    </tr>\n",
       "    <tr>\n",
       "      <th>2002-04-02 05:00:00</th>\n",
       "      <td>4737.0</td>\n",
       "      <td>4713.0</td>\n",
       "      <td>4768.0</td>\n",
       "      <td>4873.0</td>\n",
       "      <td>5038.0</td>\n",
       "      <td>5406.0</td>\n",
       "      <td>5783.0</td>\n",
       "      <td>5978.0</td>\n",
       "      <td>5954.0</td>\n",
       "      <td>5556.0</td>\n",
       "      <td>...</td>\n",
       "      <td>5236.0</td>\n",
       "      <td>5294.0</td>\n",
       "      <td>5609.0</td>\n",
       "      <td>5528.0</td>\n",
       "      <td>5130.0</td>\n",
       "      <td>4673.0</td>\n",
       "      <td>4392.0</td>\n",
       "      <td>4251.0</td>\n",
       "      <td>4214.0</td>\n",
       "      <td>4180.0</td>\n",
       "    </tr>\n",
       "  </tbody>\n",
       "</table>\n",
       "<p>5 rows × 744 columns</p>\n",
       "</div>"
      ],
      "text/plain": [
       "                         x1      x2      x3      x4      x5      x6      x7  \\\n",
       "2002-04-02 01:00:00  5038.0  5406.0  5783.0  5978.0  5954.0  5556.0  5323.0   \n",
       "2002-04-02 02:00:00  4873.0  5038.0  5406.0  5783.0  5978.0  5954.0  5556.0   \n",
       "2002-04-02 03:00:00  4768.0  4873.0  5038.0  5406.0  5783.0  5978.0  5954.0   \n",
       "2002-04-02 04:00:00  4713.0  4768.0  4873.0  5038.0  5406.0  5783.0  5978.0   \n",
       "2002-04-02 05:00:00  4737.0  4713.0  4768.0  4873.0  5038.0  5406.0  5783.0   \n",
       "\n",
       "                         x8      x9     x10  ...    y711    y712    y713  \\\n",
       "2002-04-02 01:00:00  5272.0  5346.0  5425.0  ...  5346.0  5291.0  5297.0   \n",
       "2002-04-02 02:00:00  5323.0  5272.0  5346.0  ...  5291.0  5297.0  5262.0   \n",
       "2002-04-02 03:00:00  5556.0  5323.0  5272.0  ...  5297.0  5262.0  5236.0   \n",
       "2002-04-02 04:00:00  5954.0  5556.0  5323.0  ...  5262.0  5236.0  5294.0   \n",
       "2002-04-02 05:00:00  5978.0  5954.0  5556.0  ...  5236.0  5294.0  5609.0   \n",
       "\n",
       "                       y714    y715    y716    y717    y718    y719    y720  \n",
       "2002-04-02 01:00:00  5262.0  5236.0  5294.0  5609.0  5528.0  5130.0  4673.0  \n",
       "2002-04-02 02:00:00  5236.0  5294.0  5609.0  5528.0  5130.0  4673.0  4392.0  \n",
       "2002-04-02 03:00:00  5294.0  5609.0  5528.0  5130.0  4673.0  4392.0  4251.0  \n",
       "2002-04-02 04:00:00  5609.0  5528.0  5130.0  4673.0  4392.0  4251.0  4214.0  \n",
       "2002-04-02 05:00:00  5528.0  5130.0  4673.0  4392.0  4251.0  4214.0  4180.0  \n",
       "\n",
       "[5 rows x 744 columns]"
      ]
     },
     "execution_count": 23,
     "metadata": {},
     "output_type": "execute_result"
    }
   ],
   "source": [
    "df_ts_multi = pd.DataFrame()\n",
    "\n",
    "for i in range(1, m + 1):\n",
    "  df_ts_multi['x' + str(i)] = ts_filled['PJMW_MW'].shift(i)\n",
    "\n",
    "for i in range(0, h):\n",
    "  df_ts_multi['y' + str(i + 1)] = ts_filled['PJMW_MW'].shift(-i)\n",
    "\n",
    "\n",
    "df_ts_multi.dropna(inplace=True)\n",
    "df_ts_multi.head()"
   ]
  },
  {
   "cell_type": "code",
   "execution_count": 24,
   "metadata": {
    "colab": {
     "base_uri": "https://localhost:8080/",
     "height": 233
    },
    "execution": {
     "iopub.execute_input": "2025-02-14T09:35:39.519597Z",
     "iopub.status.busy": "2025-02-14T09:35:39.519365Z",
     "iopub.status.idle": "2025-02-14T09:35:39.563878Z",
     "shell.execute_reply": "2025-02-14T09:35:39.563091Z",
     "shell.execute_reply.started": "2025-02-14T09:35:39.519575Z"
    },
    "id": "EIO_fab2aEOQ",
    "outputId": "1f660daf-bd21-4833-80f8-561dc43572f4"
   },
   "outputs": [
    {
     "data": {
      "text/html": [
       "<div>\n",
       "<style scoped>\n",
       "    .dataframe tbody tr th:only-of-type {\n",
       "        vertical-align: middle;\n",
       "    }\n",
       "\n",
       "    .dataframe tbody tr th {\n",
       "        vertical-align: top;\n",
       "    }\n",
       "\n",
       "    .dataframe thead th {\n",
       "        text-align: right;\n",
       "    }\n",
       "</style>\n",
       "<table border=\"1\" class=\"dataframe\">\n",
       "  <thead>\n",
       "    <tr style=\"text-align: right;\">\n",
       "      <th></th>\n",
       "      <th>x1</th>\n",
       "      <th>x2</th>\n",
       "      <th>x3</th>\n",
       "      <th>x4</th>\n",
       "      <th>x5</th>\n",
       "      <th>x6</th>\n",
       "      <th>x7</th>\n",
       "      <th>y1</th>\n",
       "      <th>y2</th>\n",
       "      <th>y3</th>\n",
       "      <th>...</th>\n",
       "      <th>y21</th>\n",
       "      <th>y22</th>\n",
       "      <th>y23</th>\n",
       "      <th>y24</th>\n",
       "      <th>y25</th>\n",
       "      <th>y26</th>\n",
       "      <th>y27</th>\n",
       "      <th>y28</th>\n",
       "      <th>y29</th>\n",
       "      <th>y30</th>\n",
       "    </tr>\n",
       "  </thead>\n",
       "  <tbody>\n",
       "    <tr>\n",
       "      <th>2002-04-08</th>\n",
       "      <td>5060.65</td>\n",
       "      <td>5367.79</td>\n",
       "      <td>5686.12</td>\n",
       "      <td>5670.79</td>\n",
       "      <td>5325.92</td>\n",
       "      <td>5310.42</td>\n",
       "      <td>5271.17</td>\n",
       "      <td>5283.88</td>\n",
       "      <td>5136.08</td>\n",
       "      <td>5171.67</td>\n",
       "      <td>...</td>\n",
       "      <td>4452.33</td>\n",
       "      <td>5221.67</td>\n",
       "      <td>5230.00</td>\n",
       "      <td>5112.75</td>\n",
       "      <td>5202.50</td>\n",
       "      <td>4975.12</td>\n",
       "      <td>4676.83</td>\n",
       "      <td>4461.88</td>\n",
       "      <td>5081.75</td>\n",
       "      <td>5194.12</td>\n",
       "    </tr>\n",
       "    <tr>\n",
       "      <th>2002-04-09</th>\n",
       "      <td>5283.88</td>\n",
       "      <td>5060.65</td>\n",
       "      <td>5367.79</td>\n",
       "      <td>5686.12</td>\n",
       "      <td>5670.79</td>\n",
       "      <td>5325.92</td>\n",
       "      <td>5310.42</td>\n",
       "      <td>5136.08</td>\n",
       "      <td>5171.67</td>\n",
       "      <td>5207.88</td>\n",
       "      <td>...</td>\n",
       "      <td>5221.67</td>\n",
       "      <td>5230.00</td>\n",
       "      <td>5112.75</td>\n",
       "      <td>5202.50</td>\n",
       "      <td>4975.12</td>\n",
       "      <td>4676.83</td>\n",
       "      <td>4461.88</td>\n",
       "      <td>5081.75</td>\n",
       "      <td>5194.12</td>\n",
       "      <td>5236.58</td>\n",
       "    </tr>\n",
       "    <tr>\n",
       "      <th>2002-04-10</th>\n",
       "      <td>5136.08</td>\n",
       "      <td>5283.88</td>\n",
       "      <td>5060.65</td>\n",
       "      <td>5367.79</td>\n",
       "      <td>5686.12</td>\n",
       "      <td>5670.79</td>\n",
       "      <td>5325.92</td>\n",
       "      <td>5171.67</td>\n",
       "      <td>5207.88</td>\n",
       "      <td>5090.42</td>\n",
       "      <td>...</td>\n",
       "      <td>5230.00</td>\n",
       "      <td>5112.75</td>\n",
       "      <td>5202.50</td>\n",
       "      <td>4975.12</td>\n",
       "      <td>4676.83</td>\n",
       "      <td>4461.88</td>\n",
       "      <td>5081.75</td>\n",
       "      <td>5194.12</td>\n",
       "      <td>5236.58</td>\n",
       "      <td>5290.38</td>\n",
       "    </tr>\n",
       "    <tr>\n",
       "      <th>2002-04-11</th>\n",
       "      <td>5171.67</td>\n",
       "      <td>5136.08</td>\n",
       "      <td>5283.88</td>\n",
       "      <td>5060.65</td>\n",
       "      <td>5367.79</td>\n",
       "      <td>5686.12</td>\n",
       "      <td>5670.79</td>\n",
       "      <td>5207.88</td>\n",
       "      <td>5090.42</td>\n",
       "      <td>4586.21</td>\n",
       "      <td>...</td>\n",
       "      <td>5112.75</td>\n",
       "      <td>5202.50</td>\n",
       "      <td>4975.12</td>\n",
       "      <td>4676.83</td>\n",
       "      <td>4461.88</td>\n",
       "      <td>5081.75</td>\n",
       "      <td>5194.12</td>\n",
       "      <td>5236.58</td>\n",
       "      <td>5290.38</td>\n",
       "      <td>5068.42</td>\n",
       "    </tr>\n",
       "    <tr>\n",
       "      <th>2002-04-12</th>\n",
       "      <td>5207.88</td>\n",
       "      <td>5171.67</td>\n",
       "      <td>5136.08</td>\n",
       "      <td>5283.88</td>\n",
       "      <td>5060.65</td>\n",
       "      <td>5367.79</td>\n",
       "      <td>5686.12</td>\n",
       "      <td>5090.42</td>\n",
       "      <td>4586.21</td>\n",
       "      <td>4401.33</td>\n",
       "      <td>...</td>\n",
       "      <td>5202.50</td>\n",
       "      <td>4975.12</td>\n",
       "      <td>4676.83</td>\n",
       "      <td>4461.88</td>\n",
       "      <td>5081.75</td>\n",
       "      <td>5194.12</td>\n",
       "      <td>5236.58</td>\n",
       "      <td>5290.38</td>\n",
       "      <td>5068.42</td>\n",
       "      <td>4525.25</td>\n",
       "    </tr>\n",
       "  </tbody>\n",
       "</table>\n",
       "<p>5 rows × 37 columns</p>\n",
       "</div>"
      ],
      "text/plain": [
       "                 x1       x2       x3       x4       x5       x6       x7  \\\n",
       "2002-04-08  5060.65  5367.79  5686.12  5670.79  5325.92  5310.42  5271.17   \n",
       "2002-04-09  5283.88  5060.65  5367.79  5686.12  5670.79  5325.92  5310.42   \n",
       "2002-04-10  5136.08  5283.88  5060.65  5367.79  5686.12  5670.79  5325.92   \n",
       "2002-04-11  5171.67  5136.08  5283.88  5060.65  5367.79  5686.12  5670.79   \n",
       "2002-04-12  5207.88  5171.67  5136.08  5283.88  5060.65  5367.79  5686.12   \n",
       "\n",
       "                 y1       y2       y3  ...      y21      y22      y23  \\\n",
       "2002-04-08  5283.88  5136.08  5171.67  ...  4452.33  5221.67  5230.00   \n",
       "2002-04-09  5136.08  5171.67  5207.88  ...  5221.67  5230.00  5112.75   \n",
       "2002-04-10  5171.67  5207.88  5090.42  ...  5230.00  5112.75  5202.50   \n",
       "2002-04-11  5207.88  5090.42  4586.21  ...  5112.75  5202.50  4975.12   \n",
       "2002-04-12  5090.42  4586.21  4401.33  ...  5202.50  4975.12  4676.83   \n",
       "\n",
       "                y24      y25      y26      y27      y28      y29      y30  \n",
       "2002-04-08  5112.75  5202.50  4975.12  4676.83  4461.88  5081.75  5194.12  \n",
       "2002-04-09  5202.50  4975.12  4676.83  4461.88  5081.75  5194.12  5236.58  \n",
       "2002-04-10  4975.12  4676.83  4461.88  5081.75  5194.12  5236.58  5290.38  \n",
       "2002-04-11  4676.83  4461.88  5081.75  5194.12  5236.58  5290.38  5068.42  \n",
       "2002-04-12  4461.88  5081.75  5194.12  5236.58  5290.38  5068.42  4525.25  \n",
       "\n",
       "[5 rows x 37 columns]"
      ]
     },
     "execution_count": 24,
     "metadata": {},
     "output_type": "execute_result"
    }
   ],
   "source": [
    "df_ts_multi_daily = pd.DataFrame()\n",
    "\n",
    "for i in range(1, m_daily + 1):\n",
    "  df_ts_multi_daily['x' + str(i)] = ts_filled_daily['PJMW_MW'].shift(i)\n",
    "\n",
    "for i in range(0, h_daily):\n",
    "  df_ts_multi_daily['y' + str(i + 1)] = ts_filled_daily['PJMW_MW'].shift(-i)\n",
    "\n",
    "\n",
    "df_ts_multi_daily.dropna(inplace=True)\n",
    "df_ts_multi_daily.head()"
   ]
  },
  {
   "cell_type": "markdown",
   "metadata": {
    "id": "PelZ6lHtC0uP"
   },
   "source": [
    "#### 🔗 Neural Networks Data Preparation"
   ]
  },
  {
   "cell_type": "markdown",
   "metadata": {
    "id": "DPgOlLSBztmC"
   },
   "source": [
    "Neural networks require a different data preparation approach.\n",
    "\n",
    "The first step is normalizing the time series data for neural networks by subtracting the mean and dividing by the standard deviation."
   ]
  },
  {
   "cell_type": "code",
   "execution_count": 25,
   "metadata": {
    "execution": {
     "iopub.execute_input": "2025-02-14T09:35:39.564670Z",
     "iopub.status.busy": "2025-02-14T09:35:39.564470Z",
     "iopub.status.idle": "2025-02-14T09:35:39.598547Z",
     "shell.execute_reply": "2025-02-14T09:35:39.597528Z",
     "shell.execute_reply.started": "2025-02-14T09:35:39.564652Z"
    },
    "id": "pFAqV_MsCzm5"
   },
   "outputs": [],
   "source": [
    "# Normalization and Feature Engineer\n",
    "ts_nn = ts_filled.copy()\n",
    "ts_nn['DAY'] = ts_nn.index.dayofweek + 1\n",
    "ts_nn['MONTH'] = ts_nn.index.month\n",
    "ts_nn['YEAR_WEEK'] = ts_nn.index.isocalendar().week.astype(float)\n",
    "ts_nn['YEAR_DAY'] = ts_nn.index.dayofyear.astype(float)\n",
    "ts_nn.reset_index(drop=True, inplace=True)\n",
    "ts_nn = ts_nn.values\n",
    "\n",
    "mean = ts_nn.mean(axis=0)\n",
    "ts_nn -= mean\n",
    "std = ts_nn.std(axis=0)\n",
    "ts_nn /= std"
   ]
  },
  {
   "cell_type": "code",
   "execution_count": 26,
   "metadata": {
    "execution": {
     "iopub.execute_input": "2025-02-14T09:35:39.599425Z",
     "iopub.status.busy": "2025-02-14T09:35:39.599204Z",
     "iopub.status.idle": "2025-02-14T09:35:39.609993Z",
     "shell.execute_reply": "2025-02-14T09:35:39.609168Z",
     "shell.execute_reply.started": "2025-02-14T09:35:39.599406Z"
    },
    "id": "hsEddj-UaNG4"
   },
   "outputs": [],
   "source": [
    "# Normalization and Feature Engineer\n",
    "ts_nn_daily = ts_filled_daily.copy()\n",
    "ts_nn_daily['DAY'] = ts_nn_daily.index.dayofweek + 1\n",
    "ts_nn_daily['MONTH'] = ts_nn_daily.index.month\n",
    "ts_nn_daily['YEAR_WEEK'] = ts_nn_daily.index.isocalendar().week.astype(float)\n",
    "ts_nn_daily['YEAR_DAY'] = ts_nn_daily.index.dayofyear.astype(float)\n",
    "ts_nn_daily.reset_index(drop=True, inplace=True)\n",
    "ts_nn_daily = ts_nn_daily.values\n",
    "\n",
    "mean_daily = ts_nn_daily.mean(axis=0)\n",
    "ts_nn_daily -= mean_daily\n",
    "std_daily = ts_nn_daily.std(axis=0)\n",
    "ts_nn_daily /= std_daily"
   ]
  },
  {
   "cell_type": "markdown",
   "metadata": {
    "id": "7KhCk5zfz8Kg"
   },
   "source": [
    "Set parameters for neural network training: a 3-day lookback period, 24-hour steps, a 30-day prediction delay, a batch size of 512, and the target index 0 for prediction."
   ]
  },
  {
   "cell_type": "code",
   "execution_count": 27,
   "metadata": {
    "execution": {
     "iopub.execute_input": "2025-02-14T09:35:39.610885Z",
     "iopub.status.busy": "2025-02-14T09:35:39.610687Z",
     "iopub.status.idle": "2025-02-14T09:35:39.614543Z",
     "shell.execute_reply": "2025-02-14T09:35:39.613741Z",
     "shell.execute_reply.started": "2025-02-14T09:35:39.610866Z"
    },
    "id": "6ocGuWcRE4zV"
   },
   "outputs": [],
   "source": [
    "lookback = 1 * 24 * 3 # 3 day look back\n",
    "step = 1\n",
    "delay = 30 * 24 # 30 days into the future\n",
    "batch_size = 512\n",
    "target_i = 0"
   ]
  },
  {
   "cell_type": "code",
   "execution_count": 28,
   "metadata": {
    "execution": {
     "iopub.execute_input": "2025-02-14T09:35:39.615187Z",
     "iopub.status.busy": "2025-02-14T09:35:39.614994Z",
     "iopub.status.idle": "2025-02-14T09:35:39.619456Z",
     "shell.execute_reply": "2025-02-14T09:35:39.618539Z",
     "shell.execute_reply.started": "2025-02-14T09:35:39.615169Z"
    },
    "id": "ID2OpNDnaagN"
   },
   "outputs": [],
   "source": [
    "lookback_daily = 30 # 30 day look back\n",
    "step_daily = 1\n",
    "delay_daily = 30# 30 days into the future\n",
    "batch_size = 512\n",
    "target_i = 0"
   ]
  },
  {
   "cell_type": "markdown",
   "metadata": {
    "id": "xHMwSsvo0GJf"
   },
   "source": [
    "\n",
    "Define a data generator for neural networks that creates batches of samples and targets for training. It handles sequential or shuffled data sampling, supports a 3-day lookback period, 30 day forecast horizon, and produces normalized data with the specified step size."
   ]
  },
  {
   "cell_type": "code",
   "execution_count": 29,
   "metadata": {
    "execution": {
     "iopub.execute_input": "2025-02-14T09:35:39.620411Z",
     "iopub.status.busy": "2025-02-14T09:35:39.620181Z",
     "iopub.status.idle": "2025-02-14T09:35:39.627416Z",
     "shell.execute_reply": "2025-02-14T09:35:39.626545Z",
     "shell.execute_reply.started": "2025-02-14T09:35:39.620391Z"
    },
    "id": "d0pbo7NFEoqi"
   },
   "outputs": [],
   "source": [
    "def generator(data, lookback, delay, min_index, max_index, shuffle=False, batch_size=batch_size, step=step):\n",
    "    # Set default max_index if not provided\n",
    "    if max_index is None:\n",
    "        max_index = len(data) - delay - 1\n",
    "\n",
    "    # Start index for data sampling\n",
    "    i = min_index + lookback\n",
    "\n",
    "    # Infinite loop to generate samples indefinitely\n",
    "    while True:\n",
    "        # Shuffle data if required; otherwise, generate sequential batches\n",
    "        if shuffle:\n",
    "            rows = np.random.randint(min_index + lookback, max_index, size=batch_size)\n",
    "        else:\n",
    "            if i + batch_size >= max_index:\n",
    "                i = min_index + lookback  # Reset index if it goes beyond the max index\n",
    "            rows = np.arange(i, min(i + batch_size, max_index))\n",
    "            i += len(rows)\n",
    "\n",
    "        # Initialize numpy arrays to store samples and targets\n",
    "        samples = np.zeros((len(rows), lookback // step, data.shape[-1]))\n",
    "        targets = np.zeros((len(rows), delay))\n",
    "\n",
    "        # Populate samples and targets arrays\n",
    "        for j, row in enumerate(rows):\n",
    "            indices = range(rows[j] - lookback, rows[j], step)  # Select indices for sample\n",
    "            samples[j] = data[indices]  # Assign the sliced data to samples\n",
    "\n",
    "            indices2 = range(rows[j], rows[j] + delay)  # Select indices for target\n",
    "            targets[j] = data[:, target_i][indices2].reshape(-1) # Set the corresponding target\n",
    "\n",
    "        # Yield a batch of samples and targets\n",
    "        yield samples, targets"
   ]
  },
  {
   "cell_type": "markdown",
   "metadata": {
    "id": "Ov8-4bbd0MEU"
   },
   "source": [
    "\n",
    "Split the normalized time series data into 20% test set, and the remaining 80% into training and validation sets, with the validation set being 20% of the training data."
   ]
  },
  {
   "cell_type": "code",
   "execution_count": 30,
   "metadata": {
    "execution": {
     "iopub.execute_input": "2025-02-14T09:35:39.628328Z",
     "iopub.status.busy": "2025-02-14T09:35:39.628100Z",
     "iopub.status.idle": "2025-02-14T09:35:39.633236Z",
     "shell.execute_reply": "2025-02-14T09:35:39.632177Z",
     "shell.execute_reply.started": "2025-02-14T09:35:39.628307Z"
    },
    "id": "73t5OcSFHTsP"
   },
   "outputs": [],
   "source": [
    "test_size_nn = round(ts_nn.shape[0] * 0.2) # 20% train-test split\n",
    "trainval_size_nn = ts_nn.shape[0] - test_size_nn\n",
    "val_size_nn = round(trainval_size_nn * 0.2) # 20% train-val split\n",
    "train_size_nn = trainval_size_nn - val_size_nn"
   ]
  },
  {
   "cell_type": "code",
   "execution_count": 31,
   "metadata": {
    "execution": {
     "iopub.execute_input": "2025-02-14T09:35:39.634120Z",
     "iopub.status.busy": "2025-02-14T09:35:39.633909Z",
     "iopub.status.idle": "2025-02-14T09:35:39.638544Z",
     "shell.execute_reply": "2025-02-14T09:35:39.637557Z",
     "shell.execute_reply.started": "2025-02-14T09:35:39.634100Z"
    },
    "id": "MhG7RykLak_b"
   },
   "outputs": [],
   "source": [
    "test_size_nn_daily = round(ts_nn_daily.shape[0] * 0.2) # 20% train-test split\n",
    "trainval_size_nn_daily = ts_nn_daily.shape[0] - test_size_nn_daily\n",
    "val_size_nn_daily = round(trainval_size_nn_daily * 0.2) # 20% train-val split\n",
    "train_size_nn_daily = trainval_size_nn_daily - val_size_nn_daily"
   ]
  },
  {
   "cell_type": "code",
   "execution_count": 32,
   "metadata": {
    "execution": {
     "iopub.execute_input": "2025-02-14T09:35:39.639686Z",
     "iopub.status.busy": "2025-02-14T09:35:39.639409Z",
     "iopub.status.idle": "2025-02-14T09:35:39.643784Z",
     "shell.execute_reply": "2025-02-14T09:35:39.642833Z",
     "shell.execute_reply.started": "2025-02-14T09:35:39.639660Z"
    },
    "id": "B7HhoLso1oFR"
   },
   "outputs": [],
   "source": [
    "train_gen = None\n",
    "val_gen = None\n",
    "test_gen = None"
   ]
  },
  {
   "cell_type": "code",
   "execution_count": 33,
   "metadata": {
    "execution": {
     "iopub.execute_input": "2025-02-14T09:35:39.644930Z",
     "iopub.status.busy": "2025-02-14T09:35:39.644662Z",
     "iopub.status.idle": "2025-02-14T09:35:39.650198Z",
     "shell.execute_reply": "2025-02-14T09:35:39.648981Z",
     "shell.execute_reply.started": "2025-02-14T09:35:39.644905Z"
    },
    "id": "OnlKK1aQbM__"
   },
   "outputs": [],
   "source": [
    "train_gen_daily = None\n",
    "val_gen_daily = None\n",
    "test_gen_daily = None"
   ]
  },
  {
   "cell_type": "code",
   "execution_count": 34,
   "metadata": {
    "execution": {
     "iopub.execute_input": "2025-02-14T09:35:39.651345Z",
     "iopub.status.busy": "2025-02-14T09:35:39.651027Z",
     "iopub.status.idle": "2025-02-14T09:35:39.658986Z",
     "shell.execute_reply": "2025-02-14T09:35:39.657559Z",
     "shell.execute_reply.started": "2025-02-14T09:35:39.651316Z"
    },
    "id": "dL4ZTVAJHOya"
   },
   "outputs": [],
   "source": [
    "def init_generators(ts_nn, lookback, delay, train_size_nn,\n",
    "                    trainval_size_nn, val_size_nn_daily, test_size):\n",
    "  train_gen = generator(ts_nn,\n",
    "      lookback=lookback,\n",
    "      delay=delay,\n",
    "      min_index=0,\n",
    "      max_index=train_size_nn,\n",
    "      shuffle=True,\n",
    "      step=step,\n",
    "      batch_size=batch_size)\n",
    "\n",
    "  val_gen = generator(ts_nn,\n",
    "      lookback=lookback,\n",
    "      delay=delay,\n",
    "      min_index=train_size_nn + 1,\n",
    "      max_index=trainval_size_nn,\n",
    "      shuffle=False,\n",
    "      step=step,\n",
    "      batch_size=batch_size)\n",
    "\n",
    "  val_steps = val_size_nn - lookback\n",
    "\n",
    "  test_gen = generator(ts_nn,\n",
    "      lookback=lookback,\n",
    "      delay=delay,\n",
    "      min_index=trainval_size_nn + 1,\n",
    "      max_index=None,\n",
    "      step=step,\n",
    "      batch_size=batch_size)\n",
    "\n",
    "  test_steps = test_size - lookback\n",
    "  return train_gen, val_gen, test_gen, val_steps, test_steps"
   ]
  },
  {
   "cell_type": "code",
   "execution_count": 35,
   "metadata": {
    "execution": {
     "iopub.execute_input": "2025-02-14T09:35:39.660422Z",
     "iopub.status.busy": "2025-02-14T09:35:39.660047Z",
     "iopub.status.idle": "2025-02-14T09:35:39.666978Z",
     "shell.execute_reply": "2025-02-14T09:35:39.665594Z",
     "shell.execute_reply.started": "2025-02-14T09:35:39.660389Z"
    },
    "id": "TokewX-iCqDf"
   },
   "outputs": [],
   "source": [
    "from sklearn.preprocessing import MinMaxScaler, StandardScaler, MaxAbsScaler, RobustScaler\n",
    "\n",
    "def get_scaler(scaler):\n",
    "    scalers = {\n",
    "        \"minmax\": MinMaxScaler,\n",
    "        \"standard\": StandardScaler,\n",
    "        \"maxabs\": MaxAbsScaler,\n",
    "        \"robust\": RobustScaler,\n",
    "    }\n",
    "    return scalers.get(scaler.lower())()"
   ]
  },
  {
   "cell_type": "code",
   "execution_count": 36,
   "metadata": {
    "execution": {
     "iopub.execute_input": "2025-02-14T09:35:39.668976Z",
     "iopub.status.busy": "2025-02-14T09:35:39.668125Z",
     "iopub.status.idle": "2025-02-14T09:35:40.093374Z",
     "shell.execute_reply": "2025-02-14T09:35:40.091155Z",
     "shell.execute_reply.started": "2025-02-14T09:35:39.668938Z"
    },
    "id": "Q9SWGgnlCzFN"
   },
   "outputs": [
    {
     "ename": "NameError",
     "evalue": "name 'X_train' is not defined",
     "output_type": "error",
     "traceback": [
      "\u001b[0;31m---------------------------------------------------------------------------\u001b[0m",
      "\u001b[0;31mNameError\u001b[0m                                 Traceback (most recent call last)",
      "Cell \u001b[0;32mIn[36], line 2\u001b[0m\n\u001b[1;32m      1\u001b[0m scaler \u001b[38;5;241m=\u001b[39m get_scaler(\u001b[38;5;124m'\u001b[39m\u001b[38;5;124mminmax\u001b[39m\u001b[38;5;124m'\u001b[39m)\n\u001b[0;32m----> 2\u001b[0m X_train_arr \u001b[38;5;241m=\u001b[39m scaler\u001b[38;5;241m.\u001b[39mfit_transform(\u001b[43mX_train\u001b[49m)\n\u001b[1;32m      3\u001b[0m X_val_arr \u001b[38;5;241m=\u001b[39m scaler\u001b[38;5;241m.\u001b[39mtransform(X_val)\n\u001b[1;32m      4\u001b[0m X_test_arr \u001b[38;5;241m=\u001b[39m scaler\u001b[38;5;241m.\u001b[39mtransform(X_test)\n",
      "\u001b[0;31mNameError\u001b[0m: name 'X_train' is not defined"
     ]
    }
   ],
   "source": [
    "scaler = get_scaler('minmax')\n",
    "X_train_arr = scaler.fit_transform(X_train)\n",
    "X_val_arr = scaler.transform(X_val)\n",
    "X_test_arr = scaler.transform(X_test)\n",
    "\n",
    "y_train_arr = scaler.fit_transform(y_train)\n",
    "y_val_arr = scaler.transform(y_val)\n",
    "y_test_arr = scaler.transform(y_test)"
   ]
  },
  {
   "cell_type": "code",
   "execution_count": null,
   "metadata": {
    "execution": {
     "iopub.status.busy": "2025-02-14T09:35:40.093765Z",
     "iopub.status.idle": "2025-02-14T09:35:40.094017Z",
     "shell.execute_reply": "2025-02-14T09:35:40.093903Z",
     "shell.execute_reply.started": "2025-02-14T09:35:40.093892Z"
    },
    "id": "ayETw6FcC1Ah"
   },
   "outputs": [],
   "source": [
    "from torch.utils.data import TensorDataset, DataLoader\n",
    "\n",
    "batch_size = 64\n",
    "\n",
    "train_features = torch.Tensor(X_train_arr)\n",
    "train_targets = torch.Tensor(y_train_arr)\n",
    "val_features = torch.Tensor(X_val_arr)\n",
    "val_targets = torch.Tensor(y_val_arr)\n",
    "test_features = torch.Tensor(X_test_arr)\n",
    "test_targets = torch.Tensor(y_test_arr)\n",
    "\n",
    "train = TensorDataset(train_features, train_targets)\n",
    "val = TensorDataset(val_features, val_targets)\n",
    "test = TensorDataset(test_features, test_targets)\n",
    "\n",
    "train_loader = DataLoader(train, batch_size=batch_size, shuffle=False, drop_last=True)\n",
    "val_loader = DataLoader(val, batch_size=batch_size, shuffle=False, drop_last=True)\n",
    "test_loader = DataLoader(test, batch_size=batch_size, shuffle=False, drop_last=True)\n",
    "test_loader_one = DataLoader(test, batch_size=1, shuffle=False, drop_last=True)"
   ]
  },
  {
   "cell_type": "markdown",
   "metadata": {
    "id": "DeNkJV87Rote"
   },
   "source": [
    "## 🔵 Benchmarks\n"
   ]
  },
  {
   "cell_type": "markdown",
   "metadata": {
    "id": "Fx-Vr2yqMHBi"
   },
   "source": [
    "### 📐 Naive and Seasonal Naive Benchmarks"
   ]
  },
  {
   "cell_type": "markdown",
   "metadata": {
    "id": "rG0lL3qs0Vis"
   },
   "source": [
    "Set up benchmarks by splitting the data into training and test sets, preparing inputs and targets for model evaluation. Naive and Seasonal Naive methods are used as baseline benchmarks. The Mean Absolute Error (MAE) and Mean Absolute Percentage Error (MAPE) are calculated for these methods, and the results are visualized against the true values."
   ]
  },
  {
   "cell_type": "code",
   "execution_count": 37,
   "metadata": {
    "execution": {
     "iopub.execute_input": "2025-02-14T09:35:50.493349Z",
     "iopub.status.busy": "2025-02-14T09:35:50.492084Z",
     "iopub.status.idle": "2025-02-14T09:35:51.086620Z",
     "shell.execute_reply": "2025-02-14T09:35:51.085169Z",
     "shell.execute_reply.started": "2025-02-14T09:35:50.493264Z"
    },
    "id": "rHkYqlyrVY-P"
   },
   "outputs": [],
   "source": [
    "df_train = df_ts_multi[:-test_size]\n",
    "df_test = df_ts_multi[-test_size:]\n",
    "\n",
    "targets  = [f'y{i+1}' for i in range(h)]\n",
    "\n",
    "x_train  = df_train.drop(targets, axis=1).to_numpy()\n",
    "y_train  = df_train[targets].to_numpy()\n",
    "\n",
    "x_test   = df_test.drop(targets, axis=1).to_numpy()\n",
    "y_test  = df_test[targets].to_numpy()"
   ]
  },
  {
   "cell_type": "code",
   "execution_count": 38,
   "metadata": {
    "execution": {
     "iopub.execute_input": "2025-02-14T09:35:51.387601Z",
     "iopub.status.busy": "2025-02-14T09:35:51.386328Z",
     "iopub.status.idle": "2025-02-14T09:35:51.409435Z",
     "shell.execute_reply": "2025-02-14T09:35:51.408339Z",
     "shell.execute_reply.started": "2025-02-14T09:35:51.387533Z"
    },
    "id": "bsmrrlgDbflY"
   },
   "outputs": [],
   "source": [
    "df_train_daily = df_ts_multi_daily[:-test_size_daily]\n",
    "df_test_daily = df_ts_multi_daily[-test_size_daily:]\n",
    "\n",
    "targets_daily  = [f'y{i+1}' for i in range(h_daily)]\n",
    "\n",
    "x_train_daily  = df_train_daily.drop(targets_daily, axis=1).to_numpy()\n",
    "y_train_daily  = df_train_daily[targets_daily].to_numpy()\n",
    "\n",
    "x_test_daily   = df_test_daily.drop(targets_daily, axis=1).to_numpy()\n",
    "y_test_daily  = df_test_daily[targets_daily].to_numpy()"
   ]
  },
  {
   "cell_type": "code",
   "execution_count": 39,
   "metadata": {
    "colab": {
     "base_uri": "https://localhost:8080/"
    },
    "execution": {
     "iopub.execute_input": "2025-02-14T09:35:51.589251Z",
     "iopub.status.busy": "2025-02-14T09:35:51.588140Z",
     "iopub.status.idle": "2025-02-14T09:35:53.126155Z",
     "shell.execute_reply": "2025-02-14T09:35:53.125180Z",
     "shell.execute_reply.started": "2025-02-14T09:35:51.589193Z"
    },
    "id": "ReqOVtnA3e7U",
    "outputId": "47ee7524-2542-40c9-d221-1ccd9cc6bb9c"
   },
   "outputs": [
    {
     "name": "stdout",
     "output_type": "stream",
     "text": [
      "Test MAE = 956.5599 - Naive\n",
      "Test MAPE = 17.5711 - Naive\n",
      "Test MAE = 674.8447 - Seasonal Naive\n",
      "Test MAPE = 12.0972 - Seasonal Naive\n"
     ]
    }
   ],
   "source": [
    "y_naive =  np.tile(np.flip(x_test, axis=1)[:, -1:], h)\n",
    "y_s_naive =  np.tile(np.flip(x_test, axis=1), (h//m))\n",
    "y_true = y_test\n",
    "\n",
    "print(f'Test MAE = {mean_absolute_error(y_true, y_naive):.4f} - Naive')\n",
    "print(f'Test MAPE = {mean_absolute_percentage_error(y_true, y_naive) * 100:.4f} - Naive')\n",
    "print(f'Test MAE = {mean_absolute_error(y_true, y_s_naive):.4f} - Seasonal Naive')\n",
    "print(f'Test MAPE = {mean_absolute_percentage_error(y_true, y_s_naive) * 100:.4f} - Seasonal Naive')"
   ]
  },
  {
   "cell_type": "code",
   "execution_count": 40,
   "metadata": {
    "colab": {
     "base_uri": "https://localhost:8080/"
    },
    "execution": {
     "iopub.execute_input": "2025-02-14T09:35:53.127548Z",
     "iopub.status.busy": "2025-02-14T09:35:53.127315Z",
     "iopub.status.idle": "2025-02-14T09:35:53.139409Z",
     "shell.execute_reply": "2025-02-14T09:35:53.138547Z",
     "shell.execute_reply.started": "2025-02-14T09:35:53.127528Z"
    },
    "id": "rfqQmR2WbyVx",
    "outputId": "eeac56bd-f6fb-422d-d47f-3f3de8fb3100"
   },
   "outputs": [
    {
     "name": "stdout",
     "output_type": "stream",
     "text": [
      "Test MAE = 621.9305 - Naive\n",
      "Test MAPE = 11.1765 - Naive\n",
      "Test MAE = 595.5008 - Seasonal Naive\n",
      "Test MAPE = 10.6058 - Seasonal Naive\n"
     ]
    }
   ],
   "source": [
    "y_naive_daily =  np.tile(np.flip(x_test_daily, axis=1)[:, -1:], h_daily)\n",
    "y_s_naive_daily =  np.tile(np.flip(x_test_daily, axis=1), (h_daily//m_daily))\n",
    "y_true_daily = y_test_daily\n",
    "\n",
    "print(f'Test MAE = {mean_absolute_error(y_true_daily, y_naive_daily):.4f} - Naive')\n",
    "print(f'Test MAPE = {mean_absolute_percentage_error(y_true_daily, y_naive_daily) * 100:.4f} - Naive')\n",
    "print(f'Test MAE = {mean_absolute_error(y_true_daily[:, :28], y_s_naive_daily):.4f} - Seasonal Naive')\n",
    "print(f'Test MAPE = {mean_absolute_percentage_error(y_true_daily[:, :28], y_s_naive_daily) * 100:.4f} - Seasonal Naive')"
   ]
  },
  {
   "cell_type": "code",
   "execution_count": 41,
   "metadata": {
    "colab": {
     "base_uri": "https://localhost:8080/",
     "height": 291
    },
    "execution": {
     "iopub.execute_input": "2025-02-14T09:35:53.140201Z",
     "iopub.status.busy": "2025-02-14T09:35:53.140003Z",
     "iopub.status.idle": "2025-02-14T09:35:53.308393Z",
     "shell.execute_reply": "2025-02-14T09:35:53.307562Z",
     "shell.execute_reply.started": "2025-02-14T09:35:53.140182Z"
    },
    "id": "jGUhp7coSZSN",
    "outputId": "a12b87e2-b740-427d-e303-927f63946cbf"
   },
   "outputs": [
    {
     "data": {
      "image/png": "[encoded data removed]",
      "text/plain": [
       "<Figure size 1500x300 with 1 Axes>"
      ]
     },
     "metadata": {},
     "output_type": "display_data"
    }
   ],
   "source": [
    "plt.plot(df_test.index[-720:], y_true[-720], label='True')\n",
    "plt.plot(df_test.index[-720:], y_naive[-720], label='Naive', linestyle='--', linewidth=1)\n",
    "plt.plot(df_test.index[-720:], y_s_naive[-720], label='S.Naive',linestyle='--', linewidth=1)\n",
    "plt.legend()\n",
    "plt.show()"
   ]
  },
  {
   "cell_type": "code",
   "execution_count": 42,
   "metadata": {
    "colab": {
     "base_uri": "https://localhost:8080/",
     "height": 291
    },
    "execution": {
     "iopub.execute_input": "2025-02-14T09:35:53.309878Z",
     "iopub.status.busy": "2025-02-14T09:35:53.309652Z",
     "iopub.status.idle": "2025-02-14T09:35:53.455210Z",
     "shell.execute_reply": "2025-02-14T09:35:53.454397Z",
     "shell.execute_reply.started": "2025-02-14T09:35:53.309859Z"
    },
    "id": "xfMvbgefepdb",
    "outputId": "133ad97f-e163-4277-a66b-d7039384bd1b"
   },
   "outputs": [
    {
     "data": {
      "image/png": "[encoded data removed]",
      "text/plain": [
       "<Figure size 1500x300 with 1 Axes>"
      ]
     },
     "metadata": {},
     "output_type": "display_data"
    }
   ],
   "source": [
    "plt.plot(df_test_daily.index[-30:], y_true_daily[-30], label='True')\n",
    "plt.plot(df_test_daily.index[-30:], y_naive_daily[-30], label='Naive', linestyle='--', linewidth=1)\n",
    "plt.plot(df_test_daily.index[-28:], y_s_naive_daily[-28], label='S.Naive',linestyle='--', linewidth=1)\n",
    "plt.legend()\n",
    "plt.show()"
   ]
  },
  {
   "cell_type": "markdown",
   "metadata": {
    "id": "Fd-lsFx60mGj"
   },
   "source": [
    "The ARIMA model is a time series forecasting method combining three elements: AutoRegressive (AR) for past values, Integrated (I) for trend removal, and Moving Average (MA) for past errors. It is typically used to predict future data points by analyzing patterns in the historical data."
   ]
  },
  {
   "cell_type": "code",
   "execution_count": null,
   "metadata": {
    "execution": {
     "iopub.status.busy": "2025-02-14T09:35:40.100184Z",
     "iopub.status.idle": "2025-02-14T09:35:40.100431Z",
     "shell.execute_reply": "2025-02-14T09:35:40.100319Z",
     "shell.execute_reply.started": "2025-02-14T09:35:40.100308Z"
    },
    "id": "lq6g7t6MSnmK"
   },
   "outputs": [],
   "source": [
    "# Log and Seasonal Differencing\n",
    "class TimeseriesDifferencer:\n",
    "    \"\"\"Handles log transformation and seasonal differencing for time series data.\"\"\"\n",
    "    def __init__(self):\n",
    "        self.x = None\n",
    "        self.d = 0\n",
    "    def fit(self, x, d):\n",
    "        \"\"\"Applies log transformation and differencing to make data stationary.\"\"\"\n",
    "        self.x = x\n",
    "        self.d = d\n",
    "        return np.log(x).diff(d)[d:]\n",
    "\n",
    "    def reverse(self, pred, h):\n",
    "        \"\"\"Reverses differencing and log transformation on predicted values.\"\"\"\n",
    "        if h >= self.d:\n",
    "          return np.exp(np.log(self.x[-h:]).to_numpy().flatten() + pred)\n",
    "        else:\n",
    "          return np.exp(np.log(self.x[-self.d:-self.d + h]).to_numpy().flatten() + pred)"
   ]
  },
  {
   "cell_type": "markdown",
   "metadata": {
    "id": "2sqpvnTI1lCo"
   },
   "source": [
    "\n",
    "Grid search is conducted to optimize ARIMA parameters using time series cross-validation. The process includes applying differencing, fitting ARIMA models, forecasting, and calculating error metrics (MAE, RMSE, MAPE) for each parameter combination."
   ]
  },
  {
   "cell_type": "code",
   "execution_count": null,
   "metadata": {
    "execution": {
     "iopub.status.busy": "2025-02-14T09:35:40.100836Z",
     "iopub.status.idle": "2025-02-14T09:35:40.101071Z",
     "shell.execute_reply": "2025-02-14T09:35:40.100965Z",
     "shell.execute_reply.started": "2025-02-14T09:35:40.100948Z"
    },
    "id": "DDGsm7S9PRlk"
   },
   "outputs": [],
   "source": [
    "def auto_arima(ts_trainval, m, h, tskfold):\n",
    "  p_grid = range(2)\n",
    "  d_grid = range(1)\n",
    "  q_grid = range(2)\n",
    "  pdq_grid = list(itertools.product(p_grid, d_grid, q_grid))\n",
    "\n",
    "  avg_mae  = []\n",
    "  std_mae  = []\n",
    "  avg_rmse = []\n",
    "  std_rmse  = []\n",
    "  avg_mape = []\n",
    "  std_mape  = []\n",
    "  for pdq in tqdm(pdq_grid):\n",
    "      mae = []\n",
    "      rmse = []\n",
    "      mape = []\n",
    "      for train_index, val_index in tskfold.split(ts_trainval):\n",
    "          # train-val split\n",
    "          x_train = ts_trainval.iloc[train_index]\n",
    "          y_val = ts_trainval.iloc[val_index]\n",
    "\n",
    "          # log, s.diff\n",
    "          ts_diff = TimeseriesDifferencer()\n",
    "          differenced = ts_diff.fit(x_train, m)\n",
    "          ts_d = pd.DataFrame(index=differenced.index)\n",
    "          ts_d['PJMW_MW'] = differenced.values\n",
    "\n",
    "          models = {}\n",
    "          for column in x_train.columns:\n",
    "              model = ARIMA(ts_d[column], order=pdq).fit()\n",
    "              models[column] = model\n",
    "\n",
    "          # Multi-step forecasting\n",
    "          forecasts = {}\n",
    "          for column in x_train.columns:\n",
    "              forecast = models[column].get_forecast(steps=h)\n",
    "              forecasts[column] = forecast.predicted_mean\n",
    "\n",
    "          for column in x_train.columns:\n",
    "            rmse_value = mean_squared_error(y_val[column], ts_diff.reverse(forecasts[column], h), squared=False)\n",
    "            mae_value = mean_absolute_error(y_val[column], ts_diff.reverse(forecasts[column], h))\n",
    "            mape_value = mean_absolute_percentage_error(y_val[column], ts_diff.reverse(forecasts[column], h))\n",
    "\n",
    "            # compile error\n",
    "            mae.append(mae_value)\n",
    "            rmse.append(rmse_value)\n",
    "            mape.append(mape_value)\n",
    "\n",
    "      # avg error\n",
    "      avg_mae.append(np.mean(mae))\n",
    "      std_mae.append(np.std(mae))\n",
    "      avg_rmse.append(np.mean(rmse))\n",
    "      std_rmse.append(np.std(rmse))\n",
    "      avg_mape.append(np.mean(mape))\n",
    "      std_mape.append(np.std(mape))\n",
    "\n",
    "  df_results = pd.DataFrame()\n",
    "  df_results['(p,d,q)'] = pdq_grid\n",
    "\n",
    "  df_results['Avg. MAE'] = avg_mae\n",
    "  df_results['Std. MAE'] = std_mae\n",
    "  df_results['Avg. RMSE'] = avg_rmse\n",
    "  df_results['Std. RMSE'] = std_rmse\n",
    "  df_results['Avg. MAPE'] = [x * 100 for x in avg_mape]\n",
    "  df_results['Std. MAPE'] = [x * 100 for x in std_mape]\n",
    "  display(df_results.sort_values(by='Avg. MAPE').head(5))"
   ]
  },
  {
   "cell_type": "code",
   "execution_count": null,
   "metadata": {
    "colab": {
     "base_uri": "https://localhost:8080/",
     "height": 205,
     "referenced_widgets": [
      "12f1e3c01ed94fa99e1763fe283ee308",
      "7f5f4fe9f4ce42c6a67bec63f37e731f",
      "aa67ffbedbc844499152d86222b3151b",
      "93e0e1941dba458f85ee50852875e1a2",
      "5300dd2e2cf74ecdb4fc9c18ea9462d8",
      "79ae256b169e4c05bc24585027b997e4",
      "59b660d17a094e34820f2d2be6b8dce8",
      "06917b5b72404a1394f26cccb82a2e80",
      "c1bff21f652f40d28ed269d22747e0f3",
      "b3d1240b1eab4b8daf73ce1d04445359",
      "9e8aa17491da4d0580ac9c6b383fd644"
     ]
    },
    "execution": {
     "iopub.status.busy": "2025-02-14T09:35:40.101646Z",
     "iopub.status.idle": "2025-02-14T09:35:40.101880Z",
     "shell.execute_reply": "2025-02-14T09:35:40.101775Z",
     "shell.execute_reply.started": "2025-02-14T09:35:40.101764Z"
    },
    "id": "k9ap9ky1gEmX",
    "outputId": "dd72d64c-51c7-4666-e336-adf82066b3f7"
   },
   "outputs": [],
   "source": [
    "auto_arima(ts_trainval, m, h, tskfold = TimeSeriesSplit(n_splits=3, test_size=h))"
   ]
  },
  {
   "cell_type": "code",
   "execution_count": null,
   "metadata": {
    "colab": {
     "base_uri": "https://localhost:8080/",
     "height": 205,
     "referenced_widgets": [
      "94a9cdbab6474115a3b43bead2879cc0",
      "c4a52a89a01749cbb03e50830d6fab8e",
      "2a275b2cd5b54fdfa7fb5ad279516464",
      "f8051cbe06bf4180a71697e9c4f33e9b",
      "113d9677ff7e4040ad451b3340da2793",
      "79a9a4c8774b4c5bb884702cd01c28d5",
      "69db43f77e25422b99057bda78281092",
      "57f1e1a0dc9747b1a41c57d97b323302",
      "44c6c0aefd854f9d939abe7b5f0aebf8",
      "3d5195aef9e047e0944267f7104b504d",
      "e7c63776e8c14b32bc7d2d1901f46baf"
     ]
    },
    "execution": {
     "iopub.status.busy": "2025-02-14T09:35:40.102526Z",
     "iopub.status.idle": "2025-02-14T09:35:40.102895Z",
     "shell.execute_reply": "2025-02-14T09:35:40.102780Z",
     "shell.execute_reply.started": "2025-02-14T09:35:40.102768Z"
    },
    "id": "co4KgQIRf4Ct",
    "outputId": "1e9cbbed-1d46-48b6-9561-f2ff1874b1bb"
   },
   "outputs": [],
   "source": [
    "auto_arima(ts_trainval_daily, m_daily, h_daily, tskfold = TimeSeriesSplit(n_splits=3, test_size=h_daily))"
   ]
  },
  {
   "cell_type": "markdown",
   "metadata": {
    "id": "TUtyy91g1r5U"
   },
   "source": [
    "The best ARIMA parameters, based on MAE and MAPE, are (p,d,q)=(0,0,0)."
   ]
  },
  {
   "cell_type": "markdown",
   "metadata": {
    "id": "L9TiMQo0vSry"
   },
   "source": [
    "#### ✅ Results\n"
   ]
  },
  {
   "cell_type": "markdown",
   "metadata": {
    "id": "gku2Z5KQ17Gs"
   },
   "source": [
    "Apply the best ARIMA model (0,0,0) to forecast future values and evaluate performance using MAE and MAPE. Forecasting is done in batches to handle the test set, and results are compared with the actual values."
   ]
  },
  {
   "cell_type": "code",
   "execution_count": null,
   "metadata": {
    "execution": {
     "iopub.status.busy": "2025-02-14T09:35:40.103442Z",
     "iopub.status.idle": "2025-02-14T09:35:40.103677Z",
     "shell.execute_reply": "2025-02-14T09:35:40.103571Z",
     "shell.execute_reply.started": "2025-02-14T09:35:40.103560Z"
    },
    "id": "wxch6GPExsUA"
   },
   "outputs": [],
   "source": [
    "def my_arima(ts_trainval, ts_test, h, m, delay):\n",
    "  ts_diff = TimeseriesDifferencer()\n",
    "  differenced = ts_diff.fit(ts_trainval, m)\n",
    "  ts_d = pd.DataFrame(index=differenced.index)\n",
    "  ts_d['PJMW_MW'] = differenced.values\n",
    "\n",
    "  # Best Model from above\n",
    "  model = ARIMA(ts_d['PJMW_MW'], order=(0,0,0)).fit()\n",
    "  forecast = model.get_forecast(steps=h)\n",
    "  predictions = ts_diff.reverse(forecast.predicted_mean, h)\n",
    "\n",
    "  # Forecast in batches\n",
    "  predictions_batched = []\n",
    "  for i in range(0, len(ts_test), h):\n",
    "      batch_end = min(i + h, len(ts_test))  # Handle the last batch which might be smaller\n",
    "      forecast = model.get_forecast(steps=batch_end - i)\n",
    "      batch_predictions = ts_diff.reverse(forecast.predicted_mean, batch_end - i)\n",
    "      predictions_batched.extend(batch_predictions)\n",
    "\n",
    "  predictions_batched = np.array(predictions_batched)  # Convert to numpy array\n",
    "\n",
    "  # Now evaluate the model\n",
    "  mae = mean_absolute_error(ts_test['PJMW_MW'], predictions_batched)\n",
    "  mape = mean_absolute_percentage_error(ts_test['PJMW_MW'], predictions_batched)\n",
    "\n",
    "  print(f'Test MAE = {mae:.4f}')\n",
    "  print(f'Test MAPE = {mape * 100:.4f}')\n",
    "\n",
    "  # Plot the last 720 days (same range as the Benchmarks)\n",
    "  plt.plot(\n",
    "      ts_test['PJMW_MW'][-delay * 2: -delay].index,\n",
    "      ts_test['PJMW_MW'][-delay * 2: -delay].values,\n",
    "      label='True')\n",
    "  plt.plot(\n",
    "      ts_test['PJMW_MW'][-delay * 2: -delay].index,\n",
    "      predictions_batched[-delay * 2: -delay],\n",
    "      label='Predicted', linestyle='--',\n",
    "      linewidth=2)\n",
    "  plt.legend()\n",
    "  plt.show()"
   ]
  },
  {
   "cell_type": "code",
   "execution_count": null,
   "metadata": {
    "colab": {
     "base_uri": "https://localhost:8080/",
     "height": 325
    },
    "execution": {
     "iopub.status.busy": "2025-02-14T09:35:40.104168Z",
     "iopub.status.idle": "2025-02-14T09:35:40.104409Z",
     "shell.execute_reply": "2025-02-14T09:35:40.104303Z",
     "shell.execute_reply.started": "2025-02-14T09:35:40.104285Z"
    },
    "id": "McEjiOu1lKPu",
    "outputId": "e9e32c20-9666-421f-db7c-1ade9ffbfb16"
   },
   "outputs": [],
   "source": [
    "my_arima(ts_trainval, ts_test, h, m, delay)"
   ]
  },
  {
   "cell_type": "code",
   "execution_count": null,
   "metadata": {
    "colab": {
     "base_uri": "https://localhost:8080/",
     "height": 325
    },
    "execution": {
     "iopub.status.busy": "2025-02-14T09:35:40.104796Z",
     "iopub.status.idle": "2025-02-14T09:35:40.105025Z",
     "shell.execute_reply": "2025-02-14T09:35:40.104919Z",
     "shell.execute_reply.started": "2025-02-14T09:35:40.104909Z"
    },
    "id": "1bOTbtaEyYxf",
    "outputId": "a088f1a0-5312-4ff8-a780-b61483a4c495"
   },
   "outputs": [],
   "source": [
    "my_arima(ts_trainval_daily, ts_test_daily, h_daily, m_daily, delay_daily)"
   ]
  },
  {
   "cell_type": "markdown",
   "metadata": {
    "id": "yEEZgEHpkU6O"
   },
   "source": [
    "LSTM models for time series forecasting handle complex temporal patterns by learning from sequential data."
   ]
  },
  {
   "cell_type": "code",
   "execution_count": null,
   "metadata": {
    "execution": {
     "iopub.status.busy": "2025-02-14T09:35:40.105435Z",
     "iopub.status.idle": "2025-02-14T09:35:40.105662Z",
     "shell.execute_reply": "2025-02-14T09:35:40.105558Z",
     "shell.execute_reply.started": "2025-02-14T09:35:40.105547Z"
    },
    "id": "ov8M7tEw1yeB"
   },
   "outputs": [],
   "source": [
    "train_gen, val_gen, test_gen, val_steps, test_steps = init_generators(ts_nn, lookback, delay, train_size_nn,\n",
    "                    trainval_size_nn, val_size_nn, test_size)"
   ]
  },
  {
   "cell_type": "code",
   "execution_count": null,
   "metadata": {
    "execution": {
     "iopub.status.busy": "2025-02-14T09:35:40.106094Z",
     "iopub.status.idle": "2025-02-14T09:35:40.106331Z",
     "shell.execute_reply": "2025-02-14T09:35:40.106219Z",
     "shell.execute_reply.started": "2025-02-14T09:35:40.106208Z"
    },
    "id": "cv3JPFu3nWw_"
   },
   "outputs": [],
   "source": [
    "train_gen_daily, val_gen_daily, test_gen_daily, val_steps_daily, test_steps_daily = init_generators(\n",
    "    ts_nn_daily, lookback_daily, delay_daily, train_size_nn_daily,\n",
    "    trainval_size_nn_daily, val_size_nn_daily, test_size_daily)"
   ]
  },
  {
   "cell_type": "code",
   "execution_count": null,
   "metadata": {
    "colab": {
     "base_uri": "https://localhost:8080/",
     "height": 1000
    },
    "execution": {
     "iopub.status.busy": "2025-02-14T09:35:40.106872Z",
     "iopub.status.idle": "2025-02-14T09:35:40.107102Z",
     "shell.execute_reply": "2025-02-14T09:35:40.106998Z",
     "shell.execute_reply.started": "2025-02-14T09:35:40.106988Z"
    },
    "id": "5pEoMqGkmLC_",
    "outputId": "7ae4df3b-ca00-44f1-8f42-6cee16736368"
   },
   "outputs": [],
   "source": [
    "lstm_model = Sequential()\n",
    "lstm_model.add(layers.LSTM(\n",
    "    64,\n",
    "    activation=\"tanh\",\n",
    "    dropout=0.15,\n",
    "    recurrent_dropout=0.15,\n",
    "    return_sequences=True,\n",
    "    input_shape=(None, ts_nn.shape[-1])))\n",
    "lstm_model.add(layers.LSTM(\n",
    "    16,\n",
    "    activation=\"tanh\"))\n",
    "lstm_model.add(layers.Dense(delay))\n",
    "lstm_model.summary()\n",
    "\n",
    "lstm_model.compile(optimizer=\"adam\", loss='mae')\n",
    "lstm_history = lstm_model.fit(train_gen,\n",
    "                    steps_per_epoch=train_size_nn // batch_size,\n",
    "                    epochs=10,\n",
    "                    validation_data=val_gen,\n",
    "                    validation_steps=val_size_nn // batch_size)\n",
    "\n",
    "PJMW_LSTM_JSON = HOME_DIR + \"PJMW_LSTM.json\"\n",
    "PJMW_LSTM_H5 = HOME_DIR + \"PJMW_LSTM.weights.h5\"\n",
    "\n",
    "save_model(lstm_model, PJMW_LSTM_JSON, PJMW_LSTM_H5)\n",
    "\n",
    "plot_train_val_loss(lstm_history, 'LSTM')\n",
    "\n",
    "json_file = open(PJMW_LSTM_JSON, 'r')\n",
    "loaded_model_json = json_file.read()\n",
    "json_file.close()\n",
    "lstm_model = model_from_json(loaded_model_json)\n",
    "\n",
    "# load weights into new model\n",
    "lstm_model.load_weights(PJMW_LSTM_H5)\n",
    "print(\"Loaded model from disk\")\n",
    "\n",
    "train_gen, val_gen, test_gen, val_steps, test_steps = init_generators(\n",
    "    ts_nn, lookback, delay, train_size_nn,\n",
    "    trainval_size_nn, val_size_nn, test_size)\n",
    "num_test_steps = test_size // batch_size\n",
    "validate_model(lstm_model, test_gen, num_test_steps, delay)"
   ]
  },
  {
   "cell_type": "markdown",
   "metadata": {
    "id": "EOnX4L7GslJ7"
   },
   "source": [
    "**Do it again for the daily aggregated version**"
   ]
  },
  {
   "cell_type": "code",
   "execution_count": null,
   "metadata": {
    "colab": {
     "base_uri": "https://localhost:8080/",
     "height": 1000
    },
    "execution": {
     "iopub.status.busy": "2025-02-14T09:35:40.107663Z",
     "iopub.status.idle": "2025-02-14T09:35:40.107911Z",
     "shell.execute_reply": "2025-02-14T09:35:40.107805Z",
     "shell.execute_reply.started": "2025-02-14T09:35:40.107794Z"
    },
    "id": "4hOR3JtMsqiQ",
    "outputId": "9a637220-94e0-43f9-968a-4e5ae4288181"
   },
   "outputs": [],
   "source": [
    "lstm_model = Sequential()\n",
    "lstm_model.add(layers.LSTM(\n",
    "    64,\n",
    "    activation=\"tanh\",\n",
    "    dropout=0.15,\n",
    "    recurrent_dropout=0.15,\n",
    "    return_sequences=True,\n",
    "    input_shape=(None, ts_nn_daily.shape[-1])))\n",
    "lstm_model.add(layers.LSTM(\n",
    "    16,\n",
    "    activation=\"tanh\"))\n",
    "lstm_model.add(layers.Dense(delay_daily))\n",
    "lstm_model.summary()\n",
    "\n",
    "lstm_model.compile(optimizer=\"adam\", loss='mae')\n",
    "lstm_history = lstm_model.fit(train_gen_daily,\n",
    "                    steps_per_epoch=train_size_nn_daily // batch_size,\n",
    "                    epochs=10,\n",
    "                    validation_data=val_gen_daily,\n",
    "                    validation_steps=val_size_nn_daily // batch_size)\n",
    "\n",
    "PJMW_LSTM_JSON = HOME_DIR + \"PJMW_LSTM_daily.json\"\n",
    "PJMW_LSTM_H5 = HOME_DIR + \"PJMW_LSTM_daily.weights.h5\"\n",
    "\n",
    "save_model(lstm_model, PJMW_LSTM_JSON, PJMW_LSTM_H5)\n",
    "\n",
    "plot_train_val_loss(lstm_history, 'LSTM')\n",
    "\n",
    "json_file = open(PJMW_LSTM_JSON, 'r')\n",
    "loaded_model_json = json_file.read()\n",
    "json_file.close()\n",
    "lstm_model = model_from_json(loaded_model_json)\n",
    "\n",
    "# load weights into new model\n",
    "lstm_model.load_weights(PJMW_LSTM_H5)\n",
    "print(\"Loaded model from disk\")\n",
    "\n",
    "train_gen_daily, val_gen_daily, test_gen_daily, val_steps_daily, test_steps_daily = init_generators(\n",
    "    ts_nn_daily, lookback_daily, delay_daily, train_size_nn_daily,\n",
    "    trainval_size_nn_daily, val_size_nn_daily, test_size_daily)\n",
    "num_test_steps = test_size_daily // batch_size\n",
    "validate_model(lstm_model, test_gen_daily, num_test_steps, delay_daily)"
   ]
  },
  {
   "cell_type": "code",
   "execution_count": null,
   "metadata": {
    "execution": {
     "iopub.status.busy": "2025-02-14T09:35:40.108554Z",
     "iopub.status.idle": "2025-02-14T09:35:40.108785Z",
     "shell.execute_reply": "2025-02-14T09:35:40.108681Z",
     "shell.execute_reply.started": "2025-02-14T09:35:40.108670Z"
    },
    "id": "ya09knUS12YD"
   },
   "outputs": [],
   "source": [
    "train_gen, val_gen, test_gen, val_steps, test_steps = init_generators(ts_nn, lookback, delay, train_size_nn,\n",
    "                    trainval_size_nn, val_size_nn, test_size)"
   ]
  },
  {
   "cell_type": "code",
   "execution_count": null,
   "metadata": {
    "execution": {
     "iopub.status.busy": "2025-02-14T09:35:40.109188Z",
     "iopub.status.idle": "2025-02-14T09:35:40.109434Z",
     "shell.execute_reply": "2025-02-14T09:35:40.109328Z",
     "shell.execute_reply.started": "2025-02-14T09:35:40.109318Z"
    },
    "id": "FGDhacsWtamP"
   },
   "outputs": [],
   "source": [
    "train_gen_daily, val_gen_daily, test_gen_daily, val_steps_daily, test_steps_daily = init_generators(\n",
    "    ts_nn_daily, lookback_daily, delay_daily, train_size_nn_daily,\n",
    "    trainval_size_nn_daily, val_size_nn_daily, test_size_daily)"
   ]
  },
  {
   "cell_type": "code",
   "execution_count": null,
   "metadata": {
    "colab": {
     "base_uri": "https://localhost:8080/",
     "height": 1000
    },
    "execution": {
     "iopub.status.busy": "2025-02-14T09:35:40.110081Z",
     "iopub.status.idle": "2025-02-14T09:35:40.110323Z",
     "shell.execute_reply": "2025-02-14T09:35:40.110206Z",
     "shell.execute_reply.started": "2025-02-14T09:35:40.110196Z"
    },
    "id": "F0fCox5LOjAH",
    "outputId": "f4361f7b-e201-4e78-d1c2-dbb1e2f9ee25"
   },
   "outputs": [],
   "source": [
    "gru_model = Sequential()\n",
    "gru_model.add(layers.GRU(128,\n",
    "                    activation=\"relu\",\n",
    "                    return_sequences=True,\n",
    "                    input_shape=(None, ts_nn.shape[-1])))\n",
    "gru_model.add(layers.GRU(32,\n",
    "                    activation=\"relu\"))\n",
    "gru_model.add(layers.Dense(delay))\n",
    "gru_model.summary()\n",
    "\n",
    "gru_model.compile(optimizer=\"adam\", loss='mae')\n",
    "gru_history = gru_model.fit(train_gen,\n",
    "                    steps_per_epoch=train_size_nn // batch_size,\n",
    "                    epochs=10,\n",
    "                    validation_data=val_gen,\n",
    "                    validation_steps=val_size_nn // batch_size)\n",
    "\n",
    "PJMW_GRU_JSON = HOME_DIR + \"PJMW_GRU.json\"\n",
    "PJMW_GRU_H5 = HOME_DIR + \"PJMW_GRU.weights.h5\"\n",
    "\n",
    "save_model(gru_model, PJMW_GRU_JSON, PJMW_GRU_H5)\n",
    "\n",
    "plot_train_val_loss(gru_history, 'GRU')\n",
    "\n",
    "json_file = open(PJMW_GRU_JSON, 'r')\n",
    "loaded_model_json = json_file.read()\n",
    "json_file.close()\n",
    "gru_model = model_from_json(loaded_model_json)\n",
    "\n",
    "# load weights into new model\n",
    "gru_model.load_weights(PJMW_GRU_H5)\n",
    "print(\"Loaded model from disk\")\n",
    "\n",
    "train_gen, val_gen, test_gen, val_steps, test_steps = init_generators(ts_nn, lookback, delay, train_size_nn,\n",
    "                    trainval_size_nn, val_size_nn, test_size)\n",
    "num_test_steps = test_size // batch_size\n",
    "validate_model(gru_model, test_gen, num_test_steps, delay)"
   ]
  },
  {
   "cell_type": "markdown",
   "metadata": {
    "id": "S09J3dRJtrRq"
   },
   "source": [
    "**Do it again for the daily aggregated version**"
   ]
  },
  {
   "cell_type": "code",
   "execution_count": null,
   "metadata": {
    "colab": {
     "base_uri": "https://localhost:8080/",
     "height": 1000
    },
    "execution": {
     "iopub.status.busy": "2025-02-14T09:35:40.111112Z",
     "iopub.status.idle": "2025-02-14T09:35:40.111352Z",
     "shell.execute_reply": "2025-02-14T09:35:40.111236Z",
     "shell.execute_reply.started": "2025-02-14T09:35:40.111225Z"
    },
    "id": "4byq9EEItsCy",
    "outputId": "98a0de00-fb88-43a2-ce8b-07c27f58caa4"
   },
   "outputs": [],
   "source": [
    "gru_model = Sequential()\n",
    "gru_model.add(layers.GRU(128,\n",
    "                    activation=\"relu\",\n",
    "                    return_sequences=True,\n",
    "                    input_shape=(None, ts_nn_daily.shape[-1])))\n",
    "gru_model.add(layers.GRU(32,\n",
    "                    activation=\"relu\"))\n",
    "gru_model.add(layers.Dense(delay_daily))\n",
    "gru_model.summary()\n",
    "\n",
    "gru_model.compile(optimizer=\"adam\", loss='mae')\n",
    "gru_history = gru_model.fit(train_gen_daily,\n",
    "                    steps_per_epoch=train_size_nn_daily // batch_size,\n",
    "                    epochs=10,\n",
    "                    validation_data=val_gen_daily,\n",
    "                    validation_steps=val_size_nn_daily // batch_size)\n",
    "\n",
    "PJMW_GRU_JSON = HOME_DIR + \"PJMW_GRU_daily.json\"\n",
    "PJMW_GRU_H5 = HOME_DIR + \"PJMW_GRU_daily.weights.h5\"\n",
    "\n",
    "save_model(gru_model, PJMW_GRU_JSON, PJMW_GRU_H5)\n",
    "\n",
    "plot_train_val_loss(gru_history, 'GRU')\n",
    "\n",
    "json_file = open(PJMW_GRU_JSON, 'r')\n",
    "loaded_model_json = json_file.read()\n",
    "json_file.close()\n",
    "gru_model = model_from_json(loaded_model_json)\n",
    "\n",
    "# load weights into new model\n",
    "gru_model.load_weights(PJMW_GRU_H5)\n",
    "print(\"Loaded model from disk\")\n",
    "\n",
    "train_gen_daily, val_gen_daily, test_gen_daily, val_steps_daily, test_steps_daily = init_generators(\n",
    "    ts_nn_daily, lookback_daily, delay_daily, train_size_nn_daily,\n",
    "    trainval_size_nn_daily, val_size_nn_daily, test_size_daily)\n",
    "num_test_steps = test_size_daily // batch_size\n",
    "validate_model(gru_model, test_gen_daily, num_test_steps, delay_daily)"
   ]
  },
  {
   "cell_type": "code",
   "execution_count": null,
   "metadata": {
    "id": "AI_gd2aIppOQ"
   },
   "outputs": [],
   "source": []
  }
 ],
 "metadata": {
  "accelerator": "GPU",
  "colab": {
   "gpuType": "T4",
   "provenance": []
  },
  "kernelspec": {
   "display_name": "Python [conda env:base] *",
   "language": "python",
   "name": "conda-base-py"
  },
  "language_info": {
   "codemirror_mode": {
    "name": "ipython",
    "version": 3
   },
   "file_extension": ".py",
   "mimetype": "text/x-python",
   "name": "python",
   "nbconvert_exporter": "python",
   "pygments_lexer": "ipython3",
   "version": "3.12.8"
  },
  "widgets": {
   "application/vnd.jupyter.widget-state+json": {
    "06917b5b72404a1394f26cccb82a2e80": {
     "model_module": "@jupyter-widgets/base",
     "model_module_version": "1.2.0",
     "model_name": "LayoutModel",
     "state": {
      "_model_module": "@jupyter-widgets/base",
      "_model_module_version": "1.2.0",
      "_model_name": "LayoutModel",
      "_view_count": null,
      "_view_module": "@jupyter-widgets/base",
      "_view_module_version": "1.2.0",
      "_view_name": "LayoutView",
      "align_content": null,
      "align_items": null,
      "align_self": null,
      "border": null,
      "bottom": null,
      "display": null,
      "flex": null,
      "flex_flow": null,
      "grid_area": null,
      "grid_auto_columns": null,
      "grid_auto_flow": null,
      "grid_auto_rows": null,
      "grid_column": null,
      "grid_gap": null,
      "grid_row": null,
      "grid_template_areas": null,
      "grid_template_columns": null,
      "grid_template_rows": null,
      "height": null,
      "justify_content": null,
      "justify_items": null,
      "left": null,
      "margin": null,
      "max_height": null,
      "max_width": null,
      "min_height": null,
      "min_width": null,
      "object_fit": null,
      "object_position": null,
      "order": null,
      "overflow": null,
      "overflow_x": null,
      "overflow_y": null,
      "padding": null,
      "right": null,
      "top": null,
      "visibility": null,
      "width": null
     }
    },
    "113d9677ff7e4040ad451b3340da2793": {
     "model_module": "@jupyter-widgets/base",
     "model_module_version": "1.2.0",
     "model_name": "LayoutModel",
     "state": {
      "_model_module": "@jupyter-widgets/base",
      "_model_module_version": "1.2.0",
      "_model_name": "LayoutModel",
      "_view_count": null,
      "_view_module": "@jupyter-widgets/base",
      "_view_module_version": "1.2.0",
      "_view_name": "LayoutView",
      "align_content": null,
      "align_items": null,
      "align_self": null,
      "border": null,
      "bottom": null,
      "display": null,
      "flex": null,
      "flex_flow": null,
      "grid_area": null,
      "grid_auto_columns": null,
      "grid_auto_flow": null,
      "grid_auto_rows": null,
      "grid_column": null,
      "grid_gap": null,
      "grid_row": null,
      "grid_template_areas": null,
      "grid_template_columns": null,
      "grid_template_rows": null,
      "height": null,
      "justify_content": null,
      "justify_items": null,
      "left": null,
      "margin": null,
      "max_height": null,
      "max_width": null,
      "min_height": null,
      "min_width": null,
      "object_fit": null,
      "object_position": null,
      "order": null,
      "overflow": null,
      "overflow_x": null,
      "overflow_y": null,
      "padding": null,
      "right": null,
      "top": null,
      "visibility": null,
      "width": null
     }
    },
    "12f1e3c01ed94fa99e1763fe283ee308": {
     "model_module": "@jupyter-widgets/controls",
     "model_module_version": "1.5.0",
     "model_name": "HBoxModel",
     "state": {
      "_dom_classes": [],
      "_model_module": "@jupyter-widgets/controls",
      "_model_module_version": "1.5.0",
      "_model_name": "HBoxModel",
      "_view_count": null,
      "_view_module": "@jupyter-widgets/controls",
      "_view_module_version": "1.5.0",
      "_view_name": "HBoxView",
      "box_style": "",
      "children": [
       "IPY_MODEL_7f5f4fe9f4ce42c6a67bec63f37e731f",
       "IPY_MODEL_aa67ffbedbc844499152d86222b3151b",
       "IPY_MODEL_93e0e1941dba458f85ee50852875e1a2"
      ],
      "layout": "IPY_MODEL_5300dd2e2cf74ecdb4fc9c18ea9462d8"
     }
    },
    "2a275b2cd5b54fdfa7fb5ad279516464": {
     "model_module": "@jupyter-widgets/controls",
     "model_module_version": "1.5.0",
     "model_name": "FloatProgressModel",
     "state": {
      "_dom_classes": [],
      "_model_module": "@jupyter-widgets/controls",
      "_model_module_version": "1.5.0",
      "_model_name": "FloatProgressModel",
      "_view_count": null,
      "_view_module": "@jupyter-widgets/controls",
      "_view_module_version": "1.5.0",
      "_view_name": "ProgressView",
      "bar_style": "success",
      "description": "",
      "description_tooltip": null,
      "layout": "IPY_MODEL_57f1e1a0dc9747b1a41c57d97b323302",
      "max": 4,
      "min": 0,
      "orientation": "horizontal",
      "style": "IPY_MODEL_44c6c0aefd854f9d939abe7b5f0aebf8",
      "value": 4
     }
    },
    "3d5195aef9e047e0944267f7104b504d": {
     "model_module": "@jupyter-widgets/base",
     "model_module_version": "1.2.0",
     "model_name": "LayoutModel",
     "state": {
      "_model_module": "@jupyter-widgets/base",
      "_model_module_version": "1.2.0",
      "_model_name": "LayoutModel",
      "_view_count": null,
      "_view_module": "@jupyter-widgets/base",
      "_view_module_version": "1.2.0",
      "_view_name": "LayoutView",
      "align_content": null,
      "align_items": null,
      "align_self": null,
      "border": null,
      "bottom": null,
      "display": null,
      "flex": null,
      "flex_flow": null,
      "grid_area": null,
      "grid_auto_columns": null,
      "grid_auto_flow": null,
      "grid_auto_rows": null,
      "grid_column": null,
      "grid_gap": null,
      "grid_row": null,
      "grid_template_areas": null,
      "grid_template_columns": null,
      "grid_template_rows": null,
      "height": null,
      "justify_content": null,
      "justify_items": null,
      "left": null,
      "margin": null,
      "max_height": null,
      "max_width": null,
      "min_height": null,
      "min_width": null,
      "object_fit": null,
      "object_position": null,
      "order": null,
      "overflow": null,
      "overflow_x": null,
      "overflow_y": null,
      "padding": null,
      "right": null,
      "top": null,
      "visibility": null,
      "width": null
     }
    },
    "44c6c0aefd854f9d939abe7b5f0aebf8": {
     "model_module": "@jupyter-widgets/controls",
     "model_module_version": "1.5.0",
     "model_name": "ProgressStyleModel",
     "state": {
      "_model_module": "@jupyter-widgets/controls",
      "_model_module_version": "1.5.0",
      "_model_name": "ProgressStyleModel",
      "_view_count": null,
      "_view_module": "@jupyter-widgets/base",
      "_view_module_version": "1.2.0",
      "_view_name": "StyleView",
      "bar_color": null,
      "description_width": ""
     }
    },
    "5300dd2e2cf74ecdb4fc9c18ea9462d8": {
     "model_module": "@jupyter-widgets/base",
     "model_module_version": "1.2.0",
     "model_name": "LayoutModel",
     "state": {
      "_model_module": "@jupyter-widgets/base",
      "_model_module_version": "1.2.0",
      "_model_name": "LayoutModel",
      "_view_count": null,
      "_view_module": "@jupyter-widgets/base",
      "_view_module_version": "1.2.0",
      "_view_name": "LayoutView",
      "align_content": null,
      "align_items": null,
      "align_self": null,
      "border": null,
      "bottom": null,
      "display": null,
      "flex": null,
      "flex_flow": null,
      "grid_area": null,
      "grid_auto_columns": null,
      "grid_auto_flow": null,
      "grid_auto_rows": null,
      "grid_column": null,
      "grid_gap": null,
      "grid_row": null,
      "grid_template_areas": null,
      "grid_template_columns": null,
      "grid_template_rows": null,
      "height": null,
      "justify_content": null,
      "justify_items": null,
      "left": null,
      "margin": null,
      "max_height": null,
      "max_width": null,
      "min_height": null,
      "min_width": null,
      "object_fit": null,
      "object_position": null,
      "order": null,
      "overflow": null,
      "overflow_x": null,
      "overflow_y": null,
      "padding": null,
      "right": null,
      "top": null,
      "visibility": null,
      "width": null
     }
    },
    "57f1e1a0dc9747b1a41c57d97b323302": {
     "model_module": "@jupyter-widgets/base",
     "model_module_version": "1.2.0",
     "model_name": "LayoutModel",
     "state": {
      "_model_module": "@jupyter-widgets/base",
      "_model_module_version": "1.2.0",
      "_model_name": "LayoutModel",
      "_view_count": null,
      "_view_module": "@jupyter-widgets/base",
      "_view_module_version": "1.2.0",
      "_view_name": "LayoutView",
      "align_content": null,
      "align_items": null,
      "align_self": null,
      "border": null,
      "bottom": null,
      "display": null,
      "flex": null,
      "flex_flow": null,
      "grid_area": null,
      "grid_auto_columns": null,
      "grid_auto_flow": null,
      "grid_auto_rows": null,
      "grid_column": null,
      "grid_gap": null,
      "grid_row": null,
      "grid_template_areas": null,
      "grid_template_columns": null,
      "grid_template_rows": null,
      "height": null,
      "justify_content": null,
      "justify_items": null,
      "left": null,
      "margin": null,
      "max_height": null,
      "max_width": null,
      "min_height": null,
      "min_width": null,
      "object_fit": null,
      "object_position": null,
      "order": null,
      "overflow": null,
      "overflow_x": null,
      "overflow_y": null,
      "padding": null,
      "right": null,
      "top": null,
      "visibility": null,
      "width": null
     }
    },
    "59b660d17a094e34820f2d2be6b8dce8": {
     "model_module": "@jupyter-widgets/controls",
     "model_module_version": "1.5.0",
     "model_name": "DescriptionStyleModel",
     "state": {
      "_model_module": "@jupyter-widgets/controls",
      "_model_module_version": "1.5.0",
      "_model_name": "DescriptionStyleModel",
      "_view_count": null,
      "_view_module": "@jupyter-widgets/base",
      "_view_module_version": "1.2.0",
      "_view_name": "StyleView",
      "description_width": ""
     }
    },
    "69db43f77e25422b99057bda78281092": {
     "model_module": "@jupyter-widgets/controls",
     "model_module_version": "1.5.0",
     "model_name": "DescriptionStyleModel",
     "state": {
      "_model_module": "@jupyter-widgets/controls",
      "_model_module_version": "1.5.0",
      "_model_name": "DescriptionStyleModel",
      "_view_count": null,
      "_view_module": "@jupyter-widgets/base",
      "_view_module_version": "1.2.0",
      "_view_name": "StyleView",
      "description_width": ""
     }
    },
    "79a9a4c8774b4c5bb884702cd01c28d5": {
     "model_module": "@jupyter-widgets/base",
     "model_module_version": "1.2.0",
     "model_name": "LayoutModel",
     "state": {
      "_model_module": "@jupyter-widgets/base",
      "_model_module_version": "1.2.0",
      "_model_name": "LayoutModel",
      "_view_count": null,
      "_view_module": "@jupyter-widgets/base",
      "_view_module_version": "1.2.0",
      "_view_name": "LayoutView",
      "align_content": null,
      "align_items": null,
      "align_self": null,
      "border": null,
      "bottom": null,
      "display": null,
      "flex": null,
      "flex_flow": null,
      "grid_area": null,
      "grid_auto_columns": null,
      "grid_auto_flow": null,
      "grid_auto_rows": null,
      "grid_column": null,
      "grid_gap": null,
      "grid_row": null,
      "grid_template_areas": null,
      "grid_template_columns": null,
      "grid_template_rows": null,
      "height": null,
      "justify_content": null,
      "justify_items": null,
      "left": null,
      "margin": null,
      "max_height": null,
      "max_width": null,
      "min_height": null,
      "min_width": null,
      "object_fit": null,
      "object_position": null,
      "order": null,
      "overflow": null,
      "overflow_x": null,
      "overflow_y": null,
      "padding": null,
      "right": null,
      "top": null,
      "visibility": null,
      "width": null
     }
    },
    "79ae256b169e4c05bc24585027b997e4": {
     "model_module": "@jupyter-widgets/base",
     "model_module_version": "1.2.0",
     "model_name": "LayoutModel",
     "state": {
      "_model_module": "@jupyter-widgets/base",
      "_model_module_version": "1.2.0",
      "_model_name": "LayoutModel",
      "_view_count": null,
      "_view_module": "@jupyter-widgets/base",
      "_view_module_version": "1.2.0",
      "_view_name": "LayoutView",
      "align_content": null,
      "align_items": null,
      "align_self": null,
      "border": null,
      "bottom": null,
      "display": null,
      "flex": null,
      "flex_flow": null,
      "grid_area": null,
      "grid_auto_columns": null,
      "grid_auto_flow": null,
      "grid_auto_rows": null,
      "grid_column": null,
      "grid_gap": null,
      "grid_row": null,
      "grid_template_areas": null,
      "grid_template_columns": null,
      "grid_template_rows": null,
      "height": null,
      "justify_content": null,
      "justify_items": null,
      "left": null,
      "margin": null,
      "max_height": null,
      "max_width": null,
      "min_height": null,
      "min_width": null,
      "object_fit": null,
      "object_position": null,
      "order": null,
      "overflow": null,
      "overflow_x": null,
      "overflow_y": null,
      "padding": null,
      "right": null,
      "top": null,
      "visibility": null,
      "width": null
     }
    },
    "7f5f4fe9f4ce42c6a67bec63f37e731f": {
     "model_module": "@jupyter-widgets/controls",
     "model_module_version": "1.5.0",
     "model_name": "HTMLModel",
     "state": {
      "_dom_classes": [],
      "_model_module": "@jupyter-widgets/controls",
      "_model_module_version": "1.5.0",
      "_model_name": "HTMLModel",
      "_view_count": null,
      "_view_module": "@jupyter-widgets/controls",
      "_view_module_version": "1.5.0",
      "_view_name": "HTMLView",
      "description": "",
      "description_tooltip": null,
      "layout": "IPY_MODEL_79ae256b169e4c05bc24585027b997e4",
      "placeholder": "​",
      "style": "IPY_MODEL_59b660d17a094e34820f2d2be6b8dce8",
      "value": "100%"
     }
    },
    "93e0e1941dba458f85ee50852875e1a2": {
     "model_module": "@jupyter-widgets/controls",
     "model_module_version": "1.5.0",
     "model_name": "HTMLModel",
     "state": {
      "_dom_classes": [],
      "_model_module": "@jupyter-widgets/controls",
      "_model_module_version": "1.5.0",
      "_model_name": "HTMLModel",
      "_view_count": null,
      "_view_module": "@jupyter-widgets/controls",
      "_view_module_version": "1.5.0",
      "_view_name": "HTMLView",
      "description": "",
      "description_tooltip": null,
      "layout": "IPY_MODEL_b3d1240b1eab4b8daf73ce1d04445359",
      "placeholder": "​",
      "style": "IPY_MODEL_9e8aa17491da4d0580ac9c6b383fd644",
      "value": " 4/4 [03:47&lt;00:00, 51.76s/it]"
     }
    },
    "94a9cdbab6474115a3b43bead2879cc0": {
     "model_module": "@jupyter-widgets/controls",
     "model_module_version": "1.5.0",
     "model_name": "HBoxModel",
     "state": {
      "_dom_classes": [],
      "_model_module": "@jupyter-widgets/controls",
      "_model_module_version": "1.5.0",
      "_model_name": "HBoxModel",
      "_view_count": null,
      "_view_module": "@jupyter-widgets/controls",
      "_view_module_version": "1.5.0",
      "_view_name": "HBoxView",
      "box_style": "",
      "children": [
       "IPY_MODEL_c4a52a89a01749cbb03e50830d6fab8e",
       "IPY_MODEL_2a275b2cd5b54fdfa7fb5ad279516464",
       "IPY_MODEL_f8051cbe06bf4180a71697e9c4f33e9b"
      ],
      "layout": "IPY_MODEL_113d9677ff7e4040ad451b3340da2793"
     }
    },
    "9e8aa17491da4d0580ac9c6b383fd644": {
     "model_module": "@jupyter-widgets/controls",
     "model_module_version": "1.5.0",
     "model_name": "DescriptionStyleModel",
     "state": {
      "_model_module": "@jupyter-widgets/controls",
      "_model_module_version": "1.5.0",
      "_model_name": "DescriptionStyleModel",
      "_view_count": null,
      "_view_module": "@jupyter-widgets/base",
      "_view_module_version": "1.2.0",
      "_view_name": "StyleView",
      "description_width": ""
     }
    },
    "aa67ffbedbc844499152d86222b3151b": {
     "model_module": "@jupyter-widgets/controls",
     "model_module_version": "1.5.0",
     "model_name": "FloatProgressModel",
     "state": {
      "_dom_classes": [],
      "_model_module": "@jupyter-widgets/controls",
      "_model_module_version": "1.5.0",
      "_model_name": "FloatProgressModel",
      "_view_count": null,
      "_view_module": "@jupyter-widgets/controls",
      "_view_module_version": "1.5.0",
      "_view_name": "ProgressView",
      "bar_style": "success",
      "description": "",
      "description_tooltip": null,
      "layout": "IPY_MODEL_06917b5b72404a1394f26cccb82a2e80",
      "max": 4,
      "min": 0,
      "orientation": "horizontal",
      "style": "IPY_MODEL_c1bff21f652f40d28ed269d22747e0f3",
      "value": 4
     }
    },
    "b3d1240b1eab4b8daf73ce1d04445359": {
     "model_module": "@jupyter-widgets/base",
     "model_module_version": "1.2.0",
     "model_name": "LayoutModel",
     "state": {
      "_model_module": "@jupyter-widgets/base",
      "_model_module_version": "1.2.0",
      "_model_name": "LayoutModel",
      "_view_count": null,
      "_view_module": "@jupyter-widgets/base",
      "_view_module_version": "1.2.0",
      "_view_name": "LayoutView",
      "align_content": null,
      "align_items": null,
      "align_self": null,
      "border": null,
      "bottom": null,
      "display": null,
      "flex": null,
      "flex_flow": null,
      "grid_area": null,
      "grid_auto_columns": null,
      "grid_auto_flow": null,
      "grid_auto_rows": null,
      "grid_column": null,
      "grid_gap": null,
      "grid_row": null,
      "grid_template_areas": null,
      "grid_template_columns": null,
      "grid_template_rows": null,
      "height": null,
      "justify_content": null,
      "justify_items": null,
      "left": null,
      "margin": null,
      "max_height": null,
      "max_width": null,
      "min_height": null,
      "min_width": null,
      "object_fit": null,
      "object_position": null,
      "order": null,
      "overflow": null,
      "overflow_x": null,
      "overflow_y": null,
      "padding": null,
      "right": null,
      "top": null,
      "visibility": null,
      "width": null
     }
    },
    "c1bff21f652f40d28ed269d22747e0f3": {
     "model_module": "@jupyter-widgets/controls",
     "model_module_version": "1.5.0",
     "model_name": "ProgressStyleModel",
     "state": {
      "_model_module": "@jupyter-widgets/controls",
      "_model_module_version": "1.5.0",
      "_model_name": "ProgressStyleModel",
      "_view_count": null,
      "_view_module": "@jupyter-widgets/base",
      "_view_module_version": "1.2.0",
      "_view_name": "StyleView",
      "bar_color": null,
      "description_width": ""
     }
    },
    "c4a52a89a01749cbb03e50830d6fab8e": {
     "model_module": "@jupyter-widgets/controls",
     "model_module_version": "1.5.0",
     "model_name": "HTMLModel",
     "state": {
      "_dom_classes": [],
      "_model_module": "@jupyter-widgets/controls",
      "_model_module_version": "1.5.0",
      "_model_name": "HTMLModel",
      "_view_count": null,
      "_view_module": "@jupyter-widgets/controls",
      "_view_module_version": "1.5.0",
      "_view_name": "HTMLView",
      "description": "",
      "description_tooltip": null,
      "layout": "IPY_MODEL_79a9a4c8774b4c5bb884702cd01c28d5",
      "placeholder": "​",
      "style": "IPY_MODEL_69db43f77e25422b99057bda78281092",
      "value": "100%"
     }
    },
    "e7c63776e8c14b32bc7d2d1901f46baf": {
     "model_module": "@jupyter-widgets/controls",
     "model_module_version": "1.5.0",
     "model_name": "DescriptionStyleModel",
     "state": {
      "_model_module": "@jupyter-widgets/controls",
      "_model_module_version": "1.5.0",
      "_model_name": "DescriptionStyleModel",
      "_view_count": null,
      "_view_module": "@jupyter-widgets/base",
      "_view_module_version": "1.2.0",
      "_view_name": "StyleView",
      "description_width": ""
     }
    },
    "f8051cbe06bf4180a71697e9c4f33e9b": {
     "model_module": "@jupyter-widgets/controls",
     "model_module_version": "1.5.0",
     "model_name": "HTMLModel",
     "state": {
      "_dom_classes": [],
      "_model_module": "@jupyter-widgets/controls",
      "_model_module_version": "1.5.0",
      "_model_name": "HTMLModel",
      "_view_count": null,
      "_view_module": "@jupyter-widgets/controls",
      "_view_module_version": "1.5.0",
      "_view_name": "HTMLView",
      "description": "",
      "description_tooltip": null,
      "layout": "IPY_MODEL_3d5195aef9e047e0944267f7104b504d",
      "placeholder": "​",
      "style": "IPY_MODEL_e7c63776e8c14b32bc7d2d1901f46baf",
      "value": " 4/4 [00:14&lt;00:00,  3.86s/it]"
     }
    }
   }
  }
 },
 "nbformat": 4,
 "nbformat_minor": 4
}
