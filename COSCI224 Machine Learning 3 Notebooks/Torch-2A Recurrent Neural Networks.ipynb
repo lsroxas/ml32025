{
 "cells": [
  {
   "cell_type": "markdown",
   "metadata": {
    "id": "-giequofaBFO"
   },
   "source": [
    "# Notebook 2A. Recurrent Neural Networks (RNN)\n",
    "---\n",
    "Organized and prepared by Christopher Monterola, updated by Kenneth Co.\n",
    "\n",
    "This notebook was conceptualized, organized, and primarily prepared for the **Machine Learning** courses.\n",
    "\n",
    "### This notebook uses the following references:\n",
    "1. Python Machine Learning, Second Edition, Sebastian Raschka and Vahid Mirjalili, Packt Publishing Ltd. Birmingham B3 2PB, UK Sept 2017.\n",
    "2. Hands-On Machine Learning with Scikit-Learn and TensorFlow, Aurélien Géron, O'Reilly 2017.\n",
    "3. Deep Learning with Python, Francois Chollet, Manning New York 2018.\n",
    "4. ChatGPT 4\n",
    "\n",
    "---\n",
    "In this notebook, we will explore Recurrent Neural Networks (RNNs) and see their application in modeling sequential data and a specific subset of sequential data—time-series data.  In particularwe will cover here the following topics:\n",
    "- Introducing sequential data   \n",
    "- RNNs for modeling sequences   \n",
    "- Long Short-Term Memory (LSTM)      \n",
    "    \n",
    "We demonstrate the application of the RNN using **Sentiment analysis/prediction of the IMDb movie review dataset.** In **Notebook 2B**, we will look at the efficacy of using RNN for time series forecasting."
   ]
  },
  {
   "cell_type": "markdown",
   "metadata": {
    "id": "7k1nBzeNaBFP"
   },
   "source": [
    "## Google Colab Setup"
   ]
  },
  {
   "cell_type": "code",
   "execution_count": 2,
   "metadata": {
    "execution": {
     "iopub.execute_input": "2025-01-27T02:36:32.309821Z",
     "iopub.status.busy": "2025-01-27T02:36:32.309586Z",
     "iopub.status.idle": "2025-01-27T02:36:39.139353Z",
     "shell.execute_reply": "2025-01-27T02:36:39.138248Z",
     "shell.execute_reply.started": "2025-01-27T02:36:32.309800Z"
    }
   },
   "outputs": [
    {
     "ename": "ModuleNotFoundError",
     "evalue": "No module named 'tensorflow'",
     "output_type": "error",
     "traceback": [
      "\u001b[0;31m---------------------------------------------------------------------------\u001b[0m",
      "\u001b[0;31mModuleNotFoundError\u001b[0m                       Traceback (most recent call last)",
      "Cell \u001b[0;32mIn[2], line 2\u001b[0m\n\u001b[1;32m      1\u001b[0m \u001b[38;5;28;01mimport\u001b[39;00m\u001b[38;5;250m \u001b[39m\u001b[38;5;21;01mtorch\u001b[39;00m\n\u001b[0;32m----> 2\u001b[0m \u001b[38;5;28;01mimport\u001b[39;00m\u001b[38;5;250m \u001b[39m\u001b[38;5;21;01mtensorflow\u001b[39;00m\u001b[38;5;250m \u001b[39m\u001b[38;5;28;01mas\u001b[39;00m\u001b[38;5;250m \u001b[39m\u001b[38;5;21;01mtf\u001b[39;00m\n\u001b[1;32m      4\u001b[0m \u001b[38;5;66;03m# Check PyTorch CUDA Version\u001b[39;00m\n\u001b[1;32m      5\u001b[0m \u001b[38;5;28mprint\u001b[39m(\u001b[38;5;124m\"\u001b[39m\u001b[38;5;124mPyTorch CUDA Version:\u001b[39m\u001b[38;5;124m\"\u001b[39m)\n",
      "\u001b[0;31mModuleNotFoundError\u001b[0m: No module named 'tensorflow'"
     ]
    }
   ],
   "source": [
    "import torch\n",
    "import tensorflow as tf\n",
    "\n",
    "# Check PyTorch CUDA Version\n",
    "print(\"PyTorch CUDA Version:\")\n",
    "try:\n",
    "    print(torch.version.cuda)\n",
    "except AttributeError:\n",
    "    print(\"CUDA not available with this PyTorch installation.\")\n",
    "\n",
    "# Check TensorFlow CUDA Version\n",
    "print(\"\\nTensorFlow CUDA Version:\")\n",
    "try:\n",
    "    print(tf.sysconfig.get_build_info()['cuda_version'])\n",
    "except KeyError:\n",
    "    print(\"CUDA not used in this TensorFlow build.\")\n",
    "\n",
    "# Additional checks for GPU availability\n",
    "print(\"\\nGPU Availability:\")\n",
    "print(\"PyTorch CUDA Availability:\", torch.cuda.is_available())\n",
    "print(\"TensorFlow GPU Devices:\", len(tf.config.list_physical_devices('GPU')) > 0)"
   ]
  },
  {
   "cell_type": "code",
   "execution_count": null,
   "metadata": {
    "execution": {
     "iopub.execute_input": "2025-01-27T02:36:39.140771Z",
     "iopub.status.busy": "2025-01-27T02:36:39.140242Z",
     "iopub.status.idle": "2025-01-27T02:36:39.146934Z",
     "shell.execute_reply": "2025-01-27T02:36:39.145637Z",
     "shell.execute_reply.started": "2025-01-27T02:36:39.140744Z"
    },
    "id": "oTQbw0rdaBFP",
    "outputId": "3ebd9cf6-e18b-4028-88a9-9790d1b3df61"
   },
   "outputs": [],
   "source": [
    "# from google.colab import drive\n",
    "# drive.mount('/content/drive')\n",
    "# DATA_DIR = '/content/drive/MyDrive/COSCI224 Machine Learning 3 Notebooks/data/'\n",
    "# IMG_DIR = '/content/drive/MyDrive/COSCI224 Machine Learning 3 Notebooks/images/'\n",
    "# MODEL_DIR = '/content/drive/MyDrive/COSCI224 Machine Learning 3 Notebooks/models/'\n",
    "\n",
    "DATA_DIR = 'data/'\n",
    "IMG_DIR = 'images/'\n",
    "MODEL_DIR = 'models/'"
   ]
  },
  {
   "cell_type": "code",
   "execution_count": null,
   "metadata": {
    "execution": {
     "iopub.execute_input": "2025-01-27T02:36:39.148022Z",
     "iopub.status.busy": "2025-01-27T02:36:39.147791Z",
     "iopub.status.idle": "2025-01-27T02:36:39.389377Z",
     "shell.execute_reply": "2025-01-27T02:36:39.388201Z",
     "shell.execute_reply.started": "2025-01-27T02:36:39.148000Z"
    },
    "id": "vjqPa_3NaBFQ",
    "outputId": "10c58026-fecb-45f7-eb27-02ed2653844a"
   },
   "outputs": [
    {
     "name": "stdout",
     "output_type": "stream",
     "text": [
      "Found GPU at: /device:GPU:0\n"
     ]
    },
    {
     "name": "stderr",
     "output_type": "stream",
     "text": [
      "2025-04-25 13:05:11.553748: I metal_plugin/src/device/metal_device.cc:1154] Metal device set to: Apple M1 Pro\n",
      "2025-04-25 13:05:11.553782: I metal_plugin/src/device/metal_device.cc:296] systemMemory: 32.00 GB\n",
      "2025-04-25 13:05:11.553790: I metal_plugin/src/device/metal_device.cc:313] maxCacheSize: 10.67 GB\n",
      "2025-04-25 13:05:11.553978: I tensorflow/core/common_runtime/pluggable_device/pluggable_device_factory.cc:305] Could not identify NUMA node of platform GPU ID 0, defaulting to 0. Your kernel may not have been built with NUMA support.\n",
      "2025-04-25 13:05:11.553992: I tensorflow/core/common_runtime/pluggable_device/pluggable_device_factory.cc:271] Created TensorFlow device (/device:GPU:0 with 0 MB memory) -> physical PluggableDevice (device: 0, name: METAL, pci bus id: <undefined>)\n"
     ]
    }
   ],
   "source": [
    "import tensorflow as tf\n",
    "device_name = tf.test.gpu_device_name()\n",
    "if device_name != '/device:GPU:0':\n",
    "  raise SystemError('GPU device not found')\n",
    "print('Found GPU at: {}'.format(device_name))"
   ]
  },
  {
   "cell_type": "markdown",
   "metadata": {
    "id": "46UbGymjxSqZ"
   },
   "source": [
    "# 1. Introducing sequential data\n",
    "---\n",
    "\n",
    "Let's begin our discussion of RNNs by looking at the nature of sequential data, more commonly known as sequences. We'll take a look at the unique properties of sequences that make them different from other kinds of data. We'll then see how we can represent sequential data, and explore the various categories of models for sequential data, which are based on the input and output of a model. This will help us explore the relationship between RNNs and sequences a little bit later on in the notebook."
   ]
  },
  {
   "cell_type": "markdown",
   "metadata": {
    "id": "64EWBC7t1mlU"
   },
   "source": [
    "### 1.1 Modeling sequential data – order matters\n",
    "\n",
    "What makes sequences unique, from other data types, is that elements in a sequence appear in a certain order, and are not independent of each other --- in other words, order matters. We next need to find ways to leverage this valuable information in our machine learning model.\n",
    "\n",
    "Throughout this notebook, we will represent sequences as ($x^{(1)}$ , $x^{(2)}$ , ... , $x^{(T)}$). The  superscript indices indicate the order of the instances, and the length of the sequence is T. For a sensible example of sequences, consider time-series data, where each sample point $x^{(t)}$ belongs to a particular time t.\n",
    "\n",
    "The following figure shows an example of time-series data where both x's and y's naturally follow the order according to their time axis; therefore, both x's and y's are sequences:\n",
    "\n",
    "\n",
    "<img width=\"761\" alt=\"RNN_sequence\" src=\"https://user-images.githubusercontent.com/25600601/142829757-f1f8a17d-61ce-4f70-a7f2-353ab6084037.png\">\n",
    "\n",
    "The standard neural network models that we have covered so far, such as MLPs and CNNs, are not desinged in handling the order of input samples. Intuitively, one can say that such models do not have a memory of the past seen samples. For instance, the samples are passed through the feedforward and backpropagation steps, and the\n",
    "weights are updated independent of the order in which the sample is processed.\n",
    "\n",
    "RNNs, by contrast, are designed for modeling sequences and are capable of remembering past information and processing new events accordingly.\n",
    "\n",
    "\n"
   ]
  },
  {
   "cell_type": "markdown",
   "metadata": {
    "id": "2OIjkWqAxSqa"
   },
   "source": [
    "### 1.2 The different categories of sequence modeling\n",
    "\n",
    "Sequence modeling has many fascinating applications, such as language translation (perhaps from English to Filipino), image captioning, and text generation.\n",
    "\n",
    "However, we need to understand the different types of sequence modeling tasks to develop an appropriate model. The following figure, based on the explanations in the excellent article The Unreasonable Effectiveness of Recurrent Neural Networks by Andrej Karpathy (http://karpathy.github.io/2015/05/21/rnn-effectiveness/), shows several different relationship categories of input and output data:\n",
    "\n",
    "<img width=\"716\" alt=\"RNN_categories\" src=\"https://user-images.githubusercontent.com/25600601/142829866-6c30b056-42a0-4409-806c-0ec355f0f310.png\">\n",
    "\n",
    "So, let's consider the input and output data here. If neither the input or output data represents sequences, then we are dealing with standard data, and we can use any of the previous methods to model such data. But if either the input or output is a sequence, the data will form one of the following three different categories:\n",
    "- **Many-to-one:** The input data is a sequence, but the output is a fixed-size vector, not a sequence. For example, in sentiment analysis, the input is textbased and the output is a class label.\n",
    "- **One-to-many:** The input data is in standard format, not a sequence, but the output is a sequence. An example of this category is image captioning—the input is an image; the output is an English phrase.\n",
    "- **Many-to-many:** Both the input and output arrays are sequences. This category can be further divided based on whether the input and output are synchronized or not. An example of a synchronized many-to-many modeling task is video classification, where each frame in a video is labeled. An example of a delayed many-to-many would be translating a language into another. For instance, an entire English sentence must be read and processed by a machine before producing its translation into Filipino."
   ]
  },
  {
   "cell_type": "markdown",
   "metadata": {
    "id": "T5L_OJnExSqb"
   },
   "source": [
    "# 2 RNNs for modeling sequences\n",
    "---\n",
    "\n",
    "We now look at the foundations of RNNs. We'll start by introducing the typical structure of an RNN, and we'll see how the data flows through it with one or more hidden layers. We'll then examine how the neuron activations are computed in a typical RNN. This will create a context for us to discuss the common challenges in training RNNs, and explore the modern solution to these challenges—LSTM.\n",
    "\n"
   ]
  },
  {
   "cell_type": "markdown",
   "metadata": {
    "id": "1qiayh-61JMe"
   },
   "source": [
    "### 2.1 Understanding the structure and flow of an RNN\n",
    "\n",
    "Let's start by introducing the architecture of an RNN. The following figure shows a standard feedforward neural network and an RNN, in a side by side for comparison:\n",
    "\n",
    "<img width=\"869\" alt=\"RNNvsfeedforwardNN\" src=\"https://user-images.githubusercontent.com/25600601/142830255-11b5251c-091e-4487-beb0-68dfc904e75a.png\">\n",
    "\n",
    "Both of these networks have only one hidden layer. In this representation, the units are not displayed, but we assume that the input layer ($\\mathbf{x}$), hidden layer ($\\mathbf{h}$), and output layer ($\\mathbf{y}$) are vectors which contain many units.\n",
    "\n",
    "In a standard feedforward network, information flows from the input to the hidden layer, and then from the hidden layer to the output layer. On the other hand, in a recurrent network, the hidden layer gets its input from both the input layer and the hidden layer from the previous time step.\n",
    "\n",
    "The flow of information in adjacent time steps in the hidden layer allows the network to have a memory of past events. This flow of information is usually displayed as a loop, also known as a recurrent edge in graph notation, which is how this general architecture got its name.\n",
    "\n",
    "In the following figure, the single hidden layer network and the multilayer network illustrate two contrasting architectures:\n",
    "\n",
    "<img width=\"718\" alt=\"RNN_architectures\" src=\"https://user-images.githubusercontent.com/25600601/142830328-445ed659-b79e-4231-b4cc-7653ccb5b406.png\">\n",
    "\n",
    "In order to examine the architecture of RNNs and the flow of information, a compact representation with a recurrent edge can be unfolded, which you can see in the preceding figure. As we know, each hidden unit in a standard neural network receives only one input—the net preactivation associated with the input layer. Now, in contrast, each hidden unit in an RNN receives two distinct sets of input—the preactivation from the input layer and the activation of the same hidden layer from the previous time step t-1.\n",
    "\n",
    "At the first time step t = 0, the hidden units are initialized to zeros or small random values. Then, at a time step where t > 0, the hidden units get their input from the data point at the current time $\\mathbf{x}^{(t)}$ and the previous values of hidden units at t - 1, indicated as $\\mathbf{h}^{(t-1)}$.\n",
    "\n",
    "Similarly, in the case of a multilayer RNN, we can summarize the information flow as follows:\n",
    "\n",
    "• *layer =1*: Here, the hidden layer is represented as $\\mathbf{h_1}^{(t)}$ and gets its input\n",
    "from the data point $\\mathbf{x}^{(t)}$ and the hidden values in the same layer, but the previous time step $\\mathbf{h_1}^{(t-1)}$\n",
    "\n",
    "• *layer = 2* : The second hidden layer, $\\mathbf{h_2}^{(t)}$ receives its inputs from the hidden units from the layer below at the current time step $\\mathbf{h_1}^{(t)}$ and its own hidden values from the previous time step $\\mathbf{h_2}^{(t-1)}$\n",
    "\n"
   ]
  },
  {
   "cell_type": "markdown",
   "metadata": {
    "id": "9Nlyc710xSqc"
   },
   "source": [
    "### 2.2 Computing activations in an RNN\n",
    "\n",
    "Now that we understand the structure and general flow of information in an RNN, let's get more specific and compute the actual activations of the hidden layers as well as the output layer. For simplicity, we'll consider just a single hidden layer; however, the same concept applies to multilayer RNNs.\n",
    "\n",
    "Each directed edge (the connections between boxes) in the representation of an RNN that we just looked at is associated with a weight matrix. Those weights do not depend on time t; therefore, they are shared across the time axis. The different weight matrices in a single layer RNN are as follows:\n",
    "\n",
    "• $\\mathbf{W}_{xh}$ : The weight matrix between the input $\\mathbf{x}^{(t)}$ and the hidden layer $\\mathbf{h}$   \n",
    "• $\\mathbf{W}_{hh}$ : The weight matrix associated with the recurrent edge   \n",
    "• $\\mathbf{W}_{hy}$: The weight matrix between the hidden layer and output layer   \n",
    "\n",
    "You can see these weight matrices in the following figure:\n",
    "\n",
    "<img width=\"877\" alt=\"RNN_weightmatrices\" src=\"https://user-images.githubusercontent.com/25600601/142830555-fe261213-9fcd-416d-a0c7-cfc12af74f86.png\">\n",
    "\n",
    "In certain implementations, you may observe that weight matrices $\\mathbf{W}_{xh}$ and $\\mathbf{W}_{hh}$ are concatenated to a combined matrix $\\mathbf{W}_{h}$ = [$\\mathbf{W}_{xh}$; $\\mathbf{W}_{hh}$]. Later on, we'll make use of this notation as well.\n",
    "\n",
    "\n",
    "Computing the activations is very similar to standard multilayer perceptrons and other types of feedforward neural networks. For the hidden layer, the net input $\\mathbf{z}_h$(preactivation) is computed through a linear combination. That is, we compute the sum of the multiplications of the weight matrices with the corresponding vectors and add the bias unit --- $\\mathbf{z}_h$=$\\mathbf{W}_{xh}$$\\mathbf{x}^{(t)}$ + $\\mathbf{W}_{hh}$$\\mathbf{h}^{(t-1)}$ + $\\mathbf{b}_{h}$. Then, the activations of the hidden units at the time step t are calculated as follows:\n",
    "\n",
    "\\begin{equation}\n",
    "\\mathbf{h}^{(t)}= \\phi_h(\\mathbf{z}_h) = \\phi_h(\\mathbf{W}_{xh} \\mathbf{x}^{(t)} + \\mathbf{W}_{hh} \\mathbf{h}^{(t-1)} + \\mathbf{b}_{h})\n",
    "\\end{equation}\n",
    "\n",
    "Here, $\\mathbf{b}_{h}$ is the bias vector for the hidden units and $\\phi_h( )$  is the activation function\n",
    "of the hidden layer.\n",
    "\n",
    "\n",
    "\n",
    "In case you want to use the concatenated weight matrix $\\mathbf{W}_{h}$ = [$\\mathbf{W}_{xh}$; $\\mathbf{W}_{hh}$], the formula for computing hidden units will change as follows:\n",
    "\n",
    "\\begin{equation}\n",
    "\\mathbf{h}^{(t)}= \\phi_h(\\mathbf{W}_{h}\\begin{bmatrix}\\mathbf{x}^{(t)}\\\\\n",
    "\\mathbf{h}^{(t-1)} \\\\\n",
    "\\end{bmatrix} + \\mathbf{b}_{h})\n",
    "\\end{equation}\n",
    "\n",
    "\n",
    "Once the activations of hidden units at the current time step are computed, then the activations of output units will be computed as follows:\n",
    "\n",
    "\\begin{equation}\n",
    "\\mathbf{y}^{(t)}= \\phi_y(\\mathbf{W}_{hy}\\mathbf{h}^{(t)} + \\mathbf{b}_{y})\n",
    "\\end{equation}\n",
    "\n",
    "To help clarify this further, the following figure shows the process of computing\n",
    "these activations with both formulations:\n",
    "\n",
    "<img width=\"869\" alt=\"RNNvsfeedforwardNN\" src=\"https://user-images.githubusercontent.com/25600601/142830623-5affd7c0-6240-4f0f-b829-f3446eb3a751.png\">\n",
    "\n",
    "\n",
    "Backpropagation now proceeds as usual as we have not a clear expresssion for weights and output of the RNN.\n"
   ]
  },
  {
   "cell_type": "markdown",
   "metadata": {
    "id": "rSOFXFqRxSqd"
   },
   "source": [
    "### 2.3 The challenges of learning long-range interactions\n",
    "\n",
    "<img width=\"709\" alt=\"RNN_BPTT\" src=\"https://user-images.githubusercontent.com/25600601/142831664-4882c954-55b5-45f6-9bc1-da05889f2363.png\">\n",
    "\n",
    "Backpropagation through time, or BPTT, which we briefly mentioned in the previous\n",
    "information box, introduces some new challenges. Because of the multiplicative factor $\\frac{\\partial \\mathbf{h}^{(t)}}{\\partial \\mathbf{h}^{(k)}}$ in the computing gradients of a loss function, the so-called vanishing or exploding gradient problem arises. This problem is explained through the examples in the following figure, which shows an RNN with only one hidden unit for simplicity:\n",
    "\n",
    "<img width=\"869\" alt=\"RNN_gradients\" src=\"https://user-images.githubusercontent.com/25600601/142831742-9324ea36-9a4c-46e4-ab18-a30ba49b0e0e.png\">\n",
    "\n",
    "Basically, $\\frac{\\partial \\mathbf{h}^{(t)}}{\\partial \\mathbf{h}^{(k)}}$ has t − k multiplications; therefore, multiplying the $w$ weight t − k times results in a factor — $w^{t−k}$. As a result, if $w$ <1, this factor becomes very small when t − k is large. On the other hand, if the weight of the recurrent edge is w >1,\n",
    "then $w^{t−k}$ becomes very large when t − k is large. Note that large t − k refers to longrange dependencies.\n",
    "\n",
    "Intuitively, we can see that a naive solution to avoid vanishing or exploding gradient can be accomplished by ensuring $|w|=1$. If you are interested and would like to investigate this in more detail, I encourage you to read *On the difficulty of training recurrent neural networks by R. Pascanu, T. Mikolov, and Y. Bengio, 2012 (https://\n",
    "arxiv.org/pdf/1211.5063.pdf).*\n",
    "\n",
    "In practice, there are two solutions to this problem:\n",
    "\n",
    "• Truncated backpropagation through time (TBPTT)  \n",
    "• Long short-term memory (LSTM)  \n",
    "\n",
    "TBPTT clips the gradients above a given threshold. While TBPTT can solve the exploding gradient problem, the truncation limits the number of steps that the gradient can effectively flow back and properly update the weights.\n",
    "\n",
    "On the other hand, LSTM, designed in 1997 by Hochreiter and Schmidhuber, has been more successful in modeling long-range sequences by overcoming the vanishing gradient problem. Let's discuss LSTM in more detail in the next section.\n",
    "\n",
    "Number of parameters: num_units* num_units + num_features* num_units + biases\n"
   ]
  },
  {
   "cell_type": "markdown",
   "metadata": {
    "id": "TyeOVN3axSqf"
   },
   "source": [
    "# Example 1A. Sentiment analysis of IMDb movie reviews using a simple RNN\n",
    "We will implement a multilayer RNN for sentiment analysis using a many-to-one architecture.\n",
    "\n",
    "Here is a typical IMDb review for Fantastic Beasts: The Crimes of Grindelwald (https://www.imdb.com/title/tt4123430/reviews?ref_=tt_urv)\n",
    "\n",
    "**Negative review**: Basically everything wrong with the movie can be summed up with its title. Fantastic Beasts. The Crimes of Grindelwald. These two things have nothing to do with each other. In my opinion the faults of this movie date back to the first film, where we had the compelling story of a young wizard named David Attenborough whose animals escaped in New York and he had to find them. Great. Sold. Unfortunately they had to make the film much worse by adding in unnecessary and convoluted subplots about a repressed boy named Credence who could change into a dangerous obscuris. Or something. The filmmakers obviously didn't learn from their mistakes.\n",
    "\n",
    "**Positive review**: As a huge fan of the first Fantastic Beasts film, I had been looking forward to this film for a while. I'm so glad that it didn't disappoint! I really enjoyed this movie, just as much as the first installment. Of course, it is a bit different, and it gets down to serious business, so the tone is a bit darker. Which of course makes sense. There was still enough humor though, and I love the characters. The storyline is great, the villain is interesting, the special effects were amazing, and the history and lore for the Harry Potter series is rich and enjoyable. Although this movie is pretty amazing, it did suffer from trying to feed us a lot of information and history. Yeah, there is a lot to take in, and a lot you find out. Perhaps this movie could've been a bit longer too as some extra scenes between some characters would've been appreciated. But with all of the information and history that was given, I found it all to be pretty exciting. I definitely feel as if this is a definite must see for any Harry Potter fan."
   ]
  },
  {
   "cell_type": "markdown",
   "metadata": {
    "id": "4zLEelpExSqf"
   },
   "source": [
    "### Step 1. Prepare the IMDb dataset\n",
    "Update data can be downloaded here: https://www.kaggle.com/utathya/imdb-review-dataset but for illustration let's use the one available in Keras."
   ]
  },
  {
   "cell_type": "code",
   "execution_count": null,
   "metadata": {
    "colab": {
     "base_uri": "https://localhost:8080/"
    },
    "execution": {
     "iopub.execute_input": "2025-01-27T02:36:39.391100Z",
     "iopub.status.busy": "2025-01-27T02:36:39.390261Z",
     "iopub.status.idle": "2025-01-27T02:36:43.599949Z",
     "shell.execute_reply": "2025-01-27T02:36:43.599327Z",
     "shell.execute_reply.started": "2025-01-27T02:36:39.391064Z"
    },
    "executionInfo": {
     "elapsed": 5380,
     "status": "ok",
     "timestamp": 1713370465010,
     "user": {
      "displayName": "Christopher Monterola",
      "userId": "07920169693232563668"
     },
     "user_tz": -480
    },
    "id": "E9_Lofvj64HG",
    "outputId": "b226e706-0227-493f-bc16-004516d18b77"
   },
   "outputs": [
    {
     "name": "stdout",
     "output_type": "stream",
     "text": [
      "Loading data...\n",
      "25000 train sequences\n",
      "25000 test sequences\n",
      "Pad sequences (samples x time)\n",
      "x_train shape: (25000, 500)\n",
      "x_test shape: (25000, 500)\n"
     ]
    }
   ],
   "source": [
    "import torch\n",
    "import torch.nn as nn\n",
    "from torch.utils.data import Dataset, DataLoader\n",
    "import numpy as np\n",
    "from keras.datasets import imdb\n",
    "from keras.preprocessing import sequence\n",
    "\n",
    "# Set parameters similar to the original Keras setup\n",
    "max_features = 10000\n",
    "maxlen = 500\n",
    "BATCH_SIZE = 128\n",
    "\n",
    "# Load IMDB dataset\n",
    "print('Loading data...')\n",
    "(x_train, y_train), (x_test, y_test) = imdb.load_data(num_words=max_features)\n",
    "print(len(x_train), 'train sequences')\n",
    "print(len(x_test), 'test sequences')\n",
    "\n",
    "# Pad sequences\n",
    "print('Pad sequences (samples x time)')\n",
    "x_train = sequence.pad_sequences(x_train, maxlen=maxlen)\n",
    "x_test = sequence.pad_sequences(x_test, maxlen=maxlen)\n",
    "print('x_train shape:', x_train.shape)\n",
    "print('x_test shape:', x_test.shape)\n",
    "\n",
    "# Convert numpy arrays to PyTorch tensors\n",
    "x_train = torch.tensor(x_train, dtype=torch.long)\n",
    "y_train = torch.tensor(y_train, dtype=torch.float)\n",
    "x_test = torch.tensor(x_test, dtype=torch.long)\n",
    "y_test = torch.tensor(y_test, dtype=torch.float)\n",
    "\n",
    "# Custom Dataset\n",
    "class IMDBDataset(Dataset):\n",
    "    def __init__(self, X, y):\n",
    "        self.X = X\n",
    "        self.y = y\n",
    "        \n",
    "    def __len__(self):\n",
    "        return len(self.y)\n",
    "    \n",
    "    def __getitem__(self, idx):\n",
    "        return self.X[idx], self.y[idx]\n",
    "\n",
    "# DataLoaders\n",
    "train_dataset = IMDBDataset(x_train, y_train)\n",
    "test_dataset = IMDBDataset(x_test, y_test)\n",
    "train_loader = DataLoader(train_dataset, batch_size=BATCH_SIZE, shuffle=True)\n",
    "test_loader = DataLoader(test_dataset, batch_size=BATCH_SIZE, shuffle=False)"
   ]
  },
  {
   "cell_type": "markdown",
   "metadata": {
    "id": "9U6qJIZs7N8B"
   },
   "source": [
    "Below is the detailed description of each line in the above code that will be fed for sentiment analysis using a Recurrent Neural Network (RNN) with the Keras library:\n",
    "\n",
    "1. **Import Libraries**\n",
    "   - `from keras.datasets import imdb`: Import the IMDB dataset module from Keras.\n",
    "   - `from keras.preprocessing import sequence`: Import sequence preprocessing utilities.\n",
    "\n",
    "2. **Define Parameters**\n",
    "   - `max_features = 10000`: Define the maximum number of most frequent words to keep in the vocabulary.\n",
    "   - `maxlen = 500`: Set the maximum sequence length. Longer texts will be truncated.\n",
    "   - `batch_size = 32`: Specify the batch size for the model.\n",
    "\n",
    "3. **Load Data**\n",
    "   - `print('Loading data...')`: Print a message indicating the start of data loading.\n",
    "   - Load the dataset, splitting into training and testing sets: `(input_train, y_train), (input_test, y_test) = imdb.load_data(num_words=max_features)`\n",
    "\n",
    "4. **Output Dataset Sizes**\n",
    "   - `print(len(input_train), 'train sequences')`: Print the number of training sequences.\n",
    "   - `print(len(input_test), 'test sequences')`: Print the number of test sequences.\n",
    "\n",
    "5. **Prepare Data**\n",
    "   - `print('Pad sequences (samples x time)')`: Notify that sequences will be padded to a uniform length.\n",
    "   - `input_train = sequence.pad_sequences(input_train, maxlen=maxlen)`: Pad/truncate the training sequences.\n",
    "   - `input_test = sequence.pad_sequences(input_test, maxlen=maxlen)`: Pad/truncate the test sequences.\n",
    "\n",
    "6. **Display Data Shape**\n",
    "   - `print('input_train shape:', input_train.shape)`: Print the shape of the training data.\n",
    "   - `print('input_test shape:', input_test.shape)`: Print the shape of the test data.\n",
    "\n",
    "This setup prepares and processes the IMDB dataset for sentiment analysis, ensuring each input sequence is uniform for model training and evaluation."
   ]
  },
  {
   "cell_type": "markdown",
   "metadata": {
    "id": "Ac3YAI9vxSqh"
   },
   "source": [
    "### Step 2. Train the model with Embedding and SimpleRNN layers"
   ]
  },
  {
   "cell_type": "code",
   "execution_count": null,
   "metadata": {
    "execution": {
     "iopub.execute_input": "2025-01-27T02:36:43.600912Z",
     "iopub.status.busy": "2025-01-27T02:36:43.600663Z",
     "iopub.status.idle": "2025-01-27T02:36:43.765755Z",
     "shell.execute_reply": "2025-01-27T02:36:43.764661Z",
     "shell.execute_reply.started": "2025-01-27T02:36:43.600889Z"
    },
    "id": "ymzRwv0RYCs_"
   },
   "outputs": [
    {
     "ename": "NameError",
     "evalue": "name 'nn' is not defined",
     "output_type": "error",
     "traceback": [
      "\u001b[0;31m---------------------------------------------------------------------------\u001b[0m",
      "\u001b[0;31mNameError\u001b[0m                                 Traceback (most recent call last)",
      "Cell \u001b[0;32mIn[1], line 4\u001b[0m\n\u001b[1;32m      1\u001b[0m \u001b[38;5;28;01mfrom\u001b[39;00m\u001b[38;5;250m \u001b[39m\u001b[38;5;21;01mtorchinfo\u001b[39;00m\u001b[38;5;250m \u001b[39m\u001b[38;5;28;01mimport\u001b[39;00m summary\n\u001b[1;32m      3\u001b[0m \u001b[38;5;66;03m# Define the model\u001b[39;00m\n\u001b[0;32m----> 4\u001b[0m \u001b[38;5;28;01mclass\u001b[39;00m\u001b[38;5;250m \u001b[39m\u001b[38;5;21;01mRNNModel\u001b[39;00m(\u001b[43mnn\u001b[49m\u001b[38;5;241m.\u001b[39mModule):\n\u001b[1;32m      5\u001b[0m     \u001b[38;5;28;01mdef\u001b[39;00m\u001b[38;5;250m \u001b[39m\u001b[38;5;21m__init__\u001b[39m(\u001b[38;5;28mself\u001b[39m, vocab_size, embedding_dim, hidden_dim):\n\u001b[1;32m      6\u001b[0m         \u001b[38;5;28msuper\u001b[39m(RNNModel, \u001b[38;5;28mself\u001b[39m)\u001b[38;5;241m.\u001b[39m\u001b[38;5;21m__init__\u001b[39m()\n",
      "\u001b[0;31mNameError\u001b[0m: name 'nn' is not defined"
     ]
    }
   ],
   "source": [
    "from torchinfo import summary\n",
    "\n",
    "# Define the model\n",
    "class RNNModel(nn.Module):\n",
    "    def __init__(self, vocab_size, embedding_dim, hidden_dim):\n",
    "        super(RNNModel, self).__init__()\n",
    "        self.embedding = nn.Embedding(vocab_size, embedding_dim)\n",
    "        self.rnn = nn.RNN(embedding_dim, hidden_dim, batch_first=True)\n",
    "        self.fc = nn.Linear(hidden_dim, 1)\n",
    "        self.sigmoid = nn.Sigmoid()\n",
    "    \n",
    "    def forward(self, x):\n",
    "        embedded = self.embedding(x)\n",
    "        output, _ = self.rnn(embedded)\n",
    "        # Taking the output from the last time step\n",
    "        output = self.fc(output[:, -1, :])\n",
    "        return self.sigmoid(output)\n",
    "\n",
    "# Initialize the model\n",
    "model = RNNModel(vocab_size=max_features, embedding_dim=32, hidden_dim=32)\n",
    "\n",
    "# Move model to device\n",
    "device = torch.device(\"cuda\" if torch.cuda.is_available() else \"cpu\")\n",
    "model = model.to(device)\n",
    "print(device)\n",
    "\n",
    "# Correct input size for torchinfo.summary\n",
    "# The input must be of type Long or Int for the Embedding layer\n",
    "summary(model, input_size=(BATCH_SIZE, maxlen), dtypes=[torch.long], device=device)"
   ]
  },
  {
   "cell_type": "markdown",
   "metadata": {
    "id": "QErVvKyr8DHz"
   },
   "source": [
    "### Parameter Calculation\n",
    "\n",
    "The following breakdown explains how the total parameters for each layer in the given Keras model are derived:\n",
    "\n",
    "#### 1. Embedding Layer\n",
    "- **Formula**: `output_dim * input_dim`\n",
    "- **Explanation**: The `Embedding` layer is designed to transform words into dense vectors of a fixed size. Here, `max_features` represents the `input_dim`, i.e., the size of the vocabulary, and `32` is the `output_dim`, the size of the vector space in which words will be embedded.\n",
    "- **Calculation**: Assuming `max_features` is 10,000, the total number of parameters is `10,000 * 32 = 320,000`. Each word in the vocabulary has a unique 32-dimensional vector.\n",
    "\n",
    "#### 2. SimpleRNN Layer\n",
    "- **Formula**: `(input_size + units) * units + units` (includes bias)\n",
    "- **Explanation**: The `SimpleRNN` layer processes sequence data with recurrent connections. In the formula:\n",
    "  - `input_size` is 32, the output dimension from the `Embedding` layer.\n",
    "  - `units` is 32, representing the number of units in the RNN.\n",
    "- **Calculation**: The total parameters are `(32 + 32) * 32 + 32 = 2080`. This count includes weights for the inputs, weights for the recurrent connections, and biases.\n",
    "\n",
    "#### 3. Dense Layer\n",
    "- **Formula**: `(input_units * output_units) + output_units`\n",
    "- **Explanation**: This layer is a fully connected (dense) neural network layer where every input is connected to every output.\n",
    "- **Calculation**: Inputs from the `SimpleRNN` layer are 32 units, reduced to 1 unit with a `sigmoid` activation. Thus, the parameters are `32 * 1 + 1 = 33`.\n",
    "\n",
    "#### Summary of Parameters\n",
    "- **Embedding Layer**: 320,000 parameters\n",
    "- **SimpleRNN Layer**: 2,080 parameters\n",
    "- **Dense Layer**: 33 parameters\n",
    "\n",
    "The above formulas account for both the weights and biases that the model learns during training.\n"
   ]
  },
  {
   "cell_type": "markdown",
   "metadata": {
    "id": "t7GbhHUnaBFT"
   },
   "source": [
    "<div class=\"alert alert-block alert-info\">\n",
    "\n",
    "#### ⚠️ Checkpoint ⚠️\n",
    "\n",
    "In the next 5 minutes, make sure everyone in your LT understands the number of parameters and why that is used.\n",
    "</div>"
   ]
  },
  {
   "cell_type": "code",
   "execution_count": null,
   "metadata": {
    "colab": {
     "base_uri": "https://localhost:8080/"
    },
    "execution": {
     "iopub.execute_input": "2025-01-27T02:36:43.767729Z",
     "iopub.status.busy": "2025-01-27T02:36:43.767512Z",
     "iopub.status.idle": "2025-01-27T02:37:10.868919Z",
     "shell.execute_reply": "2025-01-27T02:37:10.867905Z",
     "shell.execute_reply.started": "2025-01-27T02:36:43.767710Z"
    },
    "executionInfo": {
     "elapsed": 589899,
     "status": "ok",
     "timestamp": 1713371084703,
     "user": {
      "displayName": "Christopher Monterola",
      "userId": "07920169693232563668"
     },
     "user_tz": -480
    },
    "id": "Znhs_sKbxSqi",
    "outputId": "add3f3a2-4c0c-4f14-de6c-0d44eb68b386"
   },
   "outputs": [
    {
     "name": "stdout",
     "output_type": "stream",
     "text": [
      "Epoch [1/10], Train Loss: 0.6433, Train Acc: 61.74%, Val Loss: 0.5760, Val Acc: 70.81%\n",
      "Epoch [2/10], Train Loss: 0.5530, Train Acc: 71.93%, Val Loss: 0.5883, Val Acc: 68.10%\n",
      "Epoch [3/10], Train Loss: 0.5016, Train Acc: 75.93%, Val Loss: 0.5703, Val Acc: 70.28%\n",
      "Epoch [4/10], Train Loss: 0.4636, Train Acc: 78.59%, Val Loss: 0.5597, Val Acc: 71.30%\n",
      "Epoch [5/10], Train Loss: 0.4605, Train Acc: 79.06%, Val Loss: 0.5476, Val Acc: 74.57%\n",
      "Epoch [6/10], Train Loss: 0.4440, Train Acc: 79.59%, Val Loss: 0.5490, Val Acc: 73.96%\n",
      "Epoch [7/10], Train Loss: 0.4297, Train Acc: 80.48%, Val Loss: 0.5991, Val Acc: 71.14%\n",
      "Epoch [8/10], Train Loss: 0.3988, Train Acc: 82.24%, Val Loss: 0.5953, Val Acc: 71.53%\n",
      "Epoch [9/10], Train Loss: 0.3602, Train Acc: 84.41%, Val Loss: 0.6129, Val Acc: 71.64%\n",
      "Epoch [10/10], Train Loss: 0.3265, Train Acc: 86.04%, Val Loss: 0.6204, Val Acc: 71.09%\n"
     ]
    }
   ],
   "source": [
    "# Loss and optimizer\n",
    "criterion = nn.BCELoss()\n",
    "optimizer = torch.optim.RMSprop(model.parameters())\n",
    "\n",
    "# Initialize lists to store statistics\n",
    "train_losses = []\n",
    "train_accuracies = []\n",
    "val_losses = []\n",
    "val_accuracies = []\n",
    "\n",
    "# Training loop\n",
    "NUM_EPOCHS = 10\n",
    "\n",
    "for epoch in range(NUM_EPOCHS):\n",
    "    model.train()\n",
    "    train_loss = 0.0\n",
    "    train_correct = 0\n",
    "    train_total = 0\n",
    "    \n",
    "    for batch_x, batch_y in train_loader:\n",
    "        # Forward pass\n",
    "        batch_x, batch_y = batch_x.to(device), batch_y.to(device)\n",
    "        outputs = model(batch_x)\n",
    "        loss = criterion(outputs.squeeze(), batch_y)\n",
    "        \n",
    "        # Backward pass and optimize\n",
    "        optimizer.zero_grad()\n",
    "        loss.backward()\n",
    "        optimizer.step()\n",
    "        \n",
    "        # Track training statistics\n",
    "        train_loss += loss.item() * batch_x.size(0)\n",
    "        train_total += batch_y.size(0)\n",
    "        train_correct += ((outputs.squeeze() > 0.5) == batch_y).sum().item()\n",
    "    \n",
    "    # Calculate training stats\n",
    "    train_loss /= len(train_loader.dataset)\n",
    "    train_accuracy = 100. * train_correct / train_total\n",
    "    train_losses.append(train_loss)\n",
    "    train_accuracies.append(train_accuracy)\n",
    "\n",
    "    # Validation\n",
    "    model.eval()\n",
    "    val_loss = 0\n",
    "    val_correct = 0\n",
    "    val_total = 0\n",
    "    with torch.no_grad():\n",
    "        for batch_x, batch_y in test_loader:\n",
    "            batch_x, batch_y = batch_x.to(device), batch_y.to(device)\n",
    "            outputs = model(batch_x)\n",
    "            val_loss += criterion(outputs.squeeze(), batch_y).item() * batch_x.size(0)\n",
    "            val_total += batch_y.size(0)\n",
    "            val_correct += ((outputs.squeeze() > 0.5) == batch_y).sum().item()\n",
    "    \n",
    "    # Calculate validation stats\n",
    "    val_loss /= len(test_loader.dataset)\n",
    "    val_accuracy = 100. * val_correct / val_total\n",
    "    val_losses.append(val_loss)\n",
    "    val_accuracies.append(val_accuracy)\n",
    "\n",
    "    # Print epoch statistics\n",
    "    print(f'Epoch [{epoch+1}/{NUM_EPOCHS}], Train Loss: {train_loss:.4f}, Train Acc: {train_accuracy:.2f}%, Val Loss: {val_loss:.4f}, Val Acc: {val_accuracy:.2f}%')\n"
   ]
  },
  {
   "cell_type": "markdown",
   "metadata": {
    "id": "pAb63LtnfZuC"
   },
   "source": [
    "### Step 3.  Save the Model"
   ]
  },
  {
   "cell_type": "code",
   "execution_count": null,
   "metadata": {
    "colab": {
     "base_uri": "https://localhost:8080/"
    },
    "execution": {
     "iopub.execute_input": "2025-01-27T02:37:10.870802Z",
     "iopub.status.busy": "2025-01-27T02:37:10.870115Z",
     "iopub.status.idle": "2025-01-27T02:37:10.884374Z",
     "shell.execute_reply": "2025-01-27T02:37:10.883526Z",
     "shell.execute_reply.started": "2025-01-27T02:37:10.870781Z"
    },
    "executionInfo": {
     "elapsed": 5,
     "status": "ok",
     "timestamp": 1713356057058,
     "user": {
      "displayName": "Christopher Monterola",
      "userId": "07920169693232563668"
     },
     "user_tz": -480
    },
    "id": "EUSifH-QfZuD",
    "outputId": "3a1794d5-000b-42d3-c1cf-b72ab263e8b7"
   },
   "outputs": [
    {
     "name": "stdout",
     "output_type": "stream",
     "text": [
      "Saved model to disk\n"
     ]
    }
   ],
   "source": [
    "import torch\n",
    "# Assuming 'model' is your PyTorch model\n",
    "torch.save(model.state_dict(), MODEL_DIR + \"simpleRNN_500.pth\")\n",
    "print(\"Saved model to disk\")"
   ]
  },
  {
   "cell_type": "markdown",
   "metadata": {
    "id": "4arogz8VxSqi"
   },
   "source": [
    "### Step 4. Plotting results\n",
    "\n",
    "Now, let’s display the training and validation loss and accuracy"
   ]
  },
  {
   "cell_type": "code",
   "execution_count": null,
   "metadata": {
    "ExecuteTime": {
     "end_time": "2018-11-20T00:21:42.006701Z",
     "start_time": "2018-11-20T00:21:40.049845Z"
    },
    "colab": {
     "base_uri": "https://localhost:8080/",
     "height": 887
    },
    "execution": {
     "iopub.execute_input": "2025-01-27T02:37:10.885284Z",
     "iopub.status.busy": "2025-01-27T02:37:10.885068Z",
     "iopub.status.idle": "2025-01-27T02:37:11.228265Z",
     "shell.execute_reply": "2025-01-27T02:37:11.227418Z",
     "shell.execute_reply.started": "2025-01-27T02:37:10.885264Z"
    },
    "executionInfo": {
     "elapsed": 945,
     "status": "ok",
     "timestamp": 1713356058000,
     "user": {
      "displayName": "Christopher Monterola",
      "userId": "07920169693232563668"
     },
     "user_tz": -480
    },
    "id": "EICOOqBZxSqi",
    "outputId": "3c693fd8-235f-4943-f9db-12ea20b37758"
   },
   "outputs": [
    {
     "data": {
      "image/png": "[encoded data removed]",
      "text/plain": [
       "<Figure size 1200x500 with 2 Axes>"
      ]
     },
     "metadata": {},
     "output_type": "display_data"
    }
   ],
   "source": [
    "import matplotlib.pyplot as plt\n",
    "# After training is done, plot the statistics\n",
    "epochs = range(1, NUM_EPOCHS + 1)\n",
    "\n",
    "plt.figure(figsize=(12, 5))\n",
    "\n",
    "# Plot accuracy\n",
    "plt.subplot(1, 2, 1)\n",
    "plt.plot(epochs, train_accuracies, 'bo-', label='Training acc')\n",
    "plt.plot(epochs, val_accuracies, 'ro-', label='Validation acc')\n",
    "plt.title('Training and Validation Accuracy')\n",
    "plt.xlabel('Epoch')\n",
    "plt.ylabel('Accuracy')\n",
    "plt.legend()\n",
    "\n",
    "# Plot loss\n",
    "plt.subplot(1, 2, 2)\n",
    "plt.plot(epochs, train_losses, 'bo-', label='Training loss')\n",
    "plt.plot(epochs, val_losses, 'ro-', label='Validation loss')\n",
    "plt.title('Training and Validation Loss')\n",
    "plt.xlabel('Epoch')\n",
    "plt.ylabel('Loss')\n",
    "plt.legend()\n",
    "\n",
    "plt.tight_layout()\n",
    "plt.show()"
   ]
  },
  {
   "cell_type": "markdown",
   "metadata": {
    "id": "_C860b3_xSqi"
   },
   "source": [
    "Note that we have only considered the first 500 words, rather than full sequences and we obtain only an accuracy of $74\\%$. Now let's implement a more advanced RNN, say LSTM.\n"
   ]
  },
  {
   "cell_type": "markdown",
   "metadata": {
    "id": "9Ub2w-MZOAii"
   },
   "source": [
    "### Step 5. Loading and testing saved model"
   ]
  },
  {
   "cell_type": "code",
   "execution_count": null,
   "metadata": {
    "execution": {
     "iopub.execute_input": "2025-01-27T02:37:11.229233Z",
     "iopub.status.busy": "2025-01-27T02:37:11.229014Z",
     "iopub.status.idle": "2025-01-27T02:37:11.301073Z",
     "shell.execute_reply": "2025-01-27T02:37:11.299593Z",
     "shell.execute_reply.started": "2025-01-27T02:37:11.229213Z"
    },
    "id": "8gLqZGwsq3gF"
   },
   "outputs": [],
   "source": [
    "import keras\n",
    "\n",
    "INDEX_FROM=3   # word index offset\n",
    "word_to_id = keras.datasets.imdb.get_word_index()\n",
    "word_to_id = {k:(v+INDEX_FROM) for k,v in word_to_id.items()}\n",
    "word_to_id[\"<PAD>\"] = 0\n",
    "word_to_id[\"<START>\"] = 1\n",
    "word_to_id[\"<UNK>\"] = 2"
   ]
  },
  {
   "cell_type": "code",
   "execution_count": null,
   "metadata": {
    "colab": {
     "base_uri": "https://localhost:8080/"
    },
    "execution": {
     "iopub.execute_input": "2025-01-27T02:37:11.302219Z",
     "iopub.status.busy": "2025-01-27T02:37:11.301984Z",
     "iopub.status.idle": "2025-01-27T02:37:11.311877Z",
     "shell.execute_reply": "2025-01-27T02:37:11.311390Z",
     "shell.execute_reply.started": "2025-01-27T02:37:11.302199Z"
    },
    "executionInfo": {
     "elapsed": 890,
     "status": "ok",
     "timestamp": 1713371314510,
     "user": {
      "displayName": "Christopher Monterola",
      "userId": "07920169693232563668"
     },
     "user_tz": -480
    },
    "id": "5jMbn52nN2rE",
    "outputId": "991057af-d4b2-45c9-c882-19feca8bd57f"
   },
   "outputs": [
    {
     "name": "stdout",
     "output_type": "stream",
     "text": [
      "this movie was bad and terrible i almost die. Sentiment: 0.004659944213926792\n",
      "not bad. Sentiment: 0.13201475143432617\n",
      "it was good. Sentiment: 0.5720594525337219\n",
      "it was great. Sentiment: 0.8762788772583008\n"
     ]
    }
   ],
   "source": [
    "import numpy as np\n",
    "import torch\n",
    "from keras.preprocessing.sequence import pad_sequences\n",
    "\n",
    "# Assuming 'model' is your PyTorch model and 'word_to_id' is your vocabulary mapping\n",
    "max_review_length = 500\n",
    "bad = \"this movie was bad and terrible i almost die\"\n",
    "good = \"not bad\"\n",
    "neutral = \"it was good\"\n",
    "vague = \"it was great\"\n",
    "\n",
    "for review in [bad, good, neutral, vague]:\n",
    "    tmp = []\n",
    "    for word in review.split(\" \"):\n",
    "        # Ensure the word exists in your vocabulary to avoid KeyError\n",
    "        if word in word_to_id:\n",
    "            tmp.append(word_to_id[word])\n",
    "    \n",
    "    tmp_padded = pad_sequences([tmp], maxlen=max_review_length)\n",
    "    tensor_input = torch.tensor(tmp_padded).to(device).long()  # Ensure the tensor is of long type for embedding\n",
    "\n",
    "    with torch.no_grad():\n",
    "        sentiment = model(tensor_input)[0][0]\n",
    "        print(f\"{review}. Sentiment: {sentiment}\")"
   ]
  },
  {
   "cell_type": "markdown",
   "metadata": {
    "id": "9DQ8gJ0SaK6D"
   },
   "source": [
    "# 3. Long short-term memory (LSTM)\n",
    "---\n",
    "LSTMs were first introduced to overcome the vanishing gradient problem (Long Short-Term Memory, S. Hochreiter and J. Schmidhuber, Neural Computation, 9(8): 1735-1780, 1997). The building block of an LSTM is a memory cell, which\n",
    "essentially represents the hidden layer."
   ]
  },
  {
   "cell_type": "markdown",
   "metadata": {
    "id": "cbNeyPxLaK6E"
   },
   "source": [
    "First recall that the simple RNN is given by the schematics below:\n",
    "\n",
    "<img width=\"673\" alt=\"RNN_simple\" src=\"https://user-images.githubusercontent.com/25600601/142830937-1f49a738-ba3b-4938-9d11-24638f7448c7.png\">\n",
    "\n",
    "In each memory cell, there is a recurrent edge that has the desirable weight w =1, as we discussed previously, to overcome the vanishing and exploding gradient problems. The values associated with this recurrent edge is called cell state. The unfolded structure of a modern LSTM cell is shown in the following figure:\n",
    "\n",
    "<img width=\"1021\" alt=\"RNN_LSTM\" src=\"https://user-images.githubusercontent.com/25600601/142831002-2544020d-36e3-4976-b0d1-7fc8fc4f0cdb.png\">\n",
    "\n",
    "Notice that the cell state from the previous time step, $\\mathbf{C}^{(t−1)}$, is modified to get the cell\n",
    "state at the current time step,  $\\mathbf{C}^{(t)}$ , without being multiplied directly with any weight\n",
    "factor. For comparison, here is how the simple RNN is changed by LSTM:\n",
    "\n",
    "<img width=\"701\" alt=\"RNN_LSTM2\" src=\"https://user-images.githubusercontent.com/25600601/142831098-289119a4-8331-4cde-a823-5493354ccd1d.png\">\n",
    "\n",
    "The flow of information in this memory cell is controlled by some units of computation that we'll describe here. In the previous figure, $\\odot$ refers to the element-wise product (element-wise multiplication) and means $\\oplus$ element-wise summation (element-wise addition). Furthermore, $\\mathbf{x}^{(t)}$ refers to the input data at time t, and $\\mathbf{h}^{(t−1)}$ indicates the hidden units at time t −1.\n",
    "\n",
    "Four boxes are indicated with an activation function, either the sigmoid function ($\\sigma$) or hyperbolic tangent ($\\tanh$), and a set of weights; these boxes apply linear combination by performing matrix-vector multiplications on their input. These units of computation with sigmoid activation functions, whose output units are passed through $\\odot$, are called **gates**.\n",
    "\n",
    "In an LSTM cell, there are three different types of gates, known as the forget gate, the\n",
    "input gate, and the output gate:\n",
    "\n",
    "• The **forget gate** ($\\mathbf{f}_t$) allows the memory cell to reset the cell state without growing indefinitely. In fact, the forget gate decides which information is allowed to go through and which information to suppress. Now, $\\mathbf{f}_t$ is computed as follows:\n",
    "\n",
    "\\begin{equation}\n",
    "\\mathbf{f}_{t}= \\sigma(\\mathbf{W}_{xf}\\mathbf{x}^{(t)} + \\mathbf{W}_{hf}\\mathbf{h}^{(t-1)} + \\mathbf{b}_{f})\n",
    "\\end{equation}\n",
    "\n",
    "Note that the forget gate was not part of the original LSTM cell; it was added a few years later to improve the original model (*Learning to Forget: Continual Prediction with LSTM, F. Gers, J. Schmidhuber, and F. Cummins, Neural Computation 12, 2451-2471, 2000*).\n",
    "\n",
    "• The **input gate** ($\\mathbf{i}_t$) and **input node** ( $\\mathbf{g}_t$ ) are responsible for updating the cell\n",
    "state. They are computed as follows:\n",
    "\n",
    "\\begin{equation}\n",
    "\\mathbf{i}_{t}= \\sigma(\\mathbf{W}_{xi}\\mathbf{x}^{(t)} + \\mathbf{W}_{hi}\\mathbf{h}^{(t-1)} + \\mathbf{b}_{i})\n",
    "\\end{equation}\n",
    "\n",
    "\\begin{equation}\n",
    "\\mathbf{g}_{t}= \\tanh(\\mathbf{W}_{xg}\\mathbf{x}^{(t)} + \\mathbf{W}_{hg}\\mathbf{h}^{(t-1)} + \\mathbf{b}_{g})\n",
    "\\end{equation}\n",
    "\n",
    "The cell state at time t is computed as follows:\n",
    "\n",
    "\\begin{equation}\n",
    "\\mathbf{C}^{t}= (\\mathbf{C}^{t-1} \\odot \\mathbf{f}_{t}) \\oplus (\\mathbf{i}_{t} \\odot \\mathbf{g}_{t})\n",
    "\\end{equation}\n",
    "\n",
    "The output gate ($\\mathbf{o}_t$ ) decides how to update the values of hidden units:\n",
    "\n",
    "\\begin{equation}\n",
    "\\mathbf{o}_{t}= \\sigma(\\mathbf{W}_{xo}\\mathbf{x}^{(t)} + \\mathbf{W}_{ho}\\mathbf{h}^{(t-1)} \\mathbf{b}_{o})\n",
    "\\end{equation}\n",
    "\n",
    "\n",
    "Given this, the hidden units at the current time step are computed as follows:\n",
    "\n",
    "\\begin{equation}\n",
    "\\mathbf{h}_{t}= \\mathbf{o}_{t} \\odot \\tanh(\\mathbf{C}^{t})\n",
    "\\end{equation}\n",
    "\n",
    "The structure of an LSTM cell and its underlying computations might seem too complex. However, the good news is that TensorFlow has already implemented everything in wrapper functions that allows us to define our LSTM cells easily.\n",
    "\n",
    "NOTE: The LSTM introduced here provides a basic approach for modeling long-range dependencies in sequences.\n",
    "Yet, it is important to note that there are many variations of LSTMs described in literature (An Empirical Exploration of Recurrent Network Architectures, Rafal Jozefowicz, Wojciech Zaremba, and Ilya Sutskever,\n",
    "Proceedings of ICML, 2342-2350, 2015). Also, worth noting is a more recent approach, called Gated Recurrent Unit (GRU), which was proposed in 2014. GRUs have a simpler architecture than LSTMs; therefore, they are computationally more efficient while their performance in some tasks, such as polyphonic music modeling, is comparable to LSTMs. If you are interested in learning more about these modern RNN architectures, refer to the paper, Empirical Evaluation of Gated Recurrent Neural Networks on Sequence Modeling by Junyoung Chung\n",
    "and others 2014 (https://arxiv.org/pdf/1412.3555v1.pdf). Implementation of such can be an individual project.\n",
    "\n",
    "*Intuitive idea from Chollet:  The Carry layer $C$ intends to add a way to carry information across many timesteps. Imagine a conveyor belt running parallel to the sequence you’re processing. Information from the sequence can jump onto the conveyor belt at any point, be transported to a later timestep, and jump off, intact, when you need it. This is essentially what LSTM does: it saves information for later, thus preventing older signals from gradually vanishing during processing.*\n",
    "\n",
    "If you want to get philosophical, you can interpret what each of these operations is meant to do. For instance, you can say that multiplying $\\mathbf{C}^{(t)}$ and $\\mathbf{f}_{(t)}$ is a way to deliberately forget irrelevant information in the carry dataflow. Meanwhile, $\\mathbf{i}_{(t)}$ and $\\mathbf{g}_{(t)}$ provide information about the present, updating the carry track with new information.\n",
    "\n",
    "But at the end of the day, these interpretations don’t mean much, because what these operations actually do is determined by the contents of the weights parameterizing them; and the weights are learned in an end-to-end fashion, starting over with each training round, making it impossible to credit this or that operation with a specific purpose. The specification of an RNN cell (as just described) determines your hypothesis\n",
    "space—the space in which you’ll search for a good model configuration during training—but it doesn’t determine what the cell does; that is up to the cell weights.\n",
    "\n",
    "The same cell with different weights can be doing very different things. So the combination of operations making up an RNN cell is better interpreted as a set of constraints on your search, not as a design in an engineering sense.\n",
    "\n",
    "To a researcher, it seems that the choice of such constraints—the question of how to implement RNN cells—is better left to optimization algorithms (like genetic algorithms or reinforcement learning processes) than to human engineers. And in the future, that’s how we’ll build networks.\n",
    "\n",
    "<div class=\"alert alert-block alert-success\">\n",
    "Keep in mind what the LSTM cell is meant to do: allow past information to be reinjected at a later time, thus fighting the vanishing-gradient problem.\n",
    "</div>"
   ]
  },
  {
   "cell_type": "markdown",
   "metadata": {
    "id": "jm5rTZCla4Qd"
   },
   "source": [
    "# Example 1B. Sentiment analysis of IMDb movie reviews using a simple LSTM\n",
    "\n",
    "We will implement a multilayer RNN for sentiment analysis using a many-to-one architecture."
   ]
  },
  {
   "cell_type": "markdown",
   "metadata": {
    "id": "QOAa9Bs-bHiu"
   },
   "source": [
    "### Step 1. Data Preparation\n",
    "Already done above."
   ]
  },
  {
   "cell_type": "markdown",
   "metadata": {
    "id": "7ZzHeTfQZkdj"
   },
   "source": [
    "### Step 2. Using LSTM"
   ]
  },
  {
   "cell_type": "code",
   "execution_count": null,
   "metadata": {
    "execution": {
     "iopub.execute_input": "2025-01-27T02:55:16.414452Z",
     "iopub.status.busy": "2025-01-27T02:55:16.413735Z",
     "iopub.status.idle": "2025-01-27T02:55:16.438413Z",
     "shell.execute_reply": "2025-01-27T02:55:16.436997Z",
     "shell.execute_reply.started": "2025-01-27T02:55:16.414393Z"
    },
    "id": "2tmzbhBJawlc"
   },
   "outputs": [
    {
     "name": "stdout",
     "output_type": "stream",
     "text": [
      "cuda\n"
     ]
    }
   ],
   "source": [
    "import torch\n",
    "import torch.nn as nn\n",
    "\n",
    "class LSTMModel(nn.Module):\n",
    "    def __init__(self, vocab_size, embedding_dim, hidden_dim):\n",
    "        super(LSTMModel, self).__init__()\n",
    "        self.embedding = nn.Embedding(vocab_size, embedding_dim)\n",
    "        self.lstm = nn.LSTM(embedding_dim, hidden_dim, batch_first=True)\n",
    "        self.fc = nn.Linear(hidden_dim, 1)\n",
    "        self.sigmoid = nn.Sigmoid()\n",
    "\n",
    "    def forward(self, x):\n",
    "        embedded = self.embedding(x)\n",
    "        lstm_out, _ = self.lstm(embedded)\n",
    "        lstm_out = lstm_out[:, -1, :]\n",
    "        output = self.fc(lstm_out)\n",
    "        return self.sigmoid(output)\n",
    "\n",
    "embedding_dim = 32\n",
    "hidden_dim = 32\n",
    "\n",
    "model = LSTMModel(vocab_size=max_features, embedding_dim=embedding_dim, hidden_dim=hidden_dim)\n",
    "device = torch.device(\"cuda\" if torch.cuda.is_available() else \"cpu\")\n",
    "model = model.to(device)\n",
    "print(device)"
   ]
  },
  {
   "cell_type": "code",
   "execution_count": null,
   "metadata": {
    "colab": {
     "base_uri": "https://localhost:8080/"
    },
    "execution": {
     "iopub.execute_input": "2025-01-27T02:55:16.780418Z",
     "iopub.status.busy": "2025-01-27T02:55:16.779704Z",
     "iopub.status.idle": "2025-01-27T02:55:16.797884Z",
     "shell.execute_reply": "2025-01-27T02:55:16.796606Z",
     "shell.execute_reply.started": "2025-01-27T02:55:16.780359Z"
    },
    "executionInfo": {
     "elapsed": 347,
     "status": "ok",
     "timestamp": 1713356141353,
     "user": {
      "displayName": "Christopher Monterola",
      "userId": "07920169693232563668"
     },
     "user_tz": -480
    },
    "id": "Pd8bkXsobdAs",
    "outputId": "8cb26358-ccee-4802-8199-1dfbd2b551d2"
   },
   "outputs": [
    {
     "data": {
      "text/plain": [
       "==========================================================================================\n",
       "Layer (type:depth-idx)                   Output Shape              Param #\n",
       "==========================================================================================\n",
       "LSTMModel                                [32, 1]                   --\n",
       "├─Embedding: 1-1                         [32, 100, 32]             320,000\n",
       "├─LSTM: 1-2                              [32, 100, 32]             8,448\n",
       "├─Linear: 1-3                            [32, 1]                   33\n",
       "├─Sigmoid: 1-4                           [32, 1]                   --\n",
       "==========================================================================================\n",
       "Total params: 328,481\n",
       "Trainable params: 328,481\n",
       "Non-trainable params: 0\n",
       "Total mult-adds (Units.MEGABYTES): 37.27\n",
       "==========================================================================================\n",
       "Input size (MB): 0.03\n",
       "Forward/backward pass size (MB): 1.64\n",
       "Params size (MB): 1.31\n",
       "Estimated Total Size (MB): 2.98\n",
       "=========================================================================================="
      ]
     },
     "execution_count": 36,
     "metadata": {},
     "output_type": "execute_result"
    }
   ],
   "source": [
    "from torchinfo import summary\n",
    "summary(model, input_size=(32, 100), dtypes=[torch.long])"
   ]
  },
  {
   "cell_type": "code",
   "execution_count": null,
   "metadata": {
    "colab": {
     "base_uri": "https://localhost:8080/"
    },
    "execution": {
     "iopub.execute_input": "2025-01-27T02:55:17.237287Z",
     "iopub.status.busy": "2025-01-27T02:55:17.236589Z",
     "iopub.status.idle": "2025-01-27T02:55:34.281855Z",
     "shell.execute_reply": "2025-01-27T02:55:34.280899Z",
     "shell.execute_reply.started": "2025-01-27T02:55:17.237227Z"
    },
    "executionInfo": {
     "elapsed": 74127,
     "status": "ok",
     "timestamp": 1713356215474,
     "user": {
      "displayName": "Christopher Monterola",
      "userId": "07920169693232563668"
     },
     "user_tz": -480
    },
    "id": "_Le8TtFnxSqj",
    "outputId": "59dccc0e-edc3-4af9-f349-6298dda05b23"
   },
   "outputs": [
    {
     "name": "stdout",
     "output_type": "stream",
     "text": [
      "Epoch [1/6], Train Loss: 0.5685, Train Acc: 69.35%, Val Loss: 0.6050, Val Acc: 70.81%\n",
      "Epoch [2/6], Train Loss: 0.3907, Train Acc: 82.88%, Val Loss: 0.3820, Val Acc: 84.17%\n",
      "Epoch [3/6], Train Loss: 0.3081, Train Acc: 87.31%, Val Loss: 0.3659, Val Acc: 84.53%\n",
      "Epoch [4/6], Train Loss: 0.2438, Train Acc: 90.45%, Val Loss: 0.3713, Val Acc: 85.31%\n",
      "Epoch [5/6], Train Loss: 0.2023, Train Acc: 92.22%, Val Loss: 0.3715, Val Acc: 85.22%\n",
      "Epoch [6/6], Train Loss: 0.1719, Train Acc: 93.41%, Val Loss: 0.3913, Val Acc: 85.31%\n"
     ]
    }
   ],
   "source": [
    "# Loss and optimizer\n",
    "criterion = nn.BCELoss()\n",
    "optimizer = torch.optim.RMSprop(model.parameters())\n",
    "\n",
    "# Initialize lists to store statistics\n",
    "train_losses = []\n",
    "train_accuracies = []\n",
    "val_losses = []\n",
    "val_accuracies = []\n",
    "\n",
    "# Training loop\n",
    "NUM_EPOCHS = 6\n",
    "\n",
    "for epoch in range(NUM_EPOCHS):\n",
    "    model.train()\n",
    "    train_loss = 0.0\n",
    "    train_correct = 0\n",
    "    train_total = 0\n",
    "    \n",
    "    for batch_x, batch_y in train_loader:\n",
    "        # Forward pass\n",
    "        batch_x, batch_y = batch_x.to(device), batch_y.to(device)\n",
    "        outputs = model(batch_x)\n",
    "        loss = criterion(outputs.squeeze(), batch_y)\n",
    "        \n",
    "        # Backward pass and optimize\n",
    "        optimizer.zero_grad()\n",
    "        loss.backward()\n",
    "        optimizer.step()\n",
    "        \n",
    "        # Track training statistics\n",
    "        train_loss += loss.item() * batch_x.size(0)\n",
    "        train_total += batch_y.size(0)\n",
    "        train_correct += ((outputs.squeeze() > 0.5) == batch_y).sum().item()\n",
    "    \n",
    "    # Calculate training stats\n",
    "    train_loss /= len(train_loader.dataset)\n",
    "    train_accuracy = 100. * train_correct / train_total\n",
    "    train_losses.append(train_loss)\n",
    "    train_accuracies.append(train_accuracy)\n",
    "\n",
    "    # Validation\n",
    "    model.eval()\n",
    "    val_loss = 0\n",
    "    val_correct = 0\n",
    "    val_total = 0\n",
    "    with torch.no_grad():\n",
    "        for batch_x, batch_y in test_loader:\n",
    "            batch_x, batch_y = batch_x.to(device), batch_y.to(device)\n",
    "            outputs = model(batch_x)\n",
    "            val_loss += criterion(outputs.squeeze(), batch_y).item() * batch_x.size(0)\n",
    "            val_total += batch_y.size(0)\n",
    "            val_correct += ((outputs.squeeze() > 0.5) == batch_y).sum().item()\n",
    "    \n",
    "    # Calculate validation stats\n",
    "    val_loss /= len(test_loader.dataset)\n",
    "    val_accuracy = 100. * val_correct / val_total\n",
    "    val_losses.append(val_loss)\n",
    "    val_accuracies.append(val_accuracy)\n",
    "\n",
    "    # Print epoch statistics\n",
    "    print(f'Epoch [{epoch+1}/{NUM_EPOCHS}], Train Loss: {train_loss:.4f}, Train Acc: {train_accuracy:.2f}%, Val Loss: {val_loss:.4f}, Val Acc: {val_accuracy:.2f}%')"
   ]
  },
  {
   "cell_type": "markdown",
   "metadata": {
    "id": "UxDL-llde6G1"
   },
   "source": [
    "### Step 3. Save the Model"
   ]
  },
  {
   "cell_type": "code",
   "execution_count": null,
   "metadata": {
    "colab": {
     "base_uri": "https://localhost:8080/"
    },
    "execution": {
     "iopub.execute_input": "2025-01-27T02:55:35.111217Z",
     "iopub.status.busy": "2025-01-27T02:55:35.110473Z",
     "iopub.status.idle": "2025-01-27T02:55:35.132852Z",
     "shell.execute_reply": "2025-01-27T02:55:35.131555Z",
     "shell.execute_reply.started": "2025-01-27T02:55:35.111159Z"
    },
    "executionInfo": {
     "elapsed": 20,
     "status": "ok",
     "timestamp": 1713356215474,
     "user": {
      "displayName": "Christopher Monterola",
      "userId": "07920169693232563668"
     },
     "user_tz": -480
    },
    "id": "uWlLf_amKnlh",
    "outputId": "45960c32-0bd0-4444-8557-8ebe3c05d09f"
   },
   "outputs": [
    {
     "name": "stdout",
     "output_type": "stream",
     "text": [
      "Saved model to disk\n"
     ]
    }
   ],
   "source": [
    "torch.save(model.state_dict(), MODEL_DIR + \"LSTM_500.pth\")\n",
    "print(\"Saved model to disk\")"
   ]
  },
  {
   "cell_type": "markdown",
   "metadata": {
    "id": "7MHv6ZhvxSqj"
   },
   "source": [
    "### Step 4. Plot the result accuracy for visual appreciation."
   ]
  },
  {
   "cell_type": "code",
   "execution_count": null,
   "metadata": {
    "ExecuteTime": {
     "end_time": "2018-11-20T00:43:48.945019Z",
     "start_time": "2018-11-20T00:43:48.665886Z"
    },
    "colab": {
     "base_uri": "https://localhost:8080/",
     "height": 887
    },
    "execution": {
     "iopub.execute_input": "2025-01-27T02:55:35.877075Z",
     "iopub.status.busy": "2025-01-27T02:55:35.876393Z",
     "iopub.status.idle": "2025-01-27T02:55:36.199017Z",
     "shell.execute_reply": "2025-01-27T02:55:36.198147Z",
     "shell.execute_reply.started": "2025-01-27T02:55:35.877017Z"
    },
    "executionInfo": {
     "elapsed": 774,
     "status": "ok",
     "timestamp": 1713356216246,
     "user": {
      "displayName": "Christopher Monterola",
      "userId": "07920169693232563668"
     },
     "user_tz": -480
    },
    "id": "5yjzWhKhxSqj",
    "outputId": "5958ed55-17ab-4011-8255-8982d6eb8d29"
   },
   "outputs": [
    {
     "data": {
      "image/png": "[encoded data removed]",
      "text/plain": [
       "<Figure size 1200x500 with 2 Axes>"
      ]
     },
     "metadata": {},
     "output_type": "display_data"
    }
   ],
   "source": [
    "epochs = range(1, NUM_EPOCHS + 1)\n",
    "\n",
    "plt.figure(figsize=(12, 5))\n",
    "\n",
    "# Plot accuracy\n",
    "plt.subplot(1, 2, 1)\n",
    "plt.plot(epochs, train_accuracies, 'bo-', label='Training acc')\n",
    "plt.plot(epochs, val_accuracies, 'ro-', label='Validation acc')\n",
    "plt.title('Training and Validation Accuracy')\n",
    "plt.xlabel('Epoch')\n",
    "plt.ylabel('Accuracy')\n",
    "plt.legend()\n",
    "\n",
    "# Plot loss\n",
    "plt.subplot(1, 2, 2)\n",
    "plt.plot(epochs, train_losses, 'bo-', label='Training loss')\n",
    "plt.plot(epochs, val_losses, 'ro-', label='Validation loss')\n",
    "plt.title('Training and Validation Loss')\n",
    "plt.xlabel('Epoch')\n",
    "plt.ylabel('Loss')\n",
    "plt.legend()\n",
    "\n",
    "plt.tight_layout()\n",
    "plt.show()"
   ]
  },
  {
   "cell_type": "markdown",
   "metadata": {
    "id": "S1b1Aa8yxSqj"
   },
   "source": [
    "This time, you achieve up to 88.3% validation accuracy. That's not bad; better than the SimpleRNN network. That’s largely because LSTM suffers much less from the vanishing-gradient problem.\n",
    "\n",
    "But this result isn’t groundbreaking for such a computationally intensive approach. Why isn’t LSTM performing better? One reason is that you made no effort to tune hyperparameters such as the embeddings dimensionality or the LSTM output dimensionality. Another may be lack of regularization. But honestly, the primary reasons that analyzing the global, long-term structure of the reviews (what LSTM is good at) isn’t helpful for a sentiment-analysis problem. Such a basic problem is well solved by looking at what words occur in each review, and at what frequency. That’s what the first fully connected approach looked at. But there are far more difficult natural language- processing problems out there, where the strength of LSTM will become apparent: in particular, **question-answering** and **machine translation.**"
   ]
  },
  {
   "cell_type": "markdown",
   "metadata": {
    "id": "C_rWPLeEaBFW"
   },
   "source": [
    "### Step 5. Loading and testing saved model"
   ]
  },
  {
   "cell_type": "code",
   "execution_count": null,
   "metadata": {
    "execution": {
     "iopub.execute_input": "2025-01-27T02:55:37.676119Z",
     "iopub.status.busy": "2025-01-27T02:55:37.675401Z",
     "iopub.status.idle": "2025-01-27T02:55:37.701623Z",
     "shell.execute_reply": "2025-01-27T02:55:37.700191Z",
     "shell.execute_reply.started": "2025-01-27T02:55:37.676060Z"
    },
    "id": "K5tsJkbIfz45"
   },
   "outputs": [
    {
     "data": {
      "text/plain": [
       "LSTMModel(\n",
       "  (embedding): Embedding(10000, 32)\n",
       "  (lstm): LSTM(32, 32, batch_first=True)\n",
       "  (fc): Linear(in_features=32, out_features=1, bias=True)\n",
       "  (sigmoid): Sigmoid()\n",
       ")"
      ]
     },
     "execution_count": 40,
     "metadata": {},
     "output_type": "execute_result"
    }
   ],
   "source": [
    "model = LSTMModel(vocab_size=max_features, embedding_dim=32, hidden_dim=32)\n",
    "state_dict = torch.load(MODEL_DIR + \"LSTM_500.pth\", weights_only=True)\n",
    "model.load_state_dict(state_dict)\n",
    "model.eval()"
   ]
  },
  {
   "cell_type": "code",
   "execution_count": null,
   "metadata": {
    "colab": {
     "base_uri": "https://localhost:8080/"
    },
    "execution": {
     "iopub.execute_input": "2025-01-27T02:55:38.452747Z",
     "iopub.status.busy": "2025-01-27T02:55:38.452038Z",
     "iopub.status.idle": "2025-01-27T02:55:38.475402Z",
     "shell.execute_reply": "2025-01-27T02:55:38.473772Z",
     "shell.execute_reply.started": "2025-01-27T02:55:38.452689Z"
    },
    "executionInfo": {
     "elapsed": 424,
     "status": "ok",
     "timestamp": 1713356216665,
     "user": {
      "displayName": "Christopher Monterola",
      "userId": "07920169693232563668"
     },
     "user_tz": -480
    },
    "id": "cNlmKrYBfz45",
    "outputId": "46820bed-8286-45aa-9acb-bd81aa69da1f"
   },
   "outputs": [
    {
     "name": "stdout",
     "output_type": "stream",
     "text": [
      "this movie was bad and terrible i almost die not brilliant it is really terrible and brilliant. Sentiment: 0.2804158329963684\n",
      "not brilliant. Sentiment: 0.9400587677955627\n",
      "it is really terrible and brilliant. Sentiment: 0.8471086025238037\n",
      "somewhere somehow. Sentiment: 0.2282980978488922\n"
     ]
    }
   ],
   "source": [
    "from keras.preprocessing.sequence import pad_sequences\n",
    "\n",
    "max_review_length = 50\n",
    "reviews = [\n",
    "    \"this movie was bad and terrible i almost die not brilliant it is really terrible and brilliant\",\n",
    "    \"not brilliant\",\n",
    "    \"it is really terrible and brilliant\",\n",
    "    \"somewhere somehow\"\n",
    "]\n",
    "\n",
    "for review in reviews:\n",
    "    tmp = []\n",
    "    for word in review.split(\" \"):\n",
    "        if word in word_to_id:  # To handle out-of-vocabulary words\n",
    "            tmp.append(word_to_id[word])\n",
    "    \n",
    "    # Pad the sequence\n",
    "    tmp_padded = pad_sequences([tmp], maxlen=max_review_length, padding='post', truncating='post')\n",
    "    tensor_input = torch.tensor(tmp_padded).long()\n",
    "    \n",
    "    with torch.no_grad():\n",
    "        sentiment = model(tensor_input).item()\n",
    "        print(f\"{review}. Sentiment: {sentiment}\")"
   ]
  },
  {
   "cell_type": "markdown",
   "metadata": {
    "id": "wKLcggv0xSqj"
   },
   "source": [
    "# Example 1C. Increasing nodes\n",
    "What if we increase the number of nodes of the embedding layer? Can this immediately increase the accuracy?"
   ]
  },
  {
   "cell_type": "markdown",
   "metadata": {
    "id": "63KFJ9JZgo2y"
   },
   "source": [
    "### Step 1. Data Preparation\n",
    "Already done"
   ]
  },
  {
   "cell_type": "markdown",
   "metadata": {
    "id": "qhWfrEHTgj5m"
   },
   "source": [
    "### Step 2. Instantiate the model and Run. Let's just increase the embedding nodes from 32 to 64."
   ]
  },
  {
   "cell_type": "code",
   "execution_count": null,
   "metadata": {
    "execution": {
     "iopub.execute_input": "2025-01-27T02:37:40.690595Z",
     "iopub.status.busy": "2025-01-27T02:37:40.690363Z",
     "iopub.status.idle": "2025-01-27T02:37:40.705998Z",
     "shell.execute_reply": "2025-01-27T02:37:40.705514Z",
     "shell.execute_reply.started": "2025-01-27T02:37:40.690574Z"
    },
    "id": "bbHsaWwycH-9"
   },
   "outputs": [
    {
     "name": "stdout",
     "output_type": "stream",
     "text": [
      "cuda\n"
     ]
    },
    {
     "data": {
      "text/plain": [
       "==========================================================================================\n",
       "Layer (type:depth-idx)                   Output Shape              Param #\n",
       "==========================================================================================\n",
       "RNNModel                                 [128, 1]                  --\n",
       "├─Embedding: 1-1                         [128, 500, 64]            640,000\n",
       "├─RNN: 1-2                               [128, 500, 32]            3,136\n",
       "├─Linear: 1-3                            [128, 1]                  33\n",
       "├─Sigmoid: 1-4                           [128, 1]                  --\n",
       "==========================================================================================\n",
       "Total params: 643,169\n",
       "Trainable params: 643,169\n",
       "Non-trainable params: 0\n",
       "Total mult-adds (Units.MEGABYTES): 282.63\n",
       "==========================================================================================\n",
       "Input size (MB): 0.51\n",
       "Forward/backward pass size (MB): 49.15\n",
       "Params size (MB): 2.57\n",
       "Estimated Total Size (MB): 52.24\n",
       "=========================================================================================="
      ]
     },
     "execution_count": 18,
     "metadata": {},
     "output_type": "execute_result"
    }
   ],
   "source": [
    "# Initialize the model with different embedding dimensions\n",
    "model = RNNModel(vocab_size=max_features, embedding_dim=64, hidden_dim=32)\n",
    "\n",
    "device = torch.device(\"cuda\" if torch.cuda.is_available() else \"cpu\")\n",
    "model = model.to(device)\n",
    "print(device)\n",
    "\n",
    "summary(model, input_size=(BATCH_SIZE, maxlen), dtypes=[torch.long], device=device)"
   ]
  },
  {
   "cell_type": "code",
   "execution_count": null,
   "metadata": {
    "execution": {
     "iopub.execute_input": "2025-01-27T02:37:40.707007Z",
     "iopub.status.busy": "2025-01-27T02:37:40.706792Z",
     "iopub.status.idle": "2025-01-27T02:38:06.948780Z",
     "shell.execute_reply": "2025-01-27T02:38:06.947798Z",
     "shell.execute_reply.started": "2025-01-27T02:37:40.706988Z"
    }
   },
   "outputs": [
    {
     "name": "stdout",
     "output_type": "stream",
     "text": [
      "Epoch [1/10], Train Loss: 0.6515, Train Acc: 61.67%, Val Loss: 0.6411, Val Acc: 63.00%\n",
      "Epoch [2/10], Train Loss: 0.5660, Train Acc: 70.61%, Val Loss: 0.5903, Val Acc: 68.76%\n",
      "Epoch [3/10], Train Loss: 0.5137, Train Acc: 74.51%, Val Loss: 0.6011, Val Acc: 68.53%\n",
      "Epoch [4/10], Train Loss: 0.4916, Train Acc: 76.29%, Val Loss: 0.5839, Val Acc: 70.53%\n",
      "Epoch [5/10], Train Loss: 0.4552, Train Acc: 78.76%, Val Loss: 0.6043, Val Acc: 71.53%\n",
      "Epoch [6/10], Train Loss: 0.4283, Train Acc: 80.48%, Val Loss: 0.5735, Val Acc: 72.63%\n",
      "Epoch [7/10], Train Loss: 0.4134, Train Acc: 81.21%, Val Loss: 0.5962, Val Acc: 70.86%\n",
      "Epoch [8/10], Train Loss: 0.3812, Train Acc: 83.14%, Val Loss: 0.6610, Val Acc: 70.98%\n",
      "Epoch [9/10], Train Loss: 0.3853, Train Acc: 83.06%, Val Loss: 0.6202, Val Acc: 71.86%\n",
      "Epoch [10/10], Train Loss: 0.3657, Train Acc: 83.98%, Val Loss: 0.6382, Val Acc: 73.01%\n"
     ]
    }
   ],
   "source": [
    "# Loss and optimizer\n",
    "criterion = nn.BCELoss()\n",
    "optimizer = torch.optim.RMSprop(model.parameters())\n",
    "\n",
    "# Initialize lists to store statistics\n",
    "train_losses = []\n",
    "train_accuracies = []\n",
    "val_losses = []\n",
    "val_accuracies = []\n",
    "\n",
    "# Training loop\n",
    "NUM_EPOCHS = 10\n",
    "\n",
    "for epoch in range(NUM_EPOCHS):\n",
    "    model.train()\n",
    "    train_loss = 0.0\n",
    "    train_correct = 0\n",
    "    train_total = 0\n",
    "    \n",
    "    for batch_x, batch_y in train_loader:\n",
    "        # Forward pass\n",
    "        batch_x, batch_y = batch_x.to(device), batch_y.to(device)\n",
    "        outputs = model(batch_x)\n",
    "        loss = criterion(outputs.squeeze(), batch_y)\n",
    "        \n",
    "        # Backward pass and optimize\n",
    "        optimizer.zero_grad()\n",
    "        loss.backward()\n",
    "        optimizer.step()\n",
    "        \n",
    "        # Track training statistics\n",
    "        train_loss += loss.item() * batch_x.size(0)\n",
    "        train_total += batch_y.size(0)\n",
    "        train_correct += ((outputs.squeeze() > 0.5) == batch_y).sum().item()\n",
    "    \n",
    "    # Calculate training stats\n",
    "    train_loss /= len(train_loader.dataset)\n",
    "    train_accuracy = 100. * train_correct / train_total\n",
    "    train_losses.append(train_loss)\n",
    "    train_accuracies.append(train_accuracy)\n",
    "\n",
    "    # Validation\n",
    "    model.eval()\n",
    "    val_loss = 0\n",
    "    val_correct = 0\n",
    "    val_total = 0\n",
    "    with torch.no_grad():\n",
    "        for batch_x, batch_y in test_loader:\n",
    "            batch_x, batch_y = batch_x.to(device), batch_y.to(device)\n",
    "            outputs = model(batch_x)\n",
    "            val_loss += criterion(outputs.squeeze(), batch_y).item() * batch_x.size(0)\n",
    "            val_total += batch_y.size(0)\n",
    "            val_correct += ((outputs.squeeze() > 0.5) == batch_y).sum().item()\n",
    "    \n",
    "    # Calculate validation stats\n",
    "    val_loss /= len(test_loader.dataset)\n",
    "    val_accuracy = 100. * val_correct / val_total\n",
    "    val_losses.append(val_loss)\n",
    "    val_accuracies.append(val_accuracy)\n",
    "\n",
    "    # Print epoch statistics\n",
    "    print(f'Epoch [{epoch+1}/{NUM_EPOCHS}], Train Loss: {train_loss:.4f}, Train Acc: {train_accuracy:.2f}%, Val Loss: {val_loss:.4f}, Val Acc: {val_accuracy:.2f}%')\n"
   ]
  },
  {
   "cell_type": "markdown",
   "metadata": {
    "id": "vV0j3o4wQsPU"
   },
   "source": [
    "### Step 3. Again, let's save the model."
   ]
  },
  {
   "cell_type": "code",
   "execution_count": null,
   "metadata": {
    "colab": {
     "base_uri": "https://localhost:8080/"
    },
    "execution": {
     "iopub.execute_input": "2025-01-27T02:38:06.949958Z",
     "iopub.status.busy": "2025-01-27T02:38:06.949725Z",
     "iopub.status.idle": "2025-01-27T02:38:06.969714Z",
     "shell.execute_reply": "2025-01-27T02:38:06.969007Z",
     "shell.execute_reply.started": "2025-01-27T02:38:06.949939Z"
    },
    "executionInfo": {
     "elapsed": 26,
     "status": "ok",
     "timestamp": 1713356814329,
     "user": {
      "displayName": "Christopher Monterola",
      "userId": "07920169693232563668"
     },
     "user_tz": -480
    },
    "id": "56LWxG2EQQ6p",
    "outputId": "129a99ea-fc76-4300-f0a6-9b9f4b73b6ae"
   },
   "outputs": [
    {
     "name": "stdout",
     "output_type": "stream",
     "text": [
      "Saved model to disk\n"
     ]
    }
   ],
   "source": [
    "import torch\n",
    "# Assuming 'model' is your PyTorch model\n",
    "torch.save(model.state_dict(), MODEL_DIR + \"simpleRNN_64_500.pth\")\n",
    "print(\"Saved model to disk\")"
   ]
  },
  {
   "cell_type": "markdown",
   "metadata": {
    "id": "tQ-qlg5WhLV5"
   },
   "source": [
    "### Step 4. Visualization of Learning generalization."
   ]
  },
  {
   "cell_type": "code",
   "execution_count": null,
   "metadata": {
    "ExecuteTime": {
     "end_time": "2018-11-20T01:45:15.276492Z",
     "start_time": "2018-11-20T01:45:14.971752Z"
    },
    "colab": {
     "base_uri": "https://localhost:8080/",
     "height": 887
    },
    "execution": {
     "iopub.execute_input": "2025-01-27T02:38:06.972511Z",
     "iopub.status.busy": "2025-01-27T02:38:06.972269Z",
     "iopub.status.idle": "2025-01-27T02:38:07.270114Z",
     "shell.execute_reply": "2025-01-27T02:38:07.269253Z",
     "shell.execute_reply.started": "2025-01-27T02:38:06.972490Z"
    },
    "executionInfo": {
     "elapsed": 9,
     "status": "ok",
     "timestamp": 1713356814329,
     "user": {
      "displayName": "Christopher Monterola",
      "userId": "07920169693232563668"
     },
     "user_tz": -480
    },
    "id": "KC3J2YttxSqk",
    "outputId": "55820241-8d07-42b7-df45-4a3f9373fb83"
   },
   "outputs": [
    {
     "data": {
      "image/png": "[encoded data removed]",
      "text/plain": [
       "<Figure size 1200x500 with 2 Axes>"
      ]
     },
     "metadata": {},
     "output_type": "display_data"
    }
   ],
   "source": [
    "import matplotlib.pyplot as plt\n",
    "# After training is done, plot the statistics\n",
    "epochs = range(1, NUM_EPOCHS + 1)\n",
    "\n",
    "plt.figure(figsize=(12, 5))\n",
    "\n",
    "# Plot accuracy\n",
    "plt.subplot(1, 2, 1)\n",
    "plt.plot(epochs, train_accuracies, 'bo-', label='Training acc')\n",
    "plt.plot(epochs, val_accuracies, 'ro-', label='Validation acc')\n",
    "plt.title('Training and Validation Accuracy')\n",
    "plt.xlabel('Epoch')\n",
    "plt.ylabel('Accuracy')\n",
    "plt.legend()\n",
    "\n",
    "# Plot loss\n",
    "plt.subplot(1, 2, 2)\n",
    "plt.plot(epochs, train_losses, 'bo-', label='Training loss')\n",
    "plt.plot(epochs, val_losses, 'ro-', label='Validation loss')\n",
    "plt.title('Training and Validation Loss')\n",
    "plt.xlabel('Epoch')\n",
    "plt.ylabel('Loss')\n",
    "plt.legend()\n",
    "\n",
    "plt.tight_layout()\n",
    "plt.show()"
   ]
  },
  {
   "cell_type": "markdown",
   "metadata": {
    "id": "G91qDR6LxSqk"
   },
   "source": [
    "The result gives almost the same accuracy as embedding nodes of 32. The result will also not significantly increase as a result of the addition of more features (verify). The primary reason is that analyzing the global, long-term structure of the reviews isn’t helpful for a sentiment-analysis problem. Such a basic problem is well solved by looking at what words occur in each review, and at what frequency."
   ]
  },
  {
   "cell_type": "markdown",
   "metadata": {
    "id": "cNdurglXaBFX"
   },
   "source": [
    "### Step 5. Loading and testing saved model"
   ]
  },
  {
   "cell_type": "code",
   "execution_count": null,
   "metadata": {
    "execution": {
     "iopub.execute_input": "2025-01-27T02:38:07.271367Z",
     "iopub.status.busy": "2025-01-27T02:38:07.271114Z",
     "iopub.status.idle": "2025-01-27T02:38:07.289575Z",
     "shell.execute_reply": "2025-01-27T02:38:07.288742Z",
     "shell.execute_reply.started": "2025-01-27T02:38:07.271347Z"
    },
    "id": "9s77bBd4d1aA"
   },
   "outputs": [
    {
     "data": {
      "text/plain": [
       "RNNModel(\n",
       "  (embedding): Embedding(10000, 64)\n",
       "  (rnn): RNN(64, 32, batch_first=True)\n",
       "  (fc): Linear(in_features=32, out_features=1, bias=True)\n",
       "  (sigmoid): Sigmoid()\n",
       ")"
      ]
     },
     "execution_count": 22,
     "metadata": {},
     "output_type": "execute_result"
    }
   ],
   "source": [
    "# Load the model\n",
    "model = RNNModel(vocab_size=max_features, embedding_dim=64, hidden_dim=32)\n",
    "state_dict = torch.load(MODEL_DIR + \"simpleRNN_64_500.pth\", weights_only=True)\n",
    "model.load_state_dict(state_dict)\n",
    "model.eval()"
   ]
  },
  {
   "cell_type": "code",
   "execution_count": null,
   "metadata": {
    "colab": {
     "base_uri": "https://localhost:8080/"
    },
    "execution": {
     "iopub.execute_input": "2025-01-27T02:38:07.290413Z",
     "iopub.status.busy": "2025-01-27T02:38:07.290201Z",
     "iopub.status.idle": "2025-01-27T02:38:07.380883Z",
     "shell.execute_reply": "2025-01-27T02:38:07.379974Z",
     "shell.execute_reply.started": "2025-01-27T02:38:07.290394Z"
    },
    "executionInfo": {
     "elapsed": 11,
     "status": "ok",
     "timestamp": 1713356814878,
     "user": {
      "displayName": "Christopher Monterola",
      "userId": "07920169693232563668"
     },
     "user_tz": -480
    },
    "id": "UbZafGD829G4",
    "outputId": "493062fe-6ee9-4e93-ab10-2860f85f617f"
   },
   "outputs": [
    {
     "name": "stdout",
     "output_type": "stream",
     "text": [
      "Negative review \n",
      "\n",
      "<PAD> <PAD> <PAD> <PAD> <PAD> <PAD> <PAD> <PAD> <PAD> <PAD> <PAD> <PAD> <PAD> <PAD> <PAD> <PAD> <PAD> <PAD> <PAD> <PAD> <PAD> <PAD> <PAD> <PAD> <PAD> <PAD> <PAD> <PAD> <PAD> <PAD> <PAD> <PAD> <PAD> <PAD> <PAD> <PAD> <PAD> <PAD> <PAD> <PAD> <PAD> <PAD> <PAD> <PAD> <PAD> <PAD> <PAD> <PAD> <PAD> <PAD> <START> french horror cinema has seen something of a revival over the last couple of years with great films such as inside and <UNK> romance <UNK> on to the scene <UNK> <UNK> the revival just slightly but stands head and shoulders over most modern horror titles and is surely one of the best french horror films ever made <UNK> was obviously shot on a low budget but this is made up for in far more ways than one by the originality of the film and this in turn is <UNK> by the excellent writing and acting that ensure the film is a winner the plot focuses on two main ideas prison and black magic the central character is a man named <UNK> sent to prison for fraud he is put in a cell with three others the quietly insane <UNK> body building <UNK> marcus and his retarded boyfriend daisy after a short while in the cell together they stumble upon a hiding place in the wall that contains an old <UNK> after <UNK> part of it they soon realise its magical powers and realise they may be able to use it to break through the prison walls br br black magic is a very interesting topic and i'm actually quite surprised that there aren't more films based on it as there's so much scope for things to do with it it's fair to say that <UNK> makes the best of it's <UNK> as despite it's <UNK> the film never actually feels restrained and manages to flow well throughout director eric <UNK> provides a great atmosphere for the film the fact that most of it takes place inside the central prison cell <UNK> that the film feels very claustrophobic and this immensely benefits the central idea of the prisoners wanting to use magic to break out of the cell it's very easy to get behind them it's often said that the unknown is the thing that really <UNK> people and this film proves that as the director <UNK> that we can never really be sure of exactly what is round the corner and this helps to ensure that <UNK> actually does manage to be quite frightening the film is memorable for a lot of reasons outside the central plot the characters are all very interesting in their own way and the fact that the book itself almost takes on its own character is very well done anyone worried that the film won't deliver by the end won't be disappointed either as the ending both makes sense and manages to be quite horrifying overall <UNK> is a truly great horror film and one of the best of the decade highly recommended viewing\n",
      "\n",
      " Positive review \n",
      "\n",
      "the recent slew of cattle <UNK> that have been going on and deputy jan michael vincent comes to her rescue from this point on the film really drags as the two quickly fall for each other especially after vincent <UNK> off the locals and informs shepherd that he was the little boy that saw the ship with her twenty five years earlier while this boring mess is happening vincent <UNK> with his killer dog at his side is walking around killing the cattle and any people he runs into with an unusual item you know those glowing plastic sticks stores sell for trick or <UNK> at halloween the kind that you shake to make them glow <UNK> uses what looks like one of those glow sticks to burn <UNK> in people it's the second worst effect in the movie every time <UNK> is on screen with the glow stick the <UNK> atmosphere suddenly turns dark like the filmmakers thought the glow stick needed that <UNK> it ends up making the movie look even cheaper than it is br br and what does all this lead up to it's hard to tell when the final confusing scene arrives see <UNK> and his team of scientists try to explain the satellite images that shepherd found as some kind of calling card ' but none of it makes sense why do shepherd and vincent age and <UNK> does not <UNK> explains why he is killing cattle and people and why he wants shepherd dead but even that doesn't make much sense when you really think about it i mean why doesn't he kill jan michael vincent after all he had twenty five years to do it and the aliens won't need him if shepherd is dead anyhow so why try to kill her speaking of the aliens it is never clear what they really wanted out of shepherd and vincent what is their goal why do they wait so long to <UNK> how could they be so sure shepherd would come back not that the answer to any of these and other questions would have made the <UNK> any more pleasant you would still have bad lines really bad acting particularly by shepherd cheesy effects and poor direction luckily the stars escaped from this movie <UNK> shepherd soon went on to star in <UNK> with bruce willis jan michael vincent went on to be featured in dozens of b movies often in over the top parts raymond <UNK> made a pile of perry mason television movies right up until his death vincent <UNK> went on to be a great character actor in a huge number of films martin <UNK> who played a <UNK> law <UNK> officer quickly made the terrific alone in the <UNK> and the awful the <UNK> before rolling into the films he has been famous for recently you can bet none of these stars ever want their careers to return to the return ' <UNK> score 2 out of 10\n"
     ]
    }
   ],
   "source": [
    "import keras\n",
    "\n",
    "INDEX_FROM=3   # word index offset\n",
    "word_to_id = keras.datasets.imdb.get_word_index()\n",
    "word_to_id = {k:(v+INDEX_FROM) for k,v in word_to_id.items()}\n",
    "word_to_id[\"<PAD>\"] = 0\n",
    "word_to_id[\"<START>\"] = 1\n",
    "word_to_id[\"<UNK>\"] = 2\n",
    "id_to_word = {value:key for key,value in word_to_id.items()}\n",
    "print(\"Negative review \\n\")\n",
    "print(' '.join(id_to_word[id] for id in x_train[10].numpy()))\n",
    "print(\"\\n Positive review \\n\")\n",
    "print(' '.join(id_to_word[id] for id in x_train[42].numpy()))"
   ]
  },
  {
   "cell_type": "code",
   "execution_count": null,
   "metadata": {
    "colab": {
     "base_uri": "https://localhost:8080/"
    },
    "execution": {
     "iopub.execute_input": "2025-01-27T02:38:07.381865Z",
     "iopub.status.busy": "2025-01-27T02:38:07.381642Z",
     "iopub.status.idle": "2025-01-27T02:38:07.424095Z",
     "shell.execute_reply": "2025-01-27T02:38:07.423617Z",
     "shell.execute_reply.started": "2025-01-27T02:38:07.381846Z"
    },
    "executionInfo": {
     "elapsed": 9,
     "status": "ok",
     "timestamp": 1713356814878,
     "user": {
      "displayName": "Christopher Monterola",
      "userId": "07920169693232563668"
     },
     "user_tz": -480
    },
    "id": "eYHzkyIaQkyu",
    "outputId": "2172efbc-28d5-4ac6-8189-877e3659b08c"
   },
   "outputs": [
    {
     "name": "stdout",
     "output_type": "stream",
     "text": [
      "this movie was bad and terrible i almost die. Sentiment: 0.309393972158432\n",
      "brilliant movie a masterpiece. Sentiment: 0.9677013158798218\n",
      "it is really terrible and brilliant. Sentiment: 0.9479249715805054\n",
      "somewhere somehow. Sentiment: 0.309393972158432\n"
     ]
    }
   ],
   "source": [
    "import numpy as np\n",
    "\n",
    "#predict sentiment from reviews\n",
    "max_review_length=500\n",
    "bad = \"this movie was bad and terrible i almost die\"\n",
    "good = \"brilliant movie a masterpiece\"\n",
    "neutral = \"it is really terrible and brilliant\"\n",
    "vague = \"somewhere somehow\"\n",
    "\n",
    "for review in [bad,good,neutral,vague]:\n",
    "    tmp = []\n",
    "    for word in review.split(\" \"):\n",
    "        # Assuming 'word_to_id' is your vocabulary mapping from word to index\n",
    "        if word in word_to_id:  # To handle out-of-vocabulary words\n",
    "            tmp.append(word_to_id[word])\n",
    "    \n",
    "    # Pad the sequence\n",
    "    tmp_padded = pad_sequences([tmp], maxlen=max_review_length, padding='post', truncating='post')\n",
    "    tensor_input = torch.tensor(tmp_padded).long()  # Long tensor for embedding layer\n",
    "    \n",
    "    with torch.no_grad():  # Disable gradient calculation for inference\n",
    "        sentiment = model(tensor_input).item()  # Get the scalar value\n",
    "        print(f\"{review}. Sentiment: {sentiment}\")"
   ]
  },
  {
   "cell_type": "markdown",
   "metadata": {
    "id": "4cQEiOedaBFY"
   },
   "source": [
    "<div class=\"alert alert-block alert-info\">\n",
    "\n",
    "# ⚠️ Checkpoint ⚠️\n",
    "\n",
    "In the next 5-10 minutes, review the 3 main RNNs that we've gone over and compare them with each other. What are the similarities and differences with them? Make sure your LT understands.\n",
    "</div>"
   ]
  }
 ],
 "metadata": {
  "accelerator": "GPU",
  "colab": {
   "collapsed_sections": [
    "jm5rTZCla4Qd",
    "AAyLMLfxxSqp",
    "2iDjXujmxSqq"
   ],
   "gpuType": "T4",
   "provenance": [
    {
     "file_id": "1l0HJkTszCSWXSA1oK-6YO4IVGnWDiBBz",
     "timestamp": 1715836043440
    }
   ],
   "toc_visible": true
  },
  "kernelspec": {
   "display_name": "insta-ml",
   "language": "python",
   "name": "python3"
  },
  "language_info": {
   "codemirror_mode": {
    "name": "ipython",
    "version": 3
   },
   "file_extension": ".py",
   "mimetype": "text/x-python",
   "name": "python",
   "nbconvert_exporter": "python",
   "pygments_lexer": "ipython3",
   "version": "3.10.17"
  }
 },
 "nbformat": 4,
 "nbformat_minor": 4
}
