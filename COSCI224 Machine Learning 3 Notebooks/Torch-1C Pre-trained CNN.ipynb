{
 "cells": [
  {
   "cell_type": "markdown",
   "metadata": {
    "id": "3f67YhHsU9BB"
   },
   "source": [
    "# Notebook 1C. Pre-trained Convolutional Neural Networks (CNN)\n",
    "---\n",
    "\n",
    "Organized and prepared by Christopher Monterola, updated by Kenneth Co.\n",
    "\n",
    "This notebook was conceptualized, organized, and primarily prepared for the **Machine Learning** courses.\n",
    "\n",
    "### This notebook uses the following references:\n",
    "Lecture is organized and compiled/taken from:\n",
    "1. Python Machine Learning, Second Edition, Sebastian Raschka and Vahid Mirjalili, Packt Publishing Ltd. Birmingham B3 2PB, UK Sept 2017.\n",
    "2. Hands-On Machine Learning with Scikit-Learn and TensorFlow, Aurélien Géron, O'Reilly 2017.\n",
    "3. Deep Learning with Python, Francois Chollet, Manning New York 2018.\n",
    "4. 2018 Google: https://colab.research.google.com/github/google/eng-edu/blob/master/ml/pc/exercises/image_classification_part1.ipynb\n",
    "\n",
    "Again, here is a list of data available for potential individual mini projects: https://en.wikipedia.org/wiki/List_of_datasets_for_machine_learning_research\n",
    "\n",
    "---\n",
    "\n",
    "From 70-73%, we previously demonstrated how data augmentation improves the accuracy up to 83%. In this notebook, we show that book the speed and accuracy can further be enhanced by using pre-trained CNN."
   ]
  },
  {
   "cell_type": "markdown",
   "metadata": {
    "id": "b7ve-gNV3KE0"
   },
   "source": [
    "## Google Colab Setup"
   ]
  },
  {
   "cell_type": "code",
   "execution_count": 9,
   "metadata": {
    "execution": {
     "iopub.execute_input": "2025-01-24T12:21:22.643112Z",
     "iopub.status.busy": "2025-01-24T12:21:22.642427Z",
     "iopub.status.idle": "2025-01-24T12:21:22.655131Z",
     "shell.execute_reply": "2025-01-24T12:21:22.653724Z",
     "shell.execute_reply.started": "2025-01-24T12:21:22.643055Z"
    }
   },
   "outputs": [
    {
     "name": "stdout",
     "output_type": "stream",
     "text": [
      "PyTorch CUDA Version:\n",
      "12.4\n",
      "\n",
      "TensorFlow CUDA Version:\n",
      "12.3\n",
      "\n",
      "GPU Availability:\n",
      "PyTorch CUDA Availability: True\n",
      "TensorFlow GPU Devices: False\n"
     ]
    }
   ],
   "source": [
    "import torch\n",
    "import tensorflow as tf\n",
    "\n",
    "# Check PyTorch CUDA Version\n",
    "print(\"PyTorch CUDA Version:\")\n",
    "try:\n",
    "    print(torch.version.cuda)\n",
    "except AttributeError:\n",
    "    print(\"CUDA not available with this PyTorch installation.\")\n",
    "\n",
    "# Check TensorFlow CUDA Version\n",
    "print(\"\\nTensorFlow CUDA Version:\")\n",
    "try:\n",
    "    print(tf.sysconfig.get_build_info()['cuda_version'])\n",
    "except KeyError:\n",
    "    print(\"CUDA not used in this TensorFlow build.\")\n",
    "\n",
    "# Additional checks for GPU availability\n",
    "print(\"\\nGPU Availability:\")\n",
    "print(\"PyTorch CUDA Availability:\", torch.cuda.is_available())\n",
    "print(\"TensorFlow GPU Devices:\", len(tf.config.list_physical_devices('GPU')) > 0)"
   ]
  },
  {
   "cell_type": "code",
   "execution_count": 10,
   "metadata": {
    "execution": {
     "iopub.execute_input": "2025-01-24T12:21:22.658950Z",
     "iopub.status.busy": "2025-01-24T12:21:22.657900Z",
     "iopub.status.idle": "2025-01-24T12:21:22.664225Z",
     "shell.execute_reply": "2025-01-24T12:21:22.662656Z",
     "shell.execute_reply.started": "2025-01-24T12:21:22.658893Z"
    },
    "id": "efsrR-cs3KE0"
   },
   "outputs": [],
   "source": [
    "# !pip install -U keras\n",
    "# !pip install -U tensorflow"
   ]
  },
  {
   "cell_type": "code",
   "execution_count": 11,
   "metadata": {
    "colab": {
     "base_uri": "https://localhost:8080/"
    },
    "execution": {
     "iopub.execute_input": "2025-01-24T12:21:22.666743Z",
     "iopub.status.busy": "2025-01-24T12:21:22.665800Z",
     "iopub.status.idle": "2025-01-24T12:21:22.672982Z",
     "shell.execute_reply": "2025-01-24T12:21:22.671724Z",
     "shell.execute_reply.started": "2025-01-24T12:21:22.666686Z"
    },
    "executionInfo": {
     "elapsed": 19560,
     "status": "ok",
     "timestamp": 1719125545497,
     "user": {
      "displayName": "kc-aim",
      "userId": "16968997735368758960"
     },
     "user_tz": -480
    },
    "id": "3fNa35k_3KE1",
    "outputId": "7b2c122d-c5e0-4947-9614-fd5b6e7214b3"
   },
   "outputs": [],
   "source": [
    "# from google.colab import drive\n",
    "# drive.mount('/content/drive')\n",
    "# DATA_DIR = '/content/drive/MyDrive/COSCI224 Machine Learning 3 Notebooks/data/'\n",
    "# IMG_DIR = '/content/drive/MyDrive/COSCI224 Machine Learning 3 Notebooks/images/'\n",
    "# MODEL_DIR = '/content/drive/MyDrive/COSCI224 Machine Learning 3 Notebooks/models/'\n",
    "\n",
    "DATA_DIR = 'data/'\n",
    "IMG_DIR = 'images/'\n",
    "MODEL_DIR = 'models/'"
   ]
  },
  {
   "cell_type": "markdown",
   "metadata": {
    "id": "JnIC0qGVlBID"
   },
   "source": [
    "# Why pre-trained CNNs?\n",
    "---\n",
    "\n",
    "Using a pre-trained network is a common and highly effective approach to deep learning on small image datasets. A pre-trained network is a saved network previously trained on a large dataset, typically on a large-scale image-classification task. **If this original dataset is large enough and general enough, then the spatial hierarchy of features learned by the pre-trained network can effectively act as a generic model of the visual world, and hence, its features can prove useful for many different computer vision problems,** even though these new problems may involve completely different classes than those of the original task. For instance, you might train a network on ImageNet (where classes are mostly animals and everyday objects) and then repurpose this trained network for something as remote as identifying furniture items in images.\n",
    "\n",
    "Such portability of learned features across different problems is a key advantage of deep learning compared to many older, shallow-learning approaches, and it makes deep learning very effective even for small-data problems. In this case, let’s consider a large CNN trained on the [ImageNet dataset](https://en.wikipedia.org/wiki/ImageNet) (1.4 million labeled images and 1,000 different classes). ImageNet contains many animal classes, including different species of cats and dogs, and you can thus expect to perform well on the dogs-versus-cats classification problem.\n",
    "\n",
    "You’ll use the VGG16 architecture, developed by Karen Simonyan and Andrew Zisserman in 2014; it’s a simple and widely used convnet architecture for ImageNet: [Karen Simonyan and Andrew Zisserman, “Very Deep Convolutional Networks for Large-Scale Image Recognition,” arXiv (2014)](https://arxiv.org/abs/1409.1556). Although it’s an older model, far from the current state of the art and somewhat heavier than many other recent models, I chose it because its architecture is similar to what you’re already familiar with and is easy to understand without introducing any new concepts. This may be your first encounter with one of these cutesy model names—VGG, ResNet, Inception, Inception-ResNet, Xception, and so on; you’ll get used to them, because they will come up frequently if you keep doing deep learning for computer vision. There are two ways to use a pretrained network: feature extraction and fine-tuning.\n",
    "\n",
    "Let’s start with feature extraction."
   ]
  },
  {
   "cell_type": "markdown",
   "metadata": {
    "id": "12cHaD-XlBIE"
   },
   "source": [
    "# Step 1. Feature Extraction\n",
    "\n",
    "Feature extraction consists of using the representations learned by a previous network to extract interesting features from new samples. These features are then run through a new classifier, which is trained from scratch.\n",
    "As you saw previously, convnets used for image classification comprise two parts:\n",
    "they start with a series of pooling and convolution layers, and they end with a densely\n",
    "connected classifier. The first part is called the convolutional base of the model. In the\n",
    "case of convnets, feature extraction consists of taking the convolutional base of a previously trained network, running the new data through it, and training a new classifier on top of the output (see figure below).\n",
    "\n",
    "<img width=\"500\" alt=\"swapping_classifiers\" src=\"https://user-images.githubusercontent.com/25600601/134777359-711c0dec-ed92-4910-8370-6d877fe4609b.png\">\n",
    "\n",
    "Why only reuse the convolutional base? Could you reuse the densely connected classifier as well? **In general, doing so should be avoided. The reason is that the representations learned by the convolutional base are likely to be more generic and therefore more reusable:** the feature maps of a convnet are presence maps of generic concepts over a picture, which is likely to be useful regardless of the computer-vision problem at hand. But the representations learned by the classifier will necessarily be specific to the set of classes on which the model was trained—they will only contain information about the presence probability of this or that class in the entire picture. Additionally, representations found in densely connected layers no longer contain any information about where objects are located in the input image: these layers get rid of the notion of space, whereas the object location is still described by convolutional feature maps. For problems where object location matters, densely connected features are largely useless. Note that the level of generality (and therefore reusability) of the representations\n",
    "extracted by specific convolution layers depends on the depth of the layer in the model. Layers that come earlier in the model extract local, highly generic feature maps (such as visual edges, colors, and textures), whereas layers that are higher up extract more-abstract concepts (such as “cat ear” or “dog eye”). So if your new dataset differs a lot from the dataset on which the original model was trained, you may be better off using only the first few layers of the model to do feature extraction, rather than using the entire convolutional base.\n",
    "\n",
    "In this case, because the ImageNet class set contains multiple dog and cat classes, it’s likely to be beneficial to reuse the information contained in the densely connected layers of the original model. But we’ll choose not to, in order to cover the more general case where the class set of the new problem doesn’t overlap the class set of the original model. Let’s put this in practice by using the convolutional base of the VGG16 network, trained on ImageNet, to extract interesting features from cat and dog images, and then train a dogs-versus-cats classifier on top of these features.\n",
    "\n",
    "The VGG16 model, among others, comes prepackaged with Keras. You can import it from the keras.applications module. Here’s the list of image-classification models (all pretrained on the ImageNet dataset) that are available as part of *keras.applications*:\n",
    "- Xception   \n",
    "- Inception V3   \n",
    "- ResNet50  \n",
    "- VGG16  \n",
    "- VGG19  \n",
    "- MobileNet  \n",
    "\n",
    "In 2014, 16 and 19 layer networks were considered very deep (although we now have the ResNet architecture which can be successfully trained at depths of 50-200 for ImageNet and over 1,000 for CIFAR-10). Simonyan and Zisserman found training VGG16 and VGG19 challenging (specifically regarding convergence on the deeper networks), so in order to make training easier, they first trained smaller versions of VGG with less weight layers (columns A and C) first.\n",
    "\n",
    "The smaller networks converged and were then used as initializations for the larger, deeper networks — this process is called *pre-training*.\n",
    "\n",
    "While making logical sense, pre-training is a very time consuming, tedious task, requiring an entire network to be trained before it can serve as an initialization for a deeper network.\n",
    "\n",
    "Let’s instantiate the VGG16 model or OxfordNet. VGG means Visual Geometry Group from Oxford with 16 layers as shown below:\n",
    "\n",
    "<img width=\"800\" alt=\"VGG16\" src=\"https://user-images.githubusercontent.com/25600601/134777383-0be97327-da9d-42d0-b98c-751599ec7b3d.png\">\n",
    "\n",
    "The 16 layers are:\n",
    "1. Convolution using 64 filters\n",
    "2. Convolution using 64 filters + Max pooling\n",
    "3. Convolution using 128 filters\n",
    "4. Convolution using 128 filters + Max pooling\n",
    "5. Convolution using 256 filters\n",
    "6. Convolution using 256 filters\n",
    "7. Convolution using 256 filters + Max pooling\n",
    "8. Convolution using 512 filters\n",
    "9. Convolution using 512 filters\n",
    "10. Convolution using 512 filters + Max pooling\n",
    "11. Convolution using 512 filters\n",
    "12. Convolution using 512 filters\n",
    "13. Convolution using 512 filters + Max pooling\n",
    "14. Fully connected with 4096 nodes\n",
    "15. Fully connected with 4096 nodes\n",
    "16. Output layer with Softmax activation with 4096(above figure) or 1000 (below figure) nodes\n",
    "\n",
    "<img width=\"800\" alt=\"VGG16_fullview\" src=\"https://user-images.githubusercontent.com/25600601/134777407-4e99ec7b-cad7-440a-bb06-5c7d01c55491.png\">"
   ]
  },
  {
   "cell_type": "markdown",
   "metadata": {
    "id": "ZGRXLB-vlBIG"
   },
   "source": [
    "## Step 1A. Instantiate the VGG16 convolutional base"
   ]
  },
  {
   "cell_type": "code",
   "execution_count": 18,
   "metadata": {
    "ExecuteTime": {
     "end_time": "2018-11-07T11:27:32.724820Z",
     "start_time": "2018-11-07T11:27:31.769140Z"
    },
    "colab": {
     "base_uri": "https://localhost:8080/"
    },
    "execution": {
     "iopub.execute_input": "2025-01-24T12:22:07.566401Z",
     "iopub.status.busy": "2025-01-24T12:22:07.565684Z",
     "iopub.status.idle": "2025-01-24T12:22:09.118134Z",
     "shell.execute_reply": "2025-01-24T12:22:09.117602Z",
     "shell.execute_reply.started": "2025-01-24T12:22:07.566342Z"
    },
    "executionInfo": {
     "elapsed": 936,
     "status": "ok",
     "timestamp": 1719125550461,
     "user": {
      "displayName": "kc-aim",
      "userId": "16968997735368758960"
     },
     "user_tz": -480
    },
    "id": "4ZNeja86lBIG",
    "outputId": "3507b5bb-657d-4d02-8d74-72ad74683538"
   },
   "outputs": [
    {
     "data": {
      "text/plain": [
       "==========================================================================================\n",
       "Layer (type:depth-idx)                   Output Shape              Param #\n",
       "==========================================================================================\n",
       "VGG                                      [1, 1000]                 --\n",
       "├─Sequential: 1-1                        [1, 512, 4, 4]            --\n",
       "│    └─Conv2d: 2-1                       [1, 64, 150, 150]         1,792\n",
       "│    └─ReLU: 2-2                         [1, 64, 150, 150]         --\n",
       "│    └─Conv2d: 2-3                       [1, 64, 150, 150]         36,928\n",
       "│    └─ReLU: 2-4                         [1, 64, 150, 150]         --\n",
       "│    └─MaxPool2d: 2-5                    [1, 64, 75, 75]           --\n",
       "│    └─Conv2d: 2-6                       [1, 128, 75, 75]          73,856\n",
       "│    └─ReLU: 2-7                         [1, 128, 75, 75]          --\n",
       "│    └─Conv2d: 2-8                       [1, 128, 75, 75]          147,584\n",
       "│    └─ReLU: 2-9                         [1, 128, 75, 75]          --\n",
       "│    └─MaxPool2d: 2-10                   [1, 128, 37, 37]          --\n",
       "│    └─Conv2d: 2-11                      [1, 256, 37, 37]          295,168\n",
       "│    └─ReLU: 2-12                        [1, 256, 37, 37]          --\n",
       "│    └─Conv2d: 2-13                      [1, 256, 37, 37]          590,080\n",
       "│    └─ReLU: 2-14                        [1, 256, 37, 37]          --\n",
       "│    └─Conv2d: 2-15                      [1, 256, 37, 37]          590,080\n",
       "│    └─ReLU: 2-16                        [1, 256, 37, 37]          --\n",
       "│    └─MaxPool2d: 2-17                   [1, 256, 18, 18]          --\n",
       "│    └─Conv2d: 2-18                      [1, 512, 18, 18]          1,180,160\n",
       "│    └─ReLU: 2-19                        [1, 512, 18, 18]          --\n",
       "│    └─Conv2d: 2-20                      [1, 512, 18, 18]          2,359,808\n",
       "│    └─ReLU: 2-21                        [1, 512, 18, 18]          --\n",
       "│    └─Conv2d: 2-22                      [1, 512, 18, 18]          2,359,808\n",
       "│    └─ReLU: 2-23                        [1, 512, 18, 18]          --\n",
       "│    └─MaxPool2d: 2-24                   [1, 512, 9, 9]            --\n",
       "│    └─Conv2d: 2-25                      [1, 512, 9, 9]            2,359,808\n",
       "│    └─ReLU: 2-26                        [1, 512, 9, 9]            --\n",
       "│    └─Conv2d: 2-27                      [1, 512, 9, 9]            2,359,808\n",
       "│    └─ReLU: 2-28                        [1, 512, 9, 9]            --\n",
       "│    └─Conv2d: 2-29                      [1, 512, 9, 9]            2,359,808\n",
       "│    └─ReLU: 2-30                        [1, 512, 9, 9]            --\n",
       "│    └─MaxPool2d: 2-31                   [1, 512, 4, 4]            --\n",
       "├─AdaptiveAvgPool2d: 1-2                 [1, 512, 7, 7]            --\n",
       "├─Sequential: 1-3                        [1, 1000]                 --\n",
       "│    └─Linear: 2-32                      [1, 4096]                 102,764,544\n",
       "│    └─ReLU: 2-33                        [1, 4096]                 --\n",
       "│    └─Dropout: 2-34                     [1, 4096]                 --\n",
       "│    └─Linear: 2-35                      [1, 4096]                 16,781,312\n",
       "│    └─ReLU: 2-36                        [1, 4096]                 --\n",
       "│    └─Dropout: 2-37                     [1, 4096]                 --\n",
       "│    └─Linear: 2-38                      [1, 1000]                 4,097,000\n",
       "==========================================================================================\n",
       "Total params: 138,357,544\n",
       "Trainable params: 138,357,544\n",
       "Non-trainable params: 0\n",
       "Total mult-adds (Units.GIGABYTES): 6.75\n",
       "==========================================================================================\n",
       "Input size (MB): 0.27\n",
       "Forward/backward pass size (MB): 48.02\n",
       "Params size (MB): 553.43\n",
       "Estimated Total Size (MB): 601.72\n",
       "=========================================================================================="
      ]
     },
     "execution_count": 18,
     "metadata": {},
     "output_type": "execute_result"
    }
   ],
   "source": [
    "import torch\n",
    "import torchvision.models as models\n",
    "from torchinfo import summary\n",
    "\n",
    "# Load the VGG16 model from torchvision\n",
    "vgg16 = models.vgg16(pretrained=True)\n",
    "vgg16.eval()\n",
    "\n",
    "# Print the model summary\n",
    "summary(vgg16, input_size=(1, 3, 150, 150))"
   ]
  },
  {
   "cell_type": "code",
   "execution_count": 45,
   "metadata": {
    "ExecuteTime": {
     "end_time": "2018-11-07T11:27:32.724820Z",
     "start_time": "2018-11-07T11:27:31.769140Z"
    },
    "colab": {
     "base_uri": "https://localhost:8080/"
    },
    "execution": {
     "iopub.execute_input": "2025-01-24T12:31:50.460203Z",
     "iopub.status.busy": "2025-01-24T12:31:50.459531Z",
     "iopub.status.idle": "2025-01-24T12:31:51.966052Z",
     "shell.execute_reply": "2025-01-24T12:31:51.964163Z",
     "shell.execute_reply.started": "2025-01-24T12:31:50.460148Z"
    },
    "executionInfo": {
     "elapsed": 936,
     "status": "ok",
     "timestamp": 1719125550461,
     "user": {
      "displayName": "kc-aim",
      "userId": "16968997735368758960"
     },
     "user_tz": -480
    },
    "id": "4ZNeja86lBIG",
    "outputId": "3507b5bb-657d-4d02-8d74-72ad74683538"
   },
   "outputs": [
    {
     "data": {
      "text/plain": [
       "==========================================================================================\n",
       "Layer (type:depth-idx)                   Output Shape              Param #\n",
       "==========================================================================================\n",
       "Sequential                               [1, 512, 4, 4]            --\n",
       "├─Conv2d: 1-1                            [1, 64, 150, 150]         1,792\n",
       "├─ReLU: 1-2                              [1, 64, 150, 150]         --\n",
       "├─Conv2d: 1-3                            [1, 64, 150, 150]         36,928\n",
       "├─ReLU: 1-4                              [1, 64, 150, 150]         --\n",
       "├─MaxPool2d: 1-5                         [1, 64, 75, 75]           --\n",
       "├─Conv2d: 1-6                            [1, 128, 75, 75]          73,856\n",
       "├─ReLU: 1-7                              [1, 128, 75, 75]          --\n",
       "├─Conv2d: 1-8                            [1, 128, 75, 75]          147,584\n",
       "├─ReLU: 1-9                              [1, 128, 75, 75]          --\n",
       "├─MaxPool2d: 1-10                        [1, 128, 37, 37]          --\n",
       "├─Conv2d: 1-11                           [1, 256, 37, 37]          295,168\n",
       "├─ReLU: 1-12                             [1, 256, 37, 37]          --\n",
       "├─Conv2d: 1-13                           [1, 256, 37, 37]          590,080\n",
       "├─ReLU: 1-14                             [1, 256, 37, 37]          --\n",
       "├─Conv2d: 1-15                           [1, 256, 37, 37]          590,080\n",
       "├─ReLU: 1-16                             [1, 256, 37, 37]          --\n",
       "├─MaxPool2d: 1-17                        [1, 256, 18, 18]          --\n",
       "├─Conv2d: 1-18                           [1, 512, 18, 18]          1,180,160\n",
       "├─ReLU: 1-19                             [1, 512, 18, 18]          --\n",
       "├─Conv2d: 1-20                           [1, 512, 18, 18]          2,359,808\n",
       "├─ReLU: 1-21                             [1, 512, 18, 18]          --\n",
       "├─Conv2d: 1-22                           [1, 512, 18, 18]          2,359,808\n",
       "├─ReLU: 1-23                             [1, 512, 18, 18]          --\n",
       "├─MaxPool2d: 1-24                        [1, 512, 9, 9]            --\n",
       "├─Conv2d: 1-25                           [1, 512, 9, 9]            2,359,808\n",
       "├─ReLU: 1-26                             [1, 512, 9, 9]            --\n",
       "├─Conv2d: 1-27                           [1, 512, 9, 9]            2,359,808\n",
       "├─ReLU: 1-28                             [1, 512, 9, 9]            --\n",
       "├─Conv2d: 1-29                           [1, 512, 9, 9]            2,359,808\n",
       "├─ReLU: 1-30                             [1, 512, 9, 9]            --\n",
       "├─MaxPool2d: 1-31                        [1, 512, 4, 4]            --\n",
       "==========================================================================================\n",
       "Total params: 14,714,688\n",
       "Trainable params: 14,714,688\n",
       "Non-trainable params: 0\n",
       "Total mult-adds (Units.GIGABYTES): 6.62\n",
       "==========================================================================================\n",
       "Input size (MB): 0.27\n",
       "Forward/backward pass size (MB): 47.95\n",
       "Params size (MB): 58.86\n",
       "Estimated Total Size (MB): 107.08\n",
       "=========================================================================================="
      ]
     },
     "execution_count": 45,
     "metadata": {},
     "output_type": "execute_result"
    }
   ],
   "source": [
    "import torch\n",
    "import torchvision.models as models\n",
    "\n",
    "# Load VGG16 model with pre-trained weights, excluding the top layers\n",
    "conv_base = models.vgg16(pretrained=True)\n",
    "conv_base = conv_base.features\n",
    "\n",
    "# Set the model to evaluation mode\n",
    "conv_base.eval()\n",
    "\n",
    "# Print the model summary\n",
    "summary(conv_base, input_size=(1, 3, 150, 150))"
   ]
  },
  {
   "cell_type": "markdown",
   "metadata": {
    "id": "XYvXlGl_lBIJ"
   },
   "source": [
    "The final feature map `MaxPool2d: 1-31` has shape (4, 4, 512). That's the feature on top of which you'll stick a densely connected classifier.\n",
    "\n",
    "At this point, there are two ways you could proceed:\n",
    "\n",
    "1. Running the convolutional base over your dataset, recording its output to a Numpy array on disk, and then using this data as input to a standalone, densely connected classifier similar to those you saw in part 1 of this book. This solution is fast and cheap to run, because it only requires running the convolutional base once for every input image, and the convolutional base is by far the most expensive part of the pipeline. But for the same reason, this technique won't allow you to use data augmentation.\n",
    "\n",
    "2. Extending the model you have `conv_base` by adding Dense layers on top, and running the whole thing end to end on the input data. This will allow you to use data augmentation, because every input image goes through the convolutional base every time it's seen by the model. But for the same reason, this technique is far more expensive than the first. We'll cover both techniques. Let's walk through the code required to set up the first\n",
    "one: recording the output of `conv_base` on your data and using these outputs as inputs to a new model."
   ]
  },
  {
   "cell_type": "markdown",
   "metadata": {
    "id": "JP8MQQUzpCeG"
   },
   "source": [
    "## Step 1B. Fast feature extraction without Data Augmentation\n",
    "\n",
    "You’ll start by running instances of the previously introduced ImageDataGenerator to extract images as Numpy arrays as well as their labels. You’ll extract features from these images by calling the predict method of the *conv_base* model.\n",
    "\n",
    "### Extracting features using the pretrained convolutional base"
   ]
  },
  {
   "cell_type": "code",
   "execution_count": 46,
   "metadata": {
    "execution": {
     "iopub.execute_input": "2025-01-24T12:32:01.068238Z",
     "iopub.status.busy": "2025-01-24T12:32:01.067511Z",
     "iopub.status.idle": "2025-01-24T12:32:01.076119Z",
     "shell.execute_reply": "2025-01-24T12:32:01.074356Z",
     "shell.execute_reply.started": "2025-01-24T12:32:01.068178Z"
    },
    "id": "2gNkM-K5uCSa"
   },
   "outputs": [],
   "source": [
    "import os\n",
    "import numpy as np\n",
    "import matplotlib.pyplot as plt"
   ]
  },
  {
   "cell_type": "code",
   "execution_count": 47,
   "metadata": {
    "colab": {
     "base_uri": "https://localhost:8080/"
    },
    "execution": {
     "iopub.execute_input": "2025-01-24T12:32:01.350191Z",
     "iopub.status.busy": "2025-01-24T12:32:01.349546Z",
     "iopub.status.idle": "2025-01-24T12:32:05.027852Z",
     "shell.execute_reply": "2025-01-24T12:32:05.026318Z",
     "shell.execute_reply.started": "2025-01-24T12:32:01.350137Z"
    },
    "executionInfo": {
     "elapsed": 2176,
     "status": "ok",
     "timestamp": 1719125553177,
     "user": {
      "displayName": "kc-aim",
      "userId": "16968997735368758960"
     },
     "user_tz": -480
    },
    "id": "OYmOylPlVrVt",
    "outputId": "b3b899c0-5569-4b27-a55e-879ab4b111d1"
   },
   "outputs": [],
   "source": [
    "_URL = 'https://storage.googleapis.com/mledu-datasets/cats_and_dogs_filtered.zip'\n",
    "zip_dir = tf.keras.utils.get_file('cats_and_dogs_filtered.zip', origin=_URL, extract=True)"
   ]
  },
  {
   "cell_type": "code",
   "execution_count": 48,
   "metadata": {
    "execution": {
     "iopub.execute_input": "2025-01-24T12:32:05.029337Z",
     "iopub.status.busy": "2025-01-24T12:32:05.029100Z",
     "iopub.status.idle": "2025-01-24T12:32:05.034424Z",
     "shell.execute_reply": "2025-01-24T12:32:05.033560Z",
     "shell.execute_reply.started": "2025-01-24T12:32:05.029301Z"
    },
    "id": "8dI0metJuZa-"
   },
   "outputs": [],
   "source": [
    "base_dir = os.path.join(os.path.dirname(zip_dir), 'cats_and_dogs_filtered_extracted/cats_and_dogs_filtered')\n",
    "train_dir = os.path.join(base_dir, 'train')\n",
    "validation_dir = os.path.join(base_dir, 'validation')"
   ]
  },
  {
   "cell_type": "markdown",
   "metadata": {
    "id": "94CmT54nunnM"
   },
   "source": [
    "Let's look at how many cats and dogs images we have in our training and validation directory"
   ]
  },
  {
   "cell_type": "code",
   "execution_count": 49,
   "metadata": {
    "execution": {
     "iopub.execute_input": "2025-01-24T12:32:05.035197Z",
     "iopub.status.busy": "2025-01-24T12:32:05.034999Z",
     "iopub.status.idle": "2025-01-24T12:32:05.039972Z",
     "shell.execute_reply": "2025-01-24T12:32:05.039197Z",
     "shell.execute_reply.started": "2025-01-24T12:32:05.035178Z"
    },
    "id": "FFO3K0pmuay4"
   },
   "outputs": [],
   "source": [
    "train_cats_dir = os.path.join(train_dir, 'cats')  # directory with our training cat pictures\n",
    "train_dogs_dir = os.path.join(train_dir, 'dogs')  # directory with our training dog pictures\n",
    "validation_cats_dir = os.path.join(validation_dir, 'cats')  # directory with our validation cat pictures\n",
    "validation_dogs_dir = os.path.join(validation_dir, 'dogs')  # directory with our validation dog pictures"
   ]
  },
  {
   "cell_type": "code",
   "execution_count": 50,
   "metadata": {
    "execution": {
     "iopub.execute_input": "2025-01-24T12:32:05.041222Z",
     "iopub.status.busy": "2025-01-24T12:32:05.041014Z",
     "iopub.status.idle": "2025-01-24T12:32:05.048823Z",
     "shell.execute_reply": "2025-01-24T12:32:05.047177Z",
     "shell.execute_reply.started": "2025-01-24T12:32:05.041204Z"
    },
    "id": "W9VBKoSwujUP"
   },
   "outputs": [],
   "source": [
    "num_cats_tr = len(os.listdir(train_cats_dir))\n",
    "num_dogs_tr = len(os.listdir(train_dogs_dir))\n",
    "\n",
    "num_cats_val = len(os.listdir(validation_cats_dir))\n",
    "num_dogs_val = len(os.listdir(validation_dogs_dir))\n",
    "\n",
    "total_train = num_cats_tr + num_dogs_tr\n",
    "total_val = num_cats_val + num_dogs_val"
   ]
  },
  {
   "cell_type": "code",
   "execution_count": 51,
   "metadata": {
    "colab": {
     "base_uri": "https://localhost:8080/"
    },
    "execution": {
     "iopub.execute_input": "2025-01-24T12:32:05.049590Z",
     "iopub.status.busy": "2025-01-24T12:32:05.049397Z",
     "iopub.status.idle": "2025-01-24T12:32:05.055880Z",
     "shell.execute_reply": "2025-01-24T12:32:05.054345Z",
     "shell.execute_reply.started": "2025-01-24T12:32:05.049574Z"
    },
    "executionInfo": {
     "elapsed": 4,
     "status": "ok",
     "timestamp": 1719125553178,
     "user": {
      "displayName": "kc-aim",
      "userId": "16968997735368758960"
     },
     "user_tz": -480
    },
    "id": "l1r4hcpru3G5",
    "outputId": "924fea93-78aa-42bd-df0c-aca7504dde85"
   },
   "outputs": [
    {
     "name": "stdout",
     "output_type": "stream",
     "text": [
      "total training cat images: 1000\n",
      "total training dog images: 1000\n",
      "total validation cat images: 500\n",
      "total validation dog images: 500\n",
      "--\n",
      "Total training images: 2000\n",
      "Total validation images: 1000\n"
     ]
    }
   ],
   "source": [
    "print('total training cat images:', num_cats_tr)\n",
    "print('total training dog images:', num_dogs_tr)\n",
    "\n",
    "print('total validation cat images:', num_cats_val)\n",
    "print('total validation dog images:', num_dogs_val)\n",
    "print(\"--\")\n",
    "print(\"Total training images:\", total_train)\n",
    "print(\"Total validation images:\", total_val)"
   ]
  },
  {
   "cell_type": "code",
   "execution_count": 52,
   "metadata": {
    "colab": {
     "base_uri": "https://localhost:8080/"
    },
    "execution": {
     "iopub.execute_input": "2025-01-24T12:32:05.130748Z",
     "iopub.status.busy": "2025-01-24T12:32:05.129416Z",
     "iopub.status.idle": "2025-01-24T12:32:19.723071Z",
     "shell.execute_reply": "2025-01-24T12:32:19.722451Z",
     "shell.execute_reply.started": "2025-01-24T12:32:05.130688Z"
    },
    "executionInfo": {
     "elapsed": 35906,
     "status": "ok",
     "timestamp": 1719125589080,
     "user": {
      "displayName": "kc-aim",
      "userId": "16968997735368758960"
     },
     "user_tz": -480
    },
    "id": "IJe8l0EHNg_6",
    "outputId": "c82e61b9-4f12-4c1e-8803-3edc3cd17521"
   },
   "outputs": [],
   "source": [
    "from torchvision import transforms\n",
    "from torchvision.datasets import ImageFolder\n",
    "from torch.utils.data import DataLoader, Dataset\n",
    "\n",
    "# Define the batch size\n",
    "BATCH_SIZE = 20\n",
    "\n",
    "device = torch.device(\"cuda\" if torch.cuda.is_available() else \"cpu\")\n",
    "conv_base = conv_base.to(device)\n",
    "\n",
    "# Define transforms for the data\n",
    "transform = transforms.Compose([\n",
    "    transforms.Resize((150, 150)),\n",
    "    transforms.ToTensor(),\n",
    "])\n",
    "\n",
    "def extract_features(directory, sample_count):\n",
    "    dataset = ImageFolder(root=directory, transform=transform)\n",
    "    loader = DataLoader(dataset, batch_size=BATCH_SIZE, shuffle=False)\n",
    "    \n",
    "    features = torch.zeros((sample_count, 512, 4, 4))  # Note: PyTorch uses (C, H, W) for tensor shape\n",
    "    labels = torch.zeros((sample_count))\n",
    "    count = 0\n",
    "    \n",
    "    conv_base.eval()  # Set to evaluation mode\n",
    "    with torch.no_grad():  # No need to track gradients\n",
    "        for i, (inputs, targets) in enumerate(loader):\n",
    "            outputs = conv_base(inputs.to(device))\n",
    "            features[count:count+len(inputs)] = outputs\n",
    "            labels[count:count+len(inputs)] = targets\n",
    "            count += len(inputs)\n",
    "            if count >= sample_count:\n",
    "                break\n",
    "\n",
    "    return features, labels\n",
    "\n",
    "# Assuming `train_dir` and `validation_dir` are defined paths\n",
    "train_features, train_labels = extract_features(train_dir, 2000)\n",
    "validation_features, validation_labels = extract_features(validation_dir, 1000)\n",
    "\n",
    "# Convert to numpy if needed for further processing\n",
    "train_features = train_features.numpy().transpose(0, 2, 3, 1)  # Convert to (N, H, W, C)\n",
    "train_labels = train_labels.numpy()\n",
    "validation_features = validation_features.numpy().transpose(0, 2, 3, 1)\n",
    "validation_labels = validation_labels.numpy()"
   ]
  },
  {
   "cell_type": "markdown",
   "metadata": {
    "id": "qHoGNWL6lBIK"
   },
   "source": [
    "The extracted features are currently of shape (samples, 4, 4, 512). You’ll feed them to a densely connected classifier, so first you must flatten them to (samples, 8192):"
   ]
  },
  {
   "cell_type": "code",
   "execution_count": 53,
   "metadata": {
    "ExecuteTime": {
     "end_time": "2018-11-07T10:53:41.209518Z",
     "start_time": "2018-11-07T10:53:41.205662Z"
    },
    "execution": {
     "iopub.execute_input": "2025-01-24T12:32:19.724689Z",
     "iopub.status.busy": "2025-01-24T12:32:19.724144Z",
     "iopub.status.idle": "2025-01-24T12:32:19.779867Z",
     "shell.execute_reply": "2025-01-24T12:32:19.778851Z",
     "shell.execute_reply.started": "2025-01-24T12:32:19.724657Z"
    },
    "id": "QR9Uw9VSlBIL"
   },
   "outputs": [],
   "source": [
    "train_features = np.reshape(train_features, (2000, 4 * 4 * 512))\n",
    "validation_features = np.reshape(validation_features, (1000, 4 * 4 * 512))\n",
    "#test_features = np.reshape(test_features, (1000, 4 * 4 * 512))"
   ]
  },
  {
   "cell_type": "code",
   "execution_count": 55,
   "metadata": {
    "ExecuteTime": {
     "end_time": "2018-11-07T15:20:14.106623Z",
     "start_time": "2018-11-07T15:20:14.100043Z"
    },
    "colab": {
     "base_uri": "https://localhost:8080/"
    },
    "execution": {
     "iopub.execute_input": "2025-01-24T12:32:27.998819Z",
     "iopub.status.busy": "2025-01-24T12:32:27.998114Z",
     "iopub.status.idle": "2025-01-24T12:32:28.008506Z",
     "shell.execute_reply": "2025-01-24T12:32:28.006881Z",
     "shell.execute_reply.started": "2025-01-24T12:32:27.998763Z"
    },
    "executionInfo": {
     "elapsed": 7,
     "status": "ok",
     "timestamp": 1719125589080,
     "user": {
      "displayName": "kc-aim",
      "userId": "16968997735368758960"
     },
     "user_tz": -480
    },
    "id": "YqB_FE0plBIL",
    "outputId": "920b2215-91a6-4639-92aa-b6356a986cc0"
   },
   "outputs": [
    {
     "data": {
      "text/plain": [
       "8192"
      ]
     },
     "execution_count": 55,
     "metadata": {},
     "output_type": "execute_result"
    }
   ],
   "source": [
    "len(train_features[0])"
   ]
  },
  {
   "cell_type": "code",
   "execution_count": 56,
   "metadata": {
    "colab": {
     "base_uri": "https://localhost:8080/"
    },
    "execution": {
     "iopub.execute_input": "2025-01-24T12:32:28.208046Z",
     "iopub.status.busy": "2025-01-24T12:32:28.206542Z",
     "iopub.status.idle": "2025-01-24T12:32:28.217655Z",
     "shell.execute_reply": "2025-01-24T12:32:28.216020Z",
     "shell.execute_reply.started": "2025-01-24T12:32:28.207977Z"
    },
    "executionInfo": {
     "elapsed": 3,
     "status": "ok",
     "timestamp": 1719125589080,
     "user": {
      "displayName": "kc-aim",
      "userId": "16968997735368758960"
     },
     "user_tz": -480
    },
    "id": "aQWz307flBIL",
    "outputId": "0a1de737-3515-483d-d508-e12c6454cd83"
   },
   "outputs": [
    {
     "data": {
      "text/plain": [
       "500.0"
      ]
     },
     "execution_count": 56,
     "metadata": {},
     "output_type": "execute_result"
    }
   ],
   "source": [
    "sum(validation_labels)"
   ]
  },
  {
   "cell_type": "code",
   "execution_count": 57,
   "metadata": {
    "execution": {
     "iopub.execute_input": "2025-01-24T12:32:28.518575Z",
     "iopub.status.busy": "2025-01-24T12:32:28.517457Z",
     "iopub.status.idle": "2025-01-24T12:32:28.529145Z",
     "shell.execute_reply": "2025-01-24T12:32:28.527361Z",
     "shell.execute_reply.started": "2025-01-24T12:32:28.518517Z"
    }
   },
   "outputs": [
    {
     "data": {
      "text/plain": [
       "(2000, 8192)"
      ]
     },
     "execution_count": 57,
     "metadata": {},
     "output_type": "execute_result"
    }
   ],
   "source": [
    "train_features.shape"
   ]
  },
  {
   "cell_type": "markdown",
   "metadata": {
    "id": "8Yyymxp0lBIM"
   },
   "source": [
    "At this point, you can define your densely connected classifier (note the use of dropout\n",
    "for regularization) and train it on the data and labels that you just recorded."
   ]
  },
  {
   "cell_type": "markdown",
   "metadata": {
    "id": "YILvXcEjlBIM"
   },
   "source": [
    "# Step 2. Define and train the densely connected classifier"
   ]
  },
  {
   "cell_type": "code",
   "execution_count": 80,
   "metadata": {
    "execution": {
     "iopub.execute_input": "2025-01-24T13:09:02.776089Z",
     "iopub.status.busy": "2025-01-24T13:09:02.775253Z",
     "iopub.status.idle": "2025-01-24T13:09:27.519244Z",
     "shell.execute_reply": "2025-01-24T13:09:27.518529Z",
     "shell.execute_reply.started": "2025-01-24T13:09:02.776022Z"
    }
   },
   "outputs": [
    {
     "name": "stdout",
     "output_type": "stream",
     "text": [
      "Epoch [1/50], Train Loss: 0.2432, Train Acc: 91.45%, Val Loss: 0.1687, Val Acc: 94.80%\n",
      "Epoch [2/50], Train Loss: 0.1398, Train Acc: 95.45%, Val Loss: 0.1448, Val Acc: 94.60%\n",
      "Epoch [3/50], Train Loss: 0.1076, Train Acc: 96.45%, Val Loss: 0.1322, Val Acc: 95.20%\n",
      "Epoch [4/50], Train Loss: 0.0888, Train Acc: 97.20%, Val Loss: 0.1253, Val Acc: 95.20%\n",
      "Epoch [5/50], Train Loss: 0.0710, Train Acc: 98.35%, Val Loss: 0.1218, Val Acc: 95.50%\n",
      "Epoch [6/50], Train Loss: 0.0601, Train Acc: 98.95%, Val Loss: 0.1185, Val Acc: 96.00%\n",
      "Epoch [7/50], Train Loss: 0.0502, Train Acc: 99.25%, Val Loss: 0.1147, Val Acc: 95.40%\n",
      "Epoch [8/50], Train Loss: 0.0416, Train Acc: 99.40%, Val Loss: 0.1166, Val Acc: 95.70%\n",
      "Epoch [9/50], Train Loss: 0.0334, Train Acc: 99.80%, Val Loss: 0.1130, Val Acc: 95.70%\n",
      "Epoch [10/50], Train Loss: 0.0280, Train Acc: 99.90%, Val Loss: 0.1168, Val Acc: 95.80%\n",
      "Epoch [11/50], Train Loss: 0.0229, Train Acc: 99.95%, Val Loss: 0.1162, Val Acc: 95.50%\n",
      "Epoch [12/50], Train Loss: 0.0190, Train Acc: 99.95%, Val Loss: 0.1144, Val Acc: 95.50%\n",
      "Epoch [13/50], Train Loss: 0.0156, Train Acc: 100.00%, Val Loss: 0.1142, Val Acc: 95.70%\n",
      "Epoch [14/50], Train Loss: 0.0124, Train Acc: 100.00%, Val Loss: 0.1154, Val Acc: 95.80%\n",
      "Epoch [15/50], Train Loss: 0.0099, Train Acc: 100.00%, Val Loss: 0.1169, Val Acc: 95.70%\n",
      "Epoch [16/50], Train Loss: 0.0084, Train Acc: 100.00%, Val Loss: 0.1199, Val Acc: 96.00%\n",
      "Epoch [17/50], Train Loss: 0.0067, Train Acc: 100.00%, Val Loss: 0.1239, Val Acc: 95.50%\n",
      "Epoch [18/50], Train Loss: 0.0055, Train Acc: 100.00%, Val Loss: 0.1253, Val Acc: 95.60%\n",
      "Epoch [19/50], Train Loss: 0.0042, Train Acc: 100.00%, Val Loss: 0.1252, Val Acc: 96.00%\n",
      "Epoch [20/50], Train Loss: 0.0034, Train Acc: 100.00%, Val Loss: 0.1301, Val Acc: 95.80%\n",
      "Epoch [21/50], Train Loss: 0.0029, Train Acc: 100.00%, Val Loss: 0.1345, Val Acc: 95.80%\n",
      "Epoch [22/50], Train Loss: 0.0023, Train Acc: 100.00%, Val Loss: 0.1374, Val Acc: 96.00%\n",
      "Epoch [23/50], Train Loss: 0.0018, Train Acc: 100.00%, Val Loss: 0.1401, Val Acc: 95.70%\n",
      "Epoch [24/50], Train Loss: 0.0013, Train Acc: 100.00%, Val Loss: 0.1443, Val Acc: 95.90%\n",
      "Epoch [25/50], Train Loss: 0.0012, Train Acc: 100.00%, Val Loss: 0.1456, Val Acc: 95.90%\n",
      "Epoch [26/50], Train Loss: 0.0009, Train Acc: 100.00%, Val Loss: 0.1492, Val Acc: 96.20%\n",
      "Epoch [27/50], Train Loss: 0.0008, Train Acc: 100.00%, Val Loss: 0.1552, Val Acc: 95.90%\n",
      "Epoch [28/50], Train Loss: 0.0005, Train Acc: 100.00%, Val Loss: 0.1570, Val Acc: 96.10%\n",
      "Epoch [29/50], Train Loss: 0.0004, Train Acc: 100.00%, Val Loss: 0.1641, Val Acc: 95.90%\n",
      "Epoch [30/50], Train Loss: 0.0004, Train Acc: 100.00%, Val Loss: 0.1714, Val Acc: 95.40%\n",
      "Epoch [31/50], Train Loss: 0.0003, Train Acc: 100.00%, Val Loss: 0.1702, Val Acc: 95.90%\n",
      "Epoch [32/50], Train Loss: 0.0002, Train Acc: 100.00%, Val Loss: 0.1733, Val Acc: 95.80%\n",
      "Epoch [33/50], Train Loss: 0.0002, Train Acc: 100.00%, Val Loss: 0.1783, Val Acc: 96.10%\n",
      "Epoch [34/50], Train Loss: 0.0001, Train Acc: 100.00%, Val Loss: 0.1825, Val Acc: 96.00%\n",
      "Epoch [35/50], Train Loss: 0.0001, Train Acc: 100.00%, Val Loss: 0.1906, Val Acc: 95.90%\n",
      "Epoch [36/50], Train Loss: 0.0001, Train Acc: 100.00%, Val Loss: 0.1907, Val Acc: 96.00%\n",
      "Epoch [37/50], Train Loss: 0.0001, Train Acc: 100.00%, Val Loss: 0.1964, Val Acc: 95.80%\n",
      "Epoch [38/50], Train Loss: 0.0001, Train Acc: 100.00%, Val Loss: 0.2025, Val Acc: 95.70%\n",
      "Epoch [39/50], Train Loss: 0.0000, Train Acc: 100.00%, Val Loss: 0.2038, Val Acc: 96.20%\n",
      "Epoch [40/50], Train Loss: 0.0000, Train Acc: 100.00%, Val Loss: 0.2089, Val Acc: 95.70%\n",
      "Epoch [41/50], Train Loss: 0.0000, Train Acc: 100.00%, Val Loss: 0.2162, Val Acc: 96.00%\n",
      "Epoch [42/50], Train Loss: 0.0000, Train Acc: 100.00%, Val Loss: 0.2215, Val Acc: 95.90%\n",
      "Epoch [43/50], Train Loss: 0.0000, Train Acc: 100.00%, Val Loss: 0.2204, Val Acc: 95.90%\n",
      "Epoch [44/50], Train Loss: 0.0000, Train Acc: 100.00%, Val Loss: 0.2253, Val Acc: 96.00%\n",
      "Epoch [45/50], Train Loss: 0.0000, Train Acc: 100.00%, Val Loss: 0.2292, Val Acc: 95.60%\n",
      "Epoch [46/50], Train Loss: 0.0000, Train Acc: 100.00%, Val Loss: 0.2281, Val Acc: 95.90%\n",
      "Epoch [47/50], Train Loss: 0.0000, Train Acc: 100.00%, Val Loss: 0.2340, Val Acc: 95.40%\n",
      "Epoch [48/50], Train Loss: 0.0000, Train Acc: 100.00%, Val Loss: 0.2506, Val Acc: 95.50%\n",
      "Epoch [49/50], Train Loss: 0.0000, Train Acc: 100.00%, Val Loss: 0.2455, Val Acc: 95.60%\n",
      "Epoch [50/50], Train Loss: 0.0000, Train Acc: 100.00%, Val Loss: 0.2546, Val Acc: 95.60%\n"
     ]
    }
   ],
   "source": [
    "import torch\n",
    "import torch.nn as nn\n",
    "import torch.optim as optim\n",
    "from torch.utils.data import DataLoader, TensorDataset\n",
    "\n",
    "# Custom model using the VGG16 features\n",
    "class CustomModel(nn.Module):\n",
    "    def __init__(self):\n",
    "        super(CustomModel, self).__init__()\n",
    "        self.classifier = nn.Sequential(\n",
    "            nn.Linear(4 * 4 * 512, 256),  # Input_dim matches the output of VGG16 when input size is 150x150\n",
    "            nn.ReLU(),\n",
    "            nn.Dropout(0.3),\n",
    "            nn.Linear(256, 1),\n",
    "            nn.Sigmoid()\n",
    "        )\n",
    "\n",
    "    def forward(self, x):\n",
    "        x = self.classifier(x)\n",
    "        return x\n",
    "\n",
    "model = CustomModel()\n",
    "\n",
    "# Loss and optimizer\n",
    "criterion = nn.BCELoss()  # Binary Cross Entropy for binary classification\n",
    "optimizer = optim.RMSprop(model.parameters(), lr=2e-5)\n",
    "\n",
    "# Convert numpy arrays to tensors while ensuring proper handling of gradients\n",
    "train_features_torch = torch.from_numpy(train_features).float()  # Assuming train_features is a numpy array\n",
    "train_labels_torch = torch.from_numpy(train_labels).float().unsqueeze(1)  # Reshape to match output shape\n",
    "\n",
    "validation_features_torch = torch.from_numpy(validation_features).float()\n",
    "validation_labels_torch = torch.from_numpy(validation_labels).float().unsqueeze(1)\n",
    "\n",
    "# Create datasets\n",
    "train_dataset = TensorDataset(train_features_torch, train_labels_torch)\n",
    "validation_dataset = TensorDataset(validation_features_torch, validation_labels_torch)\n",
    "\n",
    "# Data loaders\n",
    "train_loader = DataLoader(train_dataset, batch_size=BATCH_SIZE, shuffle=True)\n",
    "validation_loader = DataLoader(validation_dataset, batch_size=BATCH_SIZE, shuffle=False)\n",
    "\n",
    "# Store training history\n",
    "history = {'train_loss': [], 'train_acc': [], 'val_loss': [], 'val_acc': []}\n",
    "\n",
    "# Training loop\n",
    "NUM_EPOCHS = 50\n",
    "for epoch in range(NUM_EPOCHS):\n",
    "    model.train()\n",
    "    train_loss = 0.0\n",
    "    train_correct = 0\n",
    "    train_total = 0\n",
    "    \n",
    "    for batch_features, batch_labels in train_loader:\n",
    "        # Forward pass\n",
    "        outputs = model(batch_features)\n",
    "        loss = criterion(outputs, batch_labels)\n",
    "        \n",
    "        # Backward pass and optimize\n",
    "        optimizer.zero_grad()\n",
    "        loss.backward()\n",
    "        optimizer.step()\n",
    "        \n",
    "        # Statistics\n",
    "        train_loss += loss.item() * batch_features.size(0)\n",
    "        preds = (outputs > 0.5).float()\n",
    "        train_correct += (preds == batch_labels).sum().item()\n",
    "        train_total += batch_labels.size(0)\n",
    "        \n",
    "    # Validation\n",
    "    model.eval()\n",
    "    val_loss = 0.0\n",
    "    val_correct = 0\n",
    "    val_total = 0\n",
    "    with torch.no_grad():\n",
    "        for batch_features, batch_labels in validation_loader:\n",
    "            outputs = model(batch_features)\n",
    "            loss = criterion(outputs, batch_labels)\n",
    "            val_loss += loss.item() * batch_features.size(0)\n",
    "            preds = (outputs > 0.5).float()\n",
    "            val_correct += (preds == batch_labels).sum().item()\n",
    "            val_total += batch_labels.size(0)\n",
    "\n",
    "    # Calculate average losses and accuracies for the epoch\n",
    "    train_loss = train_loss / train_total\n",
    "    train_acc = train_correct / train_total\n",
    "    val_loss = val_loss / val_total\n",
    "    val_acc = val_correct / val_total\n",
    "\n",
    "    # Store the results in the history dictionary\n",
    "    history['train_loss'].append(train_loss)\n",
    "    history['train_acc'].append(train_acc)\n",
    "    history['val_loss'].append(val_loss)\n",
    "    history['val_acc'].append(val_acc)\n",
    "\n",
    "    print(f'Epoch [{epoch+1}/{NUM_EPOCHS}], Train Loss: {train_loss:.4f}, Train Acc: {100 * train_acc:.2f}%, Val Loss: {val_loss:.4f}, Val Acc: {100 * val_acc:.2f}%')"
   ]
  },
  {
   "cell_type": "markdown",
   "metadata": {
    "id": "r6uED4s4lBIN"
   },
   "source": [
    "Training is very fast, because you only have to deal with two Dense layers—an epoch takes less than one second even on CPU. Let’s look at the loss and accuracy curves during training (see below)"
   ]
  },
  {
   "cell_type": "markdown",
   "metadata": {
    "id": "cFbZ54G0lBIN"
   },
   "source": [
    "# Step 3. Plot the results"
   ]
  },
  {
   "cell_type": "code",
   "execution_count": 79,
   "metadata": {
    "ExecuteTime": {
     "end_time": "2018-11-07T10:54:15.544778Z",
     "start_time": "2018-11-07T10:54:13.409108Z"
    },
    "colab": {
     "base_uri": "https://localhost:8080/",
     "height": 887
    },
    "execution": {
     "iopub.execute_input": "2025-01-24T13:08:51.158953Z",
     "iopub.status.busy": "2025-01-24T13:08:51.158100Z",
     "iopub.status.idle": "2025-01-24T13:08:51.464521Z",
     "shell.execute_reply": "2025-01-24T13:08:51.463479Z",
     "shell.execute_reply.started": "2025-01-24T13:08:51.158881Z"
    },
    "executionInfo": {
     "elapsed": 1046,
     "status": "ok",
     "timestamp": 1719125620388,
     "user": {
      "displayName": "kc-aim",
      "userId": "16968997735368758960"
     },
     "user_tz": -480
    },
    "id": "CbXonOFYlBIN",
    "outputId": "16236467-56bf-4310-9fa7-92ea39c8d957"
   },
   "outputs": [
    {
     "data": {
      "image/png": "[encoded data removed]",
      "text/plain": [
       "<Figure size 640x480 with 1 Axes>"
      ]
     },
     "metadata": {},
     "output_type": "display_data"
    },
    {
     "data": {
      "image/png": "[encoded data removed]",
      "text/plain": [
       "<Figure size 640x480 with 1 Axes>"
      ]
     },
     "metadata": {},
     "output_type": "display_data"
    }
   ],
   "source": [
    "import matplotlib.pyplot as plt\n",
    "%matplotlib inline\n",
    "\n",
    "acc = history['train_acc']\n",
    "val_acc = history['val_acc']\n",
    "loss = history['train_loss']\n",
    "val_loss = history['val_loss']\n",
    "epochs = range(1, len(acc) + 1)\n",
    "plt.plot(epochs, acc, 'bo', label='Training acc')\n",
    "plt.plot(epochs, val_acc, 'b', label='Validation acc')\n",
    "plt.title('Training and validation accuracy')\n",
    "plt.legend()\n",
    "plt.figure()\n",
    "plt.plot(epochs, loss, 'bo', label='Training loss')\n",
    "plt.plot(epochs, val_loss, 'b', label='Validation loss')\n",
    "plt.title('Training and validation loss')\n",
    "plt.legend()\n",
    "plt.show()"
   ]
  },
  {
   "cell_type": "markdown",
   "metadata": {
    "id": "3Ood2m79lBIO"
   },
   "source": [
    "You reach a validation accuracy of about 95%—much better than you achieved previously with the small model trained from scratch. But the plots also indicate that you’re overfitting almost from the start—despite using dropout with a fairly large rate. That’s because this technique doesn’t use data augmentation, which is essential for preventing overfitting with small image datasets.\n",
    "\n",
    "<div class=\"alert alert-block alert-success\">\n",
    "\n",
    "### Recap of Model Performance\n",
    "1. Small CNN (70-73%)\n",
    "2. Small CNN + Data Augmentation and Dropout (83%)\n",
    "3. VGG16 with frozen Dense Layer (95%)\n",
    "\n",
    "</div>"
   ]
  },
  {
   "cell_type": "markdown",
   "metadata": {
    "id": "aS9XZPjjlBIO"
   },
   "source": [
    "# Step 4. (SLOW) Feature extraction with data augmentation\n",
    "Now, let’s review the second technique I mentioned for doing feature extraction, which is much slower and more expensive, but which allows you to use data augmentation during training: extending the conv_base model and running it end to end on the inputs.\n",
    "\n",
    "<div class=\"alert alert-block alert-warning\">\n",
    "\n",
    "**NOTE: This technique is so expensive that if you can't run your code on GPU, then the previous technique is the way to go.**\n",
    "\n",
    "</div>\n",
    "\n",
    "Because models behave just like layers, you can add a model (like conv_base) to a Sequential model just like you would add a layer."
   ]
  },
  {
   "cell_type": "markdown",
   "metadata": {
    "id": "GO7yRbmslBIO"
   },
   "source": [
    "## Step 4A. Add a densely connected classifier on top of the convolutional base"
   ]
  },
  {
   "cell_type": "code",
   "execution_count": 93,
   "metadata": {
    "execution": {
     "iopub.execute_input": "2025-01-24T13:36:41.276116Z",
     "iopub.status.busy": "2025-01-24T13:36:41.275265Z",
     "iopub.status.idle": "2025-01-24T13:36:42.823567Z",
     "shell.execute_reply": "2025-01-24T13:36:42.821418Z",
     "shell.execute_reply.started": "2025-01-24T13:36:41.276052Z"
    }
   },
   "outputs": [
    {
     "name": "stdout",
     "output_type": "stream",
     "text": [
      "This is the number of trainable weights before freezing the conv base: 16812353\n",
      "This is the number of trainable weights after freezing the conv base: 2097665\n"
     ]
    }
   ],
   "source": [
    "import torch\n",
    "import torch.nn as nn\n",
    "from torchvision.models import vgg16\n",
    "\n",
    "# Load pre-trained VGG16 model\n",
    "vgg = vgg16(pretrained=True)\n",
    "\n",
    "# Remove the final classifier layers since we only want the convolutional base\n",
    "# VGG16 features are returned up to the last convolutional layer\n",
    "conv_base = nn.Sequential(*list(vgg.features.children()))\n",
    "\n",
    "# Define the model\n",
    "class CustomVGG16(nn.Module):\n",
    "    def __init__(self, conv_base):\n",
    "        super(CustomVGG16, self).__init__()\n",
    "        self.conv_base = conv_base\n",
    "        self.flatten = nn.Flatten()\n",
    "        self.fc1 = nn.Linear(512 * 4 * 4, 256)  # Assuming VGG16 with 7x7 feature map after conv layers\n",
    "        self.fc2 = nn.Linear(256, 1)\n",
    "        self.relu = nn.ReLU()\n",
    "        self.sigmoid = nn.Sigmoid()\n",
    "\n",
    "    def forward(self, x):\n",
    "        x = self.conv_base(x)\n",
    "        x = self.flatten(x)\n",
    "        x = self.relu(self.fc1(x))\n",
    "        x = self.sigmoid(self.fc2(x))\n",
    "        return x\n",
    "\n",
    "# Instantiate the model\n",
    "model = CustomVGG16(conv_base)\n",
    "\n",
    "# Print trainable parameters before and after freezing the conv_base\n",
    "print('This is the number of trainable weights before freezing the conv base:', \n",
    "      sum(p.numel() for p in model.parameters() if p.requires_grad))\n",
    "\n",
    "# Freeze the conv_base parameters\n",
    "for param in model.conv_base.parameters():\n",
    "    param.requires_grad = False\n",
    "\n",
    "print('This is the number of trainable weights after freezing the conv base:', \n",
    "      sum(p.numel() for p in model.parameters() if p.requires_grad))"
   ]
  },
  {
   "cell_type": "markdown",
   "metadata": {
    "id": "9p9zHGOOlBIP"
   },
   "source": [
    "As you can see, the convolutional base of VGG16 has 14,714,688 parameters, which is very large. The classifier you’re adding on top has 2 million parameters.\n",
    "\n",
    "Before you compile and train the model, it’s very important to freeze the convolutional base. Freezing a layer or set of layers means preventing their weights from being updated during training. If you don’t do this, then the representations that were previously learned by the convolutional base will be modified during training. Because the Dense layers on top are randomly initialized, very large weight updates would be propagated through the network, effectively destroying the representations previously\n",
    "learned."
   ]
  },
  {
   "cell_type": "markdown",
   "metadata": {
    "id": "_WXiJajrlBIP"
   },
   "source": [
    "With this setup, only the weights from the two Dense layers that you added will be trained. That’s a total of four weight tensors: two per layer (the main weight matrix and the bias vector). Note that in order for these changes to take effect, you must first compile the model. If you ever modify weight trainability after compilation, you\n",
    "should then recompile the model, or these changes will be ignored.\n",
    "\n",
    "Now you can start training your model, with the same data-augmentation configuration that you used in the previous example. This will take a very long time if you will not run this using GPU, see example below!"
   ]
  },
  {
   "cell_type": "markdown",
   "metadata": {
    "id": "_LUDkNdQlBIP"
   },
   "source": [
    "## Step 4B.  Training the model end to end with a frozen convolutional base"
   ]
  },
  {
   "cell_type": "code",
   "execution_count": 117,
   "metadata": {
    "execution": {
     "iopub.execute_input": "2025-01-24T14:12:12.987646Z",
     "iopub.status.busy": "2025-01-24T14:12:12.986847Z",
     "iopub.status.idle": "2025-01-24T14:12:12.996546Z",
     "shell.execute_reply": "2025-01-24T14:12:12.994753Z",
     "shell.execute_reply.started": "2025-01-24T14:12:12.987585Z"
    }
   },
   "outputs": [],
   "source": [
    "BATCH_SIZE = 40"
   ]
  },
  {
   "cell_type": "code",
   "execution_count": 95,
   "metadata": {
    "execution": {
     "iopub.execute_input": "2025-01-24T13:36:43.549848Z",
     "iopub.status.busy": "2025-01-24T13:36:43.549134Z",
     "iopub.status.idle": "2025-01-24T13:36:43.588496Z",
     "shell.execute_reply": "2025-01-24T13:36:43.587062Z",
     "shell.execute_reply.started": "2025-01-24T13:36:43.549791Z"
    }
   },
   "outputs": [],
   "source": [
    "import torch\n",
    "from torchvision import datasets, transforms\n",
    "from torch.utils.data import DataLoader\n",
    "\n",
    "# Define transformations for training data\n",
    "train_transform = transforms.Compose([\n",
    "    transforms.Resize((150, 150)),\n",
    "    transforms.RandomRotation(40),\n",
    "    transforms.RandomHorizontalFlip(),\n",
    "    transforms.RandomResizedCrop(150, scale=(0.8, 1.0), ratio=(0.9, 1.1)),\n",
    "    transforms.ColorJitter(brightness=0.2, contrast=0.2, saturation=0.2),\n",
    "    transforms.ToTensor(),\n",
    "])\n",
    "\n",
    "# Define transformations for validation data (only normalization)\n",
    "test_transform = transforms.Compose([\n",
    "    transforms.Resize((150, 150)),\n",
    "    transforms.ToTensor(),\n",
    "])\n",
    "\n",
    "# Assuming 'train_dir' and 'validation_dir' are paths to your directories\n",
    "train_dataset = datasets.ImageFolder(train_dir, transform=train_transform)\n",
    "validation_dataset = datasets.ImageFolder(validation_dir, transform=test_transform)\n",
    "\n",
    "# Data loaders\n",
    "train_loader = DataLoader(train_dataset, batch_size=BATCH_SIZE, shuffle=True, num_workers=0, pin_memory=True)\n",
    "validation_loader = DataLoader(validation_dataset, batch_size=BATCH_SIZE, shuffle=False, num_workers=0, pin_memory=True)"
   ]
  },
  {
   "cell_type": "code",
   "execution_count": 97,
   "metadata": {
    "execution": {
     "iopub.execute_input": "2025-01-24T13:38:09.170999Z",
     "iopub.status.busy": "2025-01-24T13:38:09.170180Z",
     "iopub.status.idle": "2025-01-24T13:53:02.320490Z",
     "shell.execute_reply": "2025-01-24T13:53:02.319459Z",
     "shell.execute_reply.started": "2025-01-24T13:38:09.170931Z"
    },
    "scrolled": true
   },
   "outputs": [
    {
     "name": "stdout",
     "output_type": "stream",
     "text": [
      "CUDA is available. Training on GPU.\n"
     ]
    },
    {
     "name": "stderr",
     "output_type": "stream",
     "text": [
      "Epoch 1/50 [Train]: 100%|██████████| 100/100 [00:14<00:00,  6.79it/s]\n",
      "Epoch 1/50 [Val]: 100%|██████████| 50/50 [00:04<00:00, 10.27it/s]\n"
     ]
    },
    {
     "name": "stdout",
     "output_type": "stream",
     "text": [
      "Epoch 1/50: Train Loss: 0.2643, Train Acc: 0.8875, Val Loss: 0.1708, Val Acc: 0.9430\n"
     ]
    },
    {
     "name": "stderr",
     "output_type": "stream",
     "text": [
      "Epoch 2/50 [Train]: 100%|██████████| 100/100 [00:13<00:00,  7.21it/s]\n",
      "Epoch 2/50 [Val]: 100%|██████████| 50/50 [00:04<00:00, 10.31it/s]\n"
     ]
    },
    {
     "name": "stdout",
     "output_type": "stream",
     "text": [
      "Epoch 2/50: Train Loss: 0.2387, Train Acc: 0.9035, Val Loss: 0.1844, Val Acc: 0.9330\n"
     ]
    },
    {
     "name": "stderr",
     "output_type": "stream",
     "text": [
      "Epoch 3/50 [Train]: 100%|██████████| 100/100 [00:13<00:00,  7.30it/s]\n",
      "Epoch 3/50 [Val]: 100%|██████████| 50/50 [00:04<00:00, 10.48it/s]\n"
     ]
    },
    {
     "name": "stdout",
     "output_type": "stream",
     "text": [
      "Epoch 3/50: Train Loss: 0.2139, Train Acc: 0.9160, Val Loss: 0.1467, Val Acc: 0.9410\n"
     ]
    },
    {
     "name": "stderr",
     "output_type": "stream",
     "text": [
      "Epoch 4/50 [Train]: 100%|██████████| 100/100 [00:13<00:00,  7.16it/s]\n",
      "Epoch 4/50 [Val]: 100%|██████████| 50/50 [00:04<00:00, 10.63it/s]\n"
     ]
    },
    {
     "name": "stdout",
     "output_type": "stream",
     "text": [
      "Epoch 4/50: Train Loss: 0.1972, Train Acc: 0.9175, Val Loss: 0.1654, Val Acc: 0.9380\n"
     ]
    },
    {
     "name": "stderr",
     "output_type": "stream",
     "text": [
      "Epoch 5/50 [Train]: 100%|██████████| 100/100 [00:13<00:00,  7.44it/s]\n",
      "Epoch 5/50 [Val]: 100%|██████████| 50/50 [00:04<00:00, 10.71it/s]\n"
     ]
    },
    {
     "name": "stdout",
     "output_type": "stream",
     "text": [
      "Epoch 5/50: Train Loss: 0.1691, Train Acc: 0.9290, Val Loss: 0.1459, Val Acc: 0.9440\n"
     ]
    },
    {
     "name": "stderr",
     "output_type": "stream",
     "text": [
      "Epoch 6/50 [Train]: 100%|██████████| 100/100 [00:13<00:00,  7.50it/s]\n",
      "Epoch 6/50 [Val]: 100%|██████████| 50/50 [00:04<00:00, 10.62it/s]\n"
     ]
    },
    {
     "name": "stdout",
     "output_type": "stream",
     "text": [
      "Epoch 6/50: Train Loss: 0.1525, Train Acc: 0.9395, Val Loss: 0.2107, Val Acc: 0.9290\n"
     ]
    },
    {
     "name": "stderr",
     "output_type": "stream",
     "text": [
      "Epoch 7/50 [Train]: 100%|██████████| 100/100 [00:13<00:00,  7.47it/s]\n",
      "Epoch 7/50 [Val]: 100%|██████████| 50/50 [00:04<00:00, 10.14it/s]\n"
     ]
    },
    {
     "name": "stdout",
     "output_type": "stream",
     "text": [
      "Epoch 7/50: Train Loss: 0.1554, Train Acc: 0.9375, Val Loss: 0.1807, Val Acc: 0.9400\n"
     ]
    },
    {
     "name": "stderr",
     "output_type": "stream",
     "text": [
      "Epoch 8/50 [Train]: 100%|██████████| 100/100 [00:13<00:00,  7.42it/s]\n",
      "Epoch 8/50 [Val]: 100%|██████████| 50/50 [00:04<00:00, 10.53it/s]\n"
     ]
    },
    {
     "name": "stdout",
     "output_type": "stream",
     "text": [
      "Epoch 8/50: Train Loss: 0.1530, Train Acc: 0.9325, Val Loss: 0.1951, Val Acc: 0.9330\n"
     ]
    },
    {
     "name": "stderr",
     "output_type": "stream",
     "text": [
      "Epoch 9/50 [Train]: 100%|██████████| 100/100 [00:13<00:00,  7.53it/s]\n",
      "Epoch 9/50 [Val]: 100%|██████████| 50/50 [00:04<00:00, 11.25it/s]\n"
     ]
    },
    {
     "name": "stdout",
     "output_type": "stream",
     "text": [
      "Epoch 9/50: Train Loss: 0.1205, Train Acc: 0.9510, Val Loss: 0.1963, Val Acc: 0.9290\n"
     ]
    },
    {
     "name": "stderr",
     "output_type": "stream",
     "text": [
      "Epoch 10/50 [Train]: 100%|██████████| 100/100 [00:13<00:00,  7.45it/s]\n",
      "Epoch 10/50 [Val]: 100%|██████████| 50/50 [00:04<00:00, 10.93it/s]\n"
     ]
    },
    {
     "name": "stdout",
     "output_type": "stream",
     "text": [
      "Epoch 10/50: Train Loss: 0.1205, Train Acc: 0.9510, Val Loss: 0.2125, Val Acc: 0.9290\n"
     ]
    },
    {
     "name": "stderr",
     "output_type": "stream",
     "text": [
      "Epoch 11/50 [Train]: 100%|██████████| 100/100 [00:13<00:00,  7.39it/s]\n",
      "Epoch 11/50 [Val]: 100%|██████████| 50/50 [00:04<00:00, 10.91it/s]\n"
     ]
    },
    {
     "name": "stdout",
     "output_type": "stream",
     "text": [
      "Epoch 11/50: Train Loss: 0.1234, Train Acc: 0.9490, Val Loss: 0.1625, Val Acc: 0.9480\n"
     ]
    },
    {
     "name": "stderr",
     "output_type": "stream",
     "text": [
      "Epoch 12/50 [Train]: 100%|██████████| 100/100 [00:13<00:00,  7.52it/s]\n",
      "Epoch 12/50 [Val]: 100%|██████████| 50/50 [00:04<00:00, 11.53it/s]\n"
     ]
    },
    {
     "name": "stdout",
     "output_type": "stream",
     "text": [
      "Epoch 12/50: Train Loss: 0.1210, Train Acc: 0.9510, Val Loss: 0.1649, Val Acc: 0.9490\n"
     ]
    },
    {
     "name": "stderr",
     "output_type": "stream",
     "text": [
      "Epoch 13/50 [Train]: 100%|██████████| 100/100 [00:13<00:00,  7.58it/s]\n",
      "Epoch 13/50 [Val]: 100%|██████████| 50/50 [00:04<00:00, 11.59it/s]\n"
     ]
    },
    {
     "name": "stdout",
     "output_type": "stream",
     "text": [
      "Epoch 13/50: Train Loss: 0.0997, Train Acc: 0.9585, Val Loss: 0.1913, Val Acc: 0.9390\n"
     ]
    },
    {
     "name": "stderr",
     "output_type": "stream",
     "text": [
      "Epoch 14/50 [Train]: 100%|██████████| 100/100 [00:13<00:00,  7.63it/s]\n",
      "Epoch 14/50 [Val]: 100%|██████████| 50/50 [00:04<00:00, 11.29it/s]\n"
     ]
    },
    {
     "name": "stdout",
     "output_type": "stream",
     "text": [
      "Epoch 14/50: Train Loss: 0.0841, Train Acc: 0.9630, Val Loss: 0.1997, Val Acc: 0.9510\n"
     ]
    },
    {
     "name": "stderr",
     "output_type": "stream",
     "text": [
      "Epoch 15/50 [Train]: 100%|██████████| 100/100 [00:13<00:00,  7.37it/s]\n",
      "Epoch 15/50 [Val]: 100%|██████████| 50/50 [00:04<00:00, 11.40it/s]\n"
     ]
    },
    {
     "name": "stdout",
     "output_type": "stream",
     "text": [
      "Epoch 15/50: Train Loss: 0.0996, Train Acc: 0.9590, Val Loss: 0.1953, Val Acc: 0.9510\n"
     ]
    },
    {
     "name": "stderr",
     "output_type": "stream",
     "text": [
      "Epoch 16/50 [Train]: 100%|██████████| 100/100 [00:12<00:00,  7.70it/s]\n",
      "Epoch 16/50 [Val]: 100%|██████████| 50/50 [00:04<00:00, 11.34it/s]\n"
     ]
    },
    {
     "name": "stdout",
     "output_type": "stream",
     "text": [
      "Epoch 16/50: Train Loss: 0.1019, Train Acc: 0.9610, Val Loss: 0.2285, Val Acc: 0.9380\n"
     ]
    },
    {
     "name": "stderr",
     "output_type": "stream",
     "text": [
      "Epoch 17/50 [Train]: 100%|██████████| 100/100 [00:13<00:00,  7.63it/s]\n",
      "Epoch 17/50 [Val]: 100%|██████████| 50/50 [00:04<00:00, 11.72it/s]\n"
     ]
    },
    {
     "name": "stdout",
     "output_type": "stream",
     "text": [
      "Epoch 17/50: Train Loss: 0.0900, Train Acc: 0.9650, Val Loss: 0.1907, Val Acc: 0.9510\n"
     ]
    },
    {
     "name": "stderr",
     "output_type": "stream",
     "text": [
      "Epoch 18/50 [Train]: 100%|██████████| 100/100 [00:13<00:00,  7.49it/s]\n",
      "Epoch 18/50 [Val]: 100%|██████████| 50/50 [00:04<00:00, 10.83it/s]\n"
     ]
    },
    {
     "name": "stdout",
     "output_type": "stream",
     "text": [
      "Epoch 18/50: Train Loss: 0.0875, Train Acc: 0.9715, Val Loss: 0.1710, Val Acc: 0.9510\n"
     ]
    },
    {
     "name": "stderr",
     "output_type": "stream",
     "text": [
      "Epoch 19/50 [Train]: 100%|██████████| 100/100 [00:13<00:00,  7.51it/s]\n",
      "Epoch 19/50 [Val]: 100%|██████████| 50/50 [00:04<00:00, 10.95it/s]\n"
     ]
    },
    {
     "name": "stdout",
     "output_type": "stream",
     "text": [
      "Epoch 19/50: Train Loss: 0.0832, Train Acc: 0.9695, Val Loss: 0.2088, Val Acc: 0.9440\n"
     ]
    },
    {
     "name": "stderr",
     "output_type": "stream",
     "text": [
      "Epoch 20/50 [Train]: 100%|██████████| 100/100 [00:13<00:00,  7.39it/s]\n",
      "Epoch 20/50 [Val]: 100%|██████████| 50/50 [00:04<00:00, 10.67it/s]\n"
     ]
    },
    {
     "name": "stdout",
     "output_type": "stream",
     "text": [
      "Epoch 20/50: Train Loss: 0.0735, Train Acc: 0.9755, Val Loss: 0.2206, Val Acc: 0.9440\n"
     ]
    },
    {
     "name": "stderr",
     "output_type": "stream",
     "text": [
      "Epoch 21/50 [Train]: 100%|██████████| 100/100 [00:13<00:00,  7.38it/s]\n",
      "Epoch 21/50 [Val]: 100%|██████████| 50/50 [00:04<00:00, 10.47it/s]\n"
     ]
    },
    {
     "name": "stdout",
     "output_type": "stream",
     "text": [
      "Epoch 21/50: Train Loss: 0.0853, Train Acc: 0.9680, Val Loss: 0.2433, Val Acc: 0.9390\n"
     ]
    },
    {
     "name": "stderr",
     "output_type": "stream",
     "text": [
      "Epoch 22/50 [Train]: 100%|██████████| 100/100 [00:13<00:00,  7.19it/s]\n",
      "Epoch 22/50 [Val]: 100%|██████████| 50/50 [00:04<00:00, 10.59it/s]\n"
     ]
    },
    {
     "name": "stdout",
     "output_type": "stream",
     "text": [
      "Epoch 22/50: Train Loss: 0.0659, Train Acc: 0.9780, Val Loss: 0.2243, Val Acc: 0.9410\n"
     ]
    },
    {
     "name": "stderr",
     "output_type": "stream",
     "text": [
      "Epoch 23/50 [Train]: 100%|██████████| 100/100 [00:13<00:00,  7.39it/s]\n",
      "Epoch 23/50 [Val]: 100%|██████████| 50/50 [00:04<00:00, 11.04it/s]\n"
     ]
    },
    {
     "name": "stdout",
     "output_type": "stream",
     "text": [
      "Epoch 23/50: Train Loss: 0.0766, Train Acc: 0.9695, Val Loss: 0.2109, Val Acc: 0.9500\n"
     ]
    },
    {
     "name": "stderr",
     "output_type": "stream",
     "text": [
      "Epoch 24/50 [Train]: 100%|██████████| 100/100 [00:13<00:00,  7.18it/s]\n",
      "Epoch 24/50 [Val]: 100%|██████████| 50/50 [00:04<00:00, 10.74it/s]\n"
     ]
    },
    {
     "name": "stdout",
     "output_type": "stream",
     "text": [
      "Epoch 24/50: Train Loss: 0.0693, Train Acc: 0.9750, Val Loss: 0.2036, Val Acc: 0.9520\n"
     ]
    },
    {
     "name": "stderr",
     "output_type": "stream",
     "text": [
      "Epoch 25/50 [Train]: 100%|██████████| 100/100 [00:13<00:00,  7.56it/s]\n",
      "Epoch 25/50 [Val]: 100%|██████████| 50/50 [00:04<00:00, 11.25it/s]\n"
     ]
    },
    {
     "name": "stdout",
     "output_type": "stream",
     "text": [
      "Epoch 25/50: Train Loss: 0.0685, Train Acc: 0.9740, Val Loss: 0.2344, Val Acc: 0.9510\n"
     ]
    },
    {
     "name": "stderr",
     "output_type": "stream",
     "text": [
      "Epoch 26/50 [Train]: 100%|██████████| 100/100 [00:13<00:00,  7.41it/s]\n",
      "Epoch 26/50 [Val]: 100%|██████████| 50/50 [00:04<00:00, 11.51it/s]\n"
     ]
    },
    {
     "name": "stdout",
     "output_type": "stream",
     "text": [
      "Epoch 26/50: Train Loss: 0.0608, Train Acc: 0.9775, Val Loss: 0.2218, Val Acc: 0.9500\n"
     ]
    },
    {
     "name": "stderr",
     "output_type": "stream",
     "text": [
      "Epoch 27/50 [Train]: 100%|██████████| 100/100 [00:13<00:00,  7.38it/s]\n",
      "Epoch 27/50 [Val]: 100%|██████████| 50/50 [00:04<00:00, 11.32it/s]\n"
     ]
    },
    {
     "name": "stdout",
     "output_type": "stream",
     "text": [
      "Epoch 27/50: Train Loss: 0.0457, Train Acc: 0.9845, Val Loss: 0.2348, Val Acc: 0.9430\n"
     ]
    },
    {
     "name": "stderr",
     "output_type": "stream",
     "text": [
      "Epoch 28/50 [Train]: 100%|██████████| 100/100 [00:13<00:00,  7.55it/s]\n",
      "Epoch 28/50 [Val]: 100%|██████████| 50/50 [00:04<00:00, 11.46it/s]\n"
     ]
    },
    {
     "name": "stdout",
     "output_type": "stream",
     "text": [
      "Epoch 28/50: Train Loss: 0.0674, Train Acc: 0.9720, Val Loss: 0.2466, Val Acc: 0.9460\n"
     ]
    },
    {
     "name": "stderr",
     "output_type": "stream",
     "text": [
      "Epoch 29/50 [Train]: 100%|██████████| 100/100 [00:13<00:00,  7.64it/s]\n",
      "Epoch 29/50 [Val]: 100%|██████████| 50/50 [00:04<00:00, 11.09it/s]\n"
     ]
    },
    {
     "name": "stdout",
     "output_type": "stream",
     "text": [
      "Epoch 29/50: Train Loss: 0.0663, Train Acc: 0.9745, Val Loss: 0.1977, Val Acc: 0.9500\n"
     ]
    },
    {
     "name": "stderr",
     "output_type": "stream",
     "text": [
      "Epoch 30/50 [Train]: 100%|██████████| 100/100 [00:13<00:00,  7.51it/s]\n",
      "Epoch 30/50 [Val]: 100%|██████████| 50/50 [00:04<00:00, 11.18it/s]\n"
     ]
    },
    {
     "name": "stdout",
     "output_type": "stream",
     "text": [
      "Epoch 30/50: Train Loss: 0.0782, Train Acc: 0.9735, Val Loss: 0.2024, Val Acc: 0.9550\n"
     ]
    },
    {
     "name": "stderr",
     "output_type": "stream",
     "text": [
      "Epoch 31/50 [Train]: 100%|██████████| 100/100 [00:13<00:00,  7.64it/s]\n",
      "Epoch 31/50 [Val]: 100%|██████████| 50/50 [00:04<00:00, 11.22it/s]\n"
     ]
    },
    {
     "name": "stdout",
     "output_type": "stream",
     "text": [
      "Epoch 31/50: Train Loss: 0.0637, Train Acc: 0.9725, Val Loss: 0.2328, Val Acc: 0.9440\n"
     ]
    },
    {
     "name": "stderr",
     "output_type": "stream",
     "text": [
      "Epoch 32/50 [Train]: 100%|██████████| 100/100 [00:13<00:00,  7.65it/s]\n",
      "Epoch 32/50 [Val]: 100%|██████████| 50/50 [00:04<00:00, 11.34it/s]\n"
     ]
    },
    {
     "name": "stdout",
     "output_type": "stream",
     "text": [
      "Epoch 32/50: Train Loss: 0.0550, Train Acc: 0.9780, Val Loss: 0.2125, Val Acc: 0.9510\n"
     ]
    },
    {
     "name": "stderr",
     "output_type": "stream",
     "text": [
      "Epoch 33/50 [Train]: 100%|██████████| 100/100 [00:13<00:00,  7.65it/s]\n",
      "Epoch 33/50 [Val]: 100%|██████████| 50/50 [00:04<00:00, 11.55it/s]\n"
     ]
    },
    {
     "name": "stdout",
     "output_type": "stream",
     "text": [
      "Epoch 33/50: Train Loss: 0.0407, Train Acc: 0.9860, Val Loss: 0.3554, Val Acc: 0.9410\n"
     ]
    },
    {
     "name": "stderr",
     "output_type": "stream",
     "text": [
      "Epoch 34/50 [Train]: 100%|██████████| 100/100 [00:13<00:00,  7.58it/s]\n",
      "Epoch 34/50 [Val]: 100%|██████████| 50/50 [00:04<00:00, 11.29it/s]\n"
     ]
    },
    {
     "name": "stdout",
     "output_type": "stream",
     "text": [
      "Epoch 34/50: Train Loss: 0.0667, Train Acc: 0.9760, Val Loss: 0.1989, Val Acc: 0.9480\n"
     ]
    },
    {
     "name": "stderr",
     "output_type": "stream",
     "text": [
      "Epoch 35/50 [Train]: 100%|██████████| 100/100 [00:13<00:00,  7.54it/s]\n",
      "Epoch 35/50 [Val]: 100%|██████████| 50/50 [00:04<00:00, 10.55it/s]\n"
     ]
    },
    {
     "name": "stdout",
     "output_type": "stream",
     "text": [
      "Epoch 35/50: Train Loss: 0.0469, Train Acc: 0.9810, Val Loss: 0.2098, Val Acc: 0.9410\n"
     ]
    },
    {
     "name": "stderr",
     "output_type": "stream",
     "text": [
      "Epoch 36/50 [Train]: 100%|██████████| 100/100 [00:13<00:00,  7.41it/s]\n",
      "Epoch 36/50 [Val]: 100%|██████████| 50/50 [00:04<00:00, 11.31it/s]\n"
     ]
    },
    {
     "name": "stdout",
     "output_type": "stream",
     "text": [
      "Epoch 36/50: Train Loss: 0.0429, Train Acc: 0.9840, Val Loss: 0.3028, Val Acc: 0.9410\n"
     ]
    },
    {
     "name": "stderr",
     "output_type": "stream",
     "text": [
      "Epoch 37/50 [Train]: 100%|██████████| 100/100 [00:13<00:00,  7.53it/s]\n",
      "Epoch 37/50 [Val]: 100%|██████████| 50/50 [00:04<00:00, 11.46it/s]\n"
     ]
    },
    {
     "name": "stdout",
     "output_type": "stream",
     "text": [
      "Epoch 37/50: Train Loss: 0.0439, Train Acc: 0.9855, Val Loss: 0.2836, Val Acc: 0.9450\n"
     ]
    },
    {
     "name": "stderr",
     "output_type": "stream",
     "text": [
      "Epoch 38/50 [Train]: 100%|██████████| 100/100 [00:13<00:00,  7.63it/s]\n",
      "Epoch 38/50 [Val]: 100%|██████████| 50/50 [00:04<00:00, 11.42it/s]\n"
     ]
    },
    {
     "name": "stdout",
     "output_type": "stream",
     "text": [
      "Epoch 38/50: Train Loss: 0.0453, Train Acc: 0.9830, Val Loss: 0.2907, Val Acc: 0.9410\n"
     ]
    },
    {
     "name": "stderr",
     "output_type": "stream",
     "text": [
      "Epoch 39/50 [Train]: 100%|██████████| 100/100 [00:13<00:00,  7.50it/s]\n",
      "Epoch 39/50 [Val]: 100%|██████████| 50/50 [00:04<00:00, 11.67it/s]\n"
     ]
    },
    {
     "name": "stdout",
     "output_type": "stream",
     "text": [
      "Epoch 39/50: Train Loss: 0.0633, Train Acc: 0.9750, Val Loss: 0.2710, Val Acc: 0.9480\n"
     ]
    },
    {
     "name": "stderr",
     "output_type": "stream",
     "text": [
      "Epoch 40/50 [Train]: 100%|██████████| 100/100 [00:13<00:00,  7.58it/s]\n",
      "Epoch 40/50 [Val]: 100%|██████████| 50/50 [00:04<00:00, 11.42it/s]\n"
     ]
    },
    {
     "name": "stdout",
     "output_type": "stream",
     "text": [
      "Epoch 40/50: Train Loss: 0.0571, Train Acc: 0.9795, Val Loss: 0.2297, Val Acc: 0.9460\n"
     ]
    },
    {
     "name": "stderr",
     "output_type": "stream",
     "text": [
      "Epoch 41/50 [Train]: 100%|██████████| 100/100 [00:13<00:00,  7.64it/s]\n",
      "Epoch 41/50 [Val]: 100%|██████████| 50/50 [00:04<00:00, 11.35it/s]\n"
     ]
    },
    {
     "name": "stdout",
     "output_type": "stream",
     "text": [
      "Epoch 41/50: Train Loss: 0.0399, Train Acc: 0.9830, Val Loss: 0.2435, Val Acc: 0.9510\n"
     ]
    },
    {
     "name": "stderr",
     "output_type": "stream",
     "text": [
      "Epoch 42/50 [Train]: 100%|██████████| 100/100 [00:13<00:00,  7.63it/s]\n",
      "Epoch 42/50 [Val]: 100%|██████████| 50/50 [00:04<00:00, 11.49it/s]\n"
     ]
    },
    {
     "name": "stdout",
     "output_type": "stream",
     "text": [
      "Epoch 42/50: Train Loss: 0.0367, Train Acc: 0.9880, Val Loss: 0.2871, Val Acc: 0.9480\n"
     ]
    },
    {
     "name": "stderr",
     "output_type": "stream",
     "text": [
      "Epoch 43/50 [Train]: 100%|██████████| 100/100 [00:13<00:00,  7.57it/s]\n",
      "Epoch 43/50 [Val]: 100%|██████████| 50/50 [00:04<00:00, 11.45it/s]\n"
     ]
    },
    {
     "name": "stdout",
     "output_type": "stream",
     "text": [
      "Epoch 43/50: Train Loss: 0.0507, Train Acc: 0.9795, Val Loss: 0.2517, Val Acc: 0.9420\n"
     ]
    },
    {
     "name": "stderr",
     "output_type": "stream",
     "text": [
      "Epoch 44/50 [Train]: 100%|██████████| 100/100 [00:13<00:00,  7.45it/s]\n",
      "Epoch 44/50 [Val]: 100%|██████████| 50/50 [00:04<00:00, 11.30it/s]\n"
     ]
    },
    {
     "name": "stdout",
     "output_type": "stream",
     "text": [
      "Epoch 44/50: Train Loss: 0.0400, Train Acc: 0.9865, Val Loss: 0.3897, Val Acc: 0.9430\n"
     ]
    },
    {
     "name": "stderr",
     "output_type": "stream",
     "text": [
      "Epoch 45/50 [Train]: 100%|██████████| 100/100 [00:13<00:00,  7.65it/s]\n",
      "Epoch 45/50 [Val]: 100%|██████████| 50/50 [00:04<00:00, 11.51it/s]\n"
     ]
    },
    {
     "name": "stdout",
     "output_type": "stream",
     "text": [
      "Epoch 45/50: Train Loss: 0.0427, Train Acc: 0.9845, Val Loss: 0.4843, Val Acc: 0.9370\n"
     ]
    },
    {
     "name": "stderr",
     "output_type": "stream",
     "text": [
      "Epoch 46/50 [Train]: 100%|██████████| 100/100 [00:13<00:00,  7.63it/s]\n",
      "Epoch 46/50 [Val]: 100%|██████████| 50/50 [00:04<00:00, 11.40it/s]\n"
     ]
    },
    {
     "name": "stdout",
     "output_type": "stream",
     "text": [
      "Epoch 46/50: Train Loss: 0.0363, Train Acc: 0.9875, Val Loss: 0.3474, Val Acc: 0.9470\n"
     ]
    },
    {
     "name": "stderr",
     "output_type": "stream",
     "text": [
      "Epoch 47/50 [Train]: 100%|██████████| 100/100 [00:12<00:00,  7.71it/s]\n",
      "Epoch 47/50 [Val]: 100%|██████████| 50/50 [00:04<00:00, 11.38it/s]\n"
     ]
    },
    {
     "name": "stdout",
     "output_type": "stream",
     "text": [
      "Epoch 47/50: Train Loss: 0.0380, Train Acc: 0.9860, Val Loss: 0.2717, Val Acc: 0.9430\n"
     ]
    },
    {
     "name": "stderr",
     "output_type": "stream",
     "text": [
      "Epoch 48/50 [Train]: 100%|██████████| 100/100 [00:13<00:00,  7.64it/s]\n",
      "Epoch 48/50 [Val]: 100%|██████████| 50/50 [00:04<00:00, 10.75it/s]\n"
     ]
    },
    {
     "name": "stdout",
     "output_type": "stream",
     "text": [
      "Epoch 48/50: Train Loss: 0.0281, Train Acc: 0.9875, Val Loss: 0.3767, Val Acc: 0.9460\n"
     ]
    },
    {
     "name": "stderr",
     "output_type": "stream",
     "text": [
      "Epoch 49/50 [Train]: 100%|██████████| 100/100 [00:13<00:00,  7.69it/s]\n",
      "Epoch 49/50 [Val]: 100%|██████████| 50/50 [00:04<00:00, 11.62it/s]\n"
     ]
    },
    {
     "name": "stdout",
     "output_type": "stream",
     "text": [
      "Epoch 49/50: Train Loss: 0.0420, Train Acc: 0.9875, Val Loss: 0.2331, Val Acc: 0.9560\n"
     ]
    },
    {
     "name": "stderr",
     "output_type": "stream",
     "text": [
      "Epoch 50/50 [Train]: 100%|██████████| 100/100 [00:12<00:00,  7.70it/s]\n",
      "Epoch 50/50 [Val]: 100%|██████████| 50/50 [00:04<00:00, 11.64it/s]"
     ]
    },
    {
     "name": "stdout",
     "output_type": "stream",
     "text": [
      "Epoch 50/50: Train Loss: 0.0281, Train Acc: 0.9880, Val Loss: 0.2831, Val Acc: 0.9510\n"
     ]
    },
    {
     "name": "stderr",
     "output_type": "stream",
     "text": [
      "\n"
     ]
    }
   ],
   "source": [
    "from tqdm import tqdm\n",
    "\n",
    "# Check CUDA availability\n",
    "if torch.cuda.is_available():\n",
    "    device = torch.device(\"cuda\")\n",
    "    print(\"CUDA is available. Training on GPU.\")\n",
    "else:\n",
    "    device = torch.device(\"cpu\")\n",
    "    print(\"CUDA is not available. Training on CPU.\")\n",
    "\n",
    "# Move model to device\n",
    "model.to(device)\n",
    "\n",
    "# Optimizer and loss function\n",
    "optimizer = optim.Adam(model.parameters())\n",
    "criterion = nn.BCELoss()\n",
    "\n",
    "# Store training history\n",
    "history = {'train_loss': [], 'train_acc': [], 'val_loss': [], 'val_acc': []}\n",
    "\n",
    "for epoch in range(NUM_EPOCHS):\n",
    "    # Training phase\n",
    "    model.train()  # Set the model to training mode\n",
    "    train_loss = 0.0\n",
    "    train_correct = 0\n",
    "    for images, labels in tqdm(train_loader, desc=f\"Epoch {epoch+1}/{NUM_EPOCHS} [Train]\"):\n",
    "        images, labels = images.to(device), labels.to(device)\n",
    "\n",
    "        # Zero the parameter gradients\n",
    "        optimizer.zero_grad()\n",
    "\n",
    "        # Forward pass\n",
    "        outputs = model(images)\n",
    "        loss = criterion(outputs, labels.float().unsqueeze(1)) # Calculate loss - ensure labels are float and have correct shape\n",
    "\n",
    "        # Backward pass and optimization\n",
    "        loss.backward()\n",
    "        optimizer.step()\n",
    "\n",
    "        # Statistics\n",
    "        train_loss += loss.item() * images.size(0)  # Multiply by batch size to get total loss for this batch\n",
    "        preds = (outputs > 0.5).float() # Convert probabilities to binary predictions\n",
    "        train_correct += (preds == labels.float().unsqueeze(1)).sum().item() # Count correct predictions\n",
    "\n",
    "    # Validation phase\n",
    "    model.eval()  # Set the model to evaluation mode\n",
    "    val_loss = 0.0\n",
    "    val_correct = 0\n",
    "    with torch.no_grad():  # No need to track gradients during validation\n",
    "        for images, labels in tqdm(validation_loader, desc=f\"Epoch {epoch+1}/{NUM_EPOCHS} [Val]\"):\n",
    "            images, labels = images.to(device), labels.to(device)\n",
    "\n",
    "            # Forward pass\n",
    "            outputs = model(images)\n",
    "            loss = criterion(outputs, labels.float().unsqueeze(1))\n",
    "\n",
    "            # Statistics\n",
    "            val_loss += loss.item() * images.size(0)\n",
    "            preds = (outputs > 0.5).float()\n",
    "            val_correct += (preds == labels.float().unsqueeze(1)).sum().item()\n",
    "\n",
    "    # Calculate average losses and accuracies for the epoch\n",
    "    train_loss = train_loss / len(train_loader.dataset)\n",
    "    train_acc = train_correct / len(train_loader.dataset)\n",
    "    val_loss = val_loss / len(validation_loader.dataset)\n",
    "    val_acc = val_correct / len(validation_loader.dataset)\n",
    "\n",
    "    # Store the results in the history dictionary\n",
    "    history['train_loss'].append(train_loss)\n",
    "    history['train_acc'].append(train_acc)\n",
    "    history['val_loss'].append(val_loss)\n",
    "    history['val_acc'].append(val_acc)\n",
    "\n",
    "    # Print epoch results\n",
    "    print(f\"Epoch {epoch+1}/{NUM_EPOCHS}: \"\n",
    "          f\"Train Loss: {train_loss:.4f}, Train Acc: {train_acc:.4f}, \"\n",
    "          f\"Val Loss: {val_loss:.4f}, Val Acc: {val_acc:.4f}\")"
   ]
  },
  {
   "cell_type": "markdown",
   "metadata": {
    "id": "_pPJMQGilBIQ"
   },
   "source": [
    "<div class=\"alert alert-block alert-success\">\n",
    "\n",
    "### ⚠️ Checkpoint ⚠️\n",
    "\n",
    "**Recap of Model Performance**\n",
    "1. Small CNN (70-73%)\n",
    "2. Small CNN + Data Augmentation and Dropout (83%)\n",
    "3. VGG16 with frozen Dense Layer (95%)\n",
    "4. VGG16 with frozen Dense Layer trained end to end with Data Augmentation (95%)\n",
    "\n",
    "Plotting the results again, we see that you reach a validation accuracy of about 95% which is almost the same as the previous method without data augmentation. WHY?\n",
    "</div>"
   ]
  },
  {
   "cell_type": "code",
   "execution_count": 98,
   "metadata": {
    "ExecuteTime": {
     "end_time": "2018-11-07T11:52:04.974234Z",
     "start_time": "2018-11-07T11:52:04.557918Z"
    },
    "colab": {
     "base_uri": "https://localhost:8080/",
     "height": 887
    },
    "execution": {
     "iopub.execute_input": "2025-01-24T13:53:02.322483Z",
     "iopub.status.busy": "2025-01-24T13:53:02.322210Z",
     "iopub.status.idle": "2025-01-24T13:53:02.574556Z",
     "shell.execute_reply": "2025-01-24T13:53:02.573516Z",
     "shell.execute_reply.started": "2025-01-24T13:53:02.322459Z"
    },
    "executionInfo": {
     "elapsed": 855,
     "status": "ok",
     "timestamp": 1719126901256,
     "user": {
      "displayName": "kc-aim",
      "userId": "16968997735368758960"
     },
     "user_tz": -480
    },
    "id": "UW3_gF20lBIQ",
    "outputId": "42f819e1-4378-4fa3-dc71-c9db0af8c30c"
   },
   "outputs": [
    {
     "data": {
      "image/png": "[encoded data removed]",
      "text/plain": [
       "<Figure size 640x480 with 1 Axes>"
      ]
     },
     "metadata": {},
     "output_type": "display_data"
    },
    {
     "data": {
      "image/png": "[encoded data removed]",
      "text/plain": [
       "<Figure size 640x480 with 1 Axes>"
      ]
     },
     "metadata": {},
     "output_type": "display_data"
    }
   ],
   "source": [
    "import matplotlib.pyplot as plt\n",
    "%matplotlib inline\n",
    "\n",
    "acc = history['train_acc']\n",
    "val_acc = history['val_acc']\n",
    "loss = history['train_loss']\n",
    "val_loss = history['val_loss']\n",
    "epochs = range(1, len(acc) + 1)\n",
    "plt.plot(epochs, acc, 'bo', label='Training acc')\n",
    "plt.plot(epochs, val_acc, 'b', label='Validation acc')\n",
    "plt.title('Training and validation accuracy')\n",
    "plt.legend()\n",
    "plt.figure()\n",
    "plt.plot(epochs, loss, 'bo', label='Training loss')\n",
    "plt.plot(epochs, val_loss, 'b', label='Validation loss')\n",
    "plt.title('Training and validation loss')\n",
    "plt.legend()\n",
    "plt.show()"
   ]
  },
  {
   "cell_type": "markdown",
   "metadata": {
    "id": "HxnByqBPlBIR"
   },
   "source": [
    "# Step 5: Fine Tuning\n",
    "\n",
    "Another widely used technique for model reuse, complementary to feature extraction, is fine-tuning. Fine-tuning consists of unfreezing a few of the top layers of a frozen model base used for feature extraction, and jointly training both the newly added part of the model (in this case, the fully connected classifier) and these top layers. This is called fine-tuning because it slightly adjusts the more abstract representations of the model being reused, in order to make them more relevant for the problem at hand.\n",
    "\n",
    "<img width=\"180\" alt=\"fine_tuning\" src=\"https://user-images.githubusercontent.com/25600601/134777551-3bde69f6-03e8-4dc5-81a8-3616695ea0bc.png\">\n"
   ]
  },
  {
   "cell_type": "markdown",
   "metadata": {
    "id": "5eb1GRd5lBIR"
   },
   "source": [
    "We have stated earlier that it’s necessary to freeze the convolution base of VGG16 in order to be able to train a randomly initialized classifier on top. For the same reason, it’s only possible to fine-tune the top layers of the convolutional base once the classifier on top has already been trained. If the classifier isn’t already trained, then the error signal propagating through the network during training will be too large, and the representations\n",
    "previously learned by the layers being fine-tuned will be destroyed. Thus the steps for fine-tuning a network are as follow:\n",
    "\n",
    "1 Add your custom network on top of an already-trained base network.    \n",
    "2 Freeze the base network.   \n",
    "3 Train the part you added.   \n",
    "4 Unfreeze some layers in the base network.   \n",
    "5 Jointly train both these layers and the part you added.   \n",
    "\n",
    "You already completed the first three steps when doing feature extraction. Let’s proceed with step 4: you’ll unfreeze your conv_base and then freeze individual layers inside it."
   ]
  },
  {
   "cell_type": "markdown",
   "metadata": {
    "id": "YtGJqGLGlBIR"
   },
   "source": [
    "You’ll fine-tune the last three convolutional layers, which means all layers up to block4_pool should be frozen, and the layers block5_conv1, block5_conv2, and block5_conv3 should be trainable.\n",
    "\n",
    "Why not fine-tune more layers? Why not fine-tune the entire convolutional base? You could. But you need to consider the following:\n",
    "\n",
    " Earlier layers in the convolutional base encode more-generic, reusable features, whereas layers higher up encode more-specialized features. It’s more useful to fine-tune the more specialized features, because these are the ones that need to be repurposed on your new problem. There would be fast-decreasing returns in fine-tuning lower layers.\n",
    "\n",
    " The more parameters you’re training, the more you’re at risk of overfitting. The convolutional base has 15 million parameters, so it would be risky to attempt to train it on your small dataset. Thus, in this situation, it’s a good strategy to fine-tune only the top two or three layers in the convolutional base. Let’s set this up, starting from where you left off in the previous example."
   ]
  },
  {
   "cell_type": "markdown",
   "metadata": {
    "id": "r1PgYX5dlBIS"
   },
   "source": [
    "## Step 5A. Freezing all layers up to a specific one"
   ]
  },
  {
   "cell_type": "code",
   "execution_count": 121,
   "metadata": {
    "execution": {
     "iopub.execute_input": "2025-01-24T14:16:54.552264Z",
     "iopub.status.busy": "2025-01-24T14:16:54.551517Z",
     "iopub.status.idle": "2025-01-24T14:16:56.095515Z",
     "shell.execute_reply": "2025-01-24T14:16:56.094150Z",
     "shell.execute_reply.started": "2025-01-24T14:16:54.552204Z"
    }
   },
   "outputs": [],
   "source": [
    "import torch\n",
    "import torch.nn as nn\n",
    "from torchvision.models import vgg16\n",
    "\n",
    "# Load pre-trained VGG16 model\n",
    "vgg = vgg16(pretrained=True)\n",
    "\n",
    "# Remove the final classifier layers since we only want the convolutional base\n",
    "# VGG16 features are returned up to the last convolutional layer\n",
    "conv_base = nn.Sequential(*list(vgg.features.children()))\n",
    "\n",
    "# Define the model\n",
    "class CustomVGG16(nn.Module):\n",
    "    def __init__(self, conv_base):\n",
    "        super(CustomVGG16, self).__init__()\n",
    "        self.conv_base = conv_base\n",
    "        self.flatten = nn.Flatten()\n",
    "        self.fc1 = nn.Linear(512 * 4 * 4, 256)  # Assuming VGG16 with 7x7 feature map after conv layers\n",
    "        self.fc2 = nn.Linear(256, 1)\n",
    "        self.relu = nn.ReLU()\n",
    "        self.sigmoid = nn.Sigmoid()\n",
    "        \n",
    "        # Freeze layers until the 24th layer (index 23)\n",
    "        for i, param in enumerate(self.conv_base.parameters()):\n",
    "            if i == 24:\n",
    "                break\n",
    "            param.requires_grad = False\n",
    "\n",
    "    def forward(self, x):\n",
    "        x = self.conv_base(x)\n",
    "        x = self.flatten(x)\n",
    "        x = self.relu(self.fc1(x))\n",
    "        x = self.sigmoid(self.fc2(x))\n",
    "        return x\n",
    "\n",
    "# Instantiate the model\n",
    "model = CustomVGG16(conv_base)"
   ]
  },
  {
   "cell_type": "markdown",
   "metadata": {
    "id": "XgtlMNUrlBIS"
   },
   "source": [
    "Now you can begin fine-tuning the network. You’ll do this with the RMSProp optimizer, using a very low learning rate. The reason for using a low learning rate is that you want to limit the magnitude of the modifications you make to the representations of the three layers you’re fine-tuning. Updates that are too large may harm these representations."
   ]
  },
  {
   "cell_type": "markdown",
   "metadata": {
    "id": "viChlW8slBIS"
   },
   "source": [
    " ## Step 5B. Fine tuning the model"
   ]
  },
  {
   "cell_type": "code",
   "execution_count": 122,
   "metadata": {
    "execution": {
     "iopub.execute_input": "2025-01-24T14:16:56.097187Z",
     "iopub.status.busy": "2025-01-24T14:16:56.096935Z",
     "iopub.status.idle": "2025-01-24T14:16:56.113277Z",
     "shell.execute_reply": "2025-01-24T14:16:56.112047Z",
     "shell.execute_reply.started": "2025-01-24T14:16:56.097165Z"
    }
   },
   "outputs": [],
   "source": [
    "import torch\n",
    "from torchvision import datasets, transforms\n",
    "from torch.utils.data import DataLoader\n",
    "\n",
    "# Define transformations for training data\n",
    "train_transform = transforms.Compose([\n",
    "    transforms.Resize((150, 150)),\n",
    "    transforms.RandomRotation(40),\n",
    "    transforms.RandomHorizontalFlip(),\n",
    "    transforms.RandomResizedCrop(150, scale=(0.8, 1.0), ratio=(0.9, 1.1)),\n",
    "    transforms.ColorJitter(brightness=0.2, contrast=0.2, saturation=0.2),\n",
    "    transforms.ToTensor(),\n",
    "])\n",
    "\n",
    "# Define transformations for validation data (only normalization)\n",
    "test_transform = transforms.Compose([\n",
    "    transforms.Resize((150, 150)),\n",
    "    transforms.ToTensor(),\n",
    "])\n",
    "\n",
    "# Assuming 'train_dir' and 'validation_dir' are paths to your directories\n",
    "train_dataset = datasets.ImageFolder(train_dir, transform=train_transform)\n",
    "validation_dataset = datasets.ImageFolder(validation_dir, transform=test_transform)\n",
    "\n",
    "# Data loaders\n",
    "train_loader = DataLoader(train_dataset, batch_size=BATCH_SIZE, shuffle=True, num_workers=0, pin_memory=True)\n",
    "validation_loader = DataLoader(validation_dataset, batch_size=BATCH_SIZE, shuffle=False, num_workers=0, pin_memory=True)"
   ]
  },
  {
   "cell_type": "code",
   "execution_count": 123,
   "metadata": {
    "ExecuteTime": {
     "end_time": "2018-11-07T11:58:07.459709Z",
     "start_time": "2018-11-07T11:52:13.256311Z"
    },
    "colab": {
     "base_uri": "https://localhost:8080/"
    },
    "execution": {
     "iopub.execute_input": "2025-01-24T14:16:56.114132Z",
     "iopub.status.busy": "2025-01-24T14:16:56.113927Z",
     "iopub.status.idle": "2025-01-24T14:30:02.938244Z",
     "shell.execute_reply": "2025-01-24T14:30:02.937360Z",
     "shell.execute_reply.started": "2025-01-24T14:16:56.114114Z"
    },
    "executionInfo": {
     "elapsed": 1149010,
     "status": "ok",
     "timestamp": 1719128050250,
     "user": {
      "displayName": "kc-aim",
      "userId": "16968997735368758960"
     },
     "user_tz": -480
    },
    "id": "wb_1mU9VlBIS",
    "outputId": "4cf86e31-3f7c-4b13-9f47-01fa442c831a"
   },
   "outputs": [
    {
     "name": "stdout",
     "output_type": "stream",
     "text": [
      "CUDA is available. Training on GPU.\n"
     ]
    },
    {
     "name": "stderr",
     "output_type": "stream",
     "text": [
      "Epoch 1/50 [Train]: 100%|██████████| 50/50 [00:12<00:00,  3.95it/s]\n",
      "Epoch 1/50 [Val]: 100%|██████████| 25/25 [00:04<00:00,  5.72it/s]\n"
     ]
    },
    {
     "name": "stdout",
     "output_type": "stream",
     "text": [
      "Epoch 1/50: Train Loss: 0.3230, Train Acc: 0.8635, Val Loss: 0.1313, Val Acc: 0.9540\n"
     ]
    },
    {
     "name": "stderr",
     "output_type": "stream",
     "text": [
      "Epoch 2/50 [Train]: 100%|██████████| 50/50 [00:11<00:00,  4.22it/s]\n",
      "Epoch 2/50 [Val]: 100%|██████████| 25/25 [00:03<00:00,  6.49it/s]\n"
     ]
    },
    {
     "name": "stdout",
     "output_type": "stream",
     "text": [
      "Epoch 2/50: Train Loss: 0.1910, Train Acc: 0.9265, Val Loss: 0.1683, Val Acc: 0.9530\n"
     ]
    },
    {
     "name": "stderr",
     "output_type": "stream",
     "text": [
      "Epoch 3/50 [Train]: 100%|██████████| 50/50 [00:11<00:00,  4.21it/s]\n",
      "Epoch 3/50 [Val]: 100%|██████████| 25/25 [00:03<00:00,  6.46it/s]\n"
     ]
    },
    {
     "name": "stdout",
     "output_type": "stream",
     "text": [
      "Epoch 3/50: Train Loss: 0.1654, Train Acc: 0.9330, Val Loss: 0.1682, Val Acc: 0.9350\n"
     ]
    },
    {
     "name": "stderr",
     "output_type": "stream",
     "text": [
      "Epoch 4/50 [Train]: 100%|██████████| 50/50 [00:11<00:00,  4.24it/s]\n",
      "Epoch 4/50 [Val]: 100%|██████████| 25/25 [00:03<00:00,  6.53it/s]\n"
     ]
    },
    {
     "name": "stdout",
     "output_type": "stream",
     "text": [
      "Epoch 4/50: Train Loss: 0.1641, Train Acc: 0.9325, Val Loss: 0.2024, Val Acc: 0.9400\n"
     ]
    },
    {
     "name": "stderr",
     "output_type": "stream",
     "text": [
      "Epoch 5/50 [Train]: 100%|██████████| 50/50 [00:11<00:00,  4.23it/s]\n",
      "Epoch 5/50 [Val]: 100%|██████████| 25/25 [00:03<00:00,  6.53it/s]\n"
     ]
    },
    {
     "name": "stdout",
     "output_type": "stream",
     "text": [
      "Epoch 5/50: Train Loss: 0.1370, Train Acc: 0.9435, Val Loss: 0.1372, Val Acc: 0.9570\n"
     ]
    },
    {
     "name": "stderr",
     "output_type": "stream",
     "text": [
      "Epoch 6/50 [Train]: 100%|██████████| 50/50 [00:11<00:00,  4.24it/s]\n",
      "Epoch 6/50 [Val]: 100%|██████████| 25/25 [00:03<00:00,  6.57it/s]\n"
     ]
    },
    {
     "name": "stdout",
     "output_type": "stream",
     "text": [
      "Epoch 6/50: Train Loss: 0.1210, Train Acc: 0.9550, Val Loss: 0.1598, Val Acc: 0.9560\n"
     ]
    },
    {
     "name": "stderr",
     "output_type": "stream",
     "text": [
      "Epoch 7/50 [Train]: 100%|██████████| 50/50 [00:11<00:00,  4.26it/s]\n",
      "Epoch 7/50 [Val]: 100%|██████████| 25/25 [00:03<00:00,  6.34it/s]\n"
     ]
    },
    {
     "name": "stdout",
     "output_type": "stream",
     "text": [
      "Epoch 7/50: Train Loss: 0.1096, Train Acc: 0.9550, Val Loss: 0.2257, Val Acc: 0.9550\n"
     ]
    },
    {
     "name": "stderr",
     "output_type": "stream",
     "text": [
      "Epoch 8/50 [Train]: 100%|██████████| 50/50 [00:11<00:00,  4.21it/s]\n",
      "Epoch 8/50 [Val]: 100%|██████████| 25/25 [00:03<00:00,  6.53it/s]\n"
     ]
    },
    {
     "name": "stdout",
     "output_type": "stream",
     "text": [
      "Epoch 8/50: Train Loss: 0.0997, Train Acc: 0.9615, Val Loss: 0.1803, Val Acc: 0.9500\n"
     ]
    },
    {
     "name": "stderr",
     "output_type": "stream",
     "text": [
      "Epoch 9/50 [Train]: 100%|██████████| 50/50 [00:11<00:00,  4.17it/s]\n",
      "Epoch 9/50 [Val]: 100%|██████████| 25/25 [00:04<00:00,  6.24it/s]\n"
     ]
    },
    {
     "name": "stdout",
     "output_type": "stream",
     "text": [
      "Epoch 9/50: Train Loss: 0.0910, Train Acc: 0.9685, Val Loss: 0.2095, Val Acc: 0.9480\n"
     ]
    },
    {
     "name": "stderr",
     "output_type": "stream",
     "text": [
      "Epoch 10/50 [Train]: 100%|██████████| 50/50 [00:11<00:00,  4.23it/s]\n",
      "Epoch 10/50 [Val]: 100%|██████████| 25/25 [00:03<00:00,  6.59it/s]\n"
     ]
    },
    {
     "name": "stdout",
     "output_type": "stream",
     "text": [
      "Epoch 10/50: Train Loss: 0.0964, Train Acc: 0.9660, Val Loss: 0.1692, Val Acc: 0.9430\n"
     ]
    },
    {
     "name": "stderr",
     "output_type": "stream",
     "text": [
      "Epoch 11/50 [Train]: 100%|██████████| 50/50 [00:11<00:00,  4.29it/s]\n",
      "Epoch 11/50 [Val]: 100%|██████████| 25/25 [00:03<00:00,  6.54it/s]\n"
     ]
    },
    {
     "name": "stdout",
     "output_type": "stream",
     "text": [
      "Epoch 11/50: Train Loss: 0.0748, Train Acc: 0.9720, Val Loss: 0.1514, Val Acc: 0.9540\n"
     ]
    },
    {
     "name": "stderr",
     "output_type": "stream",
     "text": [
      "Epoch 12/50 [Train]: 100%|██████████| 50/50 [00:11<00:00,  4.24it/s]\n",
      "Epoch 12/50 [Val]: 100%|██████████| 25/25 [00:03<00:00,  6.32it/s]\n"
     ]
    },
    {
     "name": "stdout",
     "output_type": "stream",
     "text": [
      "Epoch 12/50: Train Loss: 0.0682, Train Acc: 0.9755, Val Loss: 0.2516, Val Acc: 0.9540\n"
     ]
    },
    {
     "name": "stderr",
     "output_type": "stream",
     "text": [
      "Epoch 13/50 [Train]: 100%|██████████| 50/50 [00:12<00:00,  4.11it/s]\n",
      "Epoch 13/50 [Val]: 100%|██████████| 25/25 [00:03<00:00,  6.44it/s]\n"
     ]
    },
    {
     "name": "stdout",
     "output_type": "stream",
     "text": [
      "Epoch 13/50: Train Loss: 0.0819, Train Acc: 0.9705, Val Loss: 0.1640, Val Acc: 0.9540\n"
     ]
    },
    {
     "name": "stderr",
     "output_type": "stream",
     "text": [
      "Epoch 14/50 [Train]: 100%|██████████| 50/50 [00:11<00:00,  4.23it/s]\n",
      "Epoch 14/50 [Val]: 100%|██████████| 25/25 [00:04<00:00,  6.24it/s]\n"
     ]
    },
    {
     "name": "stdout",
     "output_type": "stream",
     "text": [
      "Epoch 14/50: Train Loss: 0.0735, Train Acc: 0.9735, Val Loss: 0.1705, Val Acc: 0.9510\n"
     ]
    },
    {
     "name": "stderr",
     "output_type": "stream",
     "text": [
      "Epoch 15/50 [Train]: 100%|██████████| 50/50 [00:11<00:00,  4.23it/s]\n",
      "Epoch 15/50 [Val]: 100%|██████████| 25/25 [00:03<00:00,  6.48it/s]\n"
     ]
    },
    {
     "name": "stdout",
     "output_type": "stream",
     "text": [
      "Epoch 15/50: Train Loss: 0.0660, Train Acc: 0.9725, Val Loss: 0.2284, Val Acc: 0.9410\n"
     ]
    },
    {
     "name": "stderr",
     "output_type": "stream",
     "text": [
      "Epoch 16/50 [Train]: 100%|██████████| 50/50 [00:11<00:00,  4.17it/s]\n",
      "Epoch 16/50 [Val]: 100%|██████████| 25/25 [00:04<00:00,  6.22it/s]\n"
     ]
    },
    {
     "name": "stdout",
     "output_type": "stream",
     "text": [
      "Epoch 16/50: Train Loss: 0.0776, Train Acc: 0.9725, Val Loss: 0.1952, Val Acc: 0.9540\n"
     ]
    },
    {
     "name": "stderr",
     "output_type": "stream",
     "text": [
      "Epoch 17/50 [Train]: 100%|██████████| 50/50 [00:11<00:00,  4.25it/s]\n",
      "Epoch 17/50 [Val]: 100%|██████████| 25/25 [00:03<00:00,  6.57it/s]\n"
     ]
    },
    {
     "name": "stdout",
     "output_type": "stream",
     "text": [
      "Epoch 17/50: Train Loss: 0.0690, Train Acc: 0.9745, Val Loss: 0.1622, Val Acc: 0.9550\n"
     ]
    },
    {
     "name": "stderr",
     "output_type": "stream",
     "text": [
      "Epoch 18/50 [Train]: 100%|██████████| 50/50 [00:11<00:00,  4.27it/s]\n",
      "Epoch 18/50 [Val]: 100%|██████████| 25/25 [00:03<00:00,  6.60it/s]\n"
     ]
    },
    {
     "name": "stdout",
     "output_type": "stream",
     "text": [
      "Epoch 18/50: Train Loss: 0.0389, Train Acc: 0.9860, Val Loss: 0.2151, Val Acc: 0.9480\n"
     ]
    },
    {
     "name": "stderr",
     "output_type": "stream",
     "text": [
      "Epoch 19/50 [Train]: 100%|██████████| 50/50 [00:11<00:00,  4.25it/s]\n",
      "Epoch 19/50 [Val]: 100%|██████████| 25/25 [00:03<00:00,  6.59it/s]\n"
     ]
    },
    {
     "name": "stdout",
     "output_type": "stream",
     "text": [
      "Epoch 19/50: Train Loss: 0.0622, Train Acc: 0.9785, Val Loss: 0.2181, Val Acc: 0.9440\n"
     ]
    },
    {
     "name": "stderr",
     "output_type": "stream",
     "text": [
      "Epoch 20/50 [Train]: 100%|██████████| 50/50 [00:11<00:00,  4.20it/s]\n",
      "Epoch 20/50 [Val]: 100%|██████████| 25/25 [00:03<00:00,  6.41it/s]\n"
     ]
    },
    {
     "name": "stdout",
     "output_type": "stream",
     "text": [
      "Epoch 20/50: Train Loss: 0.0693, Train Acc: 0.9775, Val Loss: 0.2143, Val Acc: 0.9480\n"
     ]
    },
    {
     "name": "stderr",
     "output_type": "stream",
     "text": [
      "Epoch 21/50 [Train]: 100%|██████████| 50/50 [00:11<00:00,  4.27it/s]\n",
      "Epoch 21/50 [Val]: 100%|██████████| 25/25 [00:03<00:00,  6.56it/s]\n"
     ]
    },
    {
     "name": "stdout",
     "output_type": "stream",
     "text": [
      "Epoch 21/50: Train Loss: 0.0690, Train Acc: 0.9745, Val Loss: 0.1641, Val Acc: 0.9500\n"
     ]
    },
    {
     "name": "stderr",
     "output_type": "stream",
     "text": [
      "Epoch 22/50 [Train]: 100%|██████████| 50/50 [00:11<00:00,  4.23it/s]\n",
      "Epoch 22/50 [Val]: 100%|██████████| 25/25 [00:03<00:00,  6.50it/s]\n"
     ]
    },
    {
     "name": "stdout",
     "output_type": "stream",
     "text": [
      "Epoch 22/50: Train Loss: 0.0451, Train Acc: 0.9860, Val Loss: 0.2337, Val Acc: 0.9490\n"
     ]
    },
    {
     "name": "stderr",
     "output_type": "stream",
     "text": [
      "Epoch 23/50 [Train]: 100%|██████████| 50/50 [00:11<00:00,  4.26it/s]\n",
      "Epoch 23/50 [Val]: 100%|██████████| 25/25 [00:03<00:00,  6.52it/s]\n"
     ]
    },
    {
     "name": "stdout",
     "output_type": "stream",
     "text": [
      "Epoch 23/50: Train Loss: 0.0361, Train Acc: 0.9860, Val Loss: 0.2003, Val Acc: 0.9540\n"
     ]
    },
    {
     "name": "stderr",
     "output_type": "stream",
     "text": [
      "Epoch 24/50 [Train]: 100%|██████████| 50/50 [00:11<00:00,  4.26it/s]\n",
      "Epoch 24/50 [Val]: 100%|██████████| 25/25 [00:03<00:00,  6.32it/s]\n"
     ]
    },
    {
     "name": "stdout",
     "output_type": "stream",
     "text": [
      "Epoch 24/50: Train Loss: 0.0362, Train Acc: 0.9900, Val Loss: 0.2462, Val Acc: 0.9530\n"
     ]
    },
    {
     "name": "stderr",
     "output_type": "stream",
     "text": [
      "Epoch 25/50 [Train]: 100%|██████████| 50/50 [00:11<00:00,  4.19it/s]\n",
      "Epoch 25/50 [Val]: 100%|██████████| 25/25 [00:03<00:00,  6.41it/s]\n"
     ]
    },
    {
     "name": "stdout",
     "output_type": "stream",
     "text": [
      "Epoch 25/50: Train Loss: 0.0558, Train Acc: 0.9810, Val Loss: 0.1793, Val Acc: 0.9480\n"
     ]
    },
    {
     "name": "stderr",
     "output_type": "stream",
     "text": [
      "Epoch 26/50 [Train]: 100%|██████████| 50/50 [00:11<00:00,  4.26it/s]\n",
      "Epoch 26/50 [Val]: 100%|██████████| 25/25 [00:03<00:00,  6.45it/s]\n"
     ]
    },
    {
     "name": "stdout",
     "output_type": "stream",
     "text": [
      "Epoch 26/50: Train Loss: 0.0462, Train Acc: 0.9840, Val Loss: 0.2120, Val Acc: 0.9490\n"
     ]
    },
    {
     "name": "stderr",
     "output_type": "stream",
     "text": [
      "Epoch 27/50 [Train]: 100%|██████████| 50/50 [00:11<00:00,  4.27it/s]\n",
      "Epoch 27/50 [Val]: 100%|██████████| 25/25 [00:03<00:00,  6.52it/s]\n"
     ]
    },
    {
     "name": "stdout",
     "output_type": "stream",
     "text": [
      "Epoch 27/50: Train Loss: 0.0387, Train Acc: 0.9825, Val Loss: 0.2886, Val Acc: 0.9500\n"
     ]
    },
    {
     "name": "stderr",
     "output_type": "stream",
     "text": [
      "Epoch 28/50 [Train]: 100%|██████████| 50/50 [00:11<00:00,  4.21it/s]\n",
      "Epoch 28/50 [Val]: 100%|██████████| 25/25 [00:03<00:00,  6.49it/s]\n"
     ]
    },
    {
     "name": "stdout",
     "output_type": "stream",
     "text": [
      "Epoch 28/50: Train Loss: 0.0438, Train Acc: 0.9830, Val Loss: 0.2567, Val Acc: 0.9470\n"
     ]
    },
    {
     "name": "stderr",
     "output_type": "stream",
     "text": [
      "Epoch 29/50 [Train]: 100%|██████████| 50/50 [00:11<00:00,  4.24it/s]\n",
      "Epoch 29/50 [Val]: 100%|██████████| 25/25 [00:03<00:00,  6.55it/s]\n"
     ]
    },
    {
     "name": "stdout",
     "output_type": "stream",
     "text": [
      "Epoch 29/50: Train Loss: 0.0404, Train Acc: 0.9855, Val Loss: 0.2608, Val Acc: 0.9400\n"
     ]
    },
    {
     "name": "stderr",
     "output_type": "stream",
     "text": [
      "Epoch 30/50 [Train]: 100%|██████████| 50/50 [00:11<00:00,  4.24it/s]\n",
      "Epoch 30/50 [Val]: 100%|██████████| 25/25 [00:03<00:00,  6.34it/s]\n"
     ]
    },
    {
     "name": "stdout",
     "output_type": "stream",
     "text": [
      "Epoch 30/50: Train Loss: 0.0352, Train Acc: 0.9905, Val Loss: 0.2251, Val Acc: 0.9590\n"
     ]
    },
    {
     "name": "stderr",
     "output_type": "stream",
     "text": [
      "Epoch 31/50 [Train]: 100%|██████████| 50/50 [00:11<00:00,  4.26it/s]\n",
      "Epoch 31/50 [Val]: 100%|██████████| 25/25 [00:03<00:00,  6.50it/s]\n"
     ]
    },
    {
     "name": "stdout",
     "output_type": "stream",
     "text": [
      "Epoch 31/50: Train Loss: 0.0391, Train Acc: 0.9850, Val Loss: 0.2208, Val Acc: 0.9510\n"
     ]
    },
    {
     "name": "stderr",
     "output_type": "stream",
     "text": [
      "Epoch 32/50 [Train]: 100%|██████████| 50/50 [00:11<00:00,  4.22it/s]\n",
      "Epoch 32/50 [Val]: 100%|██████████| 25/25 [00:03<00:00,  6.40it/s]\n"
     ]
    },
    {
     "name": "stdout",
     "output_type": "stream",
     "text": [
      "Epoch 32/50: Train Loss: 0.0266, Train Acc: 0.9890, Val Loss: 0.2251, Val Acc: 0.9590\n"
     ]
    },
    {
     "name": "stderr",
     "output_type": "stream",
     "text": [
      "Epoch 33/50 [Train]: 100%|██████████| 50/50 [00:11<00:00,  4.25it/s]\n",
      "Epoch 33/50 [Val]: 100%|██████████| 25/25 [00:03<00:00,  6.28it/s]\n"
     ]
    },
    {
     "name": "stdout",
     "output_type": "stream",
     "text": [
      "Epoch 33/50: Train Loss: 0.0436, Train Acc: 0.9840, Val Loss: 0.4628, Val Acc: 0.9310\n"
     ]
    },
    {
     "name": "stderr",
     "output_type": "stream",
     "text": [
      "Epoch 34/50 [Train]: 100%|██████████| 50/50 [00:11<00:00,  4.21it/s]\n",
      "Epoch 34/50 [Val]: 100%|██████████| 25/25 [00:03<00:00,  6.43it/s]\n"
     ]
    },
    {
     "name": "stdout",
     "output_type": "stream",
     "text": [
      "Epoch 34/50: Train Loss: 0.0399, Train Acc: 0.9835, Val Loss: 0.2794, Val Acc: 0.9530\n"
     ]
    },
    {
     "name": "stderr",
     "output_type": "stream",
     "text": [
      "Epoch 35/50 [Train]: 100%|██████████| 50/50 [00:11<00:00,  4.25it/s]\n",
      "Epoch 35/50 [Val]: 100%|██████████| 25/25 [00:03<00:00,  6.43it/s]\n"
     ]
    },
    {
     "name": "stdout",
     "output_type": "stream",
     "text": [
      "Epoch 35/50: Train Loss: 0.0393, Train Acc: 0.9835, Val Loss: 0.2011, Val Acc: 0.9540\n"
     ]
    },
    {
     "name": "stderr",
     "output_type": "stream",
     "text": [
      "Epoch 36/50 [Train]: 100%|██████████| 50/50 [00:11<00:00,  4.20it/s]\n",
      "Epoch 36/50 [Val]: 100%|██████████| 25/25 [00:04<00:00,  6.18it/s]\n"
     ]
    },
    {
     "name": "stdout",
     "output_type": "stream",
     "text": [
      "Epoch 36/50: Train Loss: 0.0373, Train Acc: 0.9875, Val Loss: 0.1748, Val Acc: 0.9590\n"
     ]
    },
    {
     "name": "stderr",
     "output_type": "stream",
     "text": [
      "Epoch 37/50 [Train]: 100%|██████████| 50/50 [00:11<00:00,  4.20it/s]\n",
      "Epoch 37/50 [Val]: 100%|██████████| 25/25 [00:03<00:00,  6.48it/s]\n"
     ]
    },
    {
     "name": "stdout",
     "output_type": "stream",
     "text": [
      "Epoch 37/50: Train Loss: 0.0280, Train Acc: 0.9910, Val Loss: 0.2678, Val Acc: 0.9490\n"
     ]
    },
    {
     "name": "stderr",
     "output_type": "stream",
     "text": [
      "Epoch 38/50 [Train]: 100%|██████████| 50/50 [00:11<00:00,  4.25it/s]\n",
      "Epoch 38/50 [Val]: 100%|██████████| 25/25 [00:03<00:00,  6.37it/s]\n"
     ]
    },
    {
     "name": "stdout",
     "output_type": "stream",
     "text": [
      "Epoch 38/50: Train Loss: 0.0263, Train Acc: 0.9900, Val Loss: 0.2529, Val Acc: 0.9600\n"
     ]
    },
    {
     "name": "stderr",
     "output_type": "stream",
     "text": [
      "Epoch 39/50 [Train]: 100%|██████████| 50/50 [00:11<00:00,  4.26it/s]\n",
      "Epoch 39/50 [Val]: 100%|██████████| 25/25 [00:03<00:00,  6.54it/s]\n"
     ]
    },
    {
     "name": "stdout",
     "output_type": "stream",
     "text": [
      "Epoch 39/50: Train Loss: 0.0339, Train Acc: 0.9885, Val Loss: 0.2235, Val Acc: 0.9550\n"
     ]
    },
    {
     "name": "stderr",
     "output_type": "stream",
     "text": [
      "Epoch 40/50 [Train]: 100%|██████████| 50/50 [00:11<00:00,  4.28it/s]\n",
      "Epoch 40/50 [Val]: 100%|██████████| 25/25 [00:03<00:00,  6.42it/s]\n"
     ]
    },
    {
     "name": "stdout",
     "output_type": "stream",
     "text": [
      "Epoch 40/50: Train Loss: 0.0331, Train Acc: 0.9885, Val Loss: 0.2165, Val Acc: 0.9630\n"
     ]
    },
    {
     "name": "stderr",
     "output_type": "stream",
     "text": [
      "Epoch 41/50 [Train]: 100%|██████████| 50/50 [00:11<00:00,  4.27it/s]\n",
      "Epoch 41/50 [Val]: 100%|██████████| 25/25 [00:04<00:00,  6.20it/s]\n"
     ]
    },
    {
     "name": "stdout",
     "output_type": "stream",
     "text": [
      "Epoch 41/50: Train Loss: 0.0297, Train Acc: 0.9905, Val Loss: 0.2411, Val Acc: 0.9580\n"
     ]
    },
    {
     "name": "stderr",
     "output_type": "stream",
     "text": [
      "Epoch 42/50 [Train]: 100%|██████████| 50/50 [00:11<00:00,  4.20it/s]\n",
      "Epoch 42/50 [Val]: 100%|██████████| 25/25 [00:03<00:00,  6.33it/s]\n"
     ]
    },
    {
     "name": "stdout",
     "output_type": "stream",
     "text": [
      "Epoch 42/50: Train Loss: 0.0147, Train Acc: 0.9960, Val Loss: 0.3067, Val Acc: 0.9590\n"
     ]
    },
    {
     "name": "stderr",
     "output_type": "stream",
     "text": [
      "Epoch 43/50 [Train]: 100%|██████████| 50/50 [00:11<00:00,  4.25it/s]\n",
      "Epoch 43/50 [Val]: 100%|██████████| 25/25 [00:03<00:00,  6.47it/s]\n"
     ]
    },
    {
     "name": "stdout",
     "output_type": "stream",
     "text": [
      "Epoch 43/50: Train Loss: 0.0367, Train Acc: 0.9870, Val Loss: 0.1639, Val Acc: 0.9580\n"
     ]
    },
    {
     "name": "stderr",
     "output_type": "stream",
     "text": [
      "Epoch 44/50 [Train]: 100%|██████████| 50/50 [00:12<00:00,  4.13it/s]\n",
      "Epoch 44/50 [Val]: 100%|██████████| 25/25 [00:04<00:00,  6.22it/s]\n"
     ]
    },
    {
     "name": "stdout",
     "output_type": "stream",
     "text": [
      "Epoch 44/50: Train Loss: 0.0201, Train Acc: 0.9930, Val Loss: 0.2634, Val Acc: 0.9560\n"
     ]
    },
    {
     "name": "stderr",
     "output_type": "stream",
     "text": [
      "Epoch 45/50 [Train]: 100%|██████████| 50/50 [00:11<00:00,  4.17it/s]\n",
      "Epoch 45/50 [Val]: 100%|██████████| 25/25 [00:03<00:00,  6.36it/s]\n"
     ]
    },
    {
     "name": "stdout",
     "output_type": "stream",
     "text": [
      "Epoch 45/50: Train Loss: 0.0294, Train Acc: 0.9900, Val Loss: 0.2450, Val Acc: 0.9500\n"
     ]
    },
    {
     "name": "stderr",
     "output_type": "stream",
     "text": [
      "Epoch 46/50 [Train]: 100%|██████████| 50/50 [00:12<00:00,  4.13it/s]\n",
      "Epoch 46/50 [Val]: 100%|██████████| 25/25 [00:03<00:00,  6.45it/s]\n"
     ]
    },
    {
     "name": "stdout",
     "output_type": "stream",
     "text": [
      "Epoch 46/50: Train Loss: 0.0289, Train Acc: 0.9920, Val Loss: 0.2744, Val Acc: 0.9450\n"
     ]
    },
    {
     "name": "stderr",
     "output_type": "stream",
     "text": [
      "Epoch 47/50 [Train]: 100%|██████████| 50/50 [00:11<00:00,  4.26it/s]\n",
      "Epoch 47/50 [Val]: 100%|██████████| 25/25 [00:03<00:00,  6.40it/s]\n"
     ]
    },
    {
     "name": "stdout",
     "output_type": "stream",
     "text": [
      "Epoch 47/50: Train Loss: 0.0308, Train Acc: 0.9890, Val Loss: 0.2320, Val Acc: 0.9570\n"
     ]
    },
    {
     "name": "stderr",
     "output_type": "stream",
     "text": [
      "Epoch 48/50 [Train]: 100%|██████████| 50/50 [00:11<00:00,  4.26it/s]\n",
      "Epoch 48/50 [Val]: 100%|██████████| 25/25 [00:03<00:00,  6.52it/s]\n"
     ]
    },
    {
     "name": "stdout",
     "output_type": "stream",
     "text": [
      "Epoch 48/50: Train Loss: 0.0278, Train Acc: 0.9895, Val Loss: 0.2419, Val Acc: 0.9570\n"
     ]
    },
    {
     "name": "stderr",
     "output_type": "stream",
     "text": [
      "Epoch 49/50 [Train]: 100%|██████████| 50/50 [00:11<00:00,  4.30it/s]\n",
      "Epoch 49/50 [Val]: 100%|██████████| 25/25 [00:03<00:00,  6.56it/s]\n"
     ]
    },
    {
     "name": "stdout",
     "output_type": "stream",
     "text": [
      "Epoch 49/50: Train Loss: 0.0179, Train Acc: 0.9955, Val Loss: 0.3057, Val Acc: 0.9620\n"
     ]
    },
    {
     "name": "stderr",
     "output_type": "stream",
     "text": [
      "Epoch 50/50 [Train]: 100%|██████████| 50/50 [00:11<00:00,  4.30it/s]\n",
      "Epoch 50/50 [Val]: 100%|██████████| 25/25 [00:03<00:00,  6.55it/s]"
     ]
    },
    {
     "name": "stdout",
     "output_type": "stream",
     "text": [
      "Epoch 50/50: Train Loss: 0.0295, Train Acc: 0.9895, Val Loss: 0.2375, Val Acc: 0.9510\n"
     ]
    },
    {
     "name": "stderr",
     "output_type": "stream",
     "text": [
      "\n"
     ]
    }
   ],
   "source": [
    "from tqdm import tqdm\n",
    "\n",
    "# Check CUDA availability\n",
    "if torch.cuda.is_available():\n",
    "    device = torch.device(\"cuda\")\n",
    "    print(\"CUDA is available. Training on GPU.\")\n",
    "else:\n",
    "    device = torch.device(\"cpu\")\n",
    "    print(\"CUDA is not available. Training on CPU.\")\n",
    "\n",
    "# Move model to device\n",
    "model.to(device)\n",
    "\n",
    "# Optimizer and loss function\n",
    "optimizer = optim.Adam(model.parameters())\n",
    "criterion = nn.BCELoss()\n",
    "\n",
    "# Store training history\n",
    "history = {'train_loss': [], 'train_acc': [], 'val_loss': [], 'val_acc': []}\n",
    "\n",
    "for epoch in range(NUM_EPOCHS):\n",
    "    # Training phase\n",
    "    model.train()  # Set the model to training mode\n",
    "    train_loss = 0.0\n",
    "    train_correct = 0\n",
    "    for images, labels in tqdm(train_loader, desc=f\"Epoch {epoch+1}/{NUM_EPOCHS} [Train]\"):\n",
    "        images, labels = images.to(device), labels.to(device)\n",
    "\n",
    "        # Zero the parameter gradients\n",
    "        optimizer.zero_grad()\n",
    "\n",
    "        # Forward pass\n",
    "        outputs = model(images)\n",
    "        loss = criterion(outputs, labels.float().unsqueeze(1)) # Calculate loss - ensure labels are float and have correct shape\n",
    "\n",
    "        # Backward pass and optimization\n",
    "        loss.backward()\n",
    "        optimizer.step()\n",
    "\n",
    "        # Statistics\n",
    "        train_loss += loss.item() * images.size(0)  # Multiply by batch size to get total loss for this batch\n",
    "        preds = (outputs > 0.5).float() # Convert probabilities to binary predictions\n",
    "        train_correct += (preds == labels.float().unsqueeze(1)).sum().item() # Count correct predictions\n",
    "\n",
    "    # Validation phase\n",
    "    model.eval()  # Set the model to evaluation mode\n",
    "    val_loss = 0.0\n",
    "    val_correct = 0\n",
    "    with torch.no_grad():  # No need to track gradients during validation\n",
    "        for images, labels in tqdm(validation_loader, desc=f\"Epoch {epoch+1}/{NUM_EPOCHS} [Val]\"):\n",
    "            images, labels = images.to(device), labels.to(device)\n",
    "\n",
    "            # Forward pass\n",
    "            outputs = model(images)\n",
    "            loss = criterion(outputs, labels.float().unsqueeze(1))\n",
    "\n",
    "            # Statistics\n",
    "            val_loss += loss.item() * images.size(0)\n",
    "            preds = (outputs > 0.5).float()\n",
    "            val_correct += (preds == labels.float().unsqueeze(1)).sum().item()\n",
    "\n",
    "    # Calculate average losses and accuracies for the epoch\n",
    "    train_loss = train_loss / len(train_loader.dataset)\n",
    "    train_acc = train_correct / len(train_loader.dataset)\n",
    "    val_loss = val_loss / len(validation_loader.dataset)\n",
    "    val_acc = val_correct / len(validation_loader.dataset)\n",
    "\n",
    "    # Store the results in the history dictionary\n",
    "    history['train_loss'].append(train_loss)\n",
    "    history['train_acc'].append(train_acc)\n",
    "    history['val_loss'].append(val_loss)\n",
    "    history['val_acc'].append(val_acc)\n",
    "\n",
    "    # Print epoch results\n",
    "    print(f\"Epoch {epoch+1}/{NUM_EPOCHS}: \"\n",
    "          f\"Train Loss: {train_loss:.4f}, Train Acc: {train_acc:.4f}, \"\n",
    "          f\"Val Loss: {val_loss:.4f}, Val Acc: {val_acc:.4f}\")"
   ]
  },
  {
   "cell_type": "markdown",
   "metadata": {
    "id": "6q55c1tHlBIS"
   },
   "source": [
    "Let’s plot the results using the same plotting code as before."
   ]
  },
  {
   "cell_type": "code",
   "execution_count": 124,
   "metadata": {
    "ExecuteTime": {
     "end_time": "2018-11-07T11:58:07.893884Z",
     "start_time": "2018-11-07T11:58:07.464697Z"
    },
    "colab": {
     "base_uri": "https://localhost:8080/",
     "height": 887
    },
    "execution": {
     "iopub.execute_input": "2025-01-24T14:34:07.898435Z",
     "iopub.status.busy": "2025-01-24T14:34:07.897286Z",
     "iopub.status.idle": "2025-01-24T14:34:08.183908Z",
     "shell.execute_reply": "2025-01-24T14:34:08.183052Z",
     "shell.execute_reply.started": "2025-01-24T14:34:07.898362Z"
    },
    "executionInfo": {
     "elapsed": 939,
     "status": "ok",
     "timestamp": 1719128051171,
     "user": {
      "displayName": "kc-aim",
      "userId": "16968997735368758960"
     },
     "user_tz": -480
    },
    "id": "sw7FAtVnlBIS",
    "outputId": "6daf63cc-a544-49ce-9dee-7506a67d2fa0"
   },
   "outputs": [
    {
     "data": {
      "image/png": "[encoded data removed]",
      "text/plain": [
       "<Figure size 640x480 with 1 Axes>"
      ]
     },
     "metadata": {},
     "output_type": "display_data"
    },
    {
     "data": {
      "image/png": "[encoded data removed]",
      "text/plain": [
       "<Figure size 640x480 with 1 Axes>"
      ]
     },
     "metadata": {},
     "output_type": "display_data"
    }
   ],
   "source": [
    "import matplotlib.pyplot as plt\n",
    "%matplotlib inline\n",
    "\n",
    "acc = history['train_acc']\n",
    "val_acc = history['val_acc']\n",
    "loss = history['train_loss']\n",
    "val_loss = history['val_loss']\n",
    "epochs = range(1, len(acc) + 1)\n",
    "plt.plot(epochs, acc, 'bo', label='Training acc')\n",
    "plt.plot(epochs, val_acc, 'b', label='Validation acc')\n",
    "plt.title('Training and validation accuracy')\n",
    "plt.legend()\n",
    "plt.figure()\n",
    "plt.plot(epochs, loss, 'bo', label='Training loss')\n",
    "plt.plot(epochs, val_loss, 'b', label='Validation loss')\n",
    "plt.title('Training and validation loss')\n",
    "plt.legend()\n",
    "plt.show()"
   ]
  },
  {
   "cell_type": "markdown",
   "metadata": {
    "id": "FccF6ydLlBIT"
   },
   "source": [
    "These curves look noisy. To make them more readable, you can smooth them by replacing every loss and accuracy with exponential moving averages of these quantities.\n",
    "\n",
    "Here’s a trivial utility function to do this"
   ]
  },
  {
   "cell_type": "code",
   "execution_count": 125,
   "metadata": {
    "ExecuteTime": {
     "end_time": "2018-11-07T11:58:08.174169Z",
     "start_time": "2018-11-07T11:58:07.896025Z"
    },
    "colab": {
     "base_uri": "https://localhost:8080/",
     "height": 887
    },
    "execution": {
     "iopub.execute_input": "2025-01-24T14:34:14.868632Z",
     "iopub.status.busy": "2025-01-24T14:34:14.867177Z",
     "iopub.status.idle": "2025-01-24T14:34:15.138591Z",
     "shell.execute_reply": "2025-01-24T14:34:15.136794Z",
     "shell.execute_reply.started": "2025-01-24T14:34:14.868562Z"
    },
    "executionInfo": {
     "elapsed": 19,
     "status": "ok",
     "timestamp": 1719128051173,
     "user": {
      "displayName": "kc-aim",
      "userId": "16968997735368758960"
     },
     "user_tz": -480
    },
    "id": "hhMjoKTElBIT",
    "outputId": "4321c4e3-0e22-4c3d-ccc9-08116a762ed7"
   },
   "outputs": [
    {
     "data": {
      "image/png": "[encoded data removed]",
      "text/plain": [
       "<Figure size 640x480 with 1 Axes>"
      ]
     },
     "metadata": {},
     "output_type": "display_data"
    },
    {
     "data": {
      "image/png": "[encoded data removed]",
      "text/plain": [
       "<Figure size 640x480 with 1 Axes>"
      ]
     },
     "metadata": {},
     "output_type": "display_data"
    }
   ],
   "source": [
    "def smooth_curve(points, factor=0.8):\n",
    "    smoothed_points = []\n",
    "    for point in points:\n",
    "        if smoothed_points:\n",
    "            previous = smoothed_points[-1]\n",
    "            smoothed_points.append(previous * factor + point * (1 - factor))\n",
    "        else:\n",
    "            smoothed_points.append(point)\n",
    "    return smoothed_points\n",
    "\n",
    "plt.plot(epochs,\n",
    "        smooth_curve(acc), 'bo', label='Smoothed training acc')\n",
    "plt.plot(epochs,\n",
    "        smooth_curve(val_acc), 'b', label='Smoothed validation acc')\n",
    "plt.title('Training and validation accuracy')\n",
    "plt.legend()\n",
    "\n",
    "plt.figure()\n",
    "\n",
    "plt.plot(epochs,\n",
    "        smooth_curve(loss), 'bo', label='Smoothed training loss')\n",
    "plt.plot(epochs,\n",
    "        smooth_curve(val_loss), 'b', label='Smoothed validation loss')\n",
    "plt.title('Training and validation loss')\n",
    "plt.legend()\n",
    "plt.show()"
   ]
  },
  {
   "cell_type": "markdown",
   "metadata": {
    "id": "rhmfcnDslBIT"
   },
   "source": [
    "The validation accuracy curve look much cleaner. You’re seeing a nice $4\\%$ absolute improvement in accuracy, from about $90\\%$ to $94+\\%$.\n",
    "\n",
    "Note that the loss curve doesn’t show any real improvement (in fact, it’s deteriorating). You may wonder, how could accuracy stay stable or improve if the loss isn’t decreasing? The answer is simple: what you display is an average of pointwise loss values; but what matters for accuracy is the distribution of the loss values, not their average, because accuracy is the result of a binary thresholding of the class probability predicted by the model. The model may still be improving even if this isn’t reflected in the average loss.\n",
    "\n",
    "You can now finally evaluate this model on the test data:"
   ]
  },
  {
   "cell_type": "markdown",
   "metadata": {
    "id": "YKN3ftvYlBIT"
   },
   "source": [
    "<div class=\"alert alert-block alert-success\">\n",
    "\n",
    "### ⚠️ Checkpoint ⚠️\n",
    "\n",
    "**Recap of Model Performance**\n",
    "1. Small CNN (70-73%)\n",
    "2. Small CNN + Data Augmentation and Dropout (83%)\n",
    "3. VGG16 with frozen Dense Layer (96%)\n",
    "4. VGG16 with frozen Dense Layer trained end to end with Data Augmentation (96%)\n",
    "5. VGG16 with frozen base (except 'block5_conv1') and trainable Dense Layer (96%)\n",
    "\n",
    "Here you get a test accuracy of 94%. You managed to reach this result using only a small fraction of the training data available (about 10%). There is a huge difference between being able to train on 20,000 samples compared to 2,000 samples and this result will already be among the top 5 in 2015!\n",
    "</div>"
   ]
  },
  {
   "cell_type": "markdown",
   "metadata": {
    "id": "6vJYQAfilBIV"
   },
   "source": [
    "# Summary\n",
    "\n",
    "Here’s what you should take away from the exercises we had:\n",
    "\n",
    "*  CNN or Convnets are the best machine-learning models for computer vision tasks. It is possible to train one from scratch, even on a very small dataset, with decent results.\n",
    "*   Overfitting will be the main issue on a small dataset. Data augmentation is a powerful way to fight overfitting when working with image data.    \n",
    "* Reusing an existing convent on a new dataset via feature extraction is easy. This is a valuable technique for working with small image datasets.   \n",
    "* In addition to feature extraction, you can use fine-tuning, which adapts to a new problem, such as some of the representations previously learned by an existing model. This pushes performance a bit further. Now, you have a solid set of tools for dealing with image classification problems, particularly small datasets.   "
   ]
  },
  {
   "cell_type": "markdown",
   "metadata": {
    "id": "pe-oOyvSlBIV"
   },
   "source": [
    "# Good job!\n",
    "You have learned about one of the most successful and widely used machine learning models for image classification! You should now be ready to start conceptualizing your main project.\n",
    "\n",
    "Unfortunately, there are two major drawbacks with VGG:\n",
    "1. It is painfully slow to train.\n",
    "2. The network architecture weights themselves are quite large (in terms of disk/bandwidth).\n",
    "\n",
    "Due to its depth and number of fully-connected nodes, VGG is over 533MB for VGG16 and 574MB for VGG19. This makes deploying VGG a tiresome task. We still use VGG in many deep learning image classification problems; however, smaller network architectures are often more desirable (such as SqueezeNet, GoogLeNet, etc.)."
   ]
  },
  {
   "cell_type": "markdown",
   "metadata": {
    "id": "MqzZGcr6lBIV"
   },
   "source": [
    "# Appendix. ImageNet\n",
    "Source: https://en.wikipedia.org/wiki/ImageNet\n",
    "\n",
    "The ImageNet project is a large visual database designed for use in visual object recognition software research. Over 14 million URLs of images have been hand-annotated by ImageNet to indicate what objects are pictured; in at least one million of the images, bounding boxes are also provided. ImageNet contains over 20 thousand categories;a typical category, such as \"balloon\" or \"strawberry\", contains several hundred images. The database of annotations of third-party image URLs is freely available directly from ImageNet; however, the actual images are not owned by ImageNet. Since 2010, the ImageNet project runs an annual software contest, the ImageNet Large Scale Visual Recognition Challenge (ILSVRC), where software programs compete to correctly classify and detect objects and scenes. The ImageNet Challenge uses a \"trimmed\" list of one thousand non-overlapping classes.\n",
    "\n",
    "A dramatic 2012 breakthrough in solving the ImageNet Challenge is widely considered to be the beginning of the deep learning revolution of the 2010s: \"Suddenly people started to pay attention, not just within the AI community but across the technology industry as a whole."
   ]
  },
  {
   "cell_type": "markdown",
   "metadata": {
    "id": "SjoWtTjMFCwH"
   },
   "source": [
    "\n",
    "## ImageNet Challenge\n",
    "Since 2010, the annual ImageNet Large Scale Visual Recognition Challenge (ILSVRC) is a competition where research teams evaluate their algorithms on the given data set, and compete to achieve higher accuracy on several visual recognition tasks. The ILSVRC aims to \"follow in the footsteps\" of the smaller-scale PASCAL VOC challenge, established in 2005, which contained only about 20,000 images and twenty object classes. The ILSVRC uses a \"trimmed\" list of only 1000 image categories or \"classes\", including 90 of the 120 dog breeds classified by the full ImageNet schema. The 2010s saw dramatic progress in image processing. Around 2011, a good ILSVRC classification error rate was 25%. In 2012, a deep convolutional neural net achieved 16%; in the next couple of years, error rates fell to a few percent.  While the 2012 breakthrough \"combined pieces that were all there before\", the dramatic quantitative improvement marked the start of an industry-wide artificial intelligence boom.By 2015, researchers reported that software exceeded human ability at the narrow ILSVRC tasks. However, as one of the challenge's organizers, Olga Russakovsky, pointed out in 2015, the programs only have to identify images as belonging to one of a thousand categories; humans can recognize a larger number of categories, and also (unlike the programs) can judge the context of an image.\n",
    "\n",
    "By 2014, over fifty institutions participated in the ILSVRC. In 2015, Baidu scientists were banned for a year for using different accounts to greatly exceed the specified limit of two submissions per week. Baidu later stated that it fired the team leader involved and that it would establish a scientific advisory panel.\n",
    "\n",
    "In 2017, 29 of 38 competing teams got less than 5% wrong. In 2017 ImageNet stated it would roll out a new, much more difficult, challenge in 2018 that involves classifying 3D objects using natural language. Because creating 3D data is more costly than annotating a pre-existing 2D image, the dataset is expected to be smaller. The applications of progress in this area would range from robotic navigation to augmented reality.\n",
    "\n",
    "![imagenet_history](https://user-images.githubusercontent.com/25600601/134777794-fc0e42cc-df07-4b65-a276-fb3dba8e27a5.png)"
   ]
  },
  {
   "cell_type": "markdown",
   "metadata": {
    "id": "xSe-ZL53lBIW"
   },
   "source": [
    "## 1000 Categories of ImageNet"
   ]
  },
  {
   "cell_type": "code",
   "execution_count": null,
   "metadata": {
    "ExecuteTime": {
     "end_time": "2018-11-07T15:12:07.264194Z",
     "start_time": "2018-11-07T15:12:07.238028Z"
    },
    "colab": {
     "base_uri": "https://localhost:8080/",
     "height": 424
    },
    "execution": {
     "iopub.status.busy": "2025-01-16T07:50:21.365647Z",
     "iopub.status.idle": "2025-01-16T07:50:21.365890Z",
     "shell.execute_reply": "2025-01-16T07:50:21.365780Z",
     "shell.execute_reply.started": "2025-01-16T07:50:21.365769Z"
    },
    "executionInfo": {
     "elapsed": 414,
     "status": "ok",
     "timestamp": 1719129105239,
     "user": {
      "displayName": "kc-aim",
      "userId": "16968997735368758960"
     },
     "user_tz": -480
    },
    "id": "eehRr-hBlBIW",
    "outputId": "f3501c55-b341-415c-a860-1c0479c18dd5"
   },
   "outputs": [],
   "source": [
    "import pandas as pd\n",
    "df = pd.read_fwf(DATA_DIR + 'map_clsloc.txt', header = None)\n",
    "df"
   ]
  }
 ],
 "metadata": {
  "accelerator": "GPU",
  "colab": {
   "provenance": [
    {
     "file_id": "1bEvzs0mIf4JchnmGgPsFhR73gI7Dvo8E",
     "timestamp": 1715836445279
    }
   ],
   "toc_visible": true
  },
  "kernelspec": {
   "display_name": "Python [conda env:base] *",
   "language": "python",
   "name": "conda-base-py"
  },
  "language_info": {
   "codemirror_mode": {
    "name": "ipython",
    "version": 3
   },
   "file_extension": ".py",
   "mimetype": "text/x-python",
   "name": "python",
   "nbconvert_exporter": "python",
   "pygments_lexer": "ipython3",
   "version": "3.12.8"
  }
 },
 "nbformat": 4,
 "nbformat_minor": 4
}
