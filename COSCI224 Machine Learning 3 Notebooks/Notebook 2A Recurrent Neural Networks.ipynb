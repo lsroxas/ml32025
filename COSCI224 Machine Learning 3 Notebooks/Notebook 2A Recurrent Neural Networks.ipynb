{
 "cells": [
  {
   "cell_type": "markdown",
   "metadata": {
    "id": "-giequofaBFO"
   },
   "source": [
    "# Notebook 2A. Recurrent Neural Networks (RNN)\n",
    "---\n",
    "Organized and prepared by Christopher Monterola, updated by Kenneth Co.\n",
    "\n",
    "This notebook was conceptualized, organized, and primarily prepared for the **Machine Learning** courses.\n",
    "\n",
    "### This notebook uses the following references:\n",
    "1. Python Machine Learning, Second Edition, Sebastian Raschka and Vahid Mirjalili, Packt Publishing Ltd. Birmingham B3 2PB, UK Sept 2017.\n",
    "2. Hands-On Machine Learning with Scikit-Learn and TensorFlow, Aurélien Géron, O'Reilly 2017.\n",
    "3. Deep Learning with Python, Francois Chollet, Manning New York 2018.\n",
    "4. ChatGPT 4\n",
    "\n",
    "---\n",
    "In this notebook, we will explore Recurrent Neural Networks (RNNs) and see their application in modeling sequential data and a specific subset of sequential data—time-series data.  In particularwe will cover here the following topics:\n",
    "- Introducing sequential data   \n",
    "- RNNs for modeling sequences   \n",
    "- Long Short-Term Memory (LSTM)      \n",
    "    \n",
    "We demonstrate the application of the RNN using **Sentiment analysis/prediction of the IMDb movie review dataset.** In **Notebook 2B**, we will look at the efficacy of using RNN for time series forecasting."
   ]
  },
  {
   "cell_type": "markdown",
   "metadata": {
    "id": "7k1nBzeNaBFP"
   },
   "source": [
    "## Google Colab Setup"
   ]
  },
  {
   "cell_type": "code",
   "execution_count": 1,
   "metadata": {
    "colab": {
     "base_uri": "https://localhost:8080/"
    },
    "executionInfo": {
     "elapsed": 70838,
     "status": "ok",
     "timestamp": 1737942476726,
     "user": {
      "displayName": "kc-aim",
      "userId": "16968997735368758960"
     },
     "user_tz": -480
    },
    "id": "wjjJyYA0MWZ3",
    "outputId": "708a46ee-f056-49de-8dc8-2e5552f125c9"
   },
   "outputs": [],
   "source": [
    "#!pip install -U tensorflow==2.15.0"
   ]
  },
  {
   "cell_type": "code",
   "execution_count": 2,
   "metadata": {
    "colab": {
     "base_uri": "https://localhost:8080/"
    },
    "executionInfo": {
     "elapsed": 17987,
     "status": "ok",
     "timestamp": 1737942494710,
     "user": {
      "displayName": "kc-aim",
      "userId": "16968997735368758960"
     },
     "user_tz": -480
    },
    "id": "oTQbw0rdaBFP",
    "outputId": "bf8fffc6-33c5-49a3-998a-38aa99b56625"
   },
   "outputs": [],
   "source": [
    "# from google.colab import drive\n",
    "# drive.mount('/content/drive')\n",
    "# DATA_DIR = '/content/drive/MyDrive/COSCI224 Machine Learning 3 Notebooks/data/'\n",
    "# IMG_DIR = '/content/drive/MyDrive/COSCI224 Machine Learning 3 Notebooks/images/'\n",
    "# MODEL_DIR = '/content/drive/MyDrive/COSCI224 Machine Learning 3 Notebooks/models/'\n",
    "\n",
    "DATA_DIR = 'data/'\n",
    "IMG_DIR = 'images/'\n",
    "MODEL_DIR = 'models/'"
   ]
  },
  {
   "cell_type": "markdown",
   "metadata": {
    "id": "iUokkeFZaBFQ"
   },
   "source": [
    "First, enable GPUs for the notebook:\n",
    "\n",
    "- Navigate to ```Edit → Notebook Settings``` in the toolbar\n",
    "- Select ```GPU``` or ```TPU```from the Hardware Accelerator drop-down\n",
    "\n",
    "Next, verify if GPU or TPU is enabled. You will know this by running the code script below. It should show that a GPU is recognized."
   ]
  },
  {
   "cell_type": "code",
   "execution_count": 3,
   "metadata": {},
   "outputs": [
    {
     "ename": "ModuleNotFoundError",
     "evalue": "No module named 'tensorflow'",
     "output_type": "error",
     "traceback": [
      "\u001b[31m---------------------------------------------------------------------------\u001b[39m",
      "\u001b[31mModuleNotFoundError\u001b[39m                       Traceback (most recent call last)",
      "\u001b[36mCell\u001b[39m\u001b[36m \u001b[39m\u001b[32mIn[3]\u001b[39m\u001b[32m, line 2\u001b[39m\n\u001b[32m      1\u001b[39m \u001b[38;5;28;01mimport\u001b[39;00m \u001b[34;01msys\u001b[39;00m\n\u001b[32m----> \u001b[39m\u001b[32m2\u001b[39m \u001b[38;5;28;01mimport\u001b[39;00m \u001b[34;01mtensorflow\u001b[39;00m\u001b[34;01m.\u001b[39;00m\u001b[34;01mkeras\u001b[39;00m \u001b[38;5;28;01mas\u001b[39;00m \u001b[34;01mkeras\u001b[39;00m\n\u001b[32m      3\u001b[39m \u001b[38;5;28;01mimport\u001b[39;00m \u001b[34;01mpandas\u001b[39;00m \u001b[38;5;28;01mas\u001b[39;00m \u001b[34;01mpd\u001b[39;00m\n\u001b[32m      4\u001b[39m \u001b[38;5;28;01mimport\u001b[39;00m \u001b[34;01msklearn\u001b[39;00m \u001b[38;5;28;01mas\u001b[39;00m \u001b[34;01msk\u001b[39;00m\n",
      "\u001b[31mModuleNotFoundError\u001b[39m: No module named 'tensorflow'"
     ]
    }
   ],
   "source": [
    "import sys\n",
    "import tensorflow.keras as keras\n",
    "import pandas as pd\n",
    "import sklearn as sk\n",
    "import tensorflow as tf\n",
    "import platform\n",
    "print(f\"Python Platform: {platform.platform()}\")\n",
    "print(f\"Tensor Flow Version: {tf.__version__}\")\n",
    "print(f\"Keras Version: {tensorflow.keras.__version__}\")\n",
    "print()\n",
    "print(f\"Python {sys.version}\")\n",
    "print(f\"Pandas {pd.__version__}\")\n",
    "print(f\"Scikit-Learn {sk.__version__}\")\n",
    "gpu = len(tf.config.list_physical_devices('GPU'))>0\n",
    "print(\"GPU is\", \"available\" if gpu else \"NOT AVAILABLE\")"
   ]
  },
  {
   "cell_type": "code",
   "execution_count": null,
   "metadata": {
    "colab": {
     "base_uri": "https://localhost:8080/"
    },
    "executionInfo": {
     "elapsed": 6901,
     "status": "ok",
     "timestamp": 1737942501609,
     "user": {
      "displayName": "kc-aim",
      "userId": "16968997735368758960"
     },
     "user_tz": -480
    },
    "id": "vjqPa_3NaBFQ",
    "outputId": "b0ab4c03-cfc9-440d-b1cd-07ffb5a5a352"
   },
   "outputs": [
    {
     "name": "stdout",
     "output_type": "stream",
     "text": [
      "Found GPU at: /device:GPU:0\n"
     ]
    },
    {
     "name": "stderr",
     "output_type": "stream",
     "text": [
      "2025-04-25 11:47:48.803047: I tensorflow/core/common_runtime/pluggable_device/pluggable_device_factory.cc:305] Could not identify NUMA node of platform GPU ID 0, defaulting to 0. Your kernel may not have been built with NUMA support.\n",
      "2025-04-25 11:47:48.803064: I tensorflow/core/common_runtime/pluggable_device/pluggable_device_factory.cc:271] Created TensorFlow device (/device:GPU:0 with 0 MB memory) -> physical PluggableDevice (device: 0, name: METAL, pci bus id: <undefined>)\n"
     ]
    }
   ],
   "source": [
    "import tensorflow as tf\n",
    "device_name = tf.test.gpu_device_name()\n",
    "if device_name != '/device:GPU:0':\n",
    "  raise SystemError('GPU device not found')\n",
    "print('Found GPU at: {}'.format(device_name))"
   ]
  },
  {
   "cell_type": "markdown",
   "metadata": {
    "id": "46UbGymjxSqZ"
   },
   "source": [
    "# 1. Introducing sequential data\n",
    "---\n",
    "\n",
    "Let's begin our discussion of RNNs by looking at the nature of sequential data, more commonly known as sequences. We'll take a look at the unique properties of sequences that make them different from other kinds of data. We'll then see how we can represent sequential data, and explore the various categories of models for sequential data, which are based on the input and output of a model. This will help us explore the relationship between RNNs and sequences a little bit later on in the notebook."
   ]
  },
  {
   "cell_type": "markdown",
   "metadata": {
    "id": "64EWBC7t1mlU"
   },
   "source": [
    "### 1.1 Modeling sequential data – order matters\n",
    "\n",
    "What makes sequences unique, from other data types, is that elements in a sequence appear in a certain order, and are not independent of each other --- in other words, order matters. We next need to find ways to leverage this valuable information in our machine learning model.\n",
    "\n",
    "Throughout this notebook, we will represent sequences as ($x^{(1)}$ , $x^{(2)}$ , ... , $x^{(T)}$). The  superscript indices indicate the order of the instances, and the length of the sequence is T. For a sensible example of sequences, consider time-series data, where each sample point $x^{(t)}$ belongs to a particular time t.\n",
    "\n",
    "The following figure shows an example of time-series data where both x's and y's naturally follow the order according to their time axis; therefore, both x's and y's are sequences:\n",
    "\n",
    "\n",
    "<img width=\"761\" alt=\"RNN_sequence\" src=\"https://user-images.githubusercontent.com/25600601/142829757-f1f8a17d-61ce-4f70-a7f2-353ab6084037.png\">\n",
    "\n",
    "The standard neural network models that we have covered so far, such as MLPs and CNNs, are not desinged in handling the order of input samples. Intuitively, one can say that such models do not have a memory of the past seen samples. For instance, the samples are passed through the feedforward and backpropagation steps, and the\n",
    "weights are updated independent of the order in which the sample is processed.\n",
    "\n",
    "RNNs, by contrast, are designed for modeling sequences and are capable of remembering past information and processing new events accordingly.\n",
    "\n",
    "\n"
   ]
  },
  {
   "cell_type": "markdown",
   "metadata": {
    "id": "2OIjkWqAxSqa"
   },
   "source": [
    "### 1.2 The different categories of sequence modeling\n",
    "\n",
    "Sequence modeling has many fascinating applications, such as language translation (perhaps from English to Filipino), image captioning, and text generation.\n",
    "\n",
    "However, we need to understand the different types of sequence modeling tasks to develop an appropriate model. The following figure, based on the explanations in the excellent article The Unreasonable Effectiveness of Recurrent Neural Networks by Andrej Karpathy (http://karpathy.github.io/2015/05/21/rnn-effectiveness/), shows several different relationship categories of input and output data:\n",
    "\n",
    "<img width=\"716\" alt=\"RNN_categories\" src=\"https://user-images.githubusercontent.com/25600601/142829866-6c30b056-42a0-4409-806c-0ec355f0f310.png\">\n",
    "\n",
    "So, let's consider the input and output data here. If neither the input or output data represents sequences, then we are dealing with standard data, and we can use any of the previous methods to model such data. But if either the input or output is a sequence, the data will form one of the following three different categories:\n",
    "- **Many-to-one:** The input data is a sequence, but the output is a fixed-size vector, not a sequence. For example, in sentiment analysis, the input is textbased and the output is a class label.\n",
    "- **One-to-many:** The input data is in standard format, not a sequence, but the output is a sequence. An example of this category is image captioning—the input is an image; the output is an English phrase.\n",
    "- **Many-to-many:** Both the input and output arrays are sequences. This category can be further divided based on whether the input and output are synchronized or not. An example of a synchronized many-to-many modeling task is video classification, where each frame in a video is labeled. An example of a delayed many-to-many would be translating a language into another. For instance, an entire English sentence must be read and processed by a machine before producing its translation into Filipino."
   ]
  },
  {
   "cell_type": "markdown",
   "metadata": {
    "id": "T5L_OJnExSqb"
   },
   "source": [
    "# 2 RNNs for modeling sequences\n",
    "---\n",
    "\n",
    "We now look at the foundations of RNNs. We'll start by introducing the typical structure of an RNN, and we'll see how the data flows through it with one or more hidden layers. We'll then examine how the neuron activations are computed in a typical RNN. This will create a context for us to discuss the common challenges in training RNNs, and explore the modern solution to these challenges—LSTM.\n",
    "\n"
   ]
  },
  {
   "cell_type": "markdown",
   "metadata": {
    "id": "1qiayh-61JMe"
   },
   "source": [
    "### 2.1 Understanding the structure and flow of an RNN\n",
    "\n",
    "Let's start by introducing the architecture of an RNN. The following figure shows a standard feedforward neural network and an RNN, in a side by side for comparison:\n",
    "\n",
    "<img width=\"869\" alt=\"RNNvsfeedforwardNN\" src=\"https://user-images.githubusercontent.com/25600601/142830255-11b5251c-091e-4487-beb0-68dfc904e75a.png\">\n",
    "\n",
    "Both of these networks have only one hidden layer. In this representation, the units are not displayed, but we assume that the input layer ($\\mathbf{x}$), hidden layer ($\\mathbf{h}$), and output layer ($\\mathbf{y}$) are vectors which contain many units.\n",
    "\n",
    "In a standard feedforward network, information flows from the input to the hidden layer, and then from the hidden layer to the output layer. On the other hand, in a recurrent network, the hidden layer gets its input from both the input layer and the hidden layer from the previous time step.\n",
    "\n",
    "The flow of information in adjacent time steps in the hidden layer allows the network to have a memory of past events. This flow of information is usually displayed as a loop, also known as a recurrent edge in graph notation, which is how this general architecture got its name.\n",
    "\n",
    "In the following figure, the single hidden layer network and the multilayer network illustrate two contrasting architectures:\n",
    "\n",
    "<img width=\"718\" alt=\"RNN_architectures\" src=\"https://user-images.githubusercontent.com/25600601/142830328-445ed659-b79e-4231-b4cc-7653ccb5b406.png\">\n",
    "\n",
    "In order to examine the architecture of RNNs and the flow of information, a compact representation with a recurrent edge can be unfolded, which you can see in the preceding figure. As we know, each hidden unit in a standard neural network receives only one input—the net preactivation associated with the input layer. Now, in contrast, each hidden unit in an RNN receives two distinct sets of input—the preactivation from the input layer and the activation of the same hidden layer from the previous time step t-1.\n",
    "\n",
    "At the first time step t = 0, the hidden units are initialized to zeros or small random values. Then, at a time step where t > 0, the hidden units get their input from the data point at the current time $\\mathbf{x}^{(t)}$ and the previous values of hidden units at t - 1, indicated as $\\mathbf{h}^{(t-1)}$.\n",
    "\n",
    "Similarly, in the case of a multilayer RNN, we can summarize the information flow as follows:\n",
    "\n",
    "• *layer =1*: Here, the hidden layer is represented as $\\mathbf{h_1}^{(t)}$ and gets its input\n",
    "from the data point $\\mathbf{x}^{(t)}$ and the hidden values in the same layer, but the previous time step $\\mathbf{h_1}^{(t-1)}$\n",
    "\n",
    "• *layer = 2* : The second hidden layer, $\\mathbf{h_2}^{(t)}$ receives its inputs from the hidden units from the layer below at the current time step $\\mathbf{h_1}^{(t)}$ and its own hidden values from the previous time step $\\mathbf{h_2}^{(t-1)}$\n",
    "\n"
   ]
  },
  {
   "cell_type": "markdown",
   "metadata": {
    "id": "9Nlyc710xSqc"
   },
   "source": [
    "### 2.2 Computing activations in an RNN\n",
    "\n",
    "Now that we understand the structure and general flow of information in an RNN, let's get more specific and compute the actual activations of the hidden layers as well as the output layer. For simplicity, we'll consider just a single hidden layer; however, the same concept applies to multilayer RNNs.\n",
    "\n",
    "Each directed edge (the connections between boxes) in the representation of an RNN that we just looked at is associated with a weight matrix. Those weights do not depend on time t; therefore, they are shared across the time axis. The different weight matrices in a single layer RNN are as follows:\n",
    "\n",
    "• $\\mathbf{W}_{xh}$ : The weight matrix between the input $\\mathbf{x}^{(t)}$ and the hidden layer $\\mathbf{h}$   \n",
    "• $\\mathbf{W}_{hh}$ : The weight matrix associated with the recurrent edge   \n",
    "• $\\mathbf{W}_{hy}$: The weight matrix between the hidden layer and output layer   \n",
    "\n",
    "You can see these weight matrices in the following figure:\n",
    "\n",
    "<img width=\"877\" alt=\"RNN_weightmatrices\" src=\"https://user-images.githubusercontent.com/25600601/142830555-fe261213-9fcd-416d-a0c7-cfc12af74f86.png\">\n",
    "\n",
    "In certain implementations, you may observe that weight matrices $\\mathbf{W}_{xh}$ and $\\mathbf{W}_{hh}$ are concatenated to a combined matrix $\\mathbf{W}_{h}$ = [$\\mathbf{W}_{xh}$; $\\mathbf{W}_{hh}$]. Later on, we'll make use of this notation as well.\n",
    "\n",
    "\n",
    "Computing the activations is very similar to standard multilayer perceptrons and other types of feedforward neural networks. For the hidden layer, the net input $\\mathbf{z}_h$(preactivation) is computed through a linear combination. That is, we compute the sum of the multiplications of the weight matrices with the corresponding vectors and add the bias unit --- $\\mathbf{z}_h$=$\\mathbf{W}_{xh}$$\\mathbf{x}^{(t)}$ + $\\mathbf{W}_{hh}$$\\mathbf{h}^{(t-1)}$ + $\\mathbf{b}_{h}$. Then, the activations of the hidden units at the time step t are calculated as follows:\n",
    "\n",
    "\\begin{equation}\n",
    "\\mathbf{h}^{(t)}= \\phi_h(\\mathbf{z}_h) = \\phi_h(\\mathbf{W}_{xh} \\mathbf{x}^{(t)} + \\mathbf{W}_{hh} \\mathbf{h}^{(t-1)} + \\mathbf{b}_{h})\n",
    "\\end{equation}\n",
    "\n",
    "Here, $\\mathbf{b}_{h}$ is the bias vector for the hidden units and $\\phi_h( )$  is the activation function\n",
    "of the hidden layer.\n",
    "\n",
    "\n",
    "\n",
    "In case you want to use the concatenated weight matrix $\\mathbf{W}_{h}$ = [$\\mathbf{W}_{xh}$; $\\mathbf{W}_{hh}$], the formula for computing hidden units will change as follows:\n",
    "\n",
    "\\begin{equation}\n",
    "\\mathbf{h}^{(t)}= \\phi_h(\\mathbf{W}_{h}\\begin{bmatrix}\\mathbf{x}^{(t)}\\\\\n",
    "\\mathbf{h}^{(t-1)} \\\\\n",
    "\\end{bmatrix} + \\mathbf{b}_{h})\n",
    "\\end{equation}\n",
    "\n",
    "\n",
    "Once the activations of hidden units at the current time step are computed, then the activations of output units will be computed as follows:\n",
    "\n",
    "\\begin{equation}\n",
    "\\mathbf{y}^{(t)}= \\phi_y(\\mathbf{W}_{hy}\\mathbf{h}^{(t)} + \\mathbf{b}_{y})\n",
    "\\end{equation}\n",
    "\n",
    "To help clarify this further, the following figure shows the process of computing\n",
    "these activations with both formulations:\n",
    "\n",
    "<img width=\"869\" alt=\"RNNvsfeedforwardNN\" src=\"https://user-images.githubusercontent.com/25600601/142830623-5affd7c0-6240-4f0f-b829-f3446eb3a751.png\">\n",
    "\n",
    "\n",
    "Backpropagation now proceeds as usual as we have not a clear expresssion for weights and output of the RNN.\n"
   ]
  },
  {
   "cell_type": "markdown",
   "metadata": {
    "id": "rSOFXFqRxSqd"
   },
   "source": [
    "### 2.3 The challenges of learning long-range interactions\n",
    "\n",
    "<img width=\"709\" alt=\"RNN_BPTT\" src=\"https://user-images.githubusercontent.com/25600601/142831664-4882c954-55b5-45f6-9bc1-da05889f2363.png\">\n",
    "\n",
    "Backpropagation through time, or BPTT, which we briefly mentioned in the previous\n",
    "information box, introduces some new challenges. Because of the multiplicative factor $\\frac{\\partial \\mathbf{h}^{(t)}}{\\partial \\mathbf{h}^{(k)}}$ in the computing gradients of a loss function, the so-called vanishing or exploding gradient problem arises. This problem is explained through the examples in the following figure, which shows an RNN with only one hidden unit for simplicity:\n",
    "\n",
    "<img width=\"869\" alt=\"RNN_gradients\" src=\"https://user-images.githubusercontent.com/25600601/142831742-9324ea36-9a4c-46e4-ab18-a30ba49b0e0e.png\">\n",
    "\n",
    "Basically, $\\frac{\\partial \\mathbf{h}^{(t)}}{\\partial \\mathbf{h}^{(k)}}$ has t − k multiplications; therefore, multiplying the $w$ weight t − k times results in a factor — $w^{t−k}$. As a result, if $w$ <1, this factor becomes very small when t − k is large. On the other hand, if the weight of the recurrent edge is w >1,\n",
    "then $w^{t−k}$ becomes very large when t − k is large. Note that large t − k refers to longrange dependencies.\n",
    "\n",
    "Intuitively, we can see that a naive solution to avoid vanishing or exploding gradient can be accomplished by ensuring $|w|=1$. If you are interested and would like to investigate this in more detail, I encourage you to read *On the difficulty of training recurrent neural networks by R. Pascanu, T. Mikolov, and Y. Bengio, 2012 (https://\n",
    "arxiv.org/pdf/1211.5063.pdf).*\n",
    "\n",
    "In practice, there are two solutions to this problem:\n",
    "\n",
    "• Truncated backpropagation through time (TBPTT)  \n",
    "• Long short-term memory (LSTM)  \n",
    "\n",
    "TBPTT clips the gradients above a given threshold. While TBPTT can solve the exploding gradient problem, the truncation limits the number of steps that the gradient can effectively flow back and properly update the weights.\n",
    "\n",
    "On the other hand, LSTM, designed in 1997 by Hochreiter and Schmidhuber, has been more successful in modeling long-range sequences by overcoming the vanishing gradient problem. Let's discuss LSTM in more detail in the next section.\n",
    "\n",
    "Number of parameters: num_units* num_units + num_features* num_units + biases\n"
   ]
  },
  {
   "cell_type": "markdown",
   "metadata": {
    "id": "TyeOVN3axSqf"
   },
   "source": [
    "# Example 1A. Sentiment analysis of IMDb movie reviews using a simple RNN\n",
    "We will implement a multilayer RNN for sentiment analysis using a many-to-one architecture.\n",
    "\n",
    "Here is a typical IMDb review for Fantastic Beasts: The Crimes of Grindelwald (https://www.imdb.com/title/tt4123430/reviews?ref_=tt_urv)\n",
    "\n",
    "**Negative review**: Basically everything wrong with the movie can be summed up with its title. Fantastic Beasts. The Crimes of Grindelwald. These two things have nothing to do with each other. In my opinion the faults of this movie date back to the first film, where we had the compelling story of a young wizard named David Attenborough whose animals escaped in New York and he had to find them. Great. Sold. Unfortunately they had to make the film much worse by adding in unnecessary and convoluted subplots about a repressed boy named Credence who could change into a dangerous obscuris. Or something. The filmmakers obviously didn't learn from their mistakes.\n",
    "\n",
    "**Positive review**: As a huge fan of the first Fantastic Beasts film, I had been looking forward to this film for a while. I'm so glad that it didn't disappoint! I really enjoyed this movie, just as much as the first installment. Of course, it is a bit different, and it gets down to serious business, so the tone is a bit darker. Which of course makes sense. There was still enough humor though, and I love the characters. The storyline is great, the villain is interesting, the special effects were amazing, and the history and lore for the Harry Potter series is rich and enjoyable. Although this movie is pretty amazing, it did suffer from trying to feed us a lot of information and history. Yeah, there is a lot to take in, and a lot you find out. Perhaps this movie could've been a bit longer too as some extra scenes between some characters would've been appreciated. But with all of the information and history that was given, I found it all to be pretty exciting. I definitely feel as if this is a definite must see for any Harry Potter fan."
   ]
  },
  {
   "cell_type": "markdown",
   "metadata": {
    "id": "4zLEelpExSqf"
   },
   "source": [
    "### Step 1. Prepare the IMDb dataset\n",
    "Update data can be downloaded here: https://www.kaggle.com/utathya/imdb-review-dataset but for illustration let's use the one available in Keras."
   ]
  },
  {
   "cell_type": "code",
   "execution_count": null,
   "metadata": {
    "colab": {
     "base_uri": "https://localhost:8080/"
    },
    "executionInfo": {
     "elapsed": 9984,
     "status": "ok",
     "timestamp": 1737942511590,
     "user": {
      "displayName": "kc-aim",
      "userId": "16968997735368758960"
     },
     "user_tz": -480
    },
    "id": "E9_Lofvj64HG",
    "outputId": "6e862a31-e17c-4b25-bc46-82518264d5ec"
   },
   "outputs": [
    {
     "name": "stdout",
     "output_type": "stream",
     "text": [
      "Loading data...\n",
      "25000 train sequences\n",
      "25000 test sequences\n",
      "Pad sequences (samples x time)\n",
      "input_train shape: (25000, 500)\n",
      "input_test shape: (25000, 500)\n"
     ]
    }
   ],
   "source": [
    "# Importing necessary libraries from Keras\n",
    "from keras.datasets import imdb\n",
    "from keras.preprocessing import sequence\n",
    "\n",
    "# Setting the number of most frequent words to keep in the vocabulary\n",
    "max_features = 10000\n",
    "\n",
    "# Setting the maximum number of words in each sequence\n",
    "maxlen = 500\n",
    "\n",
    "# Defining the batch size for the model training and testing\n",
    "batch_size = 32\n",
    "\n",
    "# Starting the data loading process\n",
    "print('Loading data...')\n",
    "\n",
    "# Loading the IMDB dataset with the number of words limited to 'max_features'\n",
    "(input_train, y_train), (input_test, y_test) = imdb.load_data(num_words=max_features)\n",
    "\n",
    "# Printing the number of training sequences loaded\n",
    "print(len(input_train), 'train sequences')\n",
    "\n",
    "# Printing the number of test sequences loaded\n",
    "print(len(input_test), 'test sequences')\n",
    "\n",
    "# Notifying that sequences will be padded to ensure uniform length\n",
    "print('Pad sequences (samples x time)')\n",
    "\n",
    "# Padding/truncating the training data to 'maxlen'\n",
    "input_train = sequence.pad_sequences(input_train, maxlen=maxlen)\n",
    "\n",
    "# Padding/truncating the test data to 'maxlen'\n",
    "input_test = sequence.pad_sequences(input_test, maxlen=maxlen)\n",
    "\n",
    "# Printing the shape of the training data\n",
    "print('input_train shape:', input_train.shape)\n",
    "\n",
    "# Printing the shape of the test data\n",
    "print('input_test shape:', input_test.shape)"
   ]
  },
  {
   "cell_type": "markdown",
   "metadata": {},
   "source": []
  },
  {
   "cell_type": "markdown",
   "metadata": {
    "id": "9U6qJIZs7N8B"
   },
   "source": [
    "Below is the detailed description of each line in the above code that will be fed for sentiment analysis using a Recurrent Neural Network (RNN) with the Keras library:\n",
    "\n",
    "1. **Import Libraries**\n",
    "   - `from keras.datasets import imdb`: Import the IMDB dataset module from Keras.\n",
    "   - `from keras.preprocessing import sequence`: Import sequence preprocessing utilities.\n",
    "\n",
    "2. **Define Parameters**\n",
    "   - `max_features = 10000`: Define the maximum number of most frequent words to keep in the vocabulary.\n",
    "   - `maxlen = 500`: Set the maximum sequence length. Longer texts will be truncated.\n",
    "   - `batch_size = 32`: Specify the batch size for the model.\n",
    "\n",
    "3. **Load Data**\n",
    "   - `print('Loading data...')`: Print a message indicating the start of data loading.\n",
    "   - Load the dataset, splitting into training and testing sets: `(input_train, y_train), (input_test, y_test) = imdb.load_data(num_words=max_features)`\n",
    "\n",
    "4. **Output Dataset Sizes**\n",
    "   - `print(len(input_train), 'train sequences')`: Print the number of training sequences.\n",
    "   - `print(len(input_test), 'test sequences')`: Print the number of test sequences.\n",
    "\n",
    "5. **Prepare Data**\n",
    "   - `print('Pad sequences (samples x time)')`: Notify that sequences will be padded to a uniform length.\n",
    "   - `input_train = sequence.pad_sequences(input_train, maxlen=maxlen)`: Pad/truncate the training sequences.\n",
    "   - `input_test = sequence.pad_sequences(input_test, maxlen=maxlen)`: Pad/truncate the test sequences.\n",
    "\n",
    "6. **Display Data Shape**\n",
    "   - `print('input_train shape:', input_train.shape)`: Print the shape of the training data.\n",
    "   - `print('input_test shape:', input_test.shape)`: Print the shape of the test data.\n",
    "\n",
    "This setup prepares and processes the IMDB dataset for sentiment analysis, ensuring each input sequence is uniform for model training and evaluation."
   ]
  },
  {
   "cell_type": "code",
   "execution_count": null,
   "metadata": {
    "colab": {
     "base_uri": "https://localhost:8080/"
    },
    "executionInfo": {
     "elapsed": 6,
     "status": "ok",
     "timestamp": 1737942511590,
     "user": {
      "displayName": "kc-aim",
      "userId": "16968997735368758960"
     },
     "user_tz": -480
    },
    "id": "q0dkujhDxSqh",
    "outputId": "63fe09e3-6ff4-460a-d325-84b3c79106d0"
   },
   "outputs": [
    {
     "data": {
      "text/plain": [
       "array([   0,    0,    0,    0,    0,    0,    0,    0,    0,    0,    0,\n",
       "          0,    0,    0,    0,    0,    0,    0,    0,    0,    0,    0,\n",
       "          0,    0,    0,    0,    0,    0,    0,    0,    0,    0,    0,\n",
       "          0,    0,    0,    0,    0,    0,    0,    0,    0,    0,    0,\n",
       "          0,    0,    0,    0,    0,    0,    0,    0,    0,    0,    0,\n",
       "          0,    0,    0,    0,    0,    0,    0,    0,    0,    0,    0,\n",
       "          0,    0,    0,    0,    0,    0,    0,    0,    0,    0,    0,\n",
       "          0,    0,    0,    0,    0,    0,    0,    0,    0,    0,    0,\n",
       "          0,    0,    0,    0,    0,    0,    0,    0,    0,    0,    0,\n",
       "          0,    0,    0,    0,    0,    0,    0,    0,    0,    0,    0,\n",
       "          0,    0,    0,    0,    0,    0,    0,    0,    0,    0,    0,\n",
       "          0,    0,    0,    0,    0,    0,    0,    0,    0,    0,    0,\n",
       "          0,    0,    0,    0,    0,    0,    0,    0,    0,    0,    0,\n",
       "          0,    0,    0,    0,    0,    0,    0,    0,    0,    0,    0,\n",
       "          0,    0,    0,    0,    0,    0,    0,    0,    0,    0,    0,\n",
       "          0,    0,    0,    0,    0,    0,    0,    0,    0,    0,    0,\n",
       "          0,    0,    0,    0,    0,    0,    0,    0,    0,    0,    0,\n",
       "          0,    0,    0,    0,    0,    0,    0,    0,    0,    0,    0,\n",
       "          0,    0,    0,    0,    0,    0,    0,    0,    0,    0,    0,\n",
       "          0,    0,    0,    0,    0,    0,    0,    0,    0,    0,    0,\n",
       "          0,    0,    0,    0,    0,    0,    0,    0,    0,    0,    0,\n",
       "          0,    0,    0,    0,    0,    0,    0,    0,    0,    0,    0,\n",
       "          0,    0,    0,    0,    0,    0,    0,    0,    0,    0,    0,\n",
       "          0,    0,    0,    0,    0,    0,    0,    0,    0,    0,    0,\n",
       "          0,    0,    0,    0,    0,    0,    0,    0,    0,    0,    0,\n",
       "          0,    0,    0,    0,    0,    0,    0,    0,    0,    0,    0,\n",
       "          0,    0,    0,    0,    0,    0,    0,    0,    0,    0,    0,\n",
       "          0,    0,    0,    0,    0,    0,    0,    0,    0,    0,    0,\n",
       "          0,    0,    0,    1,  194, 1153,  194, 8255,   78,  228,    5,\n",
       "          6, 1463, 4369, 5012,  134,   26,    4,  715,    8,  118, 1634,\n",
       "         14,  394,   20,   13,  119,  954,  189,  102,    5,  207,  110,\n",
       "       3103,   21,   14,   69,  188,    8,   30,   23,    7,    4,  249,\n",
       "        126,   93,    4,  114,    9, 2300, 1523,    5,  647,    4,  116,\n",
       "          9,   35, 8163,    4,  229,    9,  340, 1322,    4,  118,    9,\n",
       "          4,  130, 4901,   19,    4, 1002,    5,   89,   29,  952,   46,\n",
       "         37,    4,  455,    9,   45,   43,   38, 1543, 1905,  398,    4,\n",
       "       1649,   26, 6853,    5,  163,   11, 3215,    2,    4, 1153,    9,\n",
       "        194,  775,    7, 8255,    2,  349, 2637,  148,  605,    2, 8003,\n",
       "         15,  123,  125,   68,    2, 6853,   15,  349,  165, 4362,   98,\n",
       "          5,    4,  228,    9,   43,    2, 1157,   15,  299,  120,    5,\n",
       "        120,  174,   11,  220,  175,  136,   50,    9, 4373,  228, 8255,\n",
       "          5,    2,  656,  245, 2350,    5,    4, 9837,  131,  152,  491,\n",
       "         18,    2,   32, 7464, 1212,   14,    9,    6,  371,   78,   22,\n",
       "        625,   64, 1382,    9,    8,  168,  145,   23,    4, 1690,   15,\n",
       "         16,    4, 1355,    5,   28,    6,   52,  154,  462,   33,   89,\n",
       "         78,  285,   16,  145,   95], dtype=int32)"
      ]
     },
     "execution_count": 10,
     "metadata": {},
     "output_type": "execute_result"
    }
   ],
   "source": [
    "input_train[1]"
   ]
  },
  {
   "cell_type": "code",
   "execution_count": null,
   "metadata": {
    "colab": {
     "base_uri": "https://localhost:8080/"
    },
    "executionInfo": {
     "elapsed": 4,
     "status": "ok",
     "timestamp": 1737942511590,
     "user": {
      "displayName": "kc-aim",
      "userId": "16968997735368758960"
     },
     "user_tz": -480
    },
    "id": "pgHRMn0UZDVD",
    "outputId": "7d97e740-44f0-486d-ed7d-69fa20f559e4"
   },
   "outputs": [
    {
     "data": {
      "text/plain": [
       "(500,)"
      ]
     },
     "execution_count": 11,
     "metadata": {},
     "output_type": "execute_result"
    }
   ],
   "source": [
    "input_train[1].shape"
   ]
  },
  {
   "cell_type": "markdown",
   "metadata": {
    "id": "Ac3YAI9vxSqh"
   },
   "source": [
    "### Step 2. Train the model with Embedding and SimpleRNN layers"
   ]
  },
  {
   "cell_type": "code",
   "execution_count": null,
   "metadata": {
    "id": "ymzRwv0RYCs_"
   },
   "outputs": [
    {
     "name": "stderr",
     "output_type": "stream",
     "text": [
      "2025-04-25 11:47:50.993831: I tensorflow/core/common_runtime/pluggable_device/pluggable_device_factory.cc:305] Could not identify NUMA node of platform GPU ID 0, defaulting to 0. Your kernel may not have been built with NUMA support.\n",
      "2025-04-25 11:47:50.993849: I tensorflow/core/common_runtime/pluggable_device/pluggable_device_factory.cc:271] Created TensorFlow device (/job:localhost/replica:0/task:0/device:GPU:0 with 0 MB memory) -> physical PluggableDevice (device: 0, name: METAL, pci bus id: <undefined>)\n"
     ]
    }
   ],
   "source": [
    "from keras import Sequential\n",
    "from keras.layers import Embedding, SimpleRNN\n",
    "from keras.layers import Dense\n",
    "import numpy as np\n",
    "\n",
    "model = Sequential()\n",
    "model.add(Embedding(max_features, 32))\n",
    "model.add(SimpleRNN(32))\n",
    "model.add(Dense(1, activation='sigmoid'))"
   ]
  },
  {
   "cell_type": "code",
   "execution_count": null,
   "metadata": {
    "colab": {
     "base_uri": "https://localhost:8080/"
    },
    "executionInfo": {
     "elapsed": 3,
     "status": "ok",
     "timestamp": 1737942512573,
     "user": {
      "displayName": "kc-aim",
      "userId": "16968997735368758960"
     },
     "user_tz": -480
    },
    "id": "pxjHiSeLYTq8",
    "outputId": "571f66c9-200c-47c5-fe42-942a9a4a9efd"
   },
   "outputs": [
    {
     "data": {
      "text/html": [
       "<pre style=\"white-space:pre;overflow-x:auto;line-height:normal;font-family:Menlo,'DejaVu Sans Mono',consolas,'Courier New',monospace\"><span style=\"font-weight: bold\">Model: \"sequential\"</span>\n",
       "</pre>\n"
      ],
      "text/plain": [
       "\u001b[1mModel: \"sequential\"\u001b[0m\n"
      ]
     },
     "metadata": {},
     "output_type": "display_data"
    },
    {
     "data": {
      "text/html": [
       "<pre style=\"white-space:pre;overflow-x:auto;line-height:normal;font-family:Menlo,'DejaVu Sans Mono',consolas,'Courier New',monospace\">┏━━━━━━━━━━━━━━━━━━━━━━━━━━━━━━━━━┳━━━━━━━━━━━━━━━━━━━━━━━━┳━━━━━━━━━━━━━━━┓\n",
       "┃<span style=\"font-weight: bold\"> Layer (type)                    </span>┃<span style=\"font-weight: bold\"> Output Shape           </span>┃<span style=\"font-weight: bold\">       Param # </span>┃\n",
       "┡━━━━━━━━━━━━━━━━━━━━━━━━━━━━━━━━━╇━━━━━━━━━━━━━━━━━━━━━━━━╇━━━━━━━━━━━━━━━┩\n",
       "│ embedding (<span style=\"color: #0087ff; text-decoration-color: #0087ff\">Embedding</span>)           │ ?                      │   <span style=\"color: #00af00; text-decoration-color: #00af00\">0</span> (unbuilt) │\n",
       "├─────────────────────────────────┼────────────────────────┼───────────────┤\n",
       "│ simple_rnn (<span style=\"color: #0087ff; text-decoration-color: #0087ff\">SimpleRNN</span>)          │ ?                      │   <span style=\"color: #00af00; text-decoration-color: #00af00\">0</span> (unbuilt) │\n",
       "├─────────────────────────────────┼────────────────────────┼───────────────┤\n",
       "│ dense (<span style=\"color: #0087ff; text-decoration-color: #0087ff\">Dense</span>)                   │ ?                      │   <span style=\"color: #00af00; text-decoration-color: #00af00\">0</span> (unbuilt) │\n",
       "└─────────────────────────────────┴────────────────────────┴───────────────┘\n",
       "</pre>\n"
      ],
      "text/plain": [
       "┏━━━━━━━━━━━━━━━━━━━━━━━━━━━━━━━━━┳━━━━━━━━━━━━━━━━━━━━━━━━┳━━━━━━━━━━━━━━━┓\n",
       "┃\u001b[1m \u001b[0m\u001b[1mLayer (type)                   \u001b[0m\u001b[1m \u001b[0m┃\u001b[1m \u001b[0m\u001b[1mOutput Shape          \u001b[0m\u001b[1m \u001b[0m┃\u001b[1m \u001b[0m\u001b[1m      Param #\u001b[0m\u001b[1m \u001b[0m┃\n",
       "┡━━━━━━━━━━━━━━━━━━━━━━━━━━━━━━━━━╇━━━━━━━━━━━━━━━━━━━━━━━━╇━━━━━━━━━━━━━━━┩\n",
       "│ embedding (\u001b[38;5;33mEmbedding\u001b[0m)           │ ?                      │   \u001b[38;5;34m0\u001b[0m (unbuilt) │\n",
       "├─────────────────────────────────┼────────────────────────┼───────────────┤\n",
       "│ simple_rnn (\u001b[38;5;33mSimpleRNN\u001b[0m)          │ ?                      │   \u001b[38;5;34m0\u001b[0m (unbuilt) │\n",
       "├─────────────────────────────────┼────────────────────────┼───────────────┤\n",
       "│ dense (\u001b[38;5;33mDense\u001b[0m)                   │ ?                      │   \u001b[38;5;34m0\u001b[0m (unbuilt) │\n",
       "└─────────────────────────────────┴────────────────────────┴───────────────┘\n"
      ]
     },
     "metadata": {},
     "output_type": "display_data"
    },
    {
     "data": {
      "text/html": [
       "<pre style=\"white-space:pre;overflow-x:auto;line-height:normal;font-family:Menlo,'DejaVu Sans Mono',consolas,'Courier New',monospace\"><span style=\"font-weight: bold\"> Total params: </span><span style=\"color: #00af00; text-decoration-color: #00af00\">0</span> (0.00 B)\n",
       "</pre>\n"
      ],
      "text/plain": [
       "\u001b[1m Total params: \u001b[0m\u001b[38;5;34m0\u001b[0m (0.00 B)\n"
      ]
     },
     "metadata": {},
     "output_type": "display_data"
    },
    {
     "data": {
      "text/html": [
       "<pre style=\"white-space:pre;overflow-x:auto;line-height:normal;font-family:Menlo,'DejaVu Sans Mono',consolas,'Courier New',monospace\"><span style=\"font-weight: bold\"> Trainable params: </span><span style=\"color: #00af00; text-decoration-color: #00af00\">0</span> (0.00 B)\n",
       "</pre>\n"
      ],
      "text/plain": [
       "\u001b[1m Trainable params: \u001b[0m\u001b[38;5;34m0\u001b[0m (0.00 B)\n"
      ]
     },
     "metadata": {},
     "output_type": "display_data"
    },
    {
     "data": {
      "text/html": [
       "<pre style=\"white-space:pre;overflow-x:auto;line-height:normal;font-family:Menlo,'DejaVu Sans Mono',consolas,'Courier New',monospace\"><span style=\"font-weight: bold\"> Non-trainable params: </span><span style=\"color: #00af00; text-decoration-color: #00af00\">0</span> (0.00 B)\n",
       "</pre>\n"
      ],
      "text/plain": [
       "\u001b[1m Non-trainable params: \u001b[0m\u001b[38;5;34m0\u001b[0m (0.00 B)\n"
      ]
     },
     "metadata": {},
     "output_type": "display_data"
    }
   ],
   "source": [
    "model.summary()"
   ]
  },
  {
   "cell_type": "markdown",
   "metadata": {
    "id": "QErVvKyr8DHz"
   },
   "source": [
    "### Parameter Calculation\n",
    "\n",
    "The following breakdown explains how the total parameters for each layer in the given Keras model are derived:\n",
    "\n",
    "#### 1. Embedding Layer\n",
    "- **Formula**: `output_dim * input_dim`\n",
    "- **Explanation**: The `Embedding` layer is designed to transform words into dense vectors of a fixed size. Here, `max_features` represents the `input_dim`, i.e., the size of the vocabulary, and `32` is the `output_dim`, the size of the vector space in which words will be embedded.\n",
    "- **Calculation**: Assuming `max_features` is 10,000, the total number of parameters is `10,000 * 32 = 320,000`. Each word in the vocabulary has a unique 32-dimensional vector.\n",
    "\n",
    "#### 2. SimpleRNN Layer\n",
    "- **Formula**: `(input_size + units) * units + units` (includes bias)\n",
    "- **Explanation**: The `SimpleRNN` layer processes sequence data with recurrent connections. In the formula:\n",
    "  - `input_size` is 32, the output dimension from the `Embedding` layer.\n",
    "  - `units` is 32, representing the number of units in the RNN.\n",
    "- **Calculation**: The total parameters are `(32 + 32) * 32 + 32 = 2080`. This count includes weights for the inputs, weights for the recurrent connections, and biases.\n",
    "\n",
    "#### 3. Dense Layer\n",
    "- **Formula**: `(input_units * output_units) + output_units`\n",
    "- **Explanation**: This layer is a fully connected (dense) neural network layer where every input is connected to every output.\n",
    "- **Calculation**: Inputs from the `SimpleRNN` layer are 32 units, reduced to 1 unit with a `sigmoid` activation. Thus, the parameters are `32 * 1 + 1 = 33`.\n",
    "\n",
    "#### Summary of Parameters\n",
    "- **Embedding Layer**: 320,000 parameters\n",
    "- **SimpleRNN Layer**: 2,080 parameters\n",
    "- **Dense Layer**: 33 parameters\n",
    "\n",
    "The above formulas account for both the weights and biases that the model learns during training.\n"
   ]
  },
  {
   "cell_type": "markdown",
   "metadata": {
    "id": "t7GbhHUnaBFT"
   },
   "source": [
    "<div class=\"alert alert-block alert-info\">\n",
    "\n",
    "#### ⚠️ Checkpoint ⚠️\n",
    "\n",
    "In the next 5 minutes, make sure everyone in your LT understands the number of parameters and why that is used.\n",
    "</div>"
   ]
  },
  {
   "cell_type": "code",
   "execution_count": null,
   "metadata": {
    "colab": {
     "base_uri": "https://localhost:8080/"
    },
    "executionInfo": {
     "elapsed": 743871,
     "status": "ok",
     "timestamp": 1737943256443,
     "user": {
      "displayName": "kc-aim",
      "userId": "16968997735368758960"
     },
     "user_tz": -480
    },
    "id": "Znhs_sKbxSqi",
    "outputId": "ed878776-b030-4a37-fa72-527342eeffae"
   },
   "outputs": [
    {
     "name": "stdout",
     "output_type": "stream",
     "text": [
      "Epoch 1/10\n"
     ]
    },
    {
     "name": "stderr",
     "output_type": "stream",
     "text": [
      "2025-04-25 11:47:51.466951: I tensorflow/core/grappler/optimizers/custom_graph_optimizer_registry.cc:117] Plugin optimizer for device_type GPU is enabled.\n"
     ]
    },
    {
     "name": "stdout",
     "output_type": "stream",
     "text": [
      "\u001b[1m  6/157\u001b[0m \u001b[37m━━━━━━━━━━━━━━━━━━━━\u001b[0m \u001b[1m5:50:07\u001b[0m 139s/step - acc: 0.4746 - loss: 0.6996"
     ]
    }
   ],
   "source": [
    "model.compile(optimizer='rmsprop', loss='binary_crossentropy', metrics=['acc'])\n",
    "history = model.fit(input_train, y_train,\n",
    "epochs=10,\n",
    "batch_size=128,\n",
    "validation_split=0.2)"
   ]
  },
  {
   "cell_type": "markdown",
   "metadata": {
    "id": "pAb63LtnfZuC"
   },
   "source": [
    "### Step 3.  Save the Model"
   ]
  },
  {
   "cell_type": "code",
   "execution_count": null,
   "metadata": {
    "colab": {
     "base_uri": "https://localhost:8080/"
    },
    "executionInfo": {
     "elapsed": 1362,
     "status": "ok",
     "timestamp": 1737943257802,
     "user": {
      "displayName": "kc-aim",
      "userId": "16968997735368758960"
     },
     "user_tz": -480
    },
    "id": "EUSifH-QfZuD",
    "outputId": "e9751a84-4ec0-4356-ef4f-2187bc1900b1"
   },
   "outputs": [
    {
     "name": "stdout",
     "output_type": "stream",
     "text": [
      "Saved model to disk\n"
     ]
    }
   ],
   "source": [
    "# serialize/save model architecture to JSON\n",
    "model_json = model.to_json()\n",
    "with open(MODEL_DIR + \"simpleRNN_500.json\", \"w\") as json_file:\n",
    "    json_file.write(model_json)\n",
    "\n",
    "# serialize/save weights to HDF5\n",
    "model.save_weights(MODEL_DIR + \"simpleRNN_500.h5\")\n",
    "print(\"Saved model to disk\")"
   ]
  },
  {
   "cell_type": "markdown",
   "metadata": {
    "id": "4arogz8VxSqi"
   },
   "source": [
    "### Step 4. Plotting results\n",
    "\n",
    "Now, let’s display the training and validation loss and accuracy"
   ]
  },
  {
   "cell_type": "code",
   "execution_count": null,
   "metadata": {
    "ExecuteTime": {
     "end_time": "2018-11-20T00:21:42.006701Z",
     "start_time": "2018-11-20T00:21:40.049845Z"
    },
    "colab": {
     "base_uri": "https://localhost:8080/",
     "height": 887
    },
    "executionInfo": {
     "elapsed": 391,
     "status": "ok",
     "timestamp": 1737943258185,
     "user": {
      "displayName": "kc-aim",
      "userId": "16968997735368758960"
     },
     "user_tz": -480
    },
    "id": "EICOOqBZxSqi",
    "outputId": "2fbdc67c-248d-4b92-8e8c-edfa99800349"
   },
   "outputs": [
    {
     "data": {
      "image/png": "[encoded data removed]",
      "text/plain": [
       "<Figure size 640x480 with 1 Axes>"
      ]
     },
     "metadata": {},
     "output_type": "display_data"
    },
    {
     "data": {
      "image/png": "[encoded data removed]",
      "text/plain": [
       "<Figure size 640x480 with 1 Axes>"
      ]
     },
     "metadata": {},
     "output_type": "display_data"
    }
   ],
   "source": [
    "import matplotlib.pyplot as plt\n",
    "\n",
    "acc = history.history['acc']\n",
    "val_acc = history.history['val_acc']\n",
    "loss = history.history['loss']\n",
    "val_loss = history.history['val_loss']\n",
    "\n",
    "epochs = range(1, len(acc) + 1)\n",
    "\n",
    "plt.plot(epochs, acc, 'bo', label='Training acc')\n",
    "plt.plot(epochs, val_acc, 'b', label='Validation acc')\n",
    "plt.title('Training and validation accuracy')\n",
    "plt.legend()\n",
    "\n",
    "plt.figure()\n",
    "\n",
    "plt.plot(epochs, loss, 'bo', label='Training loss')\n",
    "plt.plot(epochs, val_loss, 'b', label='Validation loss')\n",
    "plt.title('Training and validation loss')\n",
    "plt.legend()\n",
    "\n",
    "plt.show()"
   ]
  },
  {
   "cell_type": "markdown",
   "metadata": {
    "id": "_C860b3_xSqi"
   },
   "source": [
    "Note that we have only considered the first 500 words, rather than full sequences and we obtain already an accuracy of $86.3\\%$. Now let's implement a more advanced RNN, say LSTM.\n"
   ]
  },
  {
   "cell_type": "markdown",
   "metadata": {
    "id": "9Ub2w-MZOAii"
   },
   "source": [
    "### Step 5. Loading and testing saved model"
   ]
  },
  {
   "cell_type": "code",
   "execution_count": null,
   "metadata": {
    "id": "JNrTrKWQN2rE"
   },
   "outputs": [],
   "source": [
    "from tensorflow.keras.models import model_from_json\n",
    "\n",
    "# Model reconstruction from JSON file\n",
    "with open(MODEL_DIR + \"simpleRNN_500.json\", \"r\") as f:\n",
    "    model = model_from_json(f.read())"
   ]
  },
  {
   "cell_type": "code",
   "execution_count": null,
   "metadata": {
    "id": "Mfds5Q-JN2rE"
   },
   "outputs": [],
   "source": [
    "from tensorflow.keras.models import load_model\n",
    "\n",
    "model.load_weights(MODEL_DIR +\"simpleRNN_500.h5\")"
   ]
  },
  {
   "cell_type": "code",
   "execution_count": null,
   "metadata": {
    "colab": {
     "base_uri": "https://localhost:8080/"
    },
    "executionInfo": {
     "elapsed": 269,
     "status": "ok",
     "timestamp": 1737943258451,
     "user": {
      "displayName": "kc-aim",
      "userId": "16968997735368758960"
     },
     "user_tz": -480
    },
    "id": "8gLqZGwsq3gF",
    "outputId": "19614070-4970-4fcc-8f23-1994f802f20e"
   },
   "outputs": [
    {
     "name": "stdout",
     "output_type": "stream",
     "text": [
      "Downloading data from https://storage.googleapis.com/tensorflow/tf-keras-datasets/imdb_word_index.json\n",
      "1641221/1641221 [==============================] - 0s 0us/step\n"
     ]
    }
   ],
   "source": [
    "import keras\n",
    "\n",
    "INDEX_FROM=3   # word index offset\n",
    "word_to_id = keras.datasets.imdb.get_word_index()\n",
    "word_to_id = {k:(v+INDEX_FROM) for k,v in word_to_id.items()}\n",
    "word_to_id[\"<PAD>\"] = 0\n",
    "word_to_id[\"<START>\"] = 1\n",
    "word_to_id[\"<UNK>\"] = 2\n",
    "\n",
    "#id_to_word = {value:key for key,value in word_to_id.items()}\n",
    "#print(\"Negative review \\n\")\n",
    "#print(' '.join(id_to_word[id] for id in input_train[2] ))\n",
    "#print(\"\\n Positive review \\n\")\n",
    "#print(' '.join(id_to_word[id] for id in input_train[10] ))"
   ]
  },
  {
   "cell_type": "code",
   "execution_count": null,
   "metadata": {
    "colab": {
     "base_uri": "https://localhost:8080/"
    },
    "executionInfo": {
     "elapsed": 674,
     "status": "ok",
     "timestamp": 1737943259121,
     "user": {
      "displayName": "kc-aim",
      "userId": "16968997735368758960"
     },
     "user_tz": -480
    },
    "id": "5jMbn52nN2rE",
    "outputId": "5bba627a-c329-4bed-9113-deb5822b3838"
   },
   "outputs": [
    {
     "name": "stdout",
     "output_type": "stream",
     "text": [
      "1/1 [==============================] - 0s 206ms/step\n",
      "this movie was bad and terrible i almost die. Sentiment: 0.003674247\n",
      "1/1 [==============================] - 0s 45ms/step\n",
      "not bad. Sentiment: 0.9933981\n",
      "1/1 [==============================] - 0s 51ms/step\n",
      "it was good. Sentiment: 0.99974877\n",
      "1/1 [==============================] - 0s 57ms/step\n",
      "it was great. Sentiment: 0.99990416\n"
     ]
    }
   ],
   "source": [
    "import numpy as np\n",
    "\n",
    "#predict sentiment from reviews\n",
    "max_review_length=500\n",
    "bad = \"this movie was bad and terrible i almost die\"\n",
    "good = \"not bad\"\n",
    "neutral = \"it was good\"\n",
    "vague = \"it was great\"\n",
    "\n",
    "for review in [bad,good,neutral,vague]:\n",
    "    tmp = []\n",
    "    for word in review.split(\" \"):\n",
    "        tmp.append(word_to_id[word])\n",
    "    tmp_padded = sequence.pad_sequences([tmp], maxlen=max_review_length)\n",
    "    print(\"%s. Sentiment: %s\" % (review,model.predict(np.array([tmp_padded][0]))[0][0]))"
   ]
  },
  {
   "cell_type": "markdown",
   "metadata": {
    "id": "9DQ8gJ0SaK6D"
   },
   "source": [
    "# 3. Long short-term memory (LSTM)\n",
    "---\n",
    "LSTMs were first introduced to overcome the vanishing gradient problem (Long Short-Term Memory, S. Hochreiter and J. Schmidhuber, Neural Computation, 9(8): 1735-1780, 1997). The building block of an LSTM is a memory cell, which\n",
    "essentially represents the hidden layer."
   ]
  },
  {
   "cell_type": "markdown",
   "metadata": {
    "id": "cbNeyPxLaK6E"
   },
   "source": [
    "First recall that the simple RNN is given by the schematics below:\n",
    "\n",
    "<img width=\"673\" alt=\"RNN_simple\" src=\"https://user-images.githubusercontent.com/25600601/142830937-1f49a738-ba3b-4938-9d11-24638f7448c7.png\">\n",
    "\n",
    "In each memory cell, there is a recurrent edge that has the desirable weight w =1, as we discussed previously, to overcome the vanishing and exploding gradient problems. The values associated with this recurrent edge is called cell state. The unfolded structure of a modern LSTM cell is shown in the following figure:\n",
    "\n",
    "<img width=\"1021\" alt=\"RNN_LSTM\" src=\"https://user-images.githubusercontent.com/25600601/142831002-2544020d-36e3-4976-b0d1-7fc8fc4f0cdb.png\">\n",
    "\n",
    "Notice that the cell state from the previous time step, $\\mathbf{C}^{(t−1)}$, is modified to get the cell\n",
    "state at the current time step,  $\\mathbf{C}^{(t)}$ , without being multiplied directly with any weight\n",
    "factor. For comparison, here is how the simple RNN is changed by LSTM:\n",
    "\n",
    "<img width=\"701\" alt=\"RNN_LSTM2\" src=\"https://user-images.githubusercontent.com/25600601/142831098-289119a4-8331-4cde-a823-5493354ccd1d.png\">\n",
    "\n",
    "The flow of information in this memory cell is controlled by some units of computation that we'll describe here. In the previous figure, $\\odot$ refers to the element-wise product (element-wise multiplication) and means $\\oplus$ element-wise summation (element-wise addition). Furthermore, $\\mathbf{x}^{(t)}$ refers to the input data at time t, and $\\mathbf{h}^{(t−1)}$ indicates the hidden units at time t −1.\n",
    "\n",
    "Four boxes are indicated with an activation function, either the sigmoid function ($\\sigma$) or hyperbolic tangent ($\\tanh$), and a set of weights; these boxes apply linear combination by performing matrix-vector multiplications on their input. These units of computation with sigmoid activation functions, whose output units are passed through $\\odot$, are called **gates**.\n",
    "\n",
    "In an LSTM cell, there are three different types of gates, known as the forget gate, the\n",
    "input gate, and the output gate:\n",
    "\n",
    "• The **forget gate** ($\\mathbf{f}_t$) allows the memory cell to reset the cell state without growing indefinitely. In fact, the forget gate decides which information is allowed to go through and which information to suppress. Now, $\\mathbf{f}_t$ is computed as follows:\n",
    "\n",
    "\\begin{equation}\n",
    "\\mathbf{f}_{t}= \\sigma(\\mathbf{W}_{xf}\\mathbf{x}^{(t)} + \\mathbf{W}_{hf}\\mathbf{h}^{(t-1)} + \\mathbf{b}_{f})\n",
    "\\end{equation}\n",
    "\n",
    "Note that the forget gate was not part of the original LSTM cell; it was added a few years later to improve the original model (*Learning to Forget: Continual Prediction with LSTM, F. Gers, J. Schmidhuber, and F. Cummins, Neural Computation 12, 2451-2471, 2000*).\n",
    "\n",
    "• The **input gate** ($\\mathbf{i}_t$) and **input node** ( $\\mathbf{g}_t$ ) are responsible for updating the cell\n",
    "state. They are computed as follows:\n",
    "\n",
    "\\begin{equation}\n",
    "\\mathbf{i}_{t}= \\sigma(\\mathbf{W}_{xi}\\mathbf{x}^{(t)} + \\mathbf{W}_{hi}\\mathbf{h}^{(t-1)} + \\mathbf{b}_{i})\n",
    "\\end{equation}\n",
    "\n",
    "\\begin{equation}\n",
    "\\mathbf{g}_{t}= \\tanh(\\mathbf{W}_{xg}\\mathbf{x}^{(t)} + \\mathbf{W}_{hg}\\mathbf{h}^{(t-1)} + \\mathbf{b}_{g})\n",
    "\\end{equation}\n",
    "\n",
    "The cell state at time t is computed as follows:\n",
    "\n",
    "\\begin{equation}\n",
    "\\mathbf{C}^{t}= (\\mathbf{C}^{t-1} \\odot \\mathbf{f}_{t}) \\oplus (\\mathbf{i}_{t} \\odot \\mathbf{g}_{t})\n",
    "\\end{equation}\n",
    "\n",
    "The output gate ($\\mathbf{o}_t$ ) decides how to update the values of hidden units:\n",
    "\n",
    "\\begin{equation}\n",
    "\\mathbf{o}_{t}= \\sigma(\\mathbf{W}_{xo}\\mathbf{x}^{(t)} + \\mathbf{W}_{ho}\\mathbf{h}^{(t-1)} \\mathbf{b}_{o})\n",
    "\\end{equation}\n",
    "\n",
    "\n",
    "Given this, the hidden units at the current time step are computed as follows:\n",
    "\n",
    "\\begin{equation}\n",
    "\\mathbf{h}_{t}= \\mathbf{o}_{t} \\odot \\tanh(\\mathbf{C}^{t})\n",
    "\\end{equation}\n",
    "\n",
    "The structure of an LSTM cell and its underlying computations might seem too complex. However, the good news is that TensorFlow has already implemented everything in wrapper functions that allows us to define our LSTM cells easily.\n",
    "\n",
    "NOTE: The LSTM introduced here provides a basic approach for modeling long-range dependencies in sequences.\n",
    "Yet, it is important to note that there are many variations of LSTMs described in literature (An Empirical Exploration of Recurrent Network Architectures, Rafal Jozefowicz, Wojciech Zaremba, and Ilya Sutskever,\n",
    "Proceedings of ICML, 2342-2350, 2015). Also, worth noting is a more recent approach, called Gated Recurrent Unit (GRU), which was proposed in 2014. GRUs have a simpler architecture than LSTMs; therefore, they are computationally more efficient while their performance in some tasks, such as polyphonic music modeling, is comparable to LSTMs. If you are interested in learning more about these modern RNN architectures, refer to the paper, Empirical Evaluation of Gated Recurrent Neural Networks on Sequence Modeling by Junyoung Chung\n",
    "and others 2014 (https://arxiv.org/pdf/1412.3555v1.pdf). Implementation of such can be an individual project.\n",
    "\n",
    "*Intuitive idea from Chollet:  The Carry layer $C$ intends to add a way to carry information across many timesteps. Imagine a conveyor belt running parallel to the sequence you’re processing. Information from the sequence can jump onto the conveyor belt at any point, be transported to a later timestep, and jump off, intact, when you need it. This is essentially what LSTM does: it saves information for later, thus preventing older signals from gradually vanishing during processing.*\n",
    "\n",
    "If you want to get philosophical, you can interpret what each of these operations is meant to do. For instance, you can say that multiplying $\\mathbf{C}^{(t)}$ and $\\mathbf{f}_{(t)}$ is a way to deliberately forget irrelevant information in the carry dataflow. Meanwhile, $\\mathbf{i}_{(t)}$ and $\\mathbf{g}_{(t)}$ provide information about the present, updating the carry track with new information.\n",
    "\n",
    "But at the end of the day, these interpretations don’t mean much, because what these operations actually do is determined by the contents of the weights parameterizing them; and the weights are learned in an end-to-end fashion, starting over with each training round, making it impossible to credit this or that operation with a specific purpose. The specification of an RNN cell (as just described) determines your hypothesis\n",
    "space—the space in which you’ll search for a good model configuration during training—but it doesn’t determine what the cell does; that is up to the cell weights.\n",
    "\n",
    "The same cell with different weights can be doing very different things. So the combination of operations making up an RNN cell is better interpreted as a set of constraints on your search, not as a design in an engineering sense.\n",
    "\n",
    "To a researcher, it seems that the choice of such constraints—the question of how to implement RNN cells—is better left to optimization algorithms (like genetic algorithms or reinforcement learning processes) than to human engineers. And in the future, that’s how we’ll build networks.\n",
    "\n",
    "<div class=\"alert alert-block alert-success\">\n",
    "Keep in mind what the LSTM cell is meant to do: allow past information to be reinjected at a later time, thus fighting the vanishing-gradient problem.\n",
    "</div>"
   ]
  },
  {
   "cell_type": "markdown",
   "metadata": {
    "id": "jm5rTZCla4Qd"
   },
   "source": [
    "# Example 1B. Sentiment analysis of IMDb movie reviews using a simple LSTM\n",
    "\n",
    "We will implement a multilayer RNN for sentiment analysis using a many-to-one architecture."
   ]
  },
  {
   "cell_type": "markdown",
   "metadata": {
    "id": "QOAa9Bs-bHiu"
   },
   "source": [
    "### Step 1. Data Preparation\n",
    "Already done above."
   ]
  },
  {
   "cell_type": "markdown",
   "metadata": {
    "id": "7ZzHeTfQZkdj"
   },
   "source": [
    "### Step 2. Using LSTM"
   ]
  },
  {
   "cell_type": "code",
   "execution_count": null,
   "metadata": {
    "id": "2tmzbhBJawlc"
   },
   "outputs": [],
   "source": [
    "from keras.layers import LSTM\n",
    "from keras import Sequential\n",
    "\n",
    "model = Sequential()\n",
    "model.add(Embedding(max_features, 32))\n",
    "model.add(LSTM(32))\n",
    "model.add(Dense(1, activation='sigmoid'))"
   ]
  },
  {
   "cell_type": "code",
   "execution_count": null,
   "metadata": {
    "colab": {
     "base_uri": "https://localhost:8080/"
    },
    "executionInfo": {
     "elapsed": 10,
     "status": "ok",
     "timestamp": 1737943259121,
     "user": {
      "displayName": "kc-aim",
      "userId": "16968997735368758960"
     },
     "user_tz": -480
    },
    "id": "Pd8bkXsobdAs",
    "outputId": "14c02511-f878-47ad-84af-ea814dee8445"
   },
   "outputs": [
    {
     "name": "stdout",
     "output_type": "stream",
     "text": [
      "Model: \"sequential_1\"\n",
      "_________________________________________________________________\n",
      " Layer (type)                Output Shape              Param #   \n",
      "=================================================================\n",
      " embedding_1 (Embedding)     (None, None, 32)          320000    \n",
      "                                                                 \n",
      " lstm (LSTM)                 (None, 32)                8320      \n",
      "                                                                 \n",
      " dense_1 (Dense)             (None, 1)                 33        \n",
      "                                                                 \n",
      "=================================================================\n",
      "Total params: 328353 (1.25 MB)\n",
      "Trainable params: 328353 (1.25 MB)\n",
      "Non-trainable params: 0 (0.00 Byte)\n",
      "_________________________________________________________________\n"
     ]
    }
   ],
   "source": [
    "model.summary()"
   ]
  },
  {
   "cell_type": "code",
   "execution_count": null,
   "metadata": {
    "colab": {
     "base_uri": "https://localhost:8080/"
    },
    "executionInfo": {
     "elapsed": 70616,
     "status": "ok",
     "timestamp": 1737943329734,
     "user": {
      "displayName": "kc-aim",
      "userId": "16968997735368758960"
     },
     "user_tz": -480
    },
    "id": "_Le8TtFnxSqj",
    "outputId": "da284a4b-7766-444b-b8af-657c10f93cca"
   },
   "outputs": [
    {
     "name": "stdout",
     "output_type": "stream",
     "text": [
      "Epoch 1/10\n",
      "157/157 [==============================] - 16s 87ms/step - loss: 0.6042 - acc: 0.6622 - val_loss: 0.4245 - val_acc: 0.8270\n",
      "Epoch 2/10\n",
      "157/157 [==============================] - 10s 63ms/step - loss: 0.3572 - acc: 0.8504 - val_loss: 0.4183 - val_acc: 0.8110\n",
      "Epoch 3/10\n",
      "157/157 [==============================] - 9s 56ms/step - loss: 0.2697 - acc: 0.8950 - val_loss: 0.2881 - val_acc: 0.8838\n",
      "Epoch 4/10\n",
      "157/157 [==============================] - 7s 44ms/step - loss: 0.2313 - acc: 0.9118 - val_loss: 0.4483 - val_acc: 0.8440\n",
      "Epoch 5/10\n",
      "157/157 [==============================] - 5s 34ms/step - loss: 0.2035 - acc: 0.9238 - val_loss: 0.3344 - val_acc: 0.8850\n",
      "Epoch 6/10\n",
      "157/157 [==============================] - 5s 34ms/step - loss: 0.1804 - acc: 0.9338 - val_loss: 0.3470 - val_acc: 0.8576\n",
      "Epoch 7/10\n",
      "157/157 [==============================] - 5s 30ms/step - loss: 0.1638 - acc: 0.9424 - val_loss: 0.3294 - val_acc: 0.8762\n",
      "Epoch 8/10\n",
      "157/157 [==============================] - 4s 28ms/step - loss: 0.1480 - acc: 0.9469 - val_loss: 0.3457 - val_acc: 0.8596\n",
      "Epoch 9/10\n",
      "157/157 [==============================] - 5s 33ms/step - loss: 0.1352 - acc: 0.9531 - val_loss: 0.5316 - val_acc: 0.8440\n",
      "Epoch 10/10\n",
      "157/157 [==============================] - 4s 24ms/step - loss: 0.1253 - acc: 0.9561 - val_loss: 0.3881 - val_acc: 0.8410\n"
     ]
    }
   ],
   "source": [
    "model.compile(optimizer='rmsprop',\n",
    "loss='binary_crossentropy',\n",
    "metrics=['acc'])\n",
    "\n",
    "history = model.fit(input_train, y_train,\n",
    "epochs=10,\n",
    "batch_size=128,\n",
    "validation_split=0.2)"
   ]
  },
  {
   "cell_type": "markdown",
   "metadata": {
    "id": "UxDL-llde6G1"
   },
   "source": [
    "### Step 3. Save the Model"
   ]
  },
  {
   "cell_type": "code",
   "execution_count": null,
   "metadata": {
    "colab": {
     "base_uri": "https://localhost:8080/"
    },
    "executionInfo": {
     "elapsed": 1111,
     "status": "ok",
     "timestamp": 1737943330843,
     "user": {
      "displayName": "kc-aim",
      "userId": "16968997735368758960"
     },
     "user_tz": -480
    },
    "id": "uWlLf_amKnlh",
    "outputId": "fe20d55f-fa49-410c-fab1-c43f02ddc732"
   },
   "outputs": [
    {
     "name": "stdout",
     "output_type": "stream",
     "text": [
      "Saved model to disk\n"
     ]
    }
   ],
   "source": [
    "# serialize/save model architecture to JSON\n",
    "model_json = model.to_json()\n",
    "with open(MODEL_DIR + \"LSTM_500.json\", \"w\") as json_file:\n",
    "    json_file.write(model_json)\n",
    "\n",
    "# serialize/save weights to HDF5\n",
    "model.save_weights(MODEL_DIR + \"LSTM_500.h5\")\n",
    "print(\"Saved model to disk\")"
   ]
  },
  {
   "cell_type": "markdown",
   "metadata": {
    "id": "7MHv6ZhvxSqj"
   },
   "source": [
    "### Step 4. Plot the result accuracy for visual appreciation."
   ]
  },
  {
   "cell_type": "code",
   "execution_count": null,
   "metadata": {
    "ExecuteTime": {
     "end_time": "2018-11-20T00:43:48.945019Z",
     "start_time": "2018-11-20T00:43:48.665886Z"
    },
    "colab": {
     "base_uri": "https://localhost:8080/"
    },
    "executionInfo": {
     "elapsed": 6,
     "status": "ok",
     "timestamp": 1737943330843,
     "user": {
      "displayName": "kc-aim",
      "userId": "16968997735368758960"
     },
     "user_tz": -480
    },
    "id": "5yjzWhKhxSqj",
    "outputId": "3b4eb02b-5c4d-45d8-cfc9-6b236a9ea12e"
   },
   "outputs": [
    {
     "data": {
      "image/png": "[encoded data removed]",
      "text/plain": [
       "<Figure size 640x480 with 1 Axes>"
      ]
     },
     "metadata": {},
     "output_type": "display_data"
    },
    {
     "data": {
      "image/png": "[encoded data removed]",
      "text/plain": [
       "<Figure size 640x480 with 1 Axes>"
      ]
     },
     "metadata": {},
     "output_type": "display_data"
    }
   ],
   "source": [
    "import matplotlib.pyplot as plt\n",
    "%matplotlib inline\n",
    "\n",
    "acc = history.history['acc']\n",
    "val_acc = history.history['val_acc']\n",
    "loss = history.history['loss']\n",
    "val_loss = history.history['val_loss']\n",
    "\n",
    "epochs = range(1, len(acc) + 1)\n",
    "\n",
    "plt.plot(epochs, acc, 'bo', label='Training acc')\n",
    "plt.plot(epochs, val_acc, 'b', label='Validation acc')\n",
    "plt.title('Training and validation accuracy')\n",
    "plt.legend()\n",
    "\n",
    "plt.figure()\n",
    "\n",
    "plt.plot(epochs, loss, 'bo', label='Training loss')\n",
    "plt.plot(epochs, val_loss, 'b', label='Validation loss')\n",
    "plt.title('Training and validation loss')\n",
    "plt.legend()\n",
    "plt.show()"
   ]
  },
  {
   "cell_type": "markdown",
   "metadata": {
    "id": "S1b1Aa8yxSqj"
   },
   "source": [
    "This time, you achieve up to 88.3% validation accuracy. That's not bad; better than the SimpleRNN network. That’s largely because LSTM suffers much less from the vanishing-gradient problem.\n",
    "\n",
    "But this result isn’t groundbreaking for such a computationally intensive approach. Why isn’t LSTM performing better? One reason is that you made no effort to tune hyperparameters such as the embeddings dimensionality or the LSTM output dimensionality. Another may be lack of regularization. But honestly, the primary reasons that analyzing the global, long-term structure of the reviews (what LSTM is good at) isn’t helpful for a sentiment-analysis problem. Such a basic problem is well solved by looking at what words occur in each review, and at what frequency. That’s what the first fully connected approach looked at. But there are far more difficult natural language- processing problems out there, where the strength of LSTM will become apparent: in particular, **question-answering** and **machine translation.**"
   ]
  },
  {
   "cell_type": "markdown",
   "metadata": {
    "id": "C_rWPLeEaBFW"
   },
   "source": [
    "### Step 5. Loading and testing saved model"
   ]
  },
  {
   "cell_type": "code",
   "execution_count": null,
   "metadata": {
    "id": "xqahFOA-fz45"
   },
   "outputs": [],
   "source": [
    "from tensorflow.keras.models import model_from_json\n",
    "\n",
    "# Model reconstruction from JSON file\n",
    "with open(MODEL_DIR + \"LSTM_500.json\", \"r\") as f:\n",
    "    model = model_from_json(f.read())"
   ]
  },
  {
   "cell_type": "code",
   "execution_count": null,
   "metadata": {
    "id": "K5tsJkbIfz45"
   },
   "outputs": [],
   "source": [
    "from tensorflow.keras.models import load_model\n",
    "\n",
    "model.load_weights(MODEL_DIR +\"LSTM_500.h5\")"
   ]
  },
  {
   "cell_type": "code",
   "execution_count": null,
   "metadata": {
    "colab": {
     "base_uri": "https://localhost:8080/"
    },
    "executionInfo": {
     "elapsed": 270,
     "status": "ok",
     "timestamp": 1737943331477,
     "user": {
      "displayName": "kc-aim",
      "userId": "16968997735368758960"
     },
     "user_tz": -480
    },
    "id": "cNlmKrYBfz45",
    "outputId": "ddeb5a43-aaec-4a01-84f9-39a444b149fd"
   },
   "outputs": [
    {
     "name": "stdout",
     "output_type": "stream",
     "text": [
      "1/1 [==============================] - 0s 365ms/step\n",
      "this movie was bad and terrible i almost die not brilliant it is really terrible and brilliant. Sentiment: 0.1943111\n",
      "1/1 [==============================] - 0s 25ms/step\n",
      "not brilliant. Sentiment: 0.66626\n",
      "1/1 [==============================] - 0s 25ms/step\n",
      "it is really terrible and brilliant. Sentiment: 0.532872\n",
      "1/1 [==============================] - 0s 24ms/step\n",
      "somewhere somehow. Sentiment: 0.29331592\n"
     ]
    }
   ],
   "source": [
    "\n",
    "import numpy as np\n",
    "\n",
    "#predict sentiment from reviews\n",
    "max_review_length=1000\n",
    "bad = \"this movie was bad and terrible i almost die not brilliant it is really terrible and brilliant\"\n",
    "good = \"not brilliant\"\n",
    "neutral = \"it is really terrible and brilliant\"\n",
    "vague = \"somewhere somehow\"\n",
    "\n",
    "\n",
    "for review in [bad,good,neutral,vague]:\n",
    "    tmp = []\n",
    "    for word in review.split(\" \"):\n",
    "        tmp.append(word_to_id[word])\n",
    "    tmp_padded = sequence.pad_sequences([tmp], maxlen=max_review_length)\n",
    "    print(\"%s. Sentiment: %s\" % (review,model.predict(np.array([tmp_padded][0]))[0][0]))"
   ]
  },
  {
   "cell_type": "markdown",
   "metadata": {
    "id": "wKLcggv0xSqj"
   },
   "source": [
    "# Example 1C. Increasing nodes\n",
    "What if we increase the number of nodes of the embedding layer? Can this immediately increase the accuracy?"
   ]
  },
  {
   "cell_type": "markdown",
   "metadata": {
    "id": "63KFJ9JZgo2y"
   },
   "source": [
    "### Step 1. Data Preparation"
   ]
  },
  {
   "cell_type": "code",
   "execution_count": null,
   "metadata": {
    "ExecuteTime": {
     "end_time": "2018-11-20T00:43:54.872451Z",
     "start_time": "2018-11-20T00:43:48.949273Z"
    },
    "colab": {
     "base_uri": "https://localhost:8080/"
    },
    "executionInfo": {
     "elapsed": 4537,
     "status": "ok",
     "timestamp": 1737943336012,
     "user": {
      "displayName": "kc-aim",
      "userId": "16968997735368758960"
     },
     "user_tz": -480
    },
    "id": "bA8XKy6hxSqj",
    "outputId": "a3937a5e-28eb-42fd-b50f-e58a02415e52"
   },
   "outputs": [
    {
     "name": "stdout",
     "output_type": "stream",
     "text": [
      "Loading data...\n",
      "25000 train sequences\n",
      "25000 test sequences\n",
      "Pad sequences (samples x time)\n",
      "input_train shape: (25000, 500)\n",
      "input_test shape: (25000, 500)\n"
     ]
    }
   ],
   "source": [
    "from keras.datasets import imdb\n",
    "from keras.preprocessing import sequence\n",
    "max_features = 10000 #Number of words to consider as features\n",
    "maxlen = 500 # Cuts off texts after this many words (among the max_features most common words)\n",
    "#batch_size = 32\n",
    "print('Loading data...')\n",
    "(input_train, y_train), (input_test, y_test) = imdb.load_data(\n",
    "num_words=max_features)\n",
    "print(len(input_train), 'train sequences')\n",
    "print(len(input_test), 'test sequences')\n",
    "print('Pad sequences (samples x time)')\n",
    "input_train = sequence.pad_sequences(input_train, maxlen=maxlen)\n",
    "input_test = sequence.pad_sequences(input_test, maxlen=maxlen)\n",
    "print('input_train shape:', input_train.shape)\n",
    "print('input_test shape:', input_test.shape)"
   ]
  },
  {
   "cell_type": "markdown",
   "metadata": {
    "id": "qhWfrEHTgj5m"
   },
   "source": [
    "### Step 2. Instantiate the model and Run. Let's just increase the embedding nodes from 32 to 64."
   ]
  },
  {
   "cell_type": "code",
   "execution_count": null,
   "metadata": {
    "id": "bbHsaWwycH-9"
   },
   "outputs": [],
   "source": [
    "from keras import Sequential\n",
    "from keras.layers import Embedding, SimpleRNN\n",
    "from keras.layers import Dense\n",
    "\n",
    "model = Sequential()\n",
    "model.add(Embedding(max_features, 64))\n",
    "model.add(SimpleRNN(32))\n",
    "model.add(Dense(1, activation='sigmoid'))"
   ]
  },
  {
   "cell_type": "code",
   "execution_count": null,
   "metadata": {
    "colab": {
     "base_uri": "https://localhost:8080/"
    },
    "executionInfo": {
     "elapsed": 463,
     "status": "ok",
     "timestamp": 1737943336469,
     "user": {
      "displayName": "kc-aim",
      "userId": "16968997735368758960"
     },
     "user_tz": -480
    },
    "id": "8aokk8igcLXp",
    "outputId": "b7e49ae0-a6bd-4d2c-e2d8-0ce04f66e363"
   },
   "outputs": [
    {
     "name": "stdout",
     "output_type": "stream",
     "text": [
      "Model: \"sequential_2\"\n",
      "_________________________________________________________________\n",
      " Layer (type)                Output Shape              Param #   \n",
      "=================================================================\n",
      " embedding_2 (Embedding)     (None, None, 64)          640000    \n",
      "                                                                 \n",
      " simple_rnn_1 (SimpleRNN)    (None, 32)                3104      \n",
      "                                                                 \n",
      " dense_2 (Dense)             (None, 1)                 33        \n",
      "                                                                 \n",
      "=================================================================\n",
      "Total params: 643137 (2.45 MB)\n",
      "Trainable params: 643137 (2.45 MB)\n",
      "Non-trainable params: 0 (0.00 Byte)\n",
      "_________________________________________________________________\n"
     ]
    }
   ],
   "source": [
    "model.summary()"
   ]
  },
  {
   "cell_type": "code",
   "execution_count": null,
   "metadata": {
    "ExecuteTime": {
     "end_time": "2018-11-20T01:04:22.785420Z",
     "start_time": "2018-11-20T00:43:54.874952Z"
    },
    "colab": {
     "base_uri": "https://localhost:8080/"
    },
    "executionInfo": {
     "elapsed": 803491,
     "status": "ok",
     "timestamp": 1737944139957,
     "user": {
      "displayName": "kc-aim",
      "userId": "16968997735368758960"
     },
     "user_tz": -480
    },
    "id": "WDHVw3UExSqk",
    "outputId": "2726d847-4b4b-4c01-f1f9-b1af5b442ff0"
   },
   "outputs": [
    {
     "name": "stdout",
     "output_type": "stream",
     "text": [
      "Epoch 1/10\n",
      "157/157 [==============================] - 86s 537ms/step - loss: 0.5977 - acc: 0.6736 - val_loss: 0.4545 - val_acc: 0.8174\n",
      "Epoch 2/10\n",
      "157/157 [==============================] - 81s 516ms/step - loss: 0.3713 - acc: 0.8488 - val_loss: 0.3541 - val_acc: 0.8554\n",
      "Epoch 3/10\n",
      "157/157 [==============================] - 76s 486ms/step - loss: 0.2872 - acc: 0.8877 - val_loss: 0.3547 - val_acc: 0.8520\n",
      "Epoch 4/10\n",
      "157/157 [==============================] - 76s 488ms/step - loss: 0.2647 - acc: 0.9010 - val_loss: 0.4542 - val_acc: 0.7846\n",
      "Epoch 5/10\n",
      "157/157 [==============================] - 72s 460ms/step - loss: 0.1869 - acc: 0.9317 - val_loss: 0.3637 - val_acc: 0.8670\n",
      "Epoch 6/10\n",
      "157/157 [==============================] - 72s 457ms/step - loss: 0.1481 - acc: 0.9503 - val_loss: 0.4037 - val_acc: 0.8586\n",
      "Epoch 7/10\n",
      "157/157 [==============================] - 71s 453ms/step - loss: 0.1243 - acc: 0.9620 - val_loss: 0.4465 - val_acc: 0.8598\n",
      "Epoch 8/10\n",
      "157/157 [==============================] - 72s 457ms/step - loss: 0.0639 - acc: 0.9797 - val_loss: 0.5844 - val_acc: 0.7860\n",
      "Epoch 9/10\n",
      "157/157 [==============================] - 73s 463ms/step - loss: 0.0369 - acc: 0.9898 - val_loss: 0.5267 - val_acc: 0.8452\n",
      "Epoch 10/10\n",
      "157/157 [==============================] - 80s 511ms/step - loss: 0.0255 - acc: 0.9929 - val_loss: 0.6432 - val_acc: 0.8142\n"
     ]
    }
   ],
   "source": [
    "model.compile(optimizer='rmsprop', loss='binary_crossentropy', metrics=['acc'])\n",
    "history = model.fit(input_train, y_train,\n",
    "epochs=10,\n",
    "batch_size=128,\n",
    "validation_split=0.2)"
   ]
  },
  {
   "cell_type": "markdown",
   "metadata": {
    "id": "vV0j3o4wQsPU"
   },
   "source": [
    "### Step 3. Again, let's save the model."
   ]
  },
  {
   "cell_type": "code",
   "execution_count": null,
   "metadata": {
    "colab": {
     "base_uri": "https://localhost:8080/"
    },
    "executionInfo": {
     "elapsed": 754,
     "status": "ok",
     "timestamp": 1737944140704,
     "user": {
      "displayName": "kc-aim",
      "userId": "16968997735368758960"
     },
     "user_tz": -480
    },
    "id": "56LWxG2EQQ6p",
    "outputId": "0dfe44b2-e8bf-4432-e7dc-9f6e8ff0a71f"
   },
   "outputs": [
    {
     "name": "stdout",
     "output_type": "stream",
     "text": [
      "Saved model to disk\n"
     ]
    }
   ],
   "source": [
    "# serialize/save model architecture to JSON\n",
    "model_json = model.to_json()\n",
    "with open(MODEL_DIR + \"simpleRNN_64_500.json\", \"w\") as json_file:\n",
    "    json_file.write(model_json)\n",
    "\n",
    "# serialize/save weights to HDF5\n",
    "model.save_weights(MODEL_DIR + \"simpleRNN_64_500.h5\")\n",
    "print(\"Saved model to disk\")"
   ]
  },
  {
   "cell_type": "markdown",
   "metadata": {
    "id": "tQ-qlg5WhLV5"
   },
   "source": [
    "### Step 4. Visualization of Learning generalization."
   ]
  },
  {
   "cell_type": "code",
   "execution_count": null,
   "metadata": {
    "ExecuteTime": {
     "end_time": "2018-11-20T01:45:15.276492Z",
     "start_time": "2018-11-20T01:45:14.971752Z"
    },
    "colab": {
     "base_uri": "https://localhost:8080/",
     "height": 887
    },
    "executionInfo": {
     "elapsed": 788,
     "status": "ok",
     "timestamp": 1737944141483,
     "user": {
      "displayName": "kc-aim",
      "userId": "16968997735368758960"
     },
     "user_tz": -480
    },
    "id": "KC3J2YttxSqk",
    "outputId": "33c8a412-fe1b-4a9a-e000-da794e2ab3f6"
   },
   "outputs": [
    {
     "data": {
      "image/png": "[encoded data removed]",
      "text/plain": [
       "<Figure size 640x480 with 1 Axes>"
      ]
     },
     "metadata": {},
     "output_type": "display_data"
    },
    {
     "data": {
      "image/png": "[encoded data removed]",
      "text/plain": [
       "<Figure size 640x480 with 1 Axes>"
      ]
     },
     "metadata": {},
     "output_type": "display_data"
    }
   ],
   "source": [
    "import matplotlib.pyplot as plt\n",
    "%matplotlib inline\n",
    "\n",
    "acc = history.history['acc']\n",
    "val_acc = history.history['val_acc']\n",
    "loss = history.history['loss']\n",
    "val_loss = history.history['val_loss']\n",
    "\n",
    "epochs = range(1, len(acc) + 1)\n",
    "\n",
    "plt.plot(epochs, acc, 'bo', label='Training acc')\n",
    "plt.plot(epochs, val_acc, 'b', label='Validation acc')\n",
    "plt.title('Training and validation accuracy')\n",
    "plt.legend()\n",
    "\n",
    "plt.figure()\n",
    "\n",
    "plt.plot(epochs, loss, 'bo', label='Training loss')\n",
    "plt.plot(epochs, val_loss, 'b', label='Validation loss')\n",
    "plt.title('Training and validation loss')\n",
    "plt.legend()\n",
    "plt.show()"
   ]
  },
  {
   "cell_type": "markdown",
   "metadata": {
    "id": "G91qDR6LxSqk"
   },
   "source": [
    "The result gives almost the same accuracy as embedding nodes of 32. The result will also not significantly increase as a result of the addition of more features (verify). The primary reason is that analyzing the global, long-term structure of the reviews isn’t helpful for a sentiment-analysis problem. Such a basic problem is well solved by looking at what words occur in each review, and at what frequency."
   ]
  },
  {
   "cell_type": "markdown",
   "metadata": {
    "id": "cNdurglXaBFX"
   },
   "source": [
    "### Step 5. Loading and testing saved model"
   ]
  },
  {
   "cell_type": "code",
   "execution_count": null,
   "metadata": {
    "id": "lOFMUr05dqUG"
   },
   "outputs": [],
   "source": [
    "from tensorflow.keras.models import model_from_json\n",
    "\n",
    "# Model reconstruction from JSON file\n",
    "with open(MODEL_DIR + \"simpleRNN_64_500.json\", \"r\") as f:\n",
    "    model = model_from_json(f.read())"
   ]
  },
  {
   "cell_type": "code",
   "execution_count": null,
   "metadata": {
    "id": "9s77bBd4d1aA"
   },
   "outputs": [],
   "source": [
    "from tensorflow.keras.models import load_model\n",
    "model.load_weights(MODEL_DIR + \"simpleRNN_64_500.h5\")"
   ]
  },
  {
   "cell_type": "code",
   "execution_count": null,
   "metadata": {
    "colab": {
     "base_uri": "https://localhost:8080/"
    },
    "executionInfo": {
     "elapsed": 12,
     "status": "ok",
     "timestamp": 1737944141486,
     "user": {
      "displayName": "kc-aim",
      "userId": "16968997735368758960"
     },
     "user_tz": -480
    },
    "id": "UbZafGD829G4",
    "outputId": "c8133212-b379-480e-b633-37f62926f17e"
   },
   "outputs": [
    {
     "name": "stdout",
     "output_type": "stream",
     "text": [
      "Negative review \n",
      "\n",
      "<PAD> <PAD> <PAD> <PAD> <PAD> <PAD> <PAD> <PAD> <PAD> <PAD> <PAD> <PAD> <PAD> <PAD> <PAD> <PAD> <PAD> <PAD> <PAD> <PAD> <PAD> <PAD> <PAD> <PAD> <PAD> <PAD> <PAD> <PAD> <PAD> <PAD> <PAD> <PAD> <PAD> <PAD> <PAD> <PAD> <PAD> <PAD> <PAD> <PAD> <PAD> <PAD> <PAD> <PAD> <PAD> <PAD> <PAD> <PAD> <PAD> <PAD> <START> french horror cinema has seen something of a revival over the last couple of years with great films such as inside and <UNK> romance <UNK> on to the scene <UNK> <UNK> the revival just slightly but stands head and shoulders over most modern horror titles and is surely one of the best french horror films ever made <UNK> was obviously shot on a low budget but this is made up for in far more ways than one by the originality of the film and this in turn is <UNK> by the excellent writing and acting that ensure the film is a winner the plot focuses on two main ideas prison and black magic the central character is a man named <UNK> sent to prison for fraud he is put in a cell with three others the quietly insane <UNK> body building <UNK> marcus and his retarded boyfriend daisy after a short while in the cell together they stumble upon a hiding place in the wall that contains an old <UNK> after <UNK> part of it they soon realise its magical powers and realise they may be able to use it to break through the prison walls br br black magic is a very interesting topic and i'm actually quite surprised that there aren't more films based on it as there's so much scope for things to do with it it's fair to say that <UNK> makes the best of it's <UNK> as despite it's <UNK> the film never actually feels restrained and manages to flow well throughout director eric <UNK> provides a great atmosphere for the film the fact that most of it takes place inside the central prison cell <UNK> that the film feels very claustrophobic and this immensely benefits the central idea of the prisoners wanting to use magic to break out of the cell it's very easy to get behind them it's often said that the unknown is the thing that really <UNK> people and this film proves that as the director <UNK> that we can never really be sure of exactly what is round the corner and this helps to ensure that <UNK> actually does manage to be quite frightening the film is memorable for a lot of reasons outside the central plot the characters are all very interesting in their own way and the fact that the book itself almost takes on its own character is very well done anyone worried that the film won't deliver by the end won't be disappointed either as the ending both makes sense and manages to be quite horrifying overall <UNK> is a truly great horror film and one of the best of the decade highly recommended viewing\n",
      "\n",
      " Positive review \n",
      "\n",
      "the recent slew of cattle <UNK> that have been going on and deputy jan michael vincent comes to her rescue from this point on the film really drags as the two quickly fall for each other especially after vincent <UNK> off the locals and informs shepherd that he was the little boy that saw the ship with her twenty five years earlier while this boring mess is happening vincent <UNK> with his killer dog at his side is walking around killing the cattle and any people he runs into with an unusual item you know those glowing plastic sticks stores sell for trick or <UNK> at halloween the kind that you shake to make them glow <UNK> uses what looks like one of those glow sticks to burn <UNK> in people it's the second worst effect in the movie every time <UNK> is on screen with the glow stick the <UNK> atmosphere suddenly turns dark like the filmmakers thought the glow stick needed that <UNK> it ends up making the movie look even cheaper than it is br br and what does all this lead up to it's hard to tell when the final confusing scene arrives see <UNK> and his team of scientists try to explain the satellite images that shepherd found as some kind of calling card ' but none of it makes sense why do shepherd and vincent age and <UNK> does not <UNK> explains why he is killing cattle and people and why he wants shepherd dead but even that doesn't make much sense when you really think about it i mean why doesn't he kill jan michael vincent after all he had twenty five years to do it and the aliens won't need him if shepherd is dead anyhow so why try to kill her speaking of the aliens it is never clear what they really wanted out of shepherd and vincent what is their goal why do they wait so long to <UNK> how could they be so sure shepherd would come back not that the answer to any of these and other questions would have made the <UNK> any more pleasant you would still have bad lines really bad acting particularly by shepherd cheesy effects and poor direction luckily the stars escaped from this movie <UNK> shepherd soon went on to star in <UNK> with bruce willis jan michael vincent went on to be featured in dozens of b movies often in over the top parts raymond <UNK> made a pile of perry mason television movies right up until his death vincent <UNK> went on to be a great character actor in a huge number of films martin <UNK> who played a <UNK> law <UNK> officer quickly made the terrific alone in the <UNK> and the awful the <UNK> before rolling into the films he has been famous for recently you can bet none of these stars ever want their careers to return to the return ' <UNK> score 2 out of 10\n"
     ]
    }
   ],
   "source": [
    "import keras\n",
    "\n",
    "INDEX_FROM=3   # word index offset\n",
    "word_to_id = keras.datasets.imdb.get_word_index()\n",
    "word_to_id = {k:(v+INDEX_FROM) for k,v in word_to_id.items()}\n",
    "word_to_id[\"<PAD>\"] = 0\n",
    "word_to_id[\"<START>\"] = 1\n",
    "word_to_id[\"<UNK>\"] = 2\n",
    "id_to_word = {value:key for key,value in word_to_id.items()}\n",
    "print(\"Negative review \\n\")\n",
    "print(' '.join(id_to_word[id] for id in input_train[10] ))\n",
    "print(\"\\n Positive review \\n\")\n",
    "print(' '.join(id_to_word[id] for id in input_train[42] ))"
   ]
  },
  {
   "cell_type": "code",
   "execution_count": null,
   "metadata": {
    "colab": {
     "base_uri": "https://localhost:8080/"
    },
    "executionInfo": {
     "elapsed": 325,
     "status": "ok",
     "timestamp": 1737944141801,
     "user": {
      "displayName": "kc-aim",
      "userId": "16968997735368758960"
     },
     "user_tz": -480
    },
    "id": "eYHzkyIaQkyu",
    "outputId": "12331789-e0ce-4276-b9fc-fa4460c311a4"
   },
   "outputs": [
    {
     "name": "stdout",
     "output_type": "stream",
     "text": [
      "1/1 [==============================] - 0s 186ms/step\n",
      "this movie was bad and terrible i almost die. Sentiment: 0.0004628647\n",
      "1/1 [==============================] - 0s 45ms/step\n",
      "brilliant movie a masterpiece. Sentiment: 0.8679258\n",
      "1/1 [==============================] - 0s 44ms/step\n",
      "it is really terrible and brilliant. Sentiment: 0.560862\n",
      "1/1 [==============================] - 0s 45ms/step\n",
      "somewhere somehow. Sentiment: 0.080837466\n"
     ]
    }
   ],
   "source": [
    "import numpy as np\n",
    "\n",
    "#predict sentiment from reviews\n",
    "max_review_length=500\n",
    "bad = \"this movie was bad and terrible i almost die\"\n",
    "good = \"brilliant movie a masterpiece\"\n",
    "neutral = \"it is really terrible and brilliant\"\n",
    "vague = \"somewhere somehow\"\n",
    "\n",
    "for review in [bad,good,neutral,vague]:\n",
    "    tmp = []\n",
    "    for word in review.split(\" \"):\n",
    "        tmp.append(word_to_id[word])\n",
    "    tmp_padded = sequence.pad_sequences([tmp], maxlen=max_review_length)\n",
    "    print(\"%s. Sentiment: %s\" % (review,model.predict(np.array([tmp_padded][0]))[0][0]))"
   ]
  },
  {
   "cell_type": "markdown",
   "metadata": {
    "id": "4cQEiOedaBFY"
   },
   "source": [
    "<div class=\"alert alert-block alert-info\">\n",
    "\n",
    "# ⚠️ Checkpoint ⚠️\n",
    "\n",
    "In the next 5-10 minutes, review the 3 main RNNs that we've gone over and compare them with each other. What are the similarities and differences with them? Make sure your LT understands.\n",
    "</div>"
   ]
  },
  {
   "cell_type": "markdown",
   "metadata": {
    "id": "LxLufbERxSqn"
   },
   "source": [
    "# Appendix A. Link for step by step understanding of the process\n",
    "\n",
    "https://www.liip.ch/en/blog/sentiment-detection-with-keras-word-embeddings-and-lstm-deep-learning-networks\n",
    "\n",
    "### Step 1. Get the data"
   ]
  },
  {
   "cell_type": "code",
   "execution_count": null,
   "metadata": {
    "ExecuteTime": {
     "end_time": "2018-11-20T02:38:37.767245Z",
     "start_time": "2018-11-20T02:38:33.210282Z"
    },
    "id": "vi7BEX0kxSqn"
   },
   "outputs": [],
   "source": [
    "#download the data\n",
    "from keras.datasets import imdb\n",
    "top_words = 500\n",
    "(input_train, output_train), (input_test, output_test) = imdb.load_data(num_words=top_words)"
   ]
  },
  {
   "cell_type": "markdown",
   "metadata": {
    "id": "Mik1g6BqxSqo"
   },
   "source": [
    "The code above does a couple of things at once:\n",
    "1. It downloads the data   \n",
    "2. It downloads the first 5000 top words for each review   \n",
    "3. It splits the data into a test and a training set.  "
   ]
  },
  {
   "cell_type": "code",
   "execution_count": null,
   "metadata": {
    "ExecuteTime": {
     "end_time": "2018-11-20T02:39:35.258509Z",
     "start_time": "2018-11-20T02:39:35.251451Z"
    },
    "colab": {
     "base_uri": "https://localhost:8080/"
    },
    "executionInfo": {
     "elapsed": 8,
     "status": "ok",
     "timestamp": 1737944144900,
     "user": {
      "displayName": "kc-aim",
      "userId": "16968997735368758960"
     },
     "user_tz": -480
    },
    "id": "YMPjn2lWxSqo",
    "outputId": "05c25fa9-ca1c-4441-bd8b-14bd10db4300"
   },
   "outputs": [
    {
     "data": {
      "text/plain": [
       "array([list([1, 14, 22, 16, 43, 2, 2, 2, 2, 65, 458, 2, 66, 2, 4, 173, 36, 256, 5, 25, 100, 43, 2, 112, 50, 2, 2, 9, 35, 480, 284, 5, 150, 4, 172, 112, 167, 2, 336, 385, 39, 4, 172, 2, 2, 17, 2, 38, 13, 447, 4, 192, 50, 16, 6, 147, 2, 19, 14, 22, 4, 2, 2, 469, 4, 22, 71, 87, 12, 16, 43, 2, 38, 76, 15, 13, 2, 4, 22, 17, 2, 17, 12, 16, 2, 18, 2, 5, 62, 386, 12, 8, 316, 8, 106, 5, 4, 2, 2, 16, 480, 66, 2, 33, 4, 130, 12, 16, 38, 2, 5, 25, 124, 51, 36, 135, 48, 25, 2, 33, 6, 22, 12, 215, 28, 77, 52, 5, 14, 407, 16, 82, 2, 8, 4, 107, 117, 2, 15, 256, 4, 2, 7, 2, 5, 2, 36, 71, 43, 2, 476, 26, 400, 317, 46, 7, 4, 2, 2, 13, 104, 88, 4, 381, 15, 297, 98, 32, 2, 56, 26, 141, 6, 194, 2, 18, 4, 226, 22, 21, 134, 476, 26, 480, 5, 144, 30, 2, 18, 51, 36, 28, 224, 92, 25, 104, 4, 226, 65, 16, 38, 2, 88, 12, 16, 283, 5, 16, 2, 113, 103, 32, 15, 16, 2, 19, 178, 32]),\n",
       "       list([1, 194, 2, 194, 2, 78, 228, 5, 6, 2, 2, 2, 134, 26, 4, 2, 8, 118, 2, 14, 394, 20, 13, 119, 2, 189, 102, 5, 207, 110, 2, 21, 14, 69, 188, 8, 30, 23, 7, 4, 249, 126, 93, 4, 114, 9, 2, 2, 5, 2, 4, 116, 9, 35, 2, 4, 229, 9, 340, 2, 4, 118, 9, 4, 130, 2, 19, 4, 2, 5, 89, 29, 2, 46, 37, 4, 455, 9, 45, 43, 38, 2, 2, 398, 4, 2, 26, 2, 5, 163, 11, 2, 2, 4, 2, 9, 194, 2, 7, 2, 2, 349, 2, 148, 2, 2, 2, 15, 123, 125, 68, 2, 2, 15, 349, 165, 2, 98, 5, 4, 228, 9, 43, 2, 2, 15, 299, 120, 5, 120, 174, 11, 220, 175, 136, 50, 9, 2, 228, 2, 5, 2, 2, 245, 2, 5, 4, 2, 131, 152, 491, 18, 2, 32, 2, 2, 14, 9, 6, 371, 78, 22, 2, 64, 2, 9, 8, 168, 145, 23, 4, 2, 15, 16, 4, 2, 5, 28, 6, 52, 154, 462, 33, 89, 78, 285, 16, 145, 95]),\n",
       "       list([1, 14, 47, 8, 30, 31, 7, 4, 249, 108, 7, 4, 2, 54, 61, 369, 13, 71, 149, 14, 22, 112, 4, 2, 311, 12, 16, 2, 33, 75, 43, 2, 296, 4, 86, 320, 35, 2, 19, 263, 2, 2, 4, 2, 33, 89, 78, 12, 66, 16, 4, 360, 7, 4, 58, 316, 334, 11, 4, 2, 43, 2, 2, 8, 257, 85, 2, 42, 2, 2, 83, 68, 2, 15, 36, 165, 2, 278, 36, 69, 2, 2, 8, 106, 14, 2, 2, 18, 6, 22, 12, 215, 28, 2, 40, 6, 87, 326, 23, 2, 21, 23, 22, 12, 272, 40, 57, 31, 11, 4, 22, 47, 6, 2, 51, 9, 170, 23, 2, 116, 2, 2, 13, 191, 79, 2, 89, 2, 14, 9, 8, 106, 2, 2, 35, 2, 6, 227, 7, 129, 113]),\n",
       "       ...,\n",
       "       list([1, 11, 6, 230, 245, 2, 9, 6, 2, 446, 2, 45, 2, 84, 2, 2, 21, 4, 2, 84, 2, 325, 2, 134, 2, 2, 84, 5, 36, 28, 57, 2, 21, 8, 140, 8, 2, 5, 2, 84, 56, 18, 2, 14, 9, 31, 7, 4, 2, 2, 2, 2, 2, 18, 6, 20, 207, 110, 2, 12, 8, 2, 2, 8, 97, 6, 20, 53, 2, 74, 4, 460, 364, 2, 29, 270, 11, 2, 108, 45, 40, 29, 2, 395, 11, 6, 2, 2, 7, 2, 89, 364, 70, 29, 140, 4, 64, 2, 11, 4, 2, 26, 178, 4, 2, 443, 2, 5, 27, 2, 117, 2, 2, 165, 47, 84, 37, 131, 2, 14, 2, 10, 10, 61, 2, 2, 10, 10, 288, 2, 2, 34, 2, 2, 4, 65, 496, 4, 231, 7, 2, 5, 6, 320, 234, 2, 234, 2, 2, 7, 496, 4, 139, 2, 2, 2, 2, 5, 2, 18, 4, 2, 2, 250, 11, 2, 2, 4, 2, 2, 2, 2, 372, 2, 2, 2, 2, 7, 4, 59, 2, 4, 2, 2]),\n",
       "       list([1, 2, 2, 69, 72, 2, 13, 2, 2, 8, 12, 2, 23, 5, 16, 484, 2, 54, 349, 11, 2, 2, 45, 58, 2, 13, 197, 12, 16, 43, 23, 2, 5, 62, 30, 145, 402, 11, 2, 51, 2, 32, 61, 369, 71, 66, 2, 12, 2, 75, 100, 2, 8, 4, 105, 37, 69, 147, 2, 75, 2, 44, 257, 390, 5, 69, 263, 2, 105, 50, 286, 2, 23, 4, 123, 13, 161, 40, 5, 421, 4, 116, 16, 2, 13, 2, 40, 319, 2, 112, 2, 11, 2, 121, 25, 70, 2, 4, 2, 2, 13, 18, 31, 62, 40, 8, 2, 4, 2, 7, 14, 123, 5, 2, 25, 8, 2, 12, 145, 5, 202, 12, 160, 2, 202, 12, 6, 52, 58, 2, 92, 401, 2, 12, 39, 14, 251, 8, 15, 251, 5, 2, 12, 38, 84, 80, 124, 12, 9, 23]),\n",
       "       list([1, 17, 6, 194, 337, 7, 4, 204, 22, 45, 254, 8, 106, 14, 123, 4, 2, 270, 2, 5, 2, 2, 2, 2, 101, 405, 39, 14, 2, 4, 2, 9, 115, 50, 305, 12, 47, 4, 168, 5, 235, 7, 38, 111, 2, 102, 7, 4, 2, 2, 9, 24, 6, 78, 2, 17, 2, 2, 21, 27, 2, 2, 5, 2, 2, 92, 2, 4, 2, 7, 4, 204, 42, 97, 90, 35, 221, 109, 29, 127, 27, 118, 8, 97, 12, 157, 21, 2, 2, 9, 6, 66, 78, 2, 4, 2, 2, 5, 2, 272, 191, 2, 6, 2, 8, 2, 2, 2, 2, 5, 383, 2, 2, 2, 2, 497, 2, 8, 2, 2, 2, 21, 60, 27, 239, 9, 43, 2, 209, 405, 10, 10, 12, 2, 40, 4, 248, 20, 12, 16, 5, 174, 2, 72, 7, 51, 6, 2, 22, 4, 204, 131, 9])],\n",
       "      dtype=object)"
      ]
     },
     "execution_count": 35,
     "metadata": {},
     "output_type": "execute_result"
    }
   ],
   "source": [
    "input_train"
   ]
  },
  {
   "cell_type": "markdown",
   "metadata": {
    "id": "9NRMEXDrxSqo"
   },
   "source": [
    "If you look at the data you will realize it has been already pre-processed. All words have been mapped to integers and the integers represent the words sorted by their frequency. This is very common in text analysis to represent a dataset like this. So 4 represents the 4th most used word, 5 the 5th most used word and so on... The integer 1 is reserved reserved for the start marker, the integer 2 for an unknown word and 0 for padding.\n",
    "\n",
    "If you want to peek at the reviews yourself and see what people have actually written, you can reverse the process too:"
   ]
  },
  {
   "cell_type": "code",
   "execution_count": null,
   "metadata": {
    "ExecuteTime": {
     "end_time": "2018-11-20T02:40:18.602130Z",
     "start_time": "2018-11-20T02:40:18.458016Z"
    },
    "colab": {
     "base_uri": "https://localhost:8080/"
    },
    "executionInfo": {
     "elapsed": 5,
     "status": "ok",
     "timestamp": 1737944144901,
     "user": {
      "displayName": "kc-aim",
      "userId": "16968997735368758960"
     },
     "user_tz": -480
    },
    "id": "R0MlcjyxxSqo",
    "outputId": "e2e7a2ea-a569-4171-d27a-6843152ae84f"
   },
   "outputs": [
    {
     "name": "stdout",
     "output_type": "stream",
     "text": [
      "<START> big <UNK> big <UNK> bad music and a <UNK> <UNK> <UNK> these are the <UNK> to best <UNK> this terrible movie i love <UNK> horror movies and i've seen <UNK> but this had got to be on of the worst ever made the plot is <UNK> <UNK> and <UNK> the acting is an <UNK> the script is completely <UNK> the best is the end <UNK> with the <UNK> and how he <UNK> out who the killer is it's just so <UNK> <UNK> written the <UNK> are <UNK> and funny in <UNK> <UNK> the <UNK> is big <UNK> of <UNK> <UNK> men <UNK> those <UNK> <UNK> <UNK> that show off their <UNK> <UNK> that men actually <UNK> them and the music is just <UNK> <UNK> that plays over and over again in almost every scene there is <UNK> music <UNK> and <UNK> <UNK> away <UNK> and the <UNK> still doesn't close for <UNK> all <UNK> <UNK> this is a truly bad film <UNK> only <UNK> is to look back on the <UNK> that was the <UNK> and have a good old laugh at how bad everything was back then\n"
     ]
    }
   ],
   "source": [
    "#reverse lookup\n",
    "word_to_id = keras.datasets.imdb.get_word_index()\n",
    "word_to_id = {k:(v+INDEX_FROM) for k,v in word_to_id.items()}\n",
    "word_to_id[\"<PAD>\"] = 0\n",
    "word_to_id[\"<START>\"] = 1\n",
    "word_to_id[\"<UNK>\"] = 2\n",
    "id_to_word = {value:key for key,value in word_to_id.items()}\n",
    "print(' '.join(id_to_word[id] for id in input_train[1] ))"
   ]
  },
  {
   "cell_type": "markdown",
   "metadata": {
    "id": "-kUrgbmexSqo"
   },
   "source": [
    "### Step 2. Preprocess the data\n",
    "\n",
    "Since the reviews differ heavily in terms of lengths we want to trim each review to its first 500 words. We need to have text samples of the same length in order to feed them into our neural network. If reviews are shorter than 500 words we will pad them with zeros. Keras being super nice, offers a set of preprocessing routines that can do this for us easily."
   ]
  },
  {
   "cell_type": "code",
   "execution_count": null,
   "metadata": {
    "ExecuteTime": {
     "end_time": "2018-11-20T02:42:07.995167Z",
     "start_time": "2018-11-20T02:42:06.564970Z"
    },
    "id": "7UgBg93mxSqo"
   },
   "outputs": [],
   "source": [
    "# Truncate and pad the review sequences\n",
    "from keras.preprocessing import sequence\n",
    "max_review_length = 500\n",
    "input_train = sequence.pad_sequences(input_train, maxlen=max_review_length)\n",
    "input_test = sequence.pad_sequences(input_test, maxlen=max_review_length)"
   ]
  },
  {
   "cell_type": "markdown",
   "metadata": {
    "id": "GBOLmz5nxSqp"
   },
   "source": [
    "### Step 3. Build the model\n",
    "\n",
    "Surprisingly we are already done with the data preparation and can already start to build our model."
   ]
  },
  {
   "cell_type": "code",
   "execution_count": null,
   "metadata": {
    "ExecuteTime": {
     "end_time": "2018-11-20T02:44:39.186571Z",
     "start_time": "2018-11-20T02:44:38.544624Z"
    },
    "colab": {
     "base_uri": "https://localhost:8080/"
    },
    "executionInfo": {
     "elapsed": 504,
     "status": "ok",
     "timestamp": 1737944146599,
     "user": {
      "displayName": "kc-aim",
      "userId": "16968997735368758960"
     },
     "user_tz": -480
    },
    "id": "fG_wU_T2xSqp",
    "outputId": "8d0c45eb-fe9e-4355-b679-29eecec23ff5"
   },
   "outputs": [
    {
     "name": "stdout",
     "output_type": "stream",
     "text": [
      "Model: \"sequential_3\"\n",
      "_________________________________________________________________\n",
      " Layer (type)                Output Shape              Param #   \n",
      "=================================================================\n",
      " embedding_3 (Embedding)     (None, 500, 32)           16000     \n",
      "                                                                 \n",
      " lstm_1 (LSTM)               (None, 100)               53200     \n",
      "                                                                 \n",
      " dense_3 (Dense)             (None, 1)                 101       \n",
      "                                                                 \n",
      "=================================================================\n",
      "Total params: 69301 (270.71 KB)\n",
      "Trainable params: 69301 (270.71 KB)\n",
      "Non-trainable params: 0 (0.00 Byte)\n",
      "_________________________________________________________________\n",
      "None\n"
     ]
    }
   ],
   "source": [
    "# Build the model\n",
    "from keras.layers import LSTM\n",
    "\n",
    "embedding_vector_length = 32\n",
    "model = Sequential()\n",
    "model.add(Embedding(top_words, embedding_vector_length, input_length=max_review_length))\n",
    "model.add(LSTM(100))\n",
    "model.add(Dense(1, activation='sigmoid'))\n",
    "model.compile(loss='binary_crossentropy',optimizer='adam', metrics=['accuracy'])\n",
    "print(model.summary())"
   ]
  },
  {
   "cell_type": "markdown",
   "metadata": {
    "id": "TlEqvBzXxSqp"
   },
   "source": [
    "The two most important things in our code are the following:\n",
    "\n",
    "The Embedding layer and\n",
    "The LSTM Layer."
   ]
  },
  {
   "cell_type": "markdown",
   "metadata": {
    "id": "AAyLMLfxxSqp"
   },
   "source": [
    "### Word embeddings\n",
    "\n",
    "The embedding layer will learn a word embedding for all the words in the dataset. It has three arguments the input_dimension in our case the 500 words. The output dimension aka the vector space in which words will be embedded. In our case we have chosen 32 dimensions so a vector of the length of 32 to hold our word coordinates.\n",
    "\n",
    "There are already pre-trained word embeddings (e.g. GloVE or Word2Vec) that you can download so that you don't have to train your embeddings all by yourself. Generally, these word embeddings are also based on specialized algorithms that do the embedding always a bit different, but we won't cover it here.\n",
    "\n",
    "How can you imagine what an embedding actually is? Well generally words that have a similar meaning in the context should be embedded next to each other. Below is an example of word embeddings in a two-dimensional space:\n",
    "\n",
    "<img width=\"712\" alt=\"RNN_embeddings\" src=\"https://user-images.githubusercontent.com/25600601/142831953-676b94a7-699f-490a-a04f-bade320b2dcc.png\">\n"
   ]
  },
  {
   "cell_type": "markdown",
   "metadata": {
    "id": "z6QcMk3rxSqp"
   },
   "source": [
    "Why should we even care about word embeddings? Because it is a really useful trick. If we were to feed our reviews into a neural network and just one-hot encode them we would have very sparse representations of our texts. Why? Let us have a look at the sentence \"I do my job\" in \"bag of words\" representation with a vocabulary of 1000: So a matrix that holds 1000 words (each column is one word), has four ones in it (one for I, one for do one for my and one for job) and 996 zeros. So it would be very sparse. This means that learning from it would be difficult, because we would need 1000 input neurons each representing the occurrence of a word in our sentence.\n",
    "\n",
    "In contrast if we do a word embedding we can fold these 1000 words in just as many dimensions as we want, in our case 32. This means that we just have an input vector of 32 values instead of 1000. So the word \"I\" would be some vector with values (0.4,0.5,0.2,...) and the same would happen with the other words. With word embedding like this, we just need 32 input neurons.\n",
    "\n",
    "Note that Keras utilizes Glove or Global Vectors developed by Pennington et al 2015. Here is a good blog on word embeddings, that among others, discusses how Glove is different from word2vec created by Mikalov et al in 2014: https://medium.com/@ppasumarthi_69210/word-embeddings-in-keras-be6bb3092831"
   ]
  },
  {
   "cell_type": "markdown",
   "metadata": {
    "id": "JNqr9IEgxSqp"
   },
   "source": [
    "### LSTMs\n",
    "\n",
    "Recurrent neural networks are networks that are used for \"things\" that happen recurrently so one thing after the other (e.g. time series, but also words). Long Short-Term Memory networks (LSTM) are a specific type of Recurrent Neural Network (RNN) that are capable of learning the relationships between elements in an input sequence. In our case the elements are words. So our next layer is an LSTM layer with 100 memory units.\n",
    "\n",
    "LSTM networks maintain a state, and so overcome the problem of a vanishing gradient problem in recurrent neural networks (basically the problem that when you make a network deep enough the information for learning will \"vanish\" at some point). I do not want to go into detail how they actually work, but here delivers a great visual explanation. Below is a schematic overview over the building blocks of LSTMs.\n",
    "\n",
    "So our output of the embedding layer is a 500 times 32 matrix. Each word is represented through its position in those 32 dimensions. And the sequence is the 500 words that we feed into the LSTM network.\n",
    "\n",
    "Finally at the end we have a dense layer with one node with a sigmoid activation as the output.\n",
    "\n",
    "Since we are going to have only the decision when the review is positive or negative we will use binary_crossentropy for the loss function. The optimizer is the standard one (adam) and the metrics are also the standard accuracy metric.\n",
    "\n"
   ]
  },
  {
   "cell_type": "code",
   "execution_count": null,
   "metadata": {
    "ExecuteTime": {
     "end_time": "2018-11-20T02:54:33.164295Z",
     "start_time": "2018-11-20T02:54:32.801400Z"
    },
    "id": "IyN-PKoUxSqp"
   },
   "outputs": [],
   "source": [
    "from keras.layers import LSTM\n",
    "\n",
    "model = Sequential()\n",
    "model.add(Embedding(max_features, 32))\n",
    "model.add(LSTM(100))\n",
    "model.add(Dense(1, activation='sigmoid'))\n",
    "model.compile(optimizer='rmsprop',\n",
    "loss='binary_crossentropy',\n",
    "metrics=['acc'])"
   ]
  },
  {
   "cell_type": "code",
   "execution_count": null,
   "metadata": {
    "ExecuteTime": {
     "end_time": "2018-11-20T02:54:38.637459Z",
     "start_time": "2018-11-20T02:54:38.631209Z"
    },
    "colab": {
     "base_uri": "https://localhost:8080/"
    },
    "executionInfo": {
     "elapsed": 3,
     "status": "ok",
     "timestamp": 1737944146599,
     "user": {
      "displayName": "kc-aim",
      "userId": "16968997735368758960"
     },
     "user_tz": -480
    },
    "id": "C8Esqj0zxSqp",
    "outputId": "00b30e66-f4df-4abb-d9b4-68e53daf39e0"
   },
   "outputs": [
    {
     "name": "stdout",
     "output_type": "stream",
     "text": [
      "Model: \"sequential_4\"\n",
      "_________________________________________________________________\n",
      " Layer (type)                Output Shape              Param #   \n",
      "=================================================================\n",
      " embedding_4 (Embedding)     (None, None, 32)          320000    \n",
      "                                                                 \n",
      " lstm_2 (LSTM)               (None, 100)               53200     \n",
      "                                                                 \n",
      " dense_4 (Dense)             (None, 1)                 101       \n",
      "                                                                 \n",
      "=================================================================\n",
      "Total params: 373301 (1.42 MB)\n",
      "Trainable params: 373301 (1.42 MB)\n",
      "Non-trainable params: 0 (0.00 Byte)\n",
      "_________________________________________________________________\n"
     ]
    }
   ],
   "source": [
    "model.summary()"
   ]
  },
  {
   "cell_type": "code",
   "execution_count": null,
   "metadata": {
    "ExecuteTime": {
     "end_time": "2018-11-20T03:25:42.743567Z",
     "start_time": "2018-11-20T03:04:35.694235Z"
    },
    "colab": {
     "base_uri": "https://localhost:8080/"
    },
    "executionInfo": {
     "elapsed": 50741,
     "status": "ok",
     "timestamp": 1737944197338,
     "user": {
      "displayName": "kc-aim",
      "userId": "16968997735368758960"
     },
     "user_tz": -480
    },
    "id": "AnNP9MW1xSqp",
    "outputId": "ca4e5e79-f1f2-4607-d9b0-d08166b3bf53"
   },
   "outputs": [
    {
     "name": "stdout",
     "output_type": "stream",
     "text": [
      "Epoch 1/10\n",
      "157/157 [==============================] - 8s 35ms/step - loss: 0.6611 - acc: 0.5932 - val_loss: 0.4971 - val_acc: 0.7612\n",
      "Epoch 2/10\n",
      "157/157 [==============================] - 5s 30ms/step - loss: 0.4999 - acc: 0.7628 - val_loss: 0.4416 - val_acc: 0.7996\n",
      "Epoch 3/10\n",
      "157/157 [==============================] - 5s 29ms/step - loss: 0.4592 - acc: 0.7925 - val_loss: 0.4229 - val_acc: 0.8098\n",
      "Epoch 4/10\n",
      "157/157 [==============================] - 5s 29ms/step - loss: 0.4340 - acc: 0.8049 - val_loss: 0.5286 - val_acc: 0.7720\n",
      "Epoch 5/10\n",
      "157/157 [==============================] - 5s 31ms/step - loss: 0.4270 - acc: 0.8112 - val_loss: 0.5602 - val_acc: 0.7894\n",
      "Epoch 6/10\n",
      "157/157 [==============================] - 5s 30ms/step - loss: 0.4116 - acc: 0.8234 - val_loss: 0.4563 - val_acc: 0.8070\n",
      "Epoch 7/10\n",
      "157/157 [==============================] - 5s 29ms/step - loss: 0.4056 - acc: 0.8251 - val_loss: 0.4118 - val_acc: 0.8116\n",
      "Epoch 8/10\n",
      "157/157 [==============================] - 5s 30ms/step - loss: 0.3933 - acc: 0.8285 - val_loss: 0.4113 - val_acc: 0.8256\n",
      "Epoch 9/10\n",
      "157/157 [==============================] - 5s 31ms/step - loss: 0.3896 - acc: 0.8314 - val_loss: 0.7114 - val_acc: 0.7006\n",
      "Epoch 10/10\n",
      "157/157 [==============================] - 5s 30ms/step - loss: 0.3854 - acc: 0.8337 - val_loss: 0.4338 - val_acc: 0.8006\n"
     ]
    }
   ],
   "source": [
    "history = model.fit(input_train, output_train,\n",
    "epochs=10,\n",
    "batch_size=128,\n",
    "validation_split=0.2)"
   ]
  },
  {
   "cell_type": "markdown",
   "metadata": {
    "id": "n4thcciaxSqq"
   },
   "source": [
    "### LSTM Number of Parameters\n",
    "\n",
    "The LSTM has a set of 2 matrices: U and W for each of the (3) gates. The $\\odot$ in the diagram indicates multiplication of these matrices with the input and output.\n",
    "\n",
    "U has dimensions n×mn×m  \n",
    "W has dimensions n×nn×n  \n",
    "\n",
    "there is a different set of these matrices for each of the three gates(like UforgetUforget for the forget gate etc.)\n",
    "there is another set of these matrices for updating the cell state S\n",
    "on top of the mentioned matrices, you need to count the biases (not in the picture)\n",
    "Hence total # parameters = 4(nm+$n^2$+n)"
   ]
  },
  {
   "cell_type": "markdown",
   "metadata": {
    "ExecuteTime": {
     "end_time": "2018-11-29T00:04:53.179432Z",
     "start_time": "2018-11-29T00:04:53.165461Z"
    },
    "id": "2iDjXujmxSqq"
   },
   "source": [
    "# Appendix B. Checkpoint for validation\n",
    "\n",
    "https://machinelearningmastery.com/check-point-deep-learning-models-keras/\n",
    "\n",
    "A good use of checkpointing is to output the model weights each time an improvement is observed during training.\n",
    "\n",
    "The example below creates a small neural network for the Pima Indians onset of diabetes binary classification problem. The example assume that the pima-indians-diabetes.csv file is in your working directory. You can download this dataset from the UCI machine learning repository (update: download from here). The example uses 33% of the data for validation.\n",
    "\n",
    "Checkpointing is setup to save the network weights only when there is an improvement in classification accuracy on the validation dataset (monitor=’val_acc’ and mode=’max’).\n",
    "\n",
    "**The weights are stored in a file that includes the score in the filename (weights-improvement-{val_acc=.2f}.hdf5).**"
   ]
  },
  {
   "cell_type": "code",
   "execution_count": null,
   "metadata": {
    "ExecuteTime": {
     "end_time": "2018-11-28T23:13:35.700049Z",
     "start_time": "2018-11-28T23:12:52.195282Z"
    },
    "colab": {
     "base_uri": "https://localhost:8080/"
    },
    "executionInfo": {
     "elapsed": 82849,
     "status": "ok",
     "timestamp": 1737944911382,
     "user": {
      "displayName": "kc-aim",
      "userId": "16968997735368758960"
     },
     "user_tz": -480
    },
    "id": "GmPsVPFnxSqq",
    "outputId": "136568e5-16a6-4d9b-e08f-b37dfe9e9235"
   },
   "outputs": [
    {
     "name": "stdout",
     "output_type": "stream",
     "text": [
      "\n",
      "Epoch 1: val_accuracy improved from -inf to 0.67323, saving model to /content/drive/MyDrive/COSCI224 Machine Learning 3 Notebooks/models/weights-improvement-01-0.67.hdf5\n"
     ]
    },
    {
     "name": "stderr",
     "output_type": "stream",
     "text": [
      "/usr/local/lib/python3.11/dist-packages/keras/src/engine/training.py:3103: UserWarning: You are saving your model as an HDF5 file via `model.save()`. This file format is considered legacy. We recommend using instead the native Keras format, e.g. `model.save('my_model.keras')`.\n",
      "  saving_api.save_model(\n"
     ]
    },
    {
     "name": "stdout",
     "output_type": "stream",
     "text": [
      "\n",
      "Epoch 2: val_accuracy did not improve from 0.67323\n",
      "\n",
      "Epoch 3: val_accuracy did not improve from 0.67323\n",
      "\n",
      "Epoch 4: val_accuracy did not improve from 0.67323\n",
      "\n",
      "Epoch 5: val_accuracy did not improve from 0.67323\n",
      "\n",
      "Epoch 6: val_accuracy did not improve from 0.67323\n",
      "\n",
      "Epoch 7: val_accuracy improved from 0.67323 to 0.68504, saving model to /content/drive/MyDrive/COSCI224 Machine Learning 3 Notebooks/models/weights-improvement-07-0.69.hdf5\n",
      "\n",
      "Epoch 8: val_accuracy did not improve from 0.68504\n",
      "\n",
      "Epoch 9: val_accuracy improved from 0.68504 to 0.68898, saving model to /content/drive/MyDrive/COSCI224 Machine Learning 3 Notebooks/models/weights-improvement-09-0.69.hdf5\n",
      "\n",
      "Epoch 10: val_accuracy did not improve from 0.68898\n",
      "\n",
      "Epoch 11: val_accuracy did not improve from 0.68898\n",
      "\n",
      "Epoch 12: val_accuracy did not improve from 0.68898\n",
      "\n",
      "Epoch 13: val_accuracy did not improve from 0.68898\n",
      "\n",
      "Epoch 14: val_accuracy did not improve from 0.68898\n",
      "\n",
      "Epoch 15: val_accuracy did not improve from 0.68898\n",
      "\n",
      "Epoch 16: val_accuracy did not improve from 0.68898\n",
      "\n",
      "Epoch 17: val_accuracy did not improve from 0.68898\n",
      "\n",
      "Epoch 18: val_accuracy improved from 0.68898 to 0.70079, saving model to /content/drive/MyDrive/COSCI224 Machine Learning 3 Notebooks/models/weights-improvement-18-0.70.hdf5\n",
      "\n",
      "Epoch 19: val_accuracy did not improve from 0.70079\n",
      "\n",
      "Epoch 20: val_accuracy did not improve from 0.70079\n",
      "\n",
      "Epoch 21: val_accuracy did not improve from 0.70079\n",
      "\n",
      "Epoch 22: val_accuracy did not improve from 0.70079\n",
      "\n",
      "Epoch 23: val_accuracy did not improve from 0.70079\n",
      "\n",
      "Epoch 24: val_accuracy did not improve from 0.70079\n",
      "\n",
      "Epoch 25: val_accuracy did not improve from 0.70079\n",
      "\n",
      "Epoch 26: val_accuracy improved from 0.70079 to 0.70472, saving model to /content/drive/MyDrive/COSCI224 Machine Learning 3 Notebooks/models/weights-improvement-26-0.70.hdf5\n",
      "\n",
      "Epoch 27: val_accuracy did not improve from 0.70472\n",
      "\n",
      "Epoch 28: val_accuracy did not improve from 0.70472\n",
      "\n",
      "Epoch 29: val_accuracy did not improve from 0.70472\n",
      "\n",
      "Epoch 30: val_accuracy improved from 0.70472 to 0.72047, saving model to /content/drive/MyDrive/COSCI224 Machine Learning 3 Notebooks/models/weights-improvement-30-0.72.hdf5\n",
      "\n",
      "Epoch 31: val_accuracy did not improve from 0.72047\n",
      "\n",
      "Epoch 32: val_accuracy did not improve from 0.72047\n",
      "\n",
      "Epoch 33: val_accuracy did not improve from 0.72047\n",
      "\n",
      "Epoch 34: val_accuracy did not improve from 0.72047\n",
      "\n",
      "Epoch 35: val_accuracy did not improve from 0.72047\n",
      "\n",
      "Epoch 36: val_accuracy did not improve from 0.72047\n",
      "\n",
      "Epoch 37: val_accuracy did not improve from 0.72047\n",
      "\n",
      "Epoch 38: val_accuracy did not improve from 0.72047\n",
      "\n",
      "Epoch 39: val_accuracy did not improve from 0.72047\n",
      "\n",
      "Epoch 40: val_accuracy did not improve from 0.72047\n",
      "\n",
      "Epoch 41: val_accuracy did not improve from 0.72047\n",
      "\n",
      "Epoch 42: val_accuracy did not improve from 0.72047\n",
      "\n",
      "Epoch 43: val_accuracy did not improve from 0.72047\n",
      "\n",
      "Epoch 44: val_accuracy did not improve from 0.72047\n",
      "\n",
      "Epoch 45: val_accuracy did not improve from 0.72047\n",
      "\n",
      "Epoch 46: val_accuracy did not improve from 0.72047\n",
      "\n",
      "Epoch 47: val_accuracy did not improve from 0.72047\n",
      "\n",
      "Epoch 48: val_accuracy did not improve from 0.72047\n",
      "\n",
      "Epoch 49: val_accuracy did not improve from 0.72047\n",
      "\n",
      "Epoch 50: val_accuracy did not improve from 0.72047\n",
      "\n",
      "Epoch 51: val_accuracy did not improve from 0.72047\n",
      "\n",
      "Epoch 52: val_accuracy did not improve from 0.72047\n",
      "\n",
      "Epoch 53: val_accuracy did not improve from 0.72047\n",
      "\n",
      "Epoch 54: val_accuracy did not improve from 0.72047\n",
      "\n",
      "Epoch 55: val_accuracy did not improve from 0.72047\n",
      "\n",
      "Epoch 56: val_accuracy did not improve from 0.72047\n",
      "\n",
      "Epoch 57: val_accuracy did not improve from 0.72047\n",
      "\n",
      "Epoch 58: val_accuracy did not improve from 0.72047\n",
      "\n",
      "Epoch 59: val_accuracy improved from 0.72047 to 0.72441, saving model to /content/drive/MyDrive/COSCI224 Machine Learning 3 Notebooks/models/weights-improvement-59-0.72.hdf5\n",
      "\n",
      "Epoch 60: val_accuracy improved from 0.72441 to 0.73228, saving model to /content/drive/MyDrive/COSCI224 Machine Learning 3 Notebooks/models/weights-improvement-60-0.73.hdf5\n",
      "\n",
      "Epoch 61: val_accuracy did not improve from 0.73228\n",
      "\n",
      "Epoch 62: val_accuracy did not improve from 0.73228\n",
      "\n",
      "Epoch 63: val_accuracy did not improve from 0.73228\n",
      "\n",
      "Epoch 64: val_accuracy did not improve from 0.73228\n",
      "\n",
      "Epoch 65: val_accuracy improved from 0.73228 to 0.73622, saving model to /content/drive/MyDrive/COSCI224 Machine Learning 3 Notebooks/models/weights-improvement-65-0.74.hdf5\n",
      "\n",
      "Epoch 66: val_accuracy did not improve from 0.73622\n",
      "\n",
      "Epoch 67: val_accuracy did not improve from 0.73622\n",
      "\n",
      "Epoch 68: val_accuracy did not improve from 0.73622\n",
      "\n",
      "Epoch 69: val_accuracy did not improve from 0.73622\n",
      "\n",
      "Epoch 70: val_accuracy did not improve from 0.73622\n",
      "\n",
      "Epoch 71: val_accuracy did not improve from 0.73622\n",
      "\n",
      "Epoch 72: val_accuracy did not improve from 0.73622\n",
      "\n",
      "Epoch 73: val_accuracy did not improve from 0.73622\n",
      "\n",
      "Epoch 74: val_accuracy did not improve from 0.73622\n",
      "\n",
      "Epoch 75: val_accuracy did not improve from 0.73622\n",
      "\n",
      "Epoch 76: val_accuracy did not improve from 0.73622\n",
      "\n",
      "Epoch 77: val_accuracy did not improve from 0.73622\n",
      "\n",
      "Epoch 78: val_accuracy did not improve from 0.73622\n",
      "\n",
      "Epoch 79: val_accuracy did not improve from 0.73622\n",
      "\n",
      "Epoch 80: val_accuracy did not improve from 0.73622\n",
      "\n",
      "Epoch 81: val_accuracy did not improve from 0.73622\n",
      "\n",
      "Epoch 82: val_accuracy improved from 0.73622 to 0.74409, saving model to /content/drive/MyDrive/COSCI224 Machine Learning 3 Notebooks/models/weights-improvement-82-0.74.hdf5\n",
      "\n",
      "Epoch 83: val_accuracy did not improve from 0.74409\n",
      "\n",
      "Epoch 84: val_accuracy did not improve from 0.74409\n",
      "\n",
      "Epoch 85: val_accuracy did not improve from 0.74409\n",
      "\n",
      "Epoch 86: val_accuracy did not improve from 0.74409\n",
      "\n",
      "Epoch 87: val_accuracy did not improve from 0.74409\n",
      "\n",
      "Epoch 88: val_accuracy improved from 0.74409 to 0.74803, saving model to /content/drive/MyDrive/COSCI224 Machine Learning 3 Notebooks/models/weights-improvement-88-0.75.hdf5\n",
      "\n",
      "Epoch 89: val_accuracy did not improve from 0.74803\n",
      "\n",
      "Epoch 90: val_accuracy did not improve from 0.74803\n",
      "\n",
      "Epoch 91: val_accuracy did not improve from 0.74803\n",
      "\n",
      "Epoch 92: val_accuracy did not improve from 0.74803\n",
      "\n",
      "Epoch 93: val_accuracy did not improve from 0.74803\n",
      "\n",
      "Epoch 94: val_accuracy did not improve from 0.74803\n",
      "\n",
      "Epoch 95: val_accuracy did not improve from 0.74803\n",
      "\n",
      "Epoch 96: val_accuracy did not improve from 0.74803\n",
      "\n",
      "Epoch 97: val_accuracy did not improve from 0.74803\n",
      "\n",
      "Epoch 98: val_accuracy improved from 0.74803 to 0.75197, saving model to /content/drive/MyDrive/COSCI224 Machine Learning 3 Notebooks/models/weights-improvement-98-0.75.hdf5\n",
      "\n",
      "Epoch 99: val_accuracy did not improve from 0.75197\n",
      "\n",
      "Epoch 100: val_accuracy did not improve from 0.75197\n",
      "\n",
      "Epoch 101: val_accuracy improved from 0.75197 to 0.76772, saving model to /content/drive/MyDrive/COSCI224 Machine Learning 3 Notebooks/models/weights-improvement-101-0.77.hdf5\n",
      "\n",
      "Epoch 102: val_accuracy did not improve from 0.76772\n",
      "\n",
      "Epoch 103: val_accuracy did not improve from 0.76772\n",
      "\n",
      "Epoch 104: val_accuracy did not improve from 0.76772\n",
      "\n",
      "Epoch 105: val_accuracy did not improve from 0.76772\n",
      "\n",
      "Epoch 106: val_accuracy did not improve from 0.76772\n",
      "\n",
      "Epoch 107: val_accuracy did not improve from 0.76772\n",
      "\n",
      "Epoch 108: val_accuracy did not improve from 0.76772\n",
      "\n",
      "Epoch 109: val_accuracy did not improve from 0.76772\n",
      "\n",
      "Epoch 110: val_accuracy did not improve from 0.76772\n",
      "\n",
      "Epoch 111: val_accuracy did not improve from 0.76772\n",
      "\n",
      "Epoch 112: val_accuracy improved from 0.76772 to 0.77559, saving model to /content/drive/MyDrive/COSCI224 Machine Learning 3 Notebooks/models/weights-improvement-112-0.78.hdf5\n",
      "\n",
      "Epoch 113: val_accuracy did not improve from 0.77559\n",
      "\n",
      "Epoch 114: val_accuracy did not improve from 0.77559\n",
      "\n",
      "Epoch 115: val_accuracy did not improve from 0.77559\n",
      "\n",
      "Epoch 116: val_accuracy did not improve from 0.77559\n",
      "\n",
      "Epoch 117: val_accuracy did not improve from 0.77559\n",
      "\n",
      "Epoch 118: val_accuracy did not improve from 0.77559\n",
      "\n",
      "Epoch 119: val_accuracy did not improve from 0.77559\n",
      "\n",
      "Epoch 120: val_accuracy did not improve from 0.77559\n",
      "\n",
      "Epoch 121: val_accuracy did not improve from 0.77559\n",
      "\n",
      "Epoch 122: val_accuracy did not improve from 0.77559\n",
      "\n",
      "Epoch 123: val_accuracy did not improve from 0.77559\n",
      "\n",
      "Epoch 124: val_accuracy did not improve from 0.77559\n",
      "\n",
      "Epoch 125: val_accuracy did not improve from 0.77559\n",
      "\n",
      "Epoch 126: val_accuracy did not improve from 0.77559\n",
      "\n",
      "Epoch 127: val_accuracy did not improve from 0.77559\n",
      "\n",
      "Epoch 128: val_accuracy did not improve from 0.77559\n",
      "\n",
      "Epoch 129: val_accuracy did not improve from 0.77559\n",
      "\n",
      "Epoch 130: val_accuracy did not improve from 0.77559\n",
      "\n",
      "Epoch 131: val_accuracy did not improve from 0.77559\n",
      "\n",
      "Epoch 132: val_accuracy did not improve from 0.77559\n",
      "\n",
      "Epoch 133: val_accuracy improved from 0.77559 to 0.77953, saving model to /content/drive/MyDrive/COSCI224 Machine Learning 3 Notebooks/models/weights-improvement-133-0.78.hdf5\n",
      "\n",
      "Epoch 134: val_accuracy did not improve from 0.77953\n",
      "\n",
      "Epoch 135: val_accuracy did not improve from 0.77953\n",
      "\n",
      "Epoch 136: val_accuracy did not improve from 0.77953\n",
      "\n",
      "Epoch 137: val_accuracy did not improve from 0.77953\n",
      "\n",
      "Epoch 138: val_accuracy did not improve from 0.77953\n",
      "\n",
      "Epoch 139: val_accuracy did not improve from 0.77953\n",
      "\n",
      "Epoch 140: val_accuracy did not improve from 0.77953\n",
      "\n",
      "Epoch 141: val_accuracy did not improve from 0.77953\n",
      "\n",
      "Epoch 142: val_accuracy did not improve from 0.77953\n",
      "\n",
      "Epoch 143: val_accuracy did not improve from 0.77953\n",
      "\n",
      "Epoch 144: val_accuracy did not improve from 0.77953\n",
      "\n",
      "Epoch 145: val_accuracy did not improve from 0.77953\n",
      "\n",
      "Epoch 146: val_accuracy did not improve from 0.77953\n",
      "\n",
      "Epoch 147: val_accuracy did not improve from 0.77953\n",
      "\n",
      "Epoch 148: val_accuracy did not improve from 0.77953\n",
      "\n",
      "Epoch 149: val_accuracy did not improve from 0.77953\n",
      "\n",
      "Epoch 150: val_accuracy did not improve from 0.77953\n"
     ]
    },
    {
     "data": {
      "text/plain": [
       "<keras.src.callbacks.History at 0x7d53562adc10>"
      ]
     },
     "execution_count": 44,
     "metadata": {},
     "output_type": "execute_result"
    }
   ],
   "source": [
    "# Checkpoint the weights when validation accuracy improves\n",
    "from keras.models import Sequential\n",
    "from keras.layers import Dense\n",
    "from keras.callbacks import ModelCheckpoint\n",
    "import matplotlib.pyplot as plt\n",
    "import numpy\n",
    "\n",
    "# fix random seed for reproducibility\n",
    "seed = 7\n",
    "numpy.random.seed(seed)\n",
    "\n",
    "# load pima indians dataset\n",
    "dataset = numpy.loadtxt(DATA_DIR + \"/pima-indians-diabetes.data.csv\", delimiter=\",\")\n",
    "\n",
    "# split into input (X) and output (Y) variables\n",
    "X = dataset[:,0:8]\n",
    "Y = dataset[:,8]\n",
    "\n",
    "# create model\n",
    "model = Sequential()\n",
    "model.add(Dense(12, input_dim=8, kernel_initializer='uniform', activation='relu'))\n",
    "model.add(Dense(8, kernel_initializer='uniform', activation='relu'))\n",
    "model.add(Dense(1, kernel_initializer='uniform', activation='sigmoid'))\n",
    "# Compile model\n",
    "model.compile(loss='binary_crossentropy', optimizer='adam', metrics=['accuracy'])\n",
    "# checkpoint\n",
    "\n",
    "filepath=MODEL_DIR + \"weights-improvement-{epoch:02d}-{val_accuracy:.2f}.hdf5\" #Save the Improve model here\n",
    "checkpoint = ModelCheckpoint(filepath, monitor='val_accuracy', verbose=1, save_best_only=True, mode='max')\n",
    "callbacks_list = [checkpoint]\n",
    "\n",
    "# Fit the model\n",
    "model.fit(X, Y, validation_split=0.33, epochs=150, batch_size=10, callbacks=callbacks_list, verbose=0)"
   ]
  },
  {
   "cell_type": "markdown",
   "metadata": {
    "id": "5blCIlA5xSqq"
   },
   "source": [
    "### Checkpoint Best Neural Network Model Only\n",
    "\n",
    "A simpler check-point strategy is to save the model weights to the same file, if and only if the validation accuracy improves. This can be done easily using the same code from above and changing the output filename to be fixed (not include score or epoch information).\n",
    "\n",
    "In this case, model weights are written to the file “weights.best.hdf5” only if the classification accuracy of the model on the validation dataset improves over the best seen so far."
   ]
  },
  {
   "cell_type": "markdown",
   "metadata": {
    "id": "Ddnf4aFRxSqr"
   },
   "source": [
    "You should see the weight file in your local directory: \"weights.best.hdf5\""
   ]
  },
  {
   "cell_type": "code",
   "execution_count": null,
   "metadata": {
    "ExecuteTime": {
     "end_time": "2018-11-28T23:19:05.940105Z",
     "start_time": "2018-11-28T23:18:21.759063Z"
    },
    "colab": {
     "base_uri": "https://localhost:8080/"
    },
    "executionInfo": {
     "elapsed": 42362,
     "status": "ok",
     "timestamp": 1737944954612,
     "user": {
      "displayName": "kc-aim",
      "userId": "16968997735368758960"
     },
     "user_tz": -480
    },
    "id": "NSIc82kWxSqr",
    "outputId": "a781c728-42f6-4b06-c7f8-373607cc8730",
    "scrolled": false
   },
   "outputs": [
    {
     "name": "stdout",
     "output_type": "stream",
     "text": [
      "\n",
      "Epoch 1: val_accuracy improved from -inf to 0.67323, saving model to /content/drive/MyDrive/COSCI224 Machine Learning 3 Notebooks/models/weights.best.hdf5\n"
     ]
    },
    {
     "name": "stderr",
     "output_type": "stream",
     "text": [
      "/usr/local/lib/python3.11/dist-packages/keras/src/engine/training.py:3103: UserWarning: You are saving your model as an HDF5 file via `model.save()`. This file format is considered legacy. We recommend using instead the native Keras format, e.g. `model.save('my_model.keras')`.\n",
      "  saving_api.save_model(\n"
     ]
    },
    {
     "name": "stdout",
     "output_type": "stream",
     "text": [
      "\n",
      "Epoch 2: val_accuracy did not improve from 0.67323\n",
      "\n",
      "Epoch 3: val_accuracy did not improve from 0.67323\n",
      "\n",
      "Epoch 4: val_accuracy improved from 0.67323 to 0.68110, saving model to /content/drive/MyDrive/COSCI224 Machine Learning 3 Notebooks/models/weights.best.hdf5\n",
      "\n",
      "Epoch 5: val_accuracy did not improve from 0.68110\n",
      "\n",
      "Epoch 6: val_accuracy did not improve from 0.68110\n",
      "\n",
      "Epoch 7: val_accuracy did not improve from 0.68110\n",
      "\n",
      "Epoch 8: val_accuracy improved from 0.68110 to 0.68504, saving model to /content/drive/MyDrive/COSCI224 Machine Learning 3 Notebooks/models/weights.best.hdf5\n",
      "\n",
      "Epoch 9: val_accuracy did not improve from 0.68504\n",
      "\n",
      "Epoch 10: val_accuracy did not improve from 0.68504\n",
      "\n",
      "Epoch 11: val_accuracy improved from 0.68504 to 0.70866, saving model to /content/drive/MyDrive/COSCI224 Machine Learning 3 Notebooks/models/weights.best.hdf5\n",
      "\n",
      "Epoch 12: val_accuracy did not improve from 0.70866\n",
      "\n",
      "Epoch 13: val_accuracy did not improve from 0.70866\n",
      "\n",
      "Epoch 14: val_accuracy did not improve from 0.70866\n",
      "\n",
      "Epoch 15: val_accuracy did not improve from 0.70866\n",
      "\n",
      "Epoch 16: val_accuracy did not improve from 0.70866\n",
      "\n",
      "Epoch 17: val_accuracy did not improve from 0.70866\n",
      "\n",
      "Epoch 18: val_accuracy did not improve from 0.70866\n",
      "\n",
      "Epoch 19: val_accuracy did not improve from 0.70866\n",
      "\n",
      "Epoch 20: val_accuracy did not improve from 0.70866\n",
      "\n",
      "Epoch 21: val_accuracy did not improve from 0.70866\n",
      "\n",
      "Epoch 22: val_accuracy did not improve from 0.70866\n",
      "\n",
      "Epoch 23: val_accuracy did not improve from 0.70866\n",
      "\n",
      "Epoch 24: val_accuracy improved from 0.70866 to 0.71260, saving model to /content/drive/MyDrive/COSCI224 Machine Learning 3 Notebooks/models/weights.best.hdf5\n",
      "\n",
      "Epoch 25: val_accuracy did not improve from 0.71260\n",
      "\n",
      "Epoch 26: val_accuracy did not improve from 0.71260\n",
      "\n",
      "Epoch 27: val_accuracy did not improve from 0.71260\n",
      "\n",
      "Epoch 28: val_accuracy improved from 0.71260 to 0.72047, saving model to /content/drive/MyDrive/COSCI224 Machine Learning 3 Notebooks/models/weights.best.hdf5\n",
      "\n",
      "Epoch 29: val_accuracy did not improve from 0.72047\n",
      "\n",
      "Epoch 30: val_accuracy did not improve from 0.72047\n",
      "\n",
      "Epoch 31: val_accuracy did not improve from 0.72047\n",
      "\n",
      "Epoch 32: val_accuracy did not improve from 0.72047\n",
      "\n",
      "Epoch 33: val_accuracy did not improve from 0.72047\n",
      "\n",
      "Epoch 34: val_accuracy did not improve from 0.72047\n",
      "\n",
      "Epoch 35: val_accuracy did not improve from 0.72047\n",
      "\n",
      "Epoch 36: val_accuracy did not improve from 0.72047\n",
      "\n",
      "Epoch 37: val_accuracy improved from 0.72047 to 0.73622, saving model to /content/drive/MyDrive/COSCI224 Machine Learning 3 Notebooks/models/weights.best.hdf5\n",
      "\n",
      "Epoch 38: val_accuracy did not improve from 0.73622\n",
      "\n",
      "Epoch 39: val_accuracy did not improve from 0.73622\n",
      "\n",
      "Epoch 40: val_accuracy did not improve from 0.73622\n",
      "\n",
      "Epoch 41: val_accuracy did not improve from 0.73622\n",
      "\n",
      "Epoch 42: val_accuracy did not improve from 0.73622\n",
      "\n",
      "Epoch 43: val_accuracy did not improve from 0.73622\n",
      "\n",
      "Epoch 44: val_accuracy did not improve from 0.73622\n",
      "\n",
      "Epoch 45: val_accuracy did not improve from 0.73622\n",
      "\n",
      "Epoch 46: val_accuracy did not improve from 0.73622\n",
      "\n",
      "Epoch 47: val_accuracy improved from 0.73622 to 0.74016, saving model to /content/drive/MyDrive/COSCI224 Machine Learning 3 Notebooks/models/weights.best.hdf5\n",
      "\n",
      "Epoch 48: val_accuracy did not improve from 0.74016\n",
      "\n",
      "Epoch 49: val_accuracy did not improve from 0.74016\n",
      "\n",
      "Epoch 50: val_accuracy did not improve from 0.74016\n",
      "\n",
      "Epoch 51: val_accuracy did not improve from 0.74016\n",
      "\n",
      "Epoch 52: val_accuracy improved from 0.74016 to 0.75197, saving model to /content/drive/MyDrive/COSCI224 Machine Learning 3 Notebooks/models/weights.best.hdf5\n",
      "\n",
      "Epoch 53: val_accuracy did not improve from 0.75197\n",
      "\n",
      "Epoch 54: val_accuracy improved from 0.75197 to 0.75984, saving model to /content/drive/MyDrive/COSCI224 Machine Learning 3 Notebooks/models/weights.best.hdf5\n",
      "\n",
      "Epoch 55: val_accuracy did not improve from 0.75984\n",
      "\n",
      "Epoch 56: val_accuracy did not improve from 0.75984\n",
      "\n",
      "Epoch 57: val_accuracy did not improve from 0.75984\n",
      "\n",
      "Epoch 58: val_accuracy did not improve from 0.75984\n",
      "\n",
      "Epoch 59: val_accuracy did not improve from 0.75984\n",
      "\n",
      "Epoch 60: val_accuracy did not improve from 0.75984\n",
      "\n",
      "Epoch 61: val_accuracy did not improve from 0.75984\n",
      "\n",
      "Epoch 62: val_accuracy did not improve from 0.75984\n",
      "\n",
      "Epoch 63: val_accuracy did not improve from 0.75984\n",
      "\n",
      "Epoch 64: val_accuracy did not improve from 0.75984\n",
      "\n",
      "Epoch 65: val_accuracy did not improve from 0.75984\n",
      "\n",
      "Epoch 66: val_accuracy improved from 0.75984 to 0.76378, saving model to /content/drive/MyDrive/COSCI224 Machine Learning 3 Notebooks/models/weights.best.hdf5\n",
      "\n",
      "Epoch 67: val_accuracy did not improve from 0.76378\n",
      "\n",
      "Epoch 68: val_accuracy did not improve from 0.76378\n",
      "\n",
      "Epoch 69: val_accuracy did not improve from 0.76378\n",
      "\n",
      "Epoch 70: val_accuracy did not improve from 0.76378\n",
      "\n",
      "Epoch 71: val_accuracy did not improve from 0.76378\n",
      "\n",
      "Epoch 72: val_accuracy did not improve from 0.76378\n",
      "\n",
      "Epoch 73: val_accuracy did not improve from 0.76378\n",
      "\n",
      "Epoch 74: val_accuracy did not improve from 0.76378\n",
      "\n",
      "Epoch 75: val_accuracy improved from 0.76378 to 0.77165, saving model to /content/drive/MyDrive/COSCI224 Machine Learning 3 Notebooks/models/weights.best.hdf5\n",
      "\n",
      "Epoch 76: val_accuracy did not improve from 0.77165\n",
      "\n",
      "Epoch 77: val_accuracy did not improve from 0.77165\n",
      "\n",
      "Epoch 78: val_accuracy did not improve from 0.77165\n",
      "\n",
      "Epoch 79: val_accuracy did not improve from 0.77165\n",
      "\n",
      "Epoch 80: val_accuracy did not improve from 0.77165\n",
      "\n",
      "Epoch 81: val_accuracy improved from 0.77165 to 0.77559, saving model to /content/drive/MyDrive/COSCI224 Machine Learning 3 Notebooks/models/weights.best.hdf5\n",
      "\n",
      "Epoch 82: val_accuracy did not improve from 0.77559\n",
      "\n",
      "Epoch 83: val_accuracy did not improve from 0.77559\n",
      "\n",
      "Epoch 84: val_accuracy did not improve from 0.77559\n",
      "\n",
      "Epoch 85: val_accuracy did not improve from 0.77559\n",
      "\n",
      "Epoch 86: val_accuracy did not improve from 0.77559\n",
      "\n",
      "Epoch 87: val_accuracy did not improve from 0.77559\n",
      "\n",
      "Epoch 88: val_accuracy did not improve from 0.77559\n",
      "\n",
      "Epoch 89: val_accuracy did not improve from 0.77559\n",
      "\n",
      "Epoch 90: val_accuracy did not improve from 0.77559\n",
      "\n",
      "Epoch 91: val_accuracy did not improve from 0.77559\n",
      "\n",
      "Epoch 92: val_accuracy did not improve from 0.77559\n",
      "\n",
      "Epoch 93: val_accuracy did not improve from 0.77559\n",
      "\n",
      "Epoch 94: val_accuracy did not improve from 0.77559\n",
      "\n",
      "Epoch 95: val_accuracy did not improve from 0.77559\n",
      "\n",
      "Epoch 96: val_accuracy did not improve from 0.77559\n",
      "\n",
      "Epoch 97: val_accuracy did not improve from 0.77559\n",
      "\n",
      "Epoch 98: val_accuracy improved from 0.77559 to 0.77953, saving model to /content/drive/MyDrive/COSCI224 Machine Learning 3 Notebooks/models/weights.best.hdf5\n",
      "\n",
      "Epoch 99: val_accuracy improved from 0.77953 to 0.78740, saving model to /content/drive/MyDrive/COSCI224 Machine Learning 3 Notebooks/models/weights.best.hdf5\n",
      "\n",
      "Epoch 100: val_accuracy did not improve from 0.78740\n",
      "\n",
      "Epoch 101: val_accuracy did not improve from 0.78740\n",
      "\n",
      "Epoch 102: val_accuracy did not improve from 0.78740\n",
      "\n",
      "Epoch 103: val_accuracy did not improve from 0.78740\n",
      "\n",
      "Epoch 104: val_accuracy did not improve from 0.78740\n",
      "\n",
      "Epoch 105: val_accuracy did not improve from 0.78740\n",
      "\n",
      "Epoch 106: val_accuracy did not improve from 0.78740\n",
      "\n",
      "Epoch 107: val_accuracy did not improve from 0.78740\n",
      "\n",
      "Epoch 108: val_accuracy did not improve from 0.78740\n",
      "\n",
      "Epoch 109: val_accuracy did not improve from 0.78740\n",
      "\n",
      "Epoch 110: val_accuracy did not improve from 0.78740\n",
      "\n",
      "Epoch 111: val_accuracy did not improve from 0.78740\n",
      "\n",
      "Epoch 112: val_accuracy did not improve from 0.78740\n",
      "\n",
      "Epoch 113: val_accuracy did not improve from 0.78740\n",
      "\n",
      "Epoch 114: val_accuracy did not improve from 0.78740\n",
      "\n",
      "Epoch 115: val_accuracy did not improve from 0.78740\n",
      "\n",
      "Epoch 116: val_accuracy did not improve from 0.78740\n",
      "\n",
      "Epoch 117: val_accuracy improved from 0.78740 to 0.79134, saving model to /content/drive/MyDrive/COSCI224 Machine Learning 3 Notebooks/models/weights.best.hdf5\n",
      "\n",
      "Epoch 118: val_accuracy did not improve from 0.79134\n",
      "\n",
      "Epoch 119: val_accuracy did not improve from 0.79134\n",
      "\n",
      "Epoch 120: val_accuracy did not improve from 0.79134\n",
      "\n",
      "Epoch 121: val_accuracy did not improve from 0.79134\n",
      "\n",
      "Epoch 122: val_accuracy did not improve from 0.79134\n",
      "\n",
      "Epoch 123: val_accuracy did not improve from 0.79134\n",
      "\n",
      "Epoch 124: val_accuracy did not improve from 0.79134\n",
      "\n",
      "Epoch 125: val_accuracy did not improve from 0.79134\n",
      "\n",
      "Epoch 126: val_accuracy did not improve from 0.79134\n",
      "\n",
      "Epoch 127: val_accuracy did not improve from 0.79134\n",
      "\n",
      "Epoch 128: val_accuracy did not improve from 0.79134\n",
      "\n",
      "Epoch 129: val_accuracy did not improve from 0.79134\n",
      "\n",
      "Epoch 130: val_accuracy did not improve from 0.79134\n",
      "\n",
      "Epoch 131: val_accuracy did not improve from 0.79134\n",
      "\n",
      "Epoch 132: val_accuracy did not improve from 0.79134\n",
      "\n",
      "Epoch 133: val_accuracy did not improve from 0.79134\n",
      "\n",
      "Epoch 134: val_accuracy did not improve from 0.79134\n",
      "\n",
      "Epoch 135: val_accuracy did not improve from 0.79134\n",
      "\n",
      "Epoch 136: val_accuracy did not improve from 0.79134\n",
      "\n",
      "Epoch 137: val_accuracy did not improve from 0.79134\n",
      "\n",
      "Epoch 138: val_accuracy improved from 0.79134 to 0.79528, saving model to /content/drive/MyDrive/COSCI224 Machine Learning 3 Notebooks/models/weights.best.hdf5\n",
      "\n",
      "Epoch 139: val_accuracy did not improve from 0.79528\n",
      "\n",
      "Epoch 140: val_accuracy did not improve from 0.79528\n",
      "\n",
      "Epoch 141: val_accuracy did not improve from 0.79528\n",
      "\n",
      "Epoch 142: val_accuracy did not improve from 0.79528\n",
      "\n",
      "Epoch 143: val_accuracy did not improve from 0.79528\n",
      "\n",
      "Epoch 144: val_accuracy did not improve from 0.79528\n",
      "\n",
      "Epoch 145: val_accuracy did not improve from 0.79528\n",
      "\n",
      "Epoch 146: val_accuracy did not improve from 0.79528\n",
      "\n",
      "Epoch 147: val_accuracy did not improve from 0.79528\n",
      "\n",
      "Epoch 148: val_accuracy did not improve from 0.79528\n",
      "\n",
      "Epoch 149: val_accuracy did not improve from 0.79528\n",
      "\n",
      "Epoch 150: val_accuracy did not improve from 0.79528\n"
     ]
    },
    {
     "data": {
      "text/plain": [
       "<keras.src.callbacks.History at 0x7d5343eba550>"
      ]
     },
     "execution_count": 45,
     "metadata": {},
     "output_type": "execute_result"
    }
   ],
   "source": [
    "# Checkpoint the weights for best model on validation accuracy\n",
    "from keras.models import Sequential\n",
    "from keras.layers import Dense\n",
    "from keras.callbacks import ModelCheckpoint\n",
    "import matplotlib.pyplot as plt\n",
    "import numpy\n",
    "\n",
    "# fix random seed for reproducibility\n",
    "seed = 7\n",
    "numpy.random.seed(seed)\n",
    "\n",
    "# load pima indians dataset\n",
    "dataset = numpy.loadtxt(DATA_DIR + \"/pima-indians-diabetes.data.csv\", delimiter=\",\")\n",
    "# split into input (X) and output (Y) variables\n",
    "X = dataset[:,0:8]\n",
    "Y = dataset[:,8]\n",
    "\n",
    "# create model\n",
    "model = Sequential()\n",
    "model.add(Dense(12, input_dim=8, kernel_initializer='uniform', activation='relu'))\n",
    "model.add(Dense(8, kernel_initializer='uniform', activation='relu'))\n",
    "model.add(Dense(1, kernel_initializer='uniform', activation='sigmoid'))\n",
    "\n",
    "# Compile model\n",
    "model.compile(loss='binary_crossentropy', optimizer='adam', metrics=['accuracy'])\n",
    "\n",
    "# checkpoint\n",
    "filepath=MODEL_DIR+\"weights.best.hdf5\"\n",
    "checkpoint = ModelCheckpoint(filepath, monitor='val_accuracy', verbose=1, save_best_only=True, mode='max')\n",
    "callbacks_list = [checkpoint]\n",
    "# Fit the model\n",
    "model.fit(X, Y, validation_split=0.33, epochs=150, batch_size=10, callbacks=callbacks_list, verbose=0)"
   ]
  },
  {
   "cell_type": "markdown",
   "metadata": {
    "id": "UOlQTHyUxSqr"
   },
   "source": [
    "### Loading a Neural Network Model Checkpoint\n",
    "\n",
    "Now that you have seen how to checkpoint your deep learning models during training, you need to review how to load and use a checkpointed model.The checkpoint only includes the model weights. It assumes you know the network structure.\n",
    "\n",
    "In the example below, the model structure is known and the best weights are loaded from the previous experiment, stored in the working directory in the weights.best.hdf5 file.\n",
    "\n",
    "The model is then used to make predictions on the entire dataset."
   ]
  },
  {
   "cell_type": "code",
   "execution_count": null,
   "metadata": {
    "colab": {
     "base_uri": "https://localhost:8080/"
    },
    "executionInfo": {
     "elapsed": 824,
     "status": "ok",
     "timestamp": 1737944981483,
     "user": {
      "displayName": "kc-aim",
      "userId": "16968997735368758960"
     },
     "user_tz": -480
    },
    "id": "v2dDijfwxSqr",
    "outputId": "4daa6ed3-f829-4021-f50f-63afbf4c8d8a"
   },
   "outputs": [
    {
     "name": "stdout",
     "output_type": "stream",
     "text": [
      "Created model and loaded weights from file\n",
      "accuracy: 77.73%\n"
     ]
    }
   ],
   "source": [
    "# How to load and use weights from a checkpoint\n",
    "\n",
    "from keras.models import Sequential\n",
    "from keras.layers import Dense\n",
    "from keras.callbacks import ModelCheckpoint\n",
    "import matplotlib.pyplot as plt\n",
    "import numpy\n",
    "\n",
    "# fix random seed for reproducibility\n",
    "seed = 7\n",
    "numpy.random.seed(seed)\n",
    "\n",
    "# create model\n",
    "model = Sequential()\n",
    "model.add(Dense(12, input_dim=8, kernel_initializer='uniform', activation='relu'))\n",
    "model.add(Dense(8, kernel_initializer='uniform', activation='relu'))\n",
    "model.add(Dense(1, kernel_initializer='uniform', activation='sigmoid'))\n",
    "\n",
    "# load weights\n",
    "model.load_weights(MODEL_DIR + \"weights.best.hdf5\")\n",
    "# Compile model (required to make predictions)\n",
    "model.compile(loss='binary_crossentropy', optimizer='adam', metrics=['accuracy'])\n",
    "print(\"Created model and loaded weights from file\")\n",
    "\n",
    "# load pima indians dataset\n",
    "dataset = numpy.loadtxt(DATA_DIR + \"/pima-indians-diabetes.data.csv\", delimiter=\",\")\n",
    "\n",
    "# split into input (X) and output (Y) variables\n",
    "X = dataset[:,0:8]\n",
    "Y = dataset[:,8]\n",
    "\n",
    "# estimate accuracy on whole dataset using loaded weights\n",
    "scores = model.evaluate(X, Y, verbose=0)\n",
    "print(\"%s: %.2f%%\" % (model.metrics_names[1], scores[1]*100))"
   ]
  },
  {
   "cell_type": "markdown",
   "metadata": {
    "id": "LLjVeTpIxSqr"
   },
   "source": [
    "### Let's use the IMdB data set"
   ]
  },
  {
   "cell_type": "code",
   "execution_count": null,
   "metadata": {
    "ExecuteTime": {
     "end_time": "2018-11-29T00:39:43.589777Z",
     "start_time": "2018-11-29T00:39:37.158007Z"
    },
    "colab": {
     "base_uri": "https://localhost:8080/"
    },
    "executionInfo": {
     "elapsed": 4282,
     "status": "ok",
     "timestamp": 1737944988068,
     "user": {
      "displayName": "kc-aim",
      "userId": "16968997735368758960"
     },
     "user_tz": -480
    },
    "id": "NeSQpi7AxSqr",
    "outputId": "155c0250-5ae9-4995-cee7-d36c2514901c"
   },
   "outputs": [
    {
     "name": "stdout",
     "output_type": "stream",
     "text": [
      "Loading data...\n",
      "25000 train sequences\n",
      "25000 test sequences\n",
      "Pad sequences (samples x time)\n",
      "input_train shape: (25000, 500)\n",
      "input_test shape: (25000, 500)\n"
     ]
    }
   ],
   "source": [
    "from keras.datasets import imdb\n",
    "from keras.preprocessing import sequence\n",
    "max_features = 10000 #Number of words to consider as features\n",
    "maxlen = 500 # Cuts off texts after this many words (among the max_features most common words)\n",
    "#batch_size = 32\n",
    "print('Loading data...')\n",
    "(input_train, y_train), (input_test, y_test) = imdb.load_data(\n",
    "num_words=max_features)\n",
    "print(len(input_train), 'train sequences')\n",
    "print(len(input_test), 'test sequences')\n",
    "print('Pad sequences (samples x time)')\n",
    "input_train = sequence.pad_sequences(input_train, maxlen=maxlen)\n",
    "input_test = sequence.pad_sequences(input_test, maxlen=maxlen)\n",
    "print('input_train shape:', input_train.shape)\n",
    "print('input_test shape:', input_test.shape)"
   ]
  },
  {
   "cell_type": "code",
   "execution_count": null,
   "metadata": {
    "colab": {
     "base_uri": "https://localhost:8080/"
    },
    "executionInfo": {
     "elapsed": 195317,
     "status": "ok",
     "timestamp": 1737948447006,
     "user": {
      "displayName": "kc-aim",
      "userId": "16968997735368758960"
     },
     "user_tz": -480
    },
    "id": "HYffOtkYxSqr",
    "outputId": "073e64a9-5cea-4c77-a6b0-b4b2e0c2c89c"
   },
   "outputs": [
    {
     "name": "stdout",
     "output_type": "stream",
     "text": [
      "\n",
      "Epoch 1: val_acc improved from -inf to 0.70700, saving model to /content/drive/MyDrive/COSCI224 Machine Learning 3 Notebooks/models/weights_best_IMDB2.hdf5\n",
      "\n",
      "Epoch 2: val_acc improved from 0.70700 to 0.82200, saving model to /content/drive/MyDrive/COSCI224 Machine Learning 3 Notebooks/models/weights_best_IMDB2.hdf5\n",
      "\n",
      "Epoch 3: val_acc improved from 0.82200 to 0.85520, saving model to /content/drive/MyDrive/COSCI224 Machine Learning 3 Notebooks/models/weights_best_IMDB2.hdf5\n",
      "\n",
      "Epoch 4: val_acc improved from 0.85520 to 0.87180, saving model to /content/drive/MyDrive/COSCI224 Machine Learning 3 Notebooks/models/weights_best_IMDB2.hdf5\n",
      "\n",
      "Epoch 5: val_acc did not improve from 0.87180\n",
      "\n",
      "Epoch 6: val_acc did not improve from 0.87180\n",
      "\n",
      "Epoch 7: val_acc did not improve from 0.87180\n",
      "\n",
      "Epoch 8: val_acc did not improve from 0.87180\n",
      "\n",
      "Epoch 9: val_acc did not improve from 0.87180\n",
      "\n",
      "Epoch 10: val_acc did not improve from 0.87180\n"
     ]
    }
   ],
   "source": [
    "from keras import Sequential\n",
    "from keras.layers import Embedding, SimpleRNN\n",
    "from keras.layers import Dense\n",
    "from keras.callbacks import ModelCheckpoint\n",
    "\n",
    "model = Sequential()\n",
    "model.add(Embedding(max_features, 32))\n",
    "model.add(SimpleRNN(32))\n",
    "model.add(Dense(1, activation='sigmoid'))\n",
    "model.compile(optimizer='rmsprop', loss='binary_crossentropy', metrics=['acc'])\n",
    "\n",
    "# checkpoint\n",
    "filepath=MODEL_DIR+ \"weights_best_IMDB2.hdf5\"\n",
    "checkpoint = ModelCheckpoint(filepath, monitor='val_acc', verbose=1, save_best_only=True, mode='max')\n",
    "callbacks_list = [checkpoint]\n",
    "\n",
    "history = model.fit(input_train, y_train,\n",
    "                    epochs=10,\n",
    "                    batch_size=128,\n",
    "                    validation_split=0.2,\n",
    "                    callbacks=callbacks_list, verbose=0)\n"
   ]
  },
  {
   "cell_type": "markdown",
   "metadata": {
    "id": "nk2FJyx30L-J"
   },
   "source": [
    "# Appendix C. Multilayer RNN with Dropout Regularization"
   ]
  },
  {
   "cell_type": "code",
   "execution_count": null,
   "metadata": {
    "colab": {
     "base_uri": "https://localhost:8080/"
    },
    "executionInfo": {
     "elapsed": 21439,
     "status": "ok",
     "timestamp": 1737945009945,
     "user": {
      "displayName": "kc-aim",
      "userId": "16968997735368758960"
     },
     "user_tz": -480
    },
    "id": "dtud3_Rz0Xzj",
    "outputId": "61535a2c-f8b4-4c56-dfff-d6c599817582"
   },
   "outputs": [
    {
     "name": "stdout",
     "output_type": "stream",
     "text": [
      "Loading data...\n",
      "25000 train sequences\n",
      "25000 test sequences\n",
      "Pad sequences (samples x time)\n",
      "input_train shape: (25000, 500)\n",
      "input_test shape: (25000, 500)\n"
     ]
    }
   ],
   "source": [
    "from keras.datasets import imdb\n",
    "from keras.preprocessing import sequence\n",
    "max_features = 10000 #Number of words to consider as features\n",
    "maxlen = 500 # Cuts off texts after this many words (among the max_features most common words)\n",
    "#batch_size = 32\n",
    "print('Loading data...')\n",
    "(input_train, y_train), (input_test, y_test) = imdb.load_data(\n",
    "num_words=max_features)\n",
    "print(len(input_train), 'train sequences')\n",
    "print(len(input_test), 'test sequences')\n",
    "print('Pad sequences (samples x time)')\n",
    "input_train = sequence.pad_sequences(input_train, maxlen=maxlen)\n",
    "input_test = sequence.pad_sequences(input_test, maxlen=maxlen)\n",
    "print('input_train shape:', input_train.shape)\n",
    "print('input_test shape:', input_test.shape)"
   ]
  },
  {
   "cell_type": "code",
   "execution_count": null,
   "metadata": {
    "id": "FbMtPSEl0qOY"
   },
   "outputs": [],
   "source": [
    "from keras.layers import LSTM\n",
    "from keras import Sequential\n",
    "from keras.layers import Dropout\n",
    "from keras.layers import Embedding, SimpleRNN\n",
    "\n",
    "model = Sequential()\n",
    "model.add(Embedding(max_features, 32))\n",
    "model.add(LSTM(16, return_sequences=True,\n",
    "              input_shape=(None,None, 16)))\n",
    "model.add(LSTM(16, return_sequences=True,\n",
    "              input_shape=(None,None, 16)))\n",
    "model.add(LSTM(16))\n",
    "model.add(Dropout(0.2))\n",
    "model.add(Dense(1, activation='sigmoid'))"
   ]
  },
  {
   "cell_type": "code",
   "execution_count": null,
   "metadata": {
    "colab": {
     "base_uri": "https://localhost:8080/"
    },
    "executionInfo": {
     "elapsed": 4,
     "status": "ok",
     "timestamp": 1737945975442,
     "user": {
      "displayName": "kc-aim",
      "userId": "16968997735368758960"
     },
     "user_tz": -480
    },
    "id": "-rxi9LQJ5Obh",
    "outputId": "13d56573-a326-492b-a5c1-743ff654ab8d"
   },
   "outputs": [
    {
     "name": "stdout",
     "output_type": "stream",
     "text": [
      "Model: \"sequential_12\"\n",
      "_________________________________________________________________\n",
      " Layer (type)                Output Shape              Param #   \n",
      "=================================================================\n",
      " embedding_8 (Embedding)     (None, None, 32)          320000    \n",
      "                                                                 \n",
      " lstm_6 (LSTM)               (None, None, 16)          3136      \n",
      "                                                                 \n",
      " lstm_7 (LSTM)               (None, None, 16)          2112      \n",
      "                                                                 \n",
      " lstm_8 (LSTM)               (None, 16)                2112      \n",
      "                                                                 \n",
      " dropout_1 (Dropout)         (None, 16)                0         \n",
      "                                                                 \n",
      " dense_20 (Dense)            (None, 1)                 17        \n",
      "                                                                 \n",
      "=================================================================\n",
      "Total params: 327377 (1.25 MB)\n",
      "Trainable params: 327377 (1.25 MB)\n",
      "Non-trainable params: 0 (0.00 Byte)\n",
      "_________________________________________________________________\n"
     ]
    }
   ],
   "source": [
    "model.summary()"
   ]
  },
  {
   "cell_type": "code",
   "execution_count": null,
   "metadata": {
    "colab": {
     "base_uri": "https://localhost:8080/"
    },
    "executionInfo": {
     "elapsed": 149438,
     "status": "ok",
     "timestamp": 1737946125191,
     "user": {
      "displayName": "kc-aim",
      "userId": "16968997735368758960"
     },
     "user_tz": -480
    },
    "id": "mqIz-B0Z0w6t",
    "outputId": "d9cbff22-deb7-4c26-f874-65e15d9ad8b4"
   },
   "outputs": [
    {
     "name": "stdout",
     "output_type": "stream",
     "text": [
      "\n",
      "Epoch 1: val_acc improved from -inf to 0.80760, saving model to /content/drive/MyDrive/COSCI224 Machine Learning 3 Notebooks/models/weights_best_IMDB2.hdf5\n",
      "\n",
      "Epoch 2: val_acc improved from 0.80760 to 0.85860, saving model to /content/drive/MyDrive/COSCI224 Machine Learning 3 Notebooks/models/weights_best_IMDB2.hdf5\n",
      "\n",
      "Epoch 3: val_acc did not improve from 0.85860\n",
      "\n",
      "Epoch 4: val_acc improved from 0.85860 to 0.88420, saving model to /content/drive/MyDrive/COSCI224 Machine Learning 3 Notebooks/models/weights_best_IMDB2.hdf5\n",
      "\n",
      "Epoch 5: val_acc did not improve from 0.88420\n",
      "\n",
      "Epoch 6: val_acc did not improve from 0.88420\n",
      "\n",
      "Epoch 7: val_acc did not improve from 0.88420\n",
      "\n",
      "Epoch 8: val_acc did not improve from 0.88420\n",
      "\n",
      "Epoch 9: val_acc did not improve from 0.88420\n",
      "\n",
      "Epoch 10: val_acc did not improve from 0.88420\n"
     ]
    }
   ],
   "source": [
    "from keras.models import Sequential\n",
    "from keras.layers import Dense\n",
    "from keras.callbacks import ModelCheckpoint\n",
    "import matplotlib.pyplot as plt\n",
    "import numpy\n",
    "\n",
    "model.compile(optimizer='rmsprop', loss='binary_crossentropy', metrics=['acc'])\n",
    "\n",
    "# checkpoint\n",
    "filepath=MODEL_DIR+ \"weights_best_IMDB2.hdf5\"\n",
    "checkpoint = ModelCheckpoint(filepath, monitor='val_acc', verbose=1, save_best_only=True, mode='max')\n",
    "callbacks_list = [checkpoint]\n",
    "\n",
    "history = model.fit(input_train, y_train,\n",
    "                    epochs=10,\n",
    "                    batch_size=128,\n",
    "                    validation_split=0.2,\n",
    "                    callbacks=callbacks_list, verbose=0)"
   ]
  },
  {
   "cell_type": "code",
   "execution_count": null,
   "metadata": {
    "id": "ScZMfGtV7AoN"
   },
   "outputs": [],
   "source": [
    "model_json = model.to_json()\n",
    "with open(MODEL_DIR + \"model_multiLSTM.json\", \"w\") as json_file:\n",
    "    json_file.write(model_json)"
   ]
  },
  {
   "cell_type": "code",
   "execution_count": null,
   "metadata": {
    "id": "5-yKnxmn7i8a"
   },
   "outputs": [],
   "source": [
    "from tensorflow.keras.models import model_from_json\n",
    "\n",
    "# Model reconstruction from JSON file\n",
    "with open(MODEL_DIR + \"model_multiLSTM.json\", \"r\") as f:\n",
    "    model = model_from_json(f.read())\n",
    "\n",
    "from tensorflow.keras.models import load_model\n",
    "\n",
    "model.load_weights(MODEL_DIR +\"weights_best_IMDB2.hdf5\")"
   ]
  },
  {
   "cell_type": "code",
   "execution_count": null,
   "metadata": {
    "colab": {
     "base_uri": "https://localhost:8080/"
    },
    "executionInfo": {
     "elapsed": 1354,
     "status": "ok",
     "timestamp": 1737946127704,
     "user": {
      "displayName": "kc-aim",
      "userId": "16968997735368758960"
     },
     "user_tz": -480
    },
    "id": "yQn3c1rz8B1U",
    "outputId": "44c8e56e-f6c2-4cff-dba8-db7193ab4d40"
   },
   "outputs": [
    {
     "name": "stdout",
     "output_type": "stream",
     "text": [
      "1/1 [==============================] - 1s 1s/step\n",
      "this movie was bad and terrible i almost die. Sentiment: 0.074548006\n",
      "1/1 [==============================] - 0s 39ms/step\n",
      "not good. Sentiment: 0.14470227\n",
      "1/1 [==============================] - 0s 37ms/step\n",
      "it is really terrible and brilliant. Sentiment: 0.19832663\n",
      "1/1 [==============================] - 0s 32ms/step\n",
      "somewhere somehow. Sentiment: 0.13511896\n"
     ]
    }
   ],
   "source": [
    "import numpy as np\n",
    "\n",
    "#predict sentiment from reviews\n",
    "max_review_length=500\n",
    "bad = \"this movie was bad and terrible i almost die\"\n",
    "good = \"not good\"\n",
    "neutral = \"it is really terrible and brilliant\"\n",
    "vague = \"somewhere somehow\"\n",
    "\n",
    "for review in [bad,good,neutral,vague]:\n",
    "    tmp = []\n",
    "    for word in review.split(\" \"):\n",
    "        tmp.append(word_to_id[word])\n",
    "    tmp_padded = sequence.pad_sequences([tmp], maxlen=max_review_length)\n",
    "    print(\"%s. Sentiment: %s\" % (review,model.predict(np.array([tmp_padded][0]))[0][0]))"
   ]
  }
 ],
 "metadata": {
  "accelerator": "GPU",
  "colab": {
   "collapsed_sections": [
    "jm5rTZCla4Qd",
    "AAyLMLfxxSqp"
   ],
   "gpuType": "T4",
   "provenance": [
    {
     "file_id": "1l0HJkTszCSWXSA1oK-6YO4IVGnWDiBBz",
     "timestamp": 1715836043440
    }
   ],
   "toc_visible": true
  },
  "kernelspec": {
   "display_name": "Python 3",
   "language": "python",
   "name": "python3"
  },
  "language_info": {
   "codemirror_mode": {
    "name": "ipython",
    "version": 3
   },
   "file_extension": ".py",
   "mimetype": "text/x-python",
   "name": "python",
   "nbconvert_exporter": "python",
   "pygments_lexer": "ipython3",
   "version": "3.12.0"
  }
 },
 "nbformat": 4,
 "nbformat_minor": 0
}
