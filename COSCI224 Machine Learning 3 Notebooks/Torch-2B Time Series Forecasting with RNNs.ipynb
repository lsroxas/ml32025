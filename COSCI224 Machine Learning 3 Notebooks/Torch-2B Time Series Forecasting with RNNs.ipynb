{
 "cells": [
  {
   "cell_type": "markdown",
   "metadata": {
    "id": "iyQ_OX63Mce5"
   },
   "source": [
    "# Notebook 2B. Time Series Forecasting using RNN\n",
    "---\n",
    "Organized and prepared by Christopher Monterola, updated by Kenneth Co.\n",
    "\n",
    "This notebook was conceptualized, organized, and primarily prepared for the **Machine Learning** courses.\n",
    "\n",
    "### This notebook uses the following references:\n",
    "1. Python Machine Learning, Second Edition, Sebastian Raschka and Vahid Mirjalili, Packt Publishing Ltd. Birmingham B3 2PB, UK Sept 2017.\n",
    "2. Hands-On Machine Learning with Scikit-Learn and TensorFlow, Aurélien Géron, O'Reilly 2017.\n",
    "3. Deep Learning with Python, Francois Chollet, Manning New York 2018.\n",
    "\n",
    "---\n",
    "In this notebook, we will continue in illustrating RNN by using it to  work on the following: **Temperature forecasting problem**."
   ]
  },
  {
   "cell_type": "markdown",
   "metadata": {
    "id": "vjZDaIZ5V9xi"
   },
   "source": [
    "## Google Colab Setup"
   ]
  },
  {
   "cell_type": "code",
   "execution_count": 1,
   "metadata": {
    "execution": {
     "iopub.execute_input": "2025-02-08T12:01:45.182280Z",
     "iopub.status.busy": "2025-02-08T12:01:45.181618Z",
     "iopub.status.idle": "2025-02-08T12:01:45.190571Z",
     "shell.execute_reply": "2025-02-08T12:01:45.189061Z",
     "shell.execute_reply.started": "2025-02-08T12:01:45.182222Z"
    },
    "id": "U0aK5QajV9xj"
   },
   "outputs": [],
   "source": [
    "# from google.colab import drive\n",
    "# drive.mount('/content/drive')\n",
    "# DATA_DIR = '/content/drive/MyDrive/COSCI224 Machine Learning 3 Notebooks/data/'\n",
    "# IMG_DIR = '/content/drive/MyDrive/COSCI224 Machine Learning 3 Notebooks/images/'\n",
    "# MODEL_DIR = '/content/drive/MyDrive/COSCI224 Machine Learning 3 Notebooks/models/'\n",
    "\n",
    "DATA_DIR = 'data/'\n",
    "IMG_DIR = 'images/'\n",
    "MODEL_DIR = 'models/'"
   ]
  },
  {
   "cell_type": "markdown",
   "metadata": {
    "id": "8a1TC72dV9xk"
   },
   "source": [
    "First, enable GPUs for the notebook:\n",
    "\n",
    "- Navigate to ```Edit → Notebook Settings``` in the toolbar\n",
    "- Select ```GPU``` or ```TPU```from the Hardware Accelerator drop-down\n",
    "\n",
    "Next, verify if GPU or TPU is enabled. You will know this by running the code script below. It should show that a GPU is recognized."
   ]
  },
  {
   "cell_type": "code",
   "execution_count": null,
   "metadata": {
    "colab": {
     "base_uri": "https://localhost:8080/"
    },
    "execution": {
     "iopub.execute_input": "2025-02-08T12:02:30.541448Z",
     "iopub.status.busy": "2025-02-08T12:02:30.540762Z",
     "iopub.status.idle": "2025-02-08T12:02:38.277438Z",
     "shell.execute_reply": "2025-02-08T12:02:38.276482Z",
     "shell.execute_reply.started": "2025-02-08T12:02:30.541390Z"
    },
    "executionInfo": {
     "elapsed": 3,
     "status": "ok",
     "timestamp": 1721786972374,
     "user": {
      "displayName": "kc-aim",
      "userId": "16968997735368758960"
     },
     "user_tz": -480
    },
    "id": "LJSARNTqV9xk",
    "outputId": "7080ea59-610c-4d6a-9192-3717193841ed"
   },
   "outputs": [
    {
     "name": "stdout",
     "output_type": "stream",
     "text": [
      "PyTorch CUDA Version:\n",
      "None\n",
      "\n",
      "TensorFlow CUDA Version:\n",
      "CUDA not used in this TensorFlow build.\n",
      "\n",
      "GPU Availability:\n",
      "PyTorch CUDA Availability: False\n",
      "TensorFlow GPU Devices: True\n"
     ]
    }
   ],
   "source": [
    "import torch\n",
    "import tensorflow as tf\n",
    "\n",
    "# Check PyTorch CUDA Version\n",
    "print(\"PyTorch CUDA Version:\")\n",
    "try:\n",
    "    print(torch.version.cuda)\n",
    "except AttributeError:\n",
    "    print(\"CUDA not available with this PyTorch installation.\")\n",
    "\n",
    "# Check TensorFlow CUDA Version\n",
    "print(\"\\nTensorFlow CUDA Version:\")\n",
    "try:\n",
    "    print(tf.sysconfig.get_build_info()['cuda_version'])\n",
    "except KeyError:\n",
    "    print(\"CUDA not used in this TensorFlow build.\")\n",
    "\n",
    "# Additional checks for GPU availability\n",
    "print(\"\\nGPU Availability:\")\n",
    "print(\"PyTorch CUDA Availability:\", torch.cuda.is_available())\n",
    "print(\"TensorFlow GPU Devices:\", len(tf.config.list_physical_devices('GPU')) > 0)"
   ]
  },
  {
   "cell_type": "markdown",
   "metadata": {
    "id": "4ZN8a7dDMce-"
   },
   "source": [
    "In the next example, we’ll review three advanced techniques for improving the performance and generalization power of recurrent neural networks.  We’ll demonstrate all three concepts on a temperature-forecasting problem, where you have access to a timeseries of data points coming from sensors installed on the roof of a building, such as temperature, air pressure, and humidity, which you use to predict what the temperature will be 24 hours after the last data point.\n",
    "\n",
    "This is a fairly challenging problem that exemplifies many common difficulties encountered when working with timeseries. We’ll cover the following techniques:\n",
    "- GRU based architecture in contrast with simple RNN and LSTM    \n",
    "- Recurrent dropout—This is a specific, built-in way to use dropout to fight overfitting in recurrent layers.    \n",
    "- Stacking recurrent layers—This increases the representational power of the network (at the cost of higher computational loads).    "
   ]
  },
  {
   "cell_type": "markdown",
   "metadata": {
    "id": "QE2812NSM_tp"
   },
   "source": [
    "# Example 2: Temperature Forecasting\n",
    "---\n",
    "\n",
    "Sequence data is found in diverse problems other than just language processing. In all the examples in this section, you’ll play with a weather timeseries dataset recorded at the Weather Station at the Max Planck Institute for Biogeochemistry in Jena, Germany.\n",
    "\n",
    "In this dataset, 14 different quantities (such air temperature, atmospheric pressure, humidity, wind direction, and so on) were recorded every 10 minutes, over several years. The original data goes back to 2003, but this example is limited to data from 2009–2016. This dataset is perfect for learning to work with numerical timeseries. You’ll use it to build a model that takes as input some data from the recent past (a few days’ worth of data points) and predicts the air temperature 24 hours in the future."
   ]
  },
  {
   "cell_type": "markdown",
   "metadata": {
    "id": "9wsdjx9AMce_"
   },
   "source": [
    "Here are the actual variables in the data:\n",
    "* Date Time   \n",
    "* p (mbar) atmospheric pressure  \n",
    "* T (degC) temperature  \n",
    "* Tpot (K) potential temperature  \n",
    "* Tdew (degC) dew point temperature  \n",
    "* rh (%) relative humidity  \n",
    "* VPmax (mbar) saturation water vapor pressure  \n",
    "* VPact (mbar) actual water vapor pressure  \n",
    "* VPdef (mbar) water vapor pressure deficit  \n",
    "* sh (g/kg) specific humidity  \n",
    "* H2OC (mmol/mol) water vapor concentration  \n",
    "* rho (g/$m^3$) air density  \n",
    "* wv (m/s) wind velocity  \n",
    "* max. wv (m/s) maximum wind velocity  \n",
    "* wd (deg) wind direction  \n"
   ]
  },
  {
   "cell_type": "markdown",
   "metadata": {
    "id": "uKgbEjfVMcfA"
   },
   "source": [
    "## Step 1. Get the data\n",
    "\n",
    "Download and uncompress the data as follows:"
   ]
  },
  {
   "cell_type": "markdown",
   "metadata": {
    "id": "ROan6l2vMcfB"
   },
   "source": [
    "### Inspecting the data of the Jena weather dataset"
   ]
  },
  {
   "cell_type": "code",
   "execution_count": 3,
   "metadata": {
    "ExecuteTime": {
     "end_time": "2018-11-28T15:42:57.875835Z",
     "start_time": "2018-11-28T15:42:57.684467Z"
    },
    "colab": {
     "base_uri": "https://localhost:8080/"
    },
    "execution": {
     "iopub.execute_input": "2025-02-08T12:02:46.992634Z",
     "iopub.status.busy": "2025-02-08T12:02:46.991406Z",
     "iopub.status.idle": "2025-02-08T12:02:47.163066Z",
     "shell.execute_reply": "2025-02-08T12:02:47.162155Z",
     "shell.execute_reply.started": "2025-02-08T12:02:46.992567Z"
    },
    "executionInfo": {
     "elapsed": 4,
     "status": "ok",
     "timestamp": 1721786975709,
     "user": {
      "displayName": "kc-aim",
      "userId": "16968997735368758960"
     },
     "user_tz": -480
    },
    "id": "0dLmjocfMcfC",
    "outputId": "05e7f0fb-6a21-4d00-93b2-9a6cdcea98a6",
    "scrolled": true
   },
   "outputs": [
    {
     "name": "stdout",
     "output_type": "stream",
     "text": [
      "['\"Date Time\"', '\"p (mbar)\"', '\"T (degC)\"', '\"Tpot (K)\"', '\"Tdew (degC)\"', '\"rh (%)\"', '\"VPmax (mbar)\"', '\"VPact (mbar)\"', '\"VPdef (mbar)\"', '\"sh (g/kg)\"', '\"H2OC (mmol/mol)\"', '\"rho (g/m**3)\"', '\"wv (m/s)\"', '\"max. wv (m/s)\"', '\"wd (deg)\"']\n",
      "420551\n"
     ]
    }
   ],
   "source": [
    "import os\n",
    "\n",
    "fname = DATA_DIR + 'jena_climate_2009_2016.csv'\n",
    "f = open(fname)\n",
    "data = f.read()\n",
    "f.close()\n",
    "lines = data.split('\\n')\n",
    "header = lines[0].split(',')\n",
    "lines = lines[1:]\n",
    "print(header)\n",
    "print(len(lines))"
   ]
  },
  {
   "cell_type": "code",
   "execution_count": 4,
   "metadata": {
    "ExecuteTime": {
     "end_time": "2018-11-28T11:59:57.249917Z",
     "start_time": "2018-11-28T11:59:56.011131Z"
    },
    "colab": {
     "base_uri": "https://localhost:8080/",
     "height": 310
    },
    "execution": {
     "iopub.execute_input": "2025-02-08T12:02:47.164487Z",
     "iopub.status.busy": "2025-02-08T12:02:47.164250Z",
     "iopub.status.idle": "2025-02-08T12:02:48.007216Z",
     "shell.execute_reply": "2025-02-08T12:02:48.006392Z",
     "shell.execute_reply.started": "2025-02-08T12:02:47.164467Z"
    },
    "executionInfo": {
     "elapsed": 734,
     "status": "ok",
     "timestamp": 1721786976441,
     "user": {
      "displayName": "kc-aim",
      "userId": "16968997735368758960"
     },
     "user_tz": -480
    },
    "id": "y90oiMXaMcfF",
    "outputId": "e56ab903-5334-4ffe-8392-80eb5c4b32fe"
   },
   "outputs": [
    {
     "data": {
      "application/vnd.microsoft.datawrangler.viewer.v0+json": {
       "columns": [
        {
         "name": "index",
         "rawType": "int64",
         "type": "integer"
        },
        {
         "name": "Date Time",
         "rawType": "object",
         "type": "string"
        },
        {
         "name": "p (mbar)",
         "rawType": "float64",
         "type": "float"
        },
        {
         "name": "T (degC)",
         "rawType": "float64",
         "type": "float"
        },
        {
         "name": "Tpot (K)",
         "rawType": "float64",
         "type": "float"
        },
        {
         "name": "Tdew (degC)",
         "rawType": "float64",
         "type": "float"
        },
        {
         "name": "rh (%)",
         "rawType": "float64",
         "type": "float"
        },
        {
         "name": "VPmax (mbar)",
         "rawType": "float64",
         "type": "float"
        },
        {
         "name": "VPact (mbar)",
         "rawType": "float64",
         "type": "float"
        },
        {
         "name": "VPdef (mbar)",
         "rawType": "float64",
         "type": "float"
        },
        {
         "name": "sh (g/kg)",
         "rawType": "float64",
         "type": "float"
        },
        {
         "name": "H2OC (mmol/mol)",
         "rawType": "float64",
         "type": "float"
        },
        {
         "name": "rho (g/m**3)",
         "rawType": "float64",
         "type": "float"
        },
        {
         "name": "wv (m/s)",
         "rawType": "float64",
         "type": "float"
        },
        {
         "name": "max. wv (m/s)",
         "rawType": "float64",
         "type": "float"
        },
        {
         "name": "wd (deg)",
         "rawType": "float64",
         "type": "float"
        }
       ],
       "conversionMethod": "pd.DataFrame",
       "ref": "4baa1f6f-d94c-4861-ade4-149df806670c",
       "rows": [
        [
         "0",
         "01.01.2009 00:10:00",
         "996.52",
         "-8.02",
         "265.4",
         "-8.9",
         "93.3",
         "3.33",
         "3.11",
         "0.22",
         "1.94",
         "3.12",
         "1307.75",
         "1.03",
         "1.75",
         "152.3"
        ],
        [
         "1",
         "01.01.2009 00:20:00",
         "996.57",
         "-8.41",
         "265.01",
         "-9.28",
         "93.4",
         "3.23",
         "3.02",
         "0.21",
         "1.89",
         "3.03",
         "1309.8",
         "0.72",
         "1.5",
         "136.1"
        ],
        [
         "2",
         "01.01.2009 00:30:00",
         "996.53",
         "-8.51",
         "264.91",
         "-9.31",
         "93.9",
         "3.21",
         "3.01",
         "0.2",
         "1.88",
         "3.02",
         "1310.24",
         "0.19",
         "0.63",
         "171.6"
        ],
        [
         "3",
         "01.01.2009 00:40:00",
         "996.51",
         "-8.31",
         "265.12",
         "-9.07",
         "94.2",
         "3.26",
         "3.07",
         "0.19",
         "1.92",
         "3.08",
         "1309.19",
         "0.34",
         "0.5",
         "198.0"
        ],
        [
         "4",
         "01.01.2009 00:50:00",
         "996.51",
         "-8.27",
         "265.15",
         "-9.04",
         "94.1",
         "3.27",
         "3.08",
         "0.19",
         "1.92",
         "3.09",
         "1309.0",
         "0.32",
         "0.63",
         "214.3"
        ]
       ],
       "shape": {
        "columns": 15,
        "rows": 5
       }
      },
      "text/html": [
       "<div>\n",
       "<style scoped>\n",
       "    .dataframe tbody tr th:only-of-type {\n",
       "        vertical-align: middle;\n",
       "    }\n",
       "\n",
       "    .dataframe tbody tr th {\n",
       "        vertical-align: top;\n",
       "    }\n",
       "\n",
       "    .dataframe thead th {\n",
       "        text-align: right;\n",
       "    }\n",
       "</style>\n",
       "<table border=\"1\" class=\"dataframe\">\n",
       "  <thead>\n",
       "    <tr style=\"text-align: right;\">\n",
       "      <th></th>\n",
       "      <th>Date Time</th>\n",
       "      <th>p (mbar)</th>\n",
       "      <th>T (degC)</th>\n",
       "      <th>Tpot (K)</th>\n",
       "      <th>Tdew (degC)</th>\n",
       "      <th>rh (%)</th>\n",
       "      <th>VPmax (mbar)</th>\n",
       "      <th>VPact (mbar)</th>\n",
       "      <th>VPdef (mbar)</th>\n",
       "      <th>sh (g/kg)</th>\n",
       "      <th>H2OC (mmol/mol)</th>\n",
       "      <th>rho (g/m**3)</th>\n",
       "      <th>wv (m/s)</th>\n",
       "      <th>max. wv (m/s)</th>\n",
       "      <th>wd (deg)</th>\n",
       "    </tr>\n",
       "  </thead>\n",
       "  <tbody>\n",
       "    <tr>\n",
       "      <th>0</th>\n",
       "      <td>01.01.2009 00:10:00</td>\n",
       "      <td>996.52</td>\n",
       "      <td>-8.02</td>\n",
       "      <td>265.40</td>\n",
       "      <td>-8.90</td>\n",
       "      <td>93.3</td>\n",
       "      <td>3.33</td>\n",
       "      <td>3.11</td>\n",
       "      <td>0.22</td>\n",
       "      <td>1.94</td>\n",
       "      <td>3.12</td>\n",
       "      <td>1307.75</td>\n",
       "      <td>1.03</td>\n",
       "      <td>1.75</td>\n",
       "      <td>152.3</td>\n",
       "    </tr>\n",
       "    <tr>\n",
       "      <th>1</th>\n",
       "      <td>01.01.2009 00:20:00</td>\n",
       "      <td>996.57</td>\n",
       "      <td>-8.41</td>\n",
       "      <td>265.01</td>\n",
       "      <td>-9.28</td>\n",
       "      <td>93.4</td>\n",
       "      <td>3.23</td>\n",
       "      <td>3.02</td>\n",
       "      <td>0.21</td>\n",
       "      <td>1.89</td>\n",
       "      <td>3.03</td>\n",
       "      <td>1309.80</td>\n",
       "      <td>0.72</td>\n",
       "      <td>1.50</td>\n",
       "      <td>136.1</td>\n",
       "    </tr>\n",
       "    <tr>\n",
       "      <th>2</th>\n",
       "      <td>01.01.2009 00:30:00</td>\n",
       "      <td>996.53</td>\n",
       "      <td>-8.51</td>\n",
       "      <td>264.91</td>\n",
       "      <td>-9.31</td>\n",
       "      <td>93.9</td>\n",
       "      <td>3.21</td>\n",
       "      <td>3.01</td>\n",
       "      <td>0.20</td>\n",
       "      <td>1.88</td>\n",
       "      <td>3.02</td>\n",
       "      <td>1310.24</td>\n",
       "      <td>0.19</td>\n",
       "      <td>0.63</td>\n",
       "      <td>171.6</td>\n",
       "    </tr>\n",
       "    <tr>\n",
       "      <th>3</th>\n",
       "      <td>01.01.2009 00:40:00</td>\n",
       "      <td>996.51</td>\n",
       "      <td>-8.31</td>\n",
       "      <td>265.12</td>\n",
       "      <td>-9.07</td>\n",
       "      <td>94.2</td>\n",
       "      <td>3.26</td>\n",
       "      <td>3.07</td>\n",
       "      <td>0.19</td>\n",
       "      <td>1.92</td>\n",
       "      <td>3.08</td>\n",
       "      <td>1309.19</td>\n",
       "      <td>0.34</td>\n",
       "      <td>0.50</td>\n",
       "      <td>198.0</td>\n",
       "    </tr>\n",
       "    <tr>\n",
       "      <th>4</th>\n",
       "      <td>01.01.2009 00:50:00</td>\n",
       "      <td>996.51</td>\n",
       "      <td>-8.27</td>\n",
       "      <td>265.15</td>\n",
       "      <td>-9.04</td>\n",
       "      <td>94.1</td>\n",
       "      <td>3.27</td>\n",
       "      <td>3.08</td>\n",
       "      <td>0.19</td>\n",
       "      <td>1.92</td>\n",
       "      <td>3.09</td>\n",
       "      <td>1309.00</td>\n",
       "      <td>0.32</td>\n",
       "      <td>0.63</td>\n",
       "      <td>214.3</td>\n",
       "    </tr>\n",
       "  </tbody>\n",
       "</table>\n",
       "</div>"
      ],
      "text/plain": [
       "             Date Time  p (mbar)  T (degC)  Tpot (K)  Tdew (degC)  rh (%)  \\\n",
       "0  01.01.2009 00:10:00    996.52     -8.02    265.40        -8.90    93.3   \n",
       "1  01.01.2009 00:20:00    996.57     -8.41    265.01        -9.28    93.4   \n",
       "2  01.01.2009 00:30:00    996.53     -8.51    264.91        -9.31    93.9   \n",
       "3  01.01.2009 00:40:00    996.51     -8.31    265.12        -9.07    94.2   \n",
       "4  01.01.2009 00:50:00    996.51     -8.27    265.15        -9.04    94.1   \n",
       "\n",
       "   VPmax (mbar)  VPact (mbar)  VPdef (mbar)  sh (g/kg)  H2OC (mmol/mol)  \\\n",
       "0          3.33          3.11          0.22       1.94             3.12   \n",
       "1          3.23          3.02          0.21       1.89             3.03   \n",
       "2          3.21          3.01          0.20       1.88             3.02   \n",
       "3          3.26          3.07          0.19       1.92             3.08   \n",
       "4          3.27          3.08          0.19       1.92             3.09   \n",
       "\n",
       "   rho (g/m**3)  wv (m/s)  max. wv (m/s)  wd (deg)  \n",
       "0       1307.75      1.03           1.75     152.3  \n",
       "1       1309.80      0.72           1.50     136.1  \n",
       "2       1310.24      0.19           0.63     171.6  \n",
       "3       1309.19      0.34           0.50     198.0  \n",
       "4       1309.00      0.32           0.63     214.3  "
      ]
     },
     "execution_count": 4,
     "metadata": {},
     "output_type": "execute_result"
    }
   ],
   "source": [
    "import pandas as pd\n",
    "\n",
    "data2 = pd.read_csv(DATA_DIR + 'jena_climate_2009_2016.csv')\n",
    "dummy=data2\n",
    "dummy.head()"
   ]
  },
  {
   "cell_type": "markdown",
   "metadata": {
    "id": "8qE4pNwgMcfF"
   },
   "source": [
    "Now, convert all 420,551 lines of data into a Numpy array."
   ]
  },
  {
   "cell_type": "code",
   "execution_count": 5,
   "metadata": {
    "ExecuteTime": {
     "end_time": "2018-11-28T15:43:06.303407Z",
     "start_time": "2018-11-28T15:43:04.267256Z"
    },
    "execution": {
     "iopub.execute_input": "2025-02-08T12:02:48.008072Z",
     "iopub.status.busy": "2025-02-08T12:02:48.007860Z",
     "iopub.status.idle": "2025-02-08T12:02:49.946173Z",
     "shell.execute_reply": "2025-02-08T12:02:49.945260Z",
     "shell.execute_reply.started": "2025-02-08T12:02:48.008052Z"
    },
    "id": "xeLhZ9c9McfG"
   },
   "outputs": [],
   "source": [
    "import numpy as np\n",
    "\n",
    "float_data = np.zeros((len(lines), len(header) - 1))\n",
    "for i, line in enumerate(lines):\n",
    "    values = [float(x) for x in line.split(',')[1:]]\n",
    "    float_data[i, :] = values"
   ]
  },
  {
   "cell_type": "code",
   "execution_count": 6,
   "metadata": {
    "colab": {
     "base_uri": "https://localhost:8080/"
    },
    "execution": {
     "iopub.execute_input": "2025-02-08T12:02:49.947884Z",
     "iopub.status.busy": "2025-02-08T12:02:49.947656Z",
     "iopub.status.idle": "2025-02-08T12:02:49.954599Z",
     "shell.execute_reply": "2025-02-08T12:02:49.953732Z",
     "shell.execute_reply.started": "2025-02-08T12:02:49.947865Z"
    },
    "executionInfo": {
     "elapsed": 3,
     "status": "ok",
     "timestamp": 1721786979149,
     "user": {
      "displayName": "kc-aim",
      "userId": "16968997735368758960"
     },
     "user_tz": -480
    },
    "id": "L3RrEUIWMcfH",
    "outputId": "547fb26b-3673-4cd8-911e-a3b0a5bc4b07"
   },
   "outputs": [
    {
     "data": {
      "text/plain": [
       "(420551, 14)"
      ]
     },
     "execution_count": 6,
     "metadata": {},
     "output_type": "execute_result"
    }
   ],
   "source": [
    "float_data.shape"
   ]
  },
  {
   "cell_type": "markdown",
   "metadata": {
    "id": "mO8AgNi0McfH"
   },
   "source": [
    "## Step 2. Visualize by plotting the temperature timeseries"
   ]
  },
  {
   "cell_type": "markdown",
   "metadata": {
    "id": "6eRNFeBnMcfI"
   },
   "source": [
    "You can clearly see the yearly periodicity of temperature."
   ]
  },
  {
   "cell_type": "code",
   "execution_count": 7,
   "metadata": {
    "ExecuteTime": {
     "end_time": "2018-11-28T15:43:08.897895Z",
     "start_time": "2018-11-28T15:43:08.526173Z"
    },
    "colab": {
     "base_uri": "https://localhost:8080/",
     "height": 451
    },
    "execution": {
     "iopub.execute_input": "2025-02-08T12:02:49.955720Z",
     "iopub.status.busy": "2025-02-08T12:02:49.955466Z",
     "iopub.status.idle": "2025-02-08T12:02:50.369507Z",
     "shell.execute_reply": "2025-02-08T12:02:50.368443Z",
     "shell.execute_reply.started": "2025-02-08T12:02:49.955698Z"
    },
    "executionInfo": {
     "elapsed": 1537,
     "status": "ok",
     "timestamp": 1721786980684,
     "user": {
      "displayName": "kc-aim",
      "userId": "16968997735368758960"
     },
     "user_tz": -480
    },
    "id": "35lRPSORMcfI",
    "outputId": "9cd68150-e0b5-4d40-dbcb-845dbbbafa9d"
   },
   "outputs": [
    {
     "data": {
      "text/plain": [
       "[<matplotlib.lines.Line2D at 0x372c8e580>]"
      ]
     },
     "execution_count": 7,
     "metadata": {},
     "output_type": "execute_result"
    },
    {
     "data": {
      "image/png": "[encoded data removed]",
      "text/plain": [
       "<Figure size 640x480 with 1 Axes>"
      ]
     },
     "metadata": {},
     "output_type": "display_data"
    }
   ],
   "source": [
    "from matplotlib import pyplot as plt\n",
    "%matplotlib inline\n",
    "\n",
    "temp = float_data[:, 1]  #temperature (in degrees Celsius)\n",
    "plt.plot(range(len(temp)), temp)"
   ]
  },
  {
   "cell_type": "markdown",
   "metadata": {
    "id": "5QrFORSUMcfI"
   },
   "source": [
    "Below is a more narrow plot of the first 10 days of temperature data or first 1440 data points. Because the data is recorded every 10 minutes, you get 144 data points daily."
   ]
  },
  {
   "cell_type": "code",
   "execution_count": 8,
   "metadata": {
    "ExecuteTime": {
     "end_time": "2018-11-28T15:43:14.520485Z",
     "start_time": "2018-11-28T15:43:14.416130Z"
    },
    "colab": {
     "base_uri": "https://localhost:8080/",
     "height": 447
    },
    "execution": {
     "iopub.execute_input": "2025-02-08T12:02:50.370242Z",
     "iopub.status.busy": "2025-02-08T12:02:50.370031Z",
     "iopub.status.idle": "2025-02-08T12:02:50.531554Z",
     "shell.execute_reply": "2025-02-08T12:02:50.530621Z",
     "shell.execute_reply.started": "2025-02-08T12:02:50.370224Z"
    },
    "executionInfo": {
     "elapsed": 10,
     "status": "ok",
     "timestamp": 1721786980684,
     "user": {
      "displayName": "kc-aim",
      "userId": "16968997735368758960"
     },
     "user_tz": -480
    },
    "id": "xQtv_qSlMcfJ",
    "outputId": "abebb722-3f78-46fe-fb54-34566f791b3b"
   },
   "outputs": [
    {
     "data": {
      "text/plain": [
       "[<matplotlib.lines.Line2D at 0x372d44eb0>]"
      ]
     },
     "execution_count": 8,
     "metadata": {},
     "output_type": "execute_result"
    },
    {
     "data": {
      "image/png": "[encoded data removed]",
      "text/plain": [
       "<Figure size 640x480 with 1 Axes>"
      ]
     },
     "metadata": {},
     "output_type": "display_data"
    }
   ],
   "source": [
    "plt.plot(range(1440), temp[:1440])"
   ]
  },
  {
   "cell_type": "code",
   "execution_count": 9,
   "metadata": {
    "ExecuteTime": {
     "end_time": "2018-11-28T15:43:17.749601Z",
     "start_time": "2018-11-28T15:43:17.641050Z"
    },
    "colab": {
     "base_uri": "https://localhost:8080/",
     "height": 447
    },
    "execution": {
     "iopub.execute_input": "2025-02-08T12:02:50.532567Z",
     "iopub.status.busy": "2025-02-08T12:02:50.532353Z",
     "iopub.status.idle": "2025-02-08T12:02:50.664667Z",
     "shell.execute_reply": "2025-02-08T12:02:50.663051Z",
     "shell.execute_reply.started": "2025-02-08T12:02:50.532548Z"
    },
    "executionInfo": {
     "elapsed": 9,
     "status": "ok",
     "timestamp": 1721786980685,
     "user": {
      "displayName": "kc-aim",
      "userId": "16968997735368758960"
     },
     "user_tz": -480
    },
    "id": "_5RkWT3zMcfJ",
    "outputId": "3ffc70b1-6153-46c2-91f1-71d1bd949e88"
   },
   "outputs": [
    {
     "data": {
      "text/plain": [
       "[<matplotlib.lines.Line2D at 0x372d964c0>]"
      ]
     },
     "execution_count": 9,
     "metadata": {},
     "output_type": "execute_result"
    },
    {
     "data": {
      "image/png": "[encoded data removed]",
      "text/plain": [
       "<Figure size 640x480 with 1 Axes>"
      ]
     },
     "metadata": {},
     "output_type": "display_data"
    }
   ],
   "source": [
    "plt.plot(range(2880), temp[:2880])"
   ]
  },
  {
   "cell_type": "markdown",
   "metadata": {
    "id": "dr5fBPm1McfK"
   },
   "source": [
    "On this plot, you can see daily periodicity, especially evident for the last 4 days. Also note that this 10-day period must be coming from a fairly cold winter month. If you were trying to predict average temperature for the next month given a few months of past data, the problem would be easy, due to the reliable year-scale periodicity\n",
    "of the data.\n",
    "\n",
    "But looking at the data over a scale of days, the temperature looks a lot more chaotic. Is this timeseries predictable at a daily scale? Let’s find out. Shown below are plots for 100 days ($2880*5$) and 200 days ($2880*10$)"
   ]
  },
  {
   "cell_type": "code",
   "execution_count": 10,
   "metadata": {
    "ExecuteTime": {
     "end_time": "2018-11-29T01:08:25.559224Z",
     "start_time": "2018-11-29T01:08:25.443281Z"
    },
    "colab": {
     "base_uri": "https://localhost:8080/",
     "height": 447
    },
    "execution": {
     "iopub.execute_input": "2025-02-08T12:02:50.667033Z",
     "iopub.status.busy": "2025-02-08T12:02:50.666419Z",
     "iopub.status.idle": "2025-02-08T12:02:50.818811Z",
     "shell.execute_reply": "2025-02-08T12:02:50.817987Z",
     "shell.execute_reply.started": "2025-02-08T12:02:50.666978Z"
    },
    "executionInfo": {
     "elapsed": 8,
     "status": "ok",
     "timestamp": 1721786980685,
     "user": {
      "displayName": "kc-aim",
      "userId": "16968997735368758960"
     },
     "user_tz": -480
    },
    "id": "BmRmYF33McfK",
    "outputId": "30cb5bbf-b4ae-437e-a166-47e691d505f0"
   },
   "outputs": [
    {
     "data": {
      "text/plain": [
       "[<matplotlib.lines.Line2D at 0x372e989a0>]"
      ]
     },
     "execution_count": 10,
     "metadata": {},
     "output_type": "execute_result"
    },
    {
     "data": {
      "image/png": "[encoded data removed]",
      "text/plain": [
       "<Figure size 640x480 with 1 Axes>"
      ]
     },
     "metadata": {},
     "output_type": "display_data"
    }
   ],
   "source": [
    "plt.plot(range(2880*5), temp[:2880*5])"
   ]
  },
  {
   "cell_type": "code",
   "execution_count": 11,
   "metadata": {
    "ExecuteTime": {
     "end_time": "2018-11-28T15:48:06.248969Z",
     "start_time": "2018-11-28T15:48:06.122103Z"
    },
    "colab": {
     "base_uri": "https://localhost:8080/",
     "height": 451
    },
    "execution": {
     "iopub.execute_input": "2025-02-08T12:02:50.820823Z",
     "iopub.status.busy": "2025-02-08T12:02:50.820596Z",
     "iopub.status.idle": "2025-02-08T12:02:50.965853Z",
     "shell.execute_reply": "2025-02-08T12:02:50.965048Z",
     "shell.execute_reply.started": "2025-02-08T12:02:50.820804Z"
    },
    "executionInfo": {
     "elapsed": 890,
     "status": "ok",
     "timestamp": 1721786981568,
     "user": {
      "displayName": "kc-aim",
      "userId": "16968997735368758960"
     },
     "user_tz": -480
    },
    "id": "x0ok6i0NMcfK",
    "outputId": "be707e16-0487-4436-b631-3429b308e570"
   },
   "outputs": [
    {
     "data": {
      "text/plain": [
       "[<matplotlib.lines.Line2D at 0x36ff14490>]"
      ]
     },
     "execution_count": 11,
     "metadata": {},
     "output_type": "execute_result"
    },
    {
     "data": {
      "image/png": "[encoded data removed]",
      "text/plain": [
       "<Figure size 640x480 with 1 Axes>"
      ]
     },
     "metadata": {},
     "output_type": "display_data"
    }
   ],
   "source": [
    "plt.plot(range(2880*10), temp[:2880*10])"
   ]
  },
  {
   "cell_type": "markdown",
   "metadata": {
    "id": "fWUJxUZQUZ-I"
   },
   "source": [
    "## Step 3. Preparing the data\n",
    "\n",
    "The exact formulation of the problem will be as follows: given data going as far back as lookback timesteps (a timestep is 10 minutes) and sampled every steps timesteps, can you predict the temperature in delay timesteps?"
   ]
  },
  {
   "cell_type": "markdown",
   "metadata": {
    "id": "wvbMwp56McfL"
   },
   "source": [
    "You’ll use the following parameter values:\n",
    "\n",
    "*  lookback = 1440—Observations will go back 10 days (10 days $\\times$ 144\n",
    "timesteps/day).   \n",
    "*  steps = 6—Observations will be sampled at one data point per hour.   \n",
    "*  delay = 144—Targets will be 24 hours in the future.   \n",
    "\n",
    "\n",
    "<img width=\"1000\" alt=\"FeedforwardNN_timeseries\" src=\"https://user-images.githubusercontent.com/25600601/144736049-ebbb847e-a47f-4eab-8556-2ac9275b46f0.png\">\n",
    "\n",
    "<img width=\"1000\" alt=\"RNNGRULSTM_timeseries\" src=\"https://user-images.githubusercontent.com/25600601/144736075-aa23f072-f388-4d20-b268-63e741e6427c.png\">\n",
    "\n",
    "\n",
    "To get started, you need to do two things: **A. Normalization** and ** B. Sampling**\n",
    "\n",
    "**A. Normalization**: Preprocess the data to a format a neural network can ingest. This is easy: the data is already numerical, so you don’t need to do any vectorization. But each time series in the data is on a different scale (for example, temperature is typically between -20 and +30 celsius, but atmospheric pressure, measured in mbar, is around 1,000). You’ll normalize each timeseries independently so that they all take small values on a similar scale.    \n",
    "\n",
    "**B. Sampling**: Write a Python generator that takes the current array of float data and yields batches of data from the recent past, along with a target temperature in the future. Because the samples in the dataset are highly redundant (sample N and sample N + 1 will have most of their timesteps in common), it would be wasteful to explicitly allocate every sample. Instead, you’ll generate the samples on the fly using the original data.   \n",
    "\n",
    "You’ll preprocess the data by subtracting the mean of each timeseries and dividing by the standard deviation.\n",
    "\n",
    "*You’re going to use the first 200,000 timesteps as training data, so compute the mean and standard deviation only on this fraction of the data.*\n"
   ]
  },
  {
   "cell_type": "markdown",
   "metadata": {
    "id": "Zld1Byw3McfM"
   },
   "source": [
    "### Step 3A. Normalize the data"
   ]
  },
  {
   "cell_type": "code",
   "execution_count": 12,
   "metadata": {
    "execution": {
     "iopub.execute_input": "2025-02-08T12:02:50.966712Z",
     "iopub.status.busy": "2025-02-08T12:02:50.966492Z",
     "iopub.status.idle": "2025-02-08T12:02:51.048550Z",
     "shell.execute_reply": "2025-02-08T12:02:51.047029Z",
     "shell.execute_reply.started": "2025-02-08T12:02:50.966692Z"
    },
    "id": "Z06XOawXXRdc"
   },
   "outputs": [],
   "source": [
    "\n",
    "# Normalize data\n",
    "mean = float_data[:200000].mean(axis=0)\n",
    "std = float_data[:200000].std(axis=0)\n",
    "normalized_data = (float_data - mean) / std"
   ]
  },
  {
   "cell_type": "markdown",
   "metadata": {
    "id": "u7wsoSG1McfM"
   },
   "source": [
    "Listed in the code below are the data generator function you’ll use. It yields a tuple (samples, targets), where samples is one batch of input data and targets is the corresponding array of target temperatures. It takes the following arguments:\n",
    "    \n",
    "* **data**—The original array of floating-point data, which you normalized above.  \n",
    "* **lookback**—How many timesteps back the input data should go.  \n",
    "* **delay**—How many timesteps in the future the target should be.  \n",
    "* **min_index** and **max_index**—Indices in the data array that delimit which timesteps to draw from. This is useful for keeping a segment of the data for validation and another for testing.  \n",
    "* **shuffle**—Whether to shuffle the samples or draw them in chronological order.  \n",
    "* **batch_size**—The number of samples per batch.  \n",
    "* **step**—The period, in timesteps, at which you sample data. You’ll set it to 6 in order to draw one data point every hour. note that the number of inputs = lookback/step  "
   ]
  },
  {
   "cell_type": "markdown",
   "metadata": {
    "id": "bbbkgBCJMcfM"
   },
   "source": [
    "### Step 3B. Sampling the data\n",
    "Generator yielding time series samples and their targets"
   ]
  },
  {
   "cell_type": "code",
   "execution_count": 13,
   "metadata": {
    "execution": {
     "iopub.execute_input": "2025-02-08T12:02:51.050200Z",
     "iopub.status.busy": "2025-02-08T12:02:51.049759Z",
     "iopub.status.idle": "2025-02-08T12:02:51.061197Z",
     "shell.execute_reply": "2025-02-08T12:02:51.060171Z",
     "shell.execute_reply.started": "2025-02-08T12:02:51.050158Z"
    },
    "id": "78j-alKsn7lm"
   },
   "outputs": [],
   "source": [
    "import torch\n",
    "import numpy as np\n",
    "from torch.utils.data import Dataset\n",
    "\n",
    "class TimeSeriesDataset(Dataset):\n",
    "    def __init__(self, data, lookback, delay, min_index, max_index, step):\n",
    "        self.data = data\n",
    "        self.lookback = lookback\n",
    "        self.delay = delay\n",
    "        self.min_index = min_index\n",
    "        self.max_index = max_index if max_index is not None else len(data) - delay - 1\n",
    "        self.step = step\n",
    "\n",
    "    def __len__(self):\n",
    "        return self.max_index - self.min_index - self.lookback + 1\n",
    "\n",
    "    def __getitem__(self, index):\n",
    "        i = self.min_index + index + self.lookback\n",
    "        indices = range(i - self.lookback, i, self.step)\n",
    "        samples = self.data[indices]\n",
    "        target = self.data[i + self.delay][1]  # second column (index 1) is the target variable\n",
    "\n",
    "        return torch.tensor(samples, dtype=torch.float32), torch.tensor(target, dtype=torch.float32)"
   ]
  },
  {
   "cell_type": "markdown",
   "metadata": {
    "id": "i0ZpxoYNMcfN"
   },
   "source": [
    "### Step 3C. Preparing the training, validation, and test generation"
   ]
  },
  {
   "cell_type": "code",
   "execution_count": 14,
   "metadata": {
    "execution": {
     "iopub.execute_input": "2025-02-08T12:02:51.062474Z",
     "iopub.status.busy": "2025-02-08T12:02:51.062122Z",
     "iopub.status.idle": "2025-02-08T12:02:51.070910Z",
     "shell.execute_reply": "2025-02-08T12:02:51.069787Z",
     "shell.execute_reply.started": "2025-02-08T12:02:51.062443Z"
    },
    "id": "oPI31VWVXRdc"
   },
   "outputs": [],
   "source": [
    "from torch.utils.data import DataLoader\n",
    "\n",
    "NUM_WORKERS = 6\n",
    "\n",
    "lookback = 1440\n",
    "step = 6\n",
    "delay = 144 * 2\n",
    "batch_size = 128\n",
    "\n",
    "train_dataset = TimeSeriesDataset(normalized_data, lookback, delay, 0, 200000, step)\n",
    "val_dataset = TimeSeriesDataset(normalized_data, lookback, delay, 200001, 300000, step)\n",
    "test_dataset = TimeSeriesDataset(normalized_data, lookback, delay, 300001, None, step)\n",
    "\n",
    "train_loader = DataLoader(train_dataset, batch_size=batch_size, shuffle=True, num_workers=NUM_WORKERS)\n",
    "val_loader = DataLoader(val_dataset, batch_size=batch_size, shuffle=False, num_workers=NUM_WORKERS)\n",
    "test_loader = DataLoader(test_dataset, batch_size=batch_size, shuffle=False, num_workers=NUM_WORKERS)"
   ]
  },
  {
   "cell_type": "markdown",
   "metadata": {
    "id": "08fo9wWHV9xn"
   },
   "source": [
    "<div class=\"alert alert-block alert-info\">\n",
    "\n",
    "## ⚠️ Sign Post ⚠️\n",
    "Run the code until here, then you can proceed to any of the next steps without issues since you have already pre-processed the data.\n",
    "</div>"
   ]
  },
  {
   "cell_type": "markdown",
   "metadata": {
    "id": "D9ODD21vRfcj"
   },
   "source": [
    "## Step 4. Understand the baseline\n",
    "Before you start using black-box deep-learning models to solve the temperatureprediction problem, let’s try a simple, common-sense approach. It will serve as a sanity check, and it will establish a baseline that you’ll have to beat in order to demonstrate the usefulness of more-advanced"
   ]
  },
  {
   "cell_type": "markdown",
   "metadata": {
    "id": "bhDlUv15McfN"
   },
   "source": [
    "### Baseline Error\n",
    "\n",
    "Common-sense baselines can be useful when you’re approaching a new problem for which there is no known solution (yet). A classic example is that of unbalanced classification tasks, where some classes are much more common than others. If your dataset contains 90% instances of class A and 10% instances of class B, then a common-sense approach to\n",
    "the classification task is to always predict “A” when presented with a new sample. Such a classifier is 90% accurate overall, and any learning-based approach should therefore beat this 90% score in order to demonstrate usefulness.\n",
    "\n",
    "Sometimes, such elementary baselines can prove surprisingly hard to beat.   \n",
    "\n",
    "In this case, the temperature timeseries can safely be assumed to be continuous (the temperatures tomorrow are likely to be close to the temperatures today) as well as periodical with a daily period. Thus a common-sense approach is to predict **that the temperature 24 hours from now will be equal to the temperature right now.**\n",
    "\n",
    "*Today is essentially the same as yesterday.*\n",
    "\n",
    "Let’s evaluate this approach, using the mean absolute error (MAE = $\\sum_{i=1}^{N} \\frac{|Theoretical_i - Actual_i|}{N} = \\sum_{i=1}^{N} \\frac{|error_i|}{N}$) metric: *np.mean(np.abs(preds - targets))*"
   ]
  },
  {
   "cell_type": "code",
   "execution_count": 15,
   "metadata": {
    "execution": {
     "iopub.execute_input": "2025-02-08T12:02:51.072129Z",
     "iopub.status.busy": "2025-02-08T12:02:51.071833Z",
     "iopub.status.idle": "2025-02-08T12:02:53.748599Z",
     "shell.execute_reply": "2025-02-08T12:02:53.747325Z",
     "shell.execute_reply.started": "2025-02-08T12:02:51.072102Z"
    },
    "id": "9BKLPMSLXRdd",
    "outputId": "7b2e03b9-af79-4e0c-a924-76569eee0126"
   },
   "outputs": [
    {
     "name": "stderr",
     "output_type": "stream",
     "text": [
      "Traceback (most recent call last):\n",
      "  File \"<string>\", line 1, in <module>\n",
      "  File \"/opt/miniconda3/envs/mltfpy39/lib/python3.9/multiprocessing/spawn.py\", line 116, in spawn_main\n",
      "    exitcode = _main(fd, parent_sentinel)\n",
      "  File \"/opt/miniconda3/envs/mltfpy39/lib/python3.9/multiprocessing/spawn.py\", line 126, in _main\n",
      "    self = reduction.pickle.load(from_parent)\n",
      "AttributeError: Can't get attribute 'TimeSeriesDataset' on <module '__main__' (built-in)>\n"
     ]
    },
    {
     "ename": "KeyboardInterrupt",
     "evalue": "",
     "output_type": "error",
     "traceback": [
      "\u001b[0;31m---------------------------------------------------------------------------\u001b[0m",
      "\u001b[0;31mKeyboardInterrupt\u001b[0m                         Traceback (most recent call last)",
      "Cell \u001b[0;32mIn[15], line 10\u001b[0m\n\u001b[1;32m      7\u001b[0m     \u001b[38;5;28;01mreturn\u001b[39;00m np\u001b[38;5;241m.\u001b[39mmean(maes)\n\u001b[1;32m      9\u001b[0m \u001b[38;5;66;03m# Evaluate\u001b[39;00m\n\u001b[0;32m---> 10\u001b[0m naive_mae \u001b[38;5;241m=\u001b[39m \u001b[43mevaluate_naive_method\u001b[49m\u001b[43m(\u001b[49m\u001b[43mval_loader\u001b[49m\u001b[43m)\u001b[49m\n\u001b[1;32m     11\u001b[0m \u001b[38;5;28mprint\u001b[39m(\u001b[38;5;124mf\u001b[39m\u001b[38;5;124m\"\u001b[39m\u001b[38;5;124mNaive method MAE on validation set: \u001b[39m\u001b[38;5;132;01m{\u001b[39;00mnaive_mae\u001b[38;5;132;01m}\u001b[39;00m\u001b[38;5;124m\"\u001b[39m)\n",
      "Cell \u001b[0;32mIn[15], line 3\u001b[0m, in \u001b[0;36mevaluate_naive_method\u001b[0;34m(loader)\u001b[0m\n\u001b[1;32m      1\u001b[0m \u001b[38;5;28;01mdef\u001b[39;00m\u001b[38;5;250m \u001b[39m\u001b[38;5;21mevaluate_naive_method\u001b[39m(loader):\n\u001b[1;32m      2\u001b[0m     maes \u001b[38;5;241m=\u001b[39m []\n\u001b[0;32m----> 3\u001b[0m     \u001b[38;5;28;01mfor\u001b[39;00m samples, targets \u001b[38;5;129;01min\u001b[39;00m loader:\n\u001b[1;32m      4\u001b[0m         preds \u001b[38;5;241m=\u001b[39m samples[:, \u001b[38;5;241m-\u001b[39m\u001b[38;5;241m1\u001b[39m, \u001b[38;5;241m1\u001b[39m]  \u001b[38;5;66;03m# last time step's temperature as prediction\u001b[39;00m\n\u001b[1;32m      5\u001b[0m         mae \u001b[38;5;241m=\u001b[39m torch\u001b[38;5;241m.\u001b[39mmean(torch\u001b[38;5;241m.\u001b[39mabs(preds \u001b[38;5;241m-\u001b[39m targets))\n",
      "File \u001b[0;32m/opt/miniconda3/envs/mltfpy39/lib/python3.9/site-packages/torch/utils/data/dataloader.py:493\u001b[0m, in \u001b[0;36mDataLoader.__iter__\u001b[0;34m(self)\u001b[0m\n\u001b[1;32m    491\u001b[0m     \u001b[38;5;28;01mreturn\u001b[39;00m \u001b[38;5;28mself\u001b[39m\u001b[38;5;241m.\u001b[39m_iterator\n\u001b[1;32m    492\u001b[0m \u001b[38;5;28;01melse\u001b[39;00m:\n\u001b[0;32m--> 493\u001b[0m     \u001b[38;5;28;01mreturn\u001b[39;00m \u001b[38;5;28;43mself\u001b[39;49m\u001b[38;5;241;43m.\u001b[39;49m\u001b[43m_get_iterator\u001b[49m\u001b[43m(\u001b[49m\u001b[43m)\u001b[49m\n",
      "File \u001b[0;32m/opt/miniconda3/envs/mltfpy39/lib/python3.9/site-packages/torch/utils/data/dataloader.py:424\u001b[0m, in \u001b[0;36mDataLoader._get_iterator\u001b[0;34m(self)\u001b[0m\n\u001b[1;32m    422\u001b[0m \u001b[38;5;28;01melse\u001b[39;00m:\n\u001b[1;32m    423\u001b[0m     \u001b[38;5;28mself\u001b[39m\u001b[38;5;241m.\u001b[39mcheck_worker_number_rationality()\n\u001b[0;32m--> 424\u001b[0m     \u001b[38;5;28;01mreturn\u001b[39;00m \u001b[43m_MultiProcessingDataLoaderIter\u001b[49m\u001b[43m(\u001b[49m\u001b[38;5;28;43mself\u001b[39;49m\u001b[43m)\u001b[49m\n",
      "File \u001b[0;32m/opt/miniconda3/envs/mltfpy39/lib/python3.9/site-packages/torch/utils/data/dataloader.py:1171\u001b[0m, in \u001b[0;36m_MultiProcessingDataLoaderIter.__init__\u001b[0;34m(self, loader)\u001b[0m\n\u001b[1;32m   1164\u001b[0m w\u001b[38;5;241m.\u001b[39mdaemon \u001b[38;5;241m=\u001b[39m \u001b[38;5;28;01mTrue\u001b[39;00m\n\u001b[1;32m   1165\u001b[0m \u001b[38;5;66;03m# NB: Process.start() actually take some time as it needs to\u001b[39;00m\n\u001b[1;32m   1166\u001b[0m \u001b[38;5;66;03m#     start a process and pass the arguments over via a pipe.\u001b[39;00m\n\u001b[1;32m   1167\u001b[0m \u001b[38;5;66;03m#     Therefore, we only add a worker to self._workers list after\u001b[39;00m\n\u001b[1;32m   1168\u001b[0m \u001b[38;5;66;03m#     it started, so that we do not call .join() if program dies\u001b[39;00m\n\u001b[1;32m   1169\u001b[0m \u001b[38;5;66;03m#     before it starts, and __del__ tries to join but will get:\u001b[39;00m\n\u001b[1;32m   1170\u001b[0m \u001b[38;5;66;03m#     AssertionError: can only join a started process.\u001b[39;00m\n\u001b[0;32m-> 1171\u001b[0m \u001b[43mw\u001b[49m\u001b[38;5;241;43m.\u001b[39;49m\u001b[43mstart\u001b[49m\u001b[43m(\u001b[49m\u001b[43m)\u001b[49m\n\u001b[1;32m   1172\u001b[0m \u001b[38;5;28mself\u001b[39m\u001b[38;5;241m.\u001b[39m_index_queues\u001b[38;5;241m.\u001b[39mappend(index_queue)\n\u001b[1;32m   1173\u001b[0m \u001b[38;5;28mself\u001b[39m\u001b[38;5;241m.\u001b[39m_workers\u001b[38;5;241m.\u001b[39mappend(w)\n",
      "File \u001b[0;32m/opt/miniconda3/envs/mltfpy39/lib/python3.9/multiprocessing/process.py:121\u001b[0m, in \u001b[0;36mBaseProcess.start\u001b[0;34m(self)\u001b[0m\n\u001b[1;32m    118\u001b[0m \u001b[38;5;28;01massert\u001b[39;00m \u001b[38;5;129;01mnot\u001b[39;00m _current_process\u001b[38;5;241m.\u001b[39m_config\u001b[38;5;241m.\u001b[39mget(\u001b[38;5;124m'\u001b[39m\u001b[38;5;124mdaemon\u001b[39m\u001b[38;5;124m'\u001b[39m), \\\n\u001b[1;32m    119\u001b[0m        \u001b[38;5;124m'\u001b[39m\u001b[38;5;124mdaemonic processes are not allowed to have children\u001b[39m\u001b[38;5;124m'\u001b[39m\n\u001b[1;32m    120\u001b[0m _cleanup()\n\u001b[0;32m--> 121\u001b[0m \u001b[38;5;28mself\u001b[39m\u001b[38;5;241m.\u001b[39m_popen \u001b[38;5;241m=\u001b[39m \u001b[38;5;28;43mself\u001b[39;49m\u001b[38;5;241;43m.\u001b[39;49m\u001b[43m_Popen\u001b[49m\u001b[43m(\u001b[49m\u001b[38;5;28;43mself\u001b[39;49m\u001b[43m)\u001b[49m\n\u001b[1;32m    122\u001b[0m \u001b[38;5;28mself\u001b[39m\u001b[38;5;241m.\u001b[39m_sentinel \u001b[38;5;241m=\u001b[39m \u001b[38;5;28mself\u001b[39m\u001b[38;5;241m.\u001b[39m_popen\u001b[38;5;241m.\u001b[39msentinel\n\u001b[1;32m    123\u001b[0m \u001b[38;5;66;03m# Avoid a refcycle if the target function holds an indirect\u001b[39;00m\n\u001b[1;32m    124\u001b[0m \u001b[38;5;66;03m# reference to the process object (see bpo-30775)\u001b[39;00m\n",
      "File \u001b[0;32m/opt/miniconda3/envs/mltfpy39/lib/python3.9/multiprocessing/context.py:224\u001b[0m, in \u001b[0;36mProcess._Popen\u001b[0;34m(process_obj)\u001b[0m\n\u001b[1;32m    222\u001b[0m \u001b[38;5;129m@staticmethod\u001b[39m\n\u001b[1;32m    223\u001b[0m \u001b[38;5;28;01mdef\u001b[39;00m\u001b[38;5;250m \u001b[39m\u001b[38;5;21m_Popen\u001b[39m(process_obj):\n\u001b[0;32m--> 224\u001b[0m     \u001b[38;5;28;01mreturn\u001b[39;00m \u001b[43m_default_context\u001b[49m\u001b[38;5;241;43m.\u001b[39;49m\u001b[43mget_context\u001b[49m\u001b[43m(\u001b[49m\u001b[43m)\u001b[49m\u001b[38;5;241;43m.\u001b[39;49m\u001b[43mProcess\u001b[49m\u001b[38;5;241;43m.\u001b[39;49m\u001b[43m_Popen\u001b[49m\u001b[43m(\u001b[49m\u001b[43mprocess_obj\u001b[49m\u001b[43m)\u001b[49m\n",
      "File \u001b[0;32m/opt/miniconda3/envs/mltfpy39/lib/python3.9/multiprocessing/context.py:284\u001b[0m, in \u001b[0;36mSpawnProcess._Popen\u001b[0;34m(process_obj)\u001b[0m\n\u001b[1;32m    281\u001b[0m \u001b[38;5;129m@staticmethod\u001b[39m\n\u001b[1;32m    282\u001b[0m \u001b[38;5;28;01mdef\u001b[39;00m\u001b[38;5;250m \u001b[39m\u001b[38;5;21m_Popen\u001b[39m(process_obj):\n\u001b[1;32m    283\u001b[0m     \u001b[38;5;28;01mfrom\u001b[39;00m\u001b[38;5;250m \u001b[39m\u001b[38;5;21;01m.\u001b[39;00m\u001b[38;5;21;01mpopen_spawn_posix\u001b[39;00m\u001b[38;5;250m \u001b[39m\u001b[38;5;28;01mimport\u001b[39;00m Popen\n\u001b[0;32m--> 284\u001b[0m     \u001b[38;5;28;01mreturn\u001b[39;00m \u001b[43mPopen\u001b[49m\u001b[43m(\u001b[49m\u001b[43mprocess_obj\u001b[49m\u001b[43m)\u001b[49m\n",
      "File \u001b[0;32m/opt/miniconda3/envs/mltfpy39/lib/python3.9/multiprocessing/popen_spawn_posix.py:32\u001b[0m, in \u001b[0;36mPopen.__init__\u001b[0;34m(self, process_obj)\u001b[0m\n\u001b[1;32m     30\u001b[0m \u001b[38;5;28;01mdef\u001b[39;00m\u001b[38;5;250m \u001b[39m\u001b[38;5;21m__init__\u001b[39m(\u001b[38;5;28mself\u001b[39m, process_obj):\n\u001b[1;32m     31\u001b[0m     \u001b[38;5;28mself\u001b[39m\u001b[38;5;241m.\u001b[39m_fds \u001b[38;5;241m=\u001b[39m []\n\u001b[0;32m---> 32\u001b[0m     \u001b[38;5;28;43msuper\u001b[39;49m\u001b[43m(\u001b[49m\u001b[43m)\u001b[49m\u001b[38;5;241;43m.\u001b[39;49m\u001b[38;5;21;43m__init__\u001b[39;49m\u001b[43m(\u001b[49m\u001b[43mprocess_obj\u001b[49m\u001b[43m)\u001b[49m\n",
      "File \u001b[0;32m/opt/miniconda3/envs/mltfpy39/lib/python3.9/multiprocessing/popen_fork.py:19\u001b[0m, in \u001b[0;36mPopen.__init__\u001b[0;34m(self, process_obj)\u001b[0m\n\u001b[1;32m     17\u001b[0m \u001b[38;5;28mself\u001b[39m\u001b[38;5;241m.\u001b[39mreturncode \u001b[38;5;241m=\u001b[39m \u001b[38;5;28;01mNone\u001b[39;00m\n\u001b[1;32m     18\u001b[0m \u001b[38;5;28mself\u001b[39m\u001b[38;5;241m.\u001b[39mfinalizer \u001b[38;5;241m=\u001b[39m \u001b[38;5;28;01mNone\u001b[39;00m\n\u001b[0;32m---> 19\u001b[0m \u001b[38;5;28;43mself\u001b[39;49m\u001b[38;5;241;43m.\u001b[39;49m\u001b[43m_launch\u001b[49m\u001b[43m(\u001b[49m\u001b[43mprocess_obj\u001b[49m\u001b[43m)\u001b[49m\n",
      "File \u001b[0;32m/opt/miniconda3/envs/mltfpy39/lib/python3.9/multiprocessing/popen_spawn_posix.py:62\u001b[0m, in \u001b[0;36mPopen._launch\u001b[0;34m(self, process_obj)\u001b[0m\n\u001b[1;32m     60\u001b[0m     \u001b[38;5;28mself\u001b[39m\u001b[38;5;241m.\u001b[39msentinel \u001b[38;5;241m=\u001b[39m parent_r\n\u001b[1;32m     61\u001b[0m     \u001b[38;5;28;01mwith\u001b[39;00m \u001b[38;5;28mopen\u001b[39m(parent_w, \u001b[38;5;124m'\u001b[39m\u001b[38;5;124mwb\u001b[39m\u001b[38;5;124m'\u001b[39m, closefd\u001b[38;5;241m=\u001b[39m\u001b[38;5;28;01mFalse\u001b[39;00m) \u001b[38;5;28;01mas\u001b[39;00m f:\n\u001b[0;32m---> 62\u001b[0m         \u001b[43mf\u001b[49m\u001b[38;5;241;43m.\u001b[39;49m\u001b[43mwrite\u001b[49m\u001b[43m(\u001b[49m\u001b[43mfp\u001b[49m\u001b[38;5;241;43m.\u001b[39;49m\u001b[43mgetbuffer\u001b[49m\u001b[43m(\u001b[49m\u001b[43m)\u001b[49m\u001b[43m)\u001b[49m\n\u001b[1;32m     63\u001b[0m \u001b[38;5;28;01mfinally\u001b[39;00m:\n\u001b[1;32m     64\u001b[0m     fds_to_close \u001b[38;5;241m=\u001b[39m []\n",
      "\u001b[0;31mKeyboardInterrupt\u001b[0m: "
     ]
    }
   ],
   "source": [
    "def evaluate_naive_method(loader):\n",
    "    maes = []\n",
    "    for samples, targets in loader:\n",
    "        preds = samples[:, -1, 1]  # last time step's temperature as prediction\n",
    "        mae = torch.mean(torch.abs(preds - targets))\n",
    "        maes.append(mae.item())\n",
    "    return np.mean(maes)\n",
    "\n",
    "# Evaluate\n",
    "naive_mae = evaluate_naive_method(val_loader)\n",
    "print(f\"Naive method MAE on validation set: {naive_mae}\")"
   ]
  },
  {
   "cell_type": "code",
   "execution_count": null,
   "metadata": {
    "execution": {
     "iopub.execute_input": "2025-02-08T12:02:53.750927Z",
     "iopub.status.busy": "2025-02-08T12:02:53.750391Z",
     "iopub.status.idle": "2025-02-08T12:02:53.758102Z",
     "shell.execute_reply": "2025-02-08T12:02:53.757067Z",
     "shell.execute_reply.started": "2025-02-08T12:02:53.750872Z"
    },
    "id": "Zx46Whq3XRde",
    "outputId": "62922101-2895-4fc3-9365-6d88d015c58d"
   },
   "outputs": [
    {
     "name": "stdout",
     "output_type": "stream",
     "text": [
      "Celcius MAE on val: 3.282520095215499\n"
     ]
    }
   ],
   "source": [
    "print(f'Celcius MAE on val: {naive_mae * std[1]}')"
   ]
  },
  {
   "cell_type": "markdown",
   "metadata": {
    "id": "HuQHxio5McfR"
   },
   "source": [
    "Because the temperature data has been normalized to be centered on 0 and have a standard deviation of 1, this number isn’t immediately interpretable. It translates to an average absolute error of MAE × temperature_std degrees Celsius: 3.3-3.6°C."
   ]
  },
  {
   "cell_type": "markdown",
   "metadata": {
    "id": "7NveskAKMcfS"
   },
   "source": [
    "That’s a fairly large average absolute error. Now the game is to use your knowledge of\n",
    "deep learning to do better."
   ]
  },
  {
   "cell_type": "markdown",
   "metadata": {
    "id": "GQohquX7McfS"
   },
   "source": [
    "## Step 5. Model 1: Feedforward Neural Networks\n",
    "In the same way that it’s useful to establish a common-sense baseline before trying machine-learning approaches, it’s useful to try simple, cheap machine-learning models (such as small, densely connected networks) before looking into complicated and computationally expensive models such as RNNs. This is the best way to make sure any\n",
    "further complexity you throw at the problem is legitimate and delivers real benefits. The following listing shows a fully connected model that starts by flattening the data and then runs it through two Dense layers. Note the lack of activation function on the last Dense layer, which is typical for a regression problem. You use MAE as the loss.\n",
    "\n",
    "Because you evaluate on the exact same data and with the exact same metric you did with the common-sense approach, the results will be directly comparable."
   ]
  },
  {
   "cell_type": "code",
   "execution_count": 16,
   "metadata": {
    "execution": {
     "iopub.execute_input": "2025-02-08T12:02:53.759569Z",
     "iopub.status.busy": "2025-02-08T12:02:53.759175Z",
     "iopub.status.idle": "2025-02-08T12:02:53.775480Z",
     "shell.execute_reply": "2025-02-08T12:02:53.774451Z",
     "shell.execute_reply.started": "2025-02-08T12:02:53.759534Z"
    },
    "id": "N_5ABCK2XRdv",
    "outputId": "93171248-9d1e-4ce7-fae0-008ea40ff31c"
   },
   "outputs": [
    {
     "name": "stdout",
     "output_type": "stream",
     "text": [
      "Net(\n",
      "  (flatten): Flatten(start_dim=1, end_dim=-1)\n",
      "  (fc1): Linear(in_features=3360, out_features=32, bias=True)\n",
      "  (relu): ReLU()\n",
      "  (fc2): Linear(in_features=32, out_features=1, bias=True)\n",
      ")\n"
     ]
    }
   ],
   "source": [
    "import torch\n",
    "import torch.nn as nn\n",
    "import torch.optim as optim\n",
    "from torch.utils.data import DataLoader\n",
    "\n",
    "class Net(nn.Module):\n",
    "    def __init__(self, input_shape):\n",
    "        super(Net, self).__init__()\n",
    "        self.flatten = nn.Flatten()\n",
    "        self.fc1 = nn.Linear(input_shape[0] * input_shape[1], 32)\n",
    "        self.relu = nn.ReLU()\n",
    "        self.fc2 = nn.Linear(32, 1)\n",
    "\n",
    "    def forward(self, x):\n",
    "        x = self.flatten(x)\n",
    "        x = self.fc1(x)\n",
    "        x = self.relu(x)\n",
    "        x = self.fc2(x)\n",
    "        return x\n",
    "\n",
    "# Determine input shape based on your data structure\n",
    "input_shape = (lookback // step, float_data.shape[-1])\n",
    "model = Net(input_shape)\n",
    "\n",
    "# Print model architecture\n",
    "print(model)"
   ]
  },
  {
   "cell_type": "code",
   "execution_count": 17,
   "metadata": {
    "execution": {
     "iopub.execute_input": "2025-02-08T12:02:53.776953Z",
     "iopub.status.busy": "2025-02-08T12:02:53.776597Z",
     "iopub.status.idle": "2025-02-08T12:02:54.083892Z",
     "shell.execute_reply": "2025-02-08T12:02:54.083071Z",
     "shell.execute_reply.started": "2025-02-08T12:02:53.776920Z"
    },
    "id": "tkBVrjWaXRdv",
    "outputId": "52628cb4-3782-419b-9c59-2c2e608263fc"
   },
   "outputs": [
    {
     "data": {
      "text/plain": [
       "==========================================================================================\n",
       "Layer (type:depth-idx)                   Output Shape              Param #\n",
       "==========================================================================================\n",
       "Net                                      [1, 1]                    --\n",
       "├─Flatten: 1-1                           [1, 3360]                 --\n",
       "├─Linear: 1-2                            [1, 32]                   107,552\n",
       "├─ReLU: 1-3                              [1, 32]                   --\n",
       "├─Linear: 1-4                            [1, 1]                    33\n",
       "==========================================================================================\n",
       "Total params: 107,585\n",
       "Trainable params: 107,585\n",
       "Non-trainable params: 0\n",
       "Total mult-adds (M): 0.11\n",
       "==========================================================================================\n",
       "Input size (MB): 0.01\n",
       "Forward/backward pass size (MB): 0.00\n",
       "Params size (MB): 0.43\n",
       "Estimated Total Size (MB): 0.44\n",
       "=========================================================================================="
      ]
     },
     "execution_count": 17,
     "metadata": {},
     "output_type": "execute_result"
    }
   ],
   "source": [
    "from torchinfo import summary\n",
    "device = torch.device(\"cuda\" if torch.cuda.is_available() else \"cpu\")\n",
    "summary(model, input_size=(1, input_shape[0], input_shape[1]), device=device)"
   ]
  },
  {
   "cell_type": "code",
   "execution_count": null,
   "metadata": {
    "execution": {
     "iopub.execute_input": "2025-02-08T12:02:54.084940Z",
     "iopub.status.busy": "2025-02-08T12:02:54.084692Z",
     "iopub.status.idle": "2025-02-08T12:06:36.845336Z",
     "shell.execute_reply": "2025-02-08T12:06:36.844344Z",
     "shell.execute_reply.started": "2025-02-08T12:02:54.084919Z"
    },
    "id": "38JjJQ0lXRdv",
    "outputId": "4463bf1a-5c48-4e53-fdc0-a48518a0c482"
   },
   "outputs": [
    {
     "name": "stdout",
     "output_type": "stream",
     "text": [
      "cpu\n"
     ]
    },
    {
     "name": "stderr",
     "output_type": "stream",
     "text": [
      "Traceback (most recent call last):\n",
      "  File \"<string>\", line 1, in <module>\n",
      "  File \"/opt/miniconda3/envs/mltfpy39/lib/python3.9/multiprocessing/spawn.py\", line 116, in spawn_main\n",
      "    exitcode = _main(fd, parent_sentinel)\n",
      "  File \"/opt/miniconda3/envs/mltfpy39/lib/python3.9/multiprocessing/spawn.py\", line 126, in _main\n",
      "    self = reduction.pickle.load(from_parent)\n",
      "AttributeError: Can't get attribute 'TimeSeriesDataset' on <module '__main__' (built-in)>\n"
     ]
    }
   ],
   "source": [
    "# Transfer to GPU if available\n",
    "device = torch.device(\"cuda\" if torch.cuda.is_available() else \"cpu\")\n",
    "model = model.to(device)\n",
    "print(device)\n",
    "\n",
    "# Loss and optimizer\n",
    "criterion = nn.L1Loss()  # MAE in PyTorch\n",
    "optimizer = optim.RMSprop(model.parameters())\n",
    "\n",
    "# We'll use these lists to store loss history\n",
    "train_losses = []\n",
    "val_losses = []\n",
    "\n",
    "# Training loop\n",
    "def train_model(model, train_loader, val_loader, epochs):\n",
    "\n",
    "    for epoch in range(epochs):\n",
    "        model.train()\n",
    "        train_loss = 0.0\n",
    "        for inputs, targets in train_loader:\n",
    "            optimizer.zero_grad()\n",
    "            outputs = model(inputs.to(device))\n",
    "            loss = criterion(outputs, targets.to(device))  # Ensure target matches output shape\n",
    "            loss.backward()\n",
    "            optimizer.step()\n",
    "            train_loss += loss.item()\n",
    "\n",
    "        # Average loss for this epoch\n",
    "        train_loss /= len(train_loader)\n",
    "        train_losses.append(train_loss)  # Store the average loss for plotting\n",
    "\n",
    "        # Validation\n",
    "        model.eval()\n",
    "        val_loss = 0.0\n",
    "        with torch.no_grad():\n",
    "            for inputs, targets in val_loader:\n",
    "                outputs = model(inputs.to(device))\n",
    "                loss = criterion(outputs, targets.to(device))\n",
    "                val_loss += loss.item()\n",
    "\n",
    "        # Average validation loss for this epoch\n",
    "        val_loss /= len(val_loader)\n",
    "        val_losses.append(val_loss)  # Store the average validation loss for plotting\n",
    "\n",
    "        # Print statistics\n",
    "        print(f'Epoch {epoch+1}/{epochs}, Train Loss: {train_loss:.4f}, Val Loss: {val_loss:.4f}')\n",
    "\n",
    "# Train the model\n",
    "train_model(model, train_loader, val_loader, epochs=20)"
   ]
  },
  {
   "cell_type": "markdown",
   "metadata": {
    "id": "BmQ-8ugCMcfT"
   },
   "source": [
    "Let’s display the loss curves for validation and training."
   ]
  },
  {
   "cell_type": "code",
   "execution_count": null,
   "metadata": {
    "ExecuteTime": {
     "end_time": "2018-11-28T12:27:47.875246Z",
     "start_time": "2018-11-28T12:27:47.756660Z"
    },
    "colab": {
     "base_uri": "https://localhost:8080/",
     "height": 452
    },
    "execution": {
     "iopub.execute_input": "2025-02-08T12:06:36.847482Z",
     "iopub.status.busy": "2025-02-08T12:06:36.846494Z",
     "iopub.status.idle": "2025-02-08T12:06:37.001568Z",
     "shell.execute_reply": "2025-02-08T12:06:37.000133Z",
     "shell.execute_reply.started": "2025-02-08T12:06:36.847450Z"
    },
    "executionInfo": {
     "elapsed": 29,
     "status": "ok",
     "timestamp": 1721787751766,
     "user": {
      "displayName": "kc-aim",
      "userId": "16968997735368758960"
     },
     "user_tz": -480
    },
    "id": "ys2xsjxtMcfT",
    "outputId": "f5c44c31-faa9-430f-b224-972d64d90aff"
   },
   "outputs": [
    {
     "data": {
      "image/png": "[encoded data removed]",
      "text/plain": [
       "<Figure size 640x480 with 1 Axes>"
      ]
     },
     "metadata": {},
     "output_type": "display_data"
    }
   ],
   "source": [
    "import matplotlib.pyplot as plt\n",
    "\n",
    "max_loss_threshold = 2\n",
    "\n",
    "# Clip the losses to this threshold\n",
    "clipped_train_losses = np.clip(train_losses, None, max_loss_threshold)\n",
    "clipped_val_losses = np.clip(val_losses, None, max_loss_threshold)\n",
    "\n",
    "# Plotting the loss curves\n",
    "epochs = range(1, len(train_losses) + 1)\n",
    "\n",
    "plt.figure()\n",
    "\n",
    "plt.plot(epochs, clipped_train_losses, 'r', label='Training loss')\n",
    "plt.plot(epochs, clipped_val_losses, 'b', label='Validation loss')\n",
    "plt.title('Training and validation loss')\n",
    "plt.xlabel('Epoch')\n",
    "plt.ylabel('Loss')\n",
    "plt.legend()\n",
    "\n",
    "plt.show()"
   ]
  },
  {
   "cell_type": "markdown",
   "metadata": {
    "id": "nDt4E2SJMcfU"
   },
   "source": [
    "## Step 6. Model 2: LSTM\n",
    "We now test the LSTM model we learned in Notebook 2A."
   ]
  },
  {
   "cell_type": "code",
   "execution_count": null,
   "metadata": {
    "execution": {
     "iopub.execute_input": "2025-02-08T12:14:23.274775Z",
     "iopub.status.busy": "2025-02-08T12:14:23.273996Z",
     "iopub.status.idle": "2025-02-08T12:14:23.294031Z",
     "shell.execute_reply": "2025-02-08T12:14:23.292364Z",
     "shell.execute_reply.started": "2025-02-08T12:14:23.274713Z"
    },
    "id": "QQHpRYjLXRdw",
    "outputId": "9297d88e-328b-44cb-dc79-b4576d6f4841"
   },
   "outputs": [
    {
     "name": "stdout",
     "output_type": "stream",
     "text": [
      "LSTMModel(\n",
      "  (lstm): LSTM(14, 32, batch_first=True)\n",
      "  (dense): Linear(in_features=32, out_features=1, bias=True)\n",
      ")\n",
      "Total parameters: 6177\n"
     ]
    }
   ],
   "source": [
    "class LSTMModel(nn.Module):\n",
    "    def __init__(self, input_size):\n",
    "        super(LSTMModel, self).__init__()\n",
    "        # LSTM Layer:\n",
    "        # - 32 units, as in the Keras model\n",
    "        # - input_size is the number of features\n",
    "        self.lstm = nn.LSTM(input_size, 32, batch_first=True)\n",
    "        # Dense Layer:\n",
    "        # - 32 (from LSTM) to 1 output (since we're predicting one value)\n",
    "        self.dense = nn.Linear(32, 1)\n",
    "\n",
    "    def forward(self, x):\n",
    "        # LSTM expects input of shape (batch_size, sequence_length, features)\n",
    "        lstm_out, _ = self.lstm(x)\n",
    "        # We only care about the last output of LSTM for prediction\n",
    "        # Assuming variable length sequences, we take the last output from each batch\n",
    "        if x.dim() == 3:  # (batch, seq, feature)\n",
    "            lstm_out = lstm_out[:, -1, :]  # Take last time step\n",
    "        else:  # If not batched\n",
    "            lstm_out = lstm_out[-1, :]  # Take last time step\n",
    "\n",
    "        # Pass through dense layer\n",
    "        output = self.dense(lstm_out)\n",
    "        return output\n",
    "\n",
    "# Define the model with the right input size\n",
    "input_size = 14  # Number of features in your data\n",
    "model = LSTMModel(input_size)\n",
    "\n",
    "# Print model summary\n",
    "print(model)\n",
    "\n",
    "# If you want to see the number of parameters:\n",
    "total_params = sum(p.numel() for p in model.parameters())\n",
    "print(f\"Total parameters: {total_params}\")"
   ]
  },
  {
   "cell_type": "code",
   "execution_count": null,
   "metadata": {
    "execution": {
     "iopub.execute_input": "2025-02-08T12:14:32.430278Z",
     "iopub.status.busy": "2025-02-08T12:14:32.428437Z",
     "iopub.status.idle": "2025-02-08T12:21:23.798124Z",
     "shell.execute_reply": "2025-02-08T12:21:23.796206Z",
     "shell.execute_reply.started": "2025-02-08T12:14:32.430211Z"
    },
    "id": "mftDO_VEXRdw",
    "outputId": "4eb5a025-37c1-43b4-c925-e88691301356"
   },
   "outputs": [
    {
     "name": "stdout",
     "output_type": "stream",
     "text": [
      "cuda\n",
      "Epoch 1/20, Train Loss: 0.3442, Val Loss: 0.3724\n",
      "Epoch 2/20, Train Loss: 0.2858, Val Loss: 0.3848\n",
      "Epoch 3/20, Train Loss: 0.2568, Val Loss: 0.3789\n",
      "Epoch 4/20, Train Loss: 0.2513, Val Loss: 0.3964\n",
      "Epoch 5/20, Train Loss: 0.2365, Val Loss: 0.4015\n",
      "Epoch 6/20, Train Loss: 0.2330, Val Loss: 0.3952\n",
      "Epoch 7/20, Train Loss: 0.2313, Val Loss: 0.4154\n",
      "Epoch 8/20, Train Loss: 0.2284, Val Loss: 0.4124\n",
      "Epoch 9/20, Train Loss: 0.2867, Val Loss: 0.3814\n",
      "Epoch 10/20, Train Loss: 0.3191, Val Loss: 0.3690\n",
      "Epoch 11/20, Train Loss: 0.2977, Val Loss: 0.3924\n",
      "Epoch 12/20, Train Loss: 0.3143, Val Loss: 0.3768\n",
      "Epoch 13/20, Train Loss: 0.3958, Val Loss: 0.3826\n",
      "Epoch 14/20, Train Loss: 0.4137, Val Loss: 0.3928\n",
      "Epoch 15/20, Train Loss: 0.4234, Val Loss: 0.4002\n",
      "Epoch 16/20, Train Loss: 0.4168, Val Loss: 0.3938\n",
      "Epoch 17/20, Train Loss: 0.4266, Val Loss: 0.4039\n",
      "Epoch 18/20, Train Loss: 0.4279, Val Loss: 0.4083\n",
      "Epoch 19/20, Train Loss: 0.4285, Val Loss: 0.4073\n",
      "Epoch 20/20, Train Loss: 0.4308, Val Loss: 0.4038\n"
     ]
    }
   ],
   "source": [
    "# Transfer to GPU if available\n",
    "device = torch.device(\"cuda\" if torch.cuda.is_available() else \"cpu\")\n",
    "model = model.to(device)\n",
    "print(device)\n",
    "\n",
    "# Loss and optimizer\n",
    "criterion = nn.L1Loss()  # MAE in PyTorch\n",
    "optimizer = optim.RMSprop(model.parameters())\n",
    "\n",
    "# We'll use these lists to store loss history\n",
    "train_losses = []\n",
    "val_losses = []\n",
    "\n",
    "# Training loop\n",
    "def train_model(model, train_loader, val_loader, epochs):\n",
    "\n",
    "    for epoch in range(epochs):\n",
    "        model.train()\n",
    "        train_loss = 0.0\n",
    "        for inputs, targets in train_loader:\n",
    "            optimizer.zero_grad()\n",
    "            outputs = model(inputs.to(device))\n",
    "            loss = criterion(outputs, targets.unsqueeze(1).to(device))  # Ensure target matches output shape\n",
    "            loss.backward()\n",
    "            optimizer.step()\n",
    "            train_loss += loss.item()\n",
    "\n",
    "        # Average loss for this epoch\n",
    "        train_loss /= len(train_loader)\n",
    "        train_losses.append(train_loss)  # Store the average loss for plotting\n",
    "\n",
    "        # Validation\n",
    "        model.eval()\n",
    "        val_loss = 0.0\n",
    "        with torch.no_grad():\n",
    "            for inputs, targets in val_loader:\n",
    "                outputs = model(inputs.to(device))\n",
    "                loss = criterion(outputs, targets.unsqueeze(1).to(device))\n",
    "                val_loss += loss.item()\n",
    "\n",
    "        # Average validation loss for this epoch\n",
    "        val_loss /= len(val_loader)\n",
    "        val_losses.append(val_loss)  # Store the average validation loss for plotting\n",
    "\n",
    "        # Print statistics\n",
    "        print(f'Epoch {epoch+1}/{epochs}, Train Loss: {train_loss:.4f}, Val Loss: {val_loss:.4f}')\n",
    "\n",
    "# Train the model\n",
    "train_model(model, train_loader, val_loader, epochs=20)"
   ]
  },
  {
   "cell_type": "markdown",
   "metadata": {
    "id": "S33E3yfFXRdw"
   },
   "source": [
    "Let’s display the loss curves for validation and training."
   ]
  },
  {
   "cell_type": "code",
   "execution_count": null,
   "metadata": {
    "ExecuteTime": {
     "end_time": "2018-11-28T12:27:47.875246Z",
     "start_time": "2018-11-28T12:27:47.756660Z"
    },
    "colab": {
     "base_uri": "https://localhost:8080/",
     "height": 452
    },
    "execution": {
     "iopub.execute_input": "2025-02-08T12:21:23.801075Z",
     "iopub.status.busy": "2025-02-08T12:21:23.800610Z",
     "iopub.status.idle": "2025-02-08T12:21:23.970364Z",
     "shell.execute_reply": "2025-02-08T12:21:23.968790Z",
     "shell.execute_reply.started": "2025-02-08T12:21:23.801029Z"
    },
    "executionInfo": {
     "elapsed": 29,
     "status": "ok",
     "timestamp": 1721787751766,
     "user": {
      "displayName": "kc-aim",
      "userId": "16968997735368758960"
     },
     "user_tz": -480
    },
    "id": "EMn3N5ExXRdw",
    "outputId": "f5c44c31-faa9-430f-b224-972d64d90aff"
   },
   "outputs": [
    {
     "data": {
      "image/png": "[encoded data removed]",
      "text/plain": [
       "<Figure size 640x480 with 1 Axes>"
      ]
     },
     "metadata": {},
     "output_type": "display_data"
    }
   ],
   "source": [
    "import matplotlib.pyplot as plt\n",
    "\n",
    "max_loss_threshold = 2\n",
    "\n",
    "# Clip the losses to this threshold\n",
    "clipped_train_losses = np.clip(train_losses, None, max_loss_threshold)\n",
    "clipped_val_losses = np.clip(val_losses, None, max_loss_threshold)\n",
    "\n",
    "# Plotting the loss curves\n",
    "epochs = range(1, len(train_losses) + 1)\n",
    "\n",
    "plt.figure()\n",
    "\n",
    "plt.plot(epochs, clipped_train_losses, 'r', label='Training loss')\n",
    "plt.plot(epochs, clipped_val_losses, 'b', label='Validation loss')\n",
    "plt.title('Training and validation loss')\n",
    "plt.xlabel('Epoch')\n",
    "plt.ylabel('Loss')\n",
    "plt.legend()\n",
    "\n",
    "plt.show()"
   ]
  },
  {
   "cell_type": "markdown",
   "metadata": {
    "id": "NPrs5RW5bQaM"
   },
   "source": [
    "## Step 7. Recurrent dropout to fight overfitting\n",
    "It’s evident from the training and validation curves that the model is overfitting: the training and validation losses start to diverge considerably after a few epochs."
   ]
  },
  {
   "cell_type": "markdown",
   "metadata": {
    "id": "NXYij7pAbW1p"
   },
   "source": [
    "You’re already familiar with a classic technique for fighting this phenomenon: dropout, which randomly zeros out input units of a layer in order to break incidental correlations in the training data that the layer is exposed to. But how to correctly apply dropout in recurrent networks isn’t a trivial question. It has long been known that applying dropout before a recurrent layer hinders learning rather than helping with regularization. In 2015, Yarin Gal, as part of his PhD thesis on Bayesian deep learning, determined the proper way to use dropout with a recurrent network: the same dropout mask (the same pattern of dropped units) should be applied at every timestep, instead of a dropout mask that varies randomly from timestep to timestep.\n",
    "\n",
    "What’s more, in order to regularize the representations formed by the recurrent gates of layers such as GRU and LSTM, a temporally constant dropout mask should be applied to the inner recurrent activations of the layer (a recurrent dropout mask). Using the same dropout mask at every timestep allows the network to properly propagate its learning error through time; a temporally random dropout mask would disrupt this error signal and be harmful to the learning process.\n",
    "\n",
    "Yarin Gal did his research using Keras and helped build this mechanism directly into Keras recurrent layers (see Figure 1 below from https://becominghuman.ai/learning-note-dropout-in-recurrent-networks-part-1-57a9c19a2307). Every recurrent layer in Keras has two dropout-related arguments: dropout, a float specifying the dropout rate for input units of the layer, and recurrent_dropout, specifying the dropout rate of the recurrent units. Let’s add\n",
    "dropout and recurrent dropout to the GRU layer and see how doing so impacts overfitting. Because networks being regularized with dropout always take longer to fully converge, you’ll train the network for twice as many epochs.\n",
    "\n",
    "\n",
    "<img width=\"722\" alt=\"dropouts\" src=\"https://user-images.githubusercontent.com/25600601/144736347-2aa40588-a080-4f38-a868-8faf3f858a00.png\">\n"
   ]
  },
  {
   "cell_type": "markdown",
   "metadata": {
    "id": "v0hZK0cEMcfV"
   },
   "source": [
    "Let's try and mitigate the overfitting using dropout."
   ]
  },
  {
   "cell_type": "markdown",
   "metadata": {
    "id": "LV3ZR1tCV9xq"
   },
   "source": [
    "<div class=\"alert alert-block alert-info\">\n",
    "\n",
    "## ⚠️ Checkpoint ⚠️\n",
    "\n",
    "In the next 10-15 minutes, try changing the following with your LT to see if you can improve on the MAE of 0.2699:\n",
    "- Dropout\n",
    "- Smaller/Bigger LSTM\n",
    "</div>"
   ]
  },
  {
   "cell_type": "markdown",
   "metadata": {
    "id": "UzWImKyIcc6c"
   },
   "source": [
    "## Step 8. Model 3: Gated Recurrent Unit (GRU)\n",
    "Aside form the LSTM layer introduced in the previous lecture, we will implement also the GRU developed by Chung et al. in 2014."
   ]
  },
  {
   "cell_type": "markdown",
   "metadata": {
    "id": "tPs1BRwkcniX"
   },
   "source": [
    "The first fully connected approach didn’t do well, but that doesn’t mean machine learning isn’t applicable to this problem. The previous approach first flattened the timeseries, which removed the notion of time from the input data. Let’s instead look at the data as what it is: a sequence, where causality and order matter. You’ll try a recurrent-sequence processing model—it should be the perfect fit for such sequence data, precisely because it exploits the temporal ordering of data points, unlike the first approach. Gated recurrent unit (GRU) layers work using the same principle as LSTM, but they’re somewhat streamlined and thus cheaper to run (although they may not have as much representational power as\n",
    "LSTM). This trade-off between computational expensiveness and representational power is seen everywhere in machine learning.  Note the dot in our previous figure is the $\\times$ here.\n",
    "\n",
    "![RNN_LSTMvsGRU](https://user-images.githubusercontent.com/25600601/144736256-f2a3e628-7b65-428b-8349-7f98c7e9d452.jpeg)"
   ]
  },
  {
   "cell_type": "code",
   "execution_count": null,
   "metadata": {
    "execution": {
     "iopub.execute_input": "2025-02-08T12:27:26.872554Z",
     "iopub.status.busy": "2025-02-08T12:27:26.870624Z",
     "iopub.status.idle": "2025-02-08T12:27:26.889995Z",
     "shell.execute_reply": "2025-02-08T12:27:26.888266Z",
     "shell.execute_reply.started": "2025-02-08T12:27:26.872487Z"
    },
    "id": "h-AeSFHZXRdx",
    "outputId": "3af93b79-5794-4ccb-d332-62f7aee92e1e"
   },
   "outputs": [
    {
     "name": "stdout",
     "output_type": "stream",
     "text": [
      "GRUModel(\n",
      "  (gru): GRU(14, 32, batch_first=True)\n",
      "  (dense): Linear(in_features=32, out_features=1, bias=True)\n",
      ")\n",
      "Total parameters: 4641\n"
     ]
    }
   ],
   "source": [
    "import torch\n",
    "import torch.nn as nn\n",
    "\n",
    "class GRUModel(nn.Module):\n",
    "    def __init__(self, input_size):\n",
    "        super(GRUModel, self).__init__()\n",
    "        self.gru = nn.GRU(input_size, 32, batch_first=True)\n",
    "        self.dense = nn.Linear(32, 1)\n",
    "\n",
    "    def forward(self, x):\n",
    "        # GRU expects input of shape (batch_size, sequence_length, features)\n",
    "        gru_out, _ = self.gru(x)\n",
    "        # We only care about the last output of GRU for prediction\n",
    "        # Assuming variable length sequences, we take the last output from each batch\n",
    "        if x.dim() == 3:  # (batch, seq, feature)\n",
    "            gru_out = gru_out[:, -1, :]  # Take last time step\n",
    "        else:  # If not batched\n",
    "            gru_out = gru_out[-1, :]  # Take last time step\n",
    "\n",
    "        output = self.dense(gru_out)\n",
    "        return output\n",
    "\n",
    "# Define the model with the right input size\n",
    "input_size = 14\n",
    "model = GRUModel(input_size)\n",
    "\n",
    "# Print model summary\n",
    "print(model)\n",
    "\n",
    "total_params = sum(p.numel() for p in model.parameters())\n",
    "print(f\"Total parameters: {total_params}\")"
   ]
  },
  {
   "cell_type": "code",
   "execution_count": null,
   "metadata": {
    "execution": {
     "iopub.execute_input": "2025-02-08T12:27:41.365354Z",
     "iopub.status.busy": "2025-02-08T12:27:41.364558Z",
     "iopub.status.idle": "2025-02-08T12:34:13.554492Z",
     "shell.execute_reply": "2025-02-08T12:34:13.553683Z",
     "shell.execute_reply.started": "2025-02-08T12:27:41.365262Z"
    },
    "id": "j7lZx0dcXRdy",
    "outputId": "1889007b-5317-46bf-92e7-56070eac2511"
   },
   "outputs": [
    {
     "name": "stdout",
     "output_type": "stream",
     "text": [
      "cuda\n",
      "Epoch 1/20, Train Loss: 0.2982, Val Loss: 0.4088\n",
      "Epoch 2/20, Train Loss: 0.2470, Val Loss: 0.4134\n",
      "Epoch 3/20, Train Loss: 0.2372, Val Loss: 0.4363\n",
      "Epoch 4/20, Train Loss: 0.2523, Val Loss: 0.4073\n",
      "Epoch 5/20, Train Loss: 0.2507, Val Loss: 0.4083\n",
      "Epoch 6/20, Train Loss: 0.2863, Val Loss: 0.4124\n",
      "Epoch 7/20, Train Loss: 0.3422, Val Loss: 0.4158\n",
      "Epoch 8/20, Train Loss: 0.3804, Val Loss: 0.4052\n",
      "Epoch 9/20, Train Loss: 0.3944, Val Loss: 0.4529\n",
      "Epoch 10/20, Train Loss: 0.3773, Val Loss: 0.3885\n",
      "Epoch 11/20, Train Loss: 0.3912, Val Loss: 0.4159\n",
      "Epoch 12/20, Train Loss: 0.3989, Val Loss: 0.4387\n",
      "Epoch 13/20, Train Loss: 0.4039, Val Loss: 0.4021\n",
      "Epoch 14/20, Train Loss: 0.3949, Val Loss: 0.4013\n",
      "Epoch 15/20, Train Loss: 0.3745, Val Loss: 0.3889\n",
      "Epoch 16/20, Train Loss: 0.3625, Val Loss: 0.3727\n",
      "Epoch 17/20, Train Loss: 0.3816, Val Loss: 0.3905\n",
      "Epoch 18/20, Train Loss: 0.3995, Val Loss: 0.4225\n",
      "Epoch 19/20, Train Loss: 0.4035, Val Loss: 0.3851\n",
      "Epoch 20/20, Train Loss: 0.4040, Val Loss: 0.3877\n"
     ]
    }
   ],
   "source": [
    "# Transfer to GPU if available\n",
    "device = torch.device(\"cuda\" if torch.cuda.is_available() else \"cpu\")\n",
    "model = model.to(device)\n",
    "print(device)\n",
    "\n",
    "# Loss and optimizer\n",
    "criterion = nn.L1Loss()  # MAE in PyTorch\n",
    "optimizer = optim.RMSprop(model.parameters())\n",
    "\n",
    "# We'll use these lists to store loss history\n",
    "train_losses = []\n",
    "val_losses = []\n",
    "\n",
    "# Training loop\n",
    "def train_model(model, train_loader, val_loader, epochs):\n",
    "\n",
    "    for epoch in range(epochs):\n",
    "        model.train()\n",
    "        train_loss = 0.0\n",
    "        for inputs, targets in train_loader:\n",
    "            optimizer.zero_grad()\n",
    "            outputs = model(inputs.to(device))\n",
    "            loss = criterion(outputs, targets.unsqueeze(1).to(device))  # Ensure target matches output shape\n",
    "            loss.backward()\n",
    "            optimizer.step()\n",
    "            train_loss += loss.item()\n",
    "\n",
    "        # Average loss for this epoch\n",
    "        train_loss /= len(train_loader)\n",
    "        train_losses.append(train_loss)  # Store the average loss for plotting\n",
    "\n",
    "        # Validation\n",
    "        model.eval()\n",
    "        val_loss = 0.0\n",
    "        with torch.no_grad():\n",
    "            for inputs, targets in val_loader:\n",
    "                outputs = model(inputs.to(device))\n",
    "                loss = criterion(outputs, targets.unsqueeze(1).to(device))\n",
    "                val_loss += loss.item()\n",
    "\n",
    "        # Average validation loss for this epoch\n",
    "        val_loss /= len(val_loader)\n",
    "        val_losses.append(val_loss)  # Store the average validation loss for plotting\n",
    "\n",
    "        # Print statistics\n",
    "        print(f'Epoch {epoch+1}/{epochs}, Train Loss: {train_loss:.4f}, Val Loss: {val_loss:.4f}')\n",
    "\n",
    "# Train the model\n",
    "train_model(model, train_loader, val_loader, epochs=20)"
   ]
  },
  {
   "cell_type": "markdown",
   "metadata": {
    "id": "NJjCCQgyXRdy"
   },
   "source": [
    "Let’s display the loss curves for validation and training."
   ]
  },
  {
   "cell_type": "code",
   "execution_count": null,
   "metadata": {
    "ExecuteTime": {
     "end_time": "2018-11-28T12:27:47.875246Z",
     "start_time": "2018-11-28T12:27:47.756660Z"
    },
    "colab": {
     "base_uri": "https://localhost:8080/",
     "height": 452
    },
    "execution": {
     "iopub.execute_input": "2025-02-08T12:50:10.215526Z",
     "iopub.status.busy": "2025-02-08T12:50:10.215201Z",
     "iopub.status.idle": "2025-02-08T12:50:10.361690Z",
     "shell.execute_reply": "2025-02-08T12:50:10.360195Z",
     "shell.execute_reply.started": "2025-02-08T12:50:10.215503Z"
    },
    "executionInfo": {
     "elapsed": 29,
     "status": "ok",
     "timestamp": 1721787751766,
     "user": {
      "displayName": "kc-aim",
      "userId": "16968997735368758960"
     },
     "user_tz": -480
    },
    "id": "ZcqTKdAyXRdy",
    "outputId": "f5c44c31-faa9-430f-b224-972d64d90aff"
   },
   "outputs": [
    {
     "data": {
      "image/png": "[encoded data removed]",
      "text/plain": [
       "<Figure size 640x480 with 1 Axes>"
      ]
     },
     "metadata": {},
     "output_type": "display_data"
    }
   ],
   "source": [
    "import matplotlib.pyplot as plt\n",
    "\n",
    "max_loss_threshold = 2\n",
    "\n",
    "# Clip the losses to this threshold\n",
    "clipped_train_losses = np.clip(train_losses, None, max_loss_threshold)\n",
    "clipped_val_losses = np.clip(val_losses, None, max_loss_threshold)\n",
    "\n",
    "# Plotting the loss curves\n",
    "epochs = range(1, len(train_losses) + 1)\n",
    "\n",
    "plt.figure()\n",
    "\n",
    "plt.plot(epochs, clipped_train_losses, 'r', label='Training loss')\n",
    "plt.plot(epochs, clipped_val_losses, 'b', label='Validation loss')\n",
    "plt.title('Training and validation loss')\n",
    "plt.xlabel('Epoch')\n",
    "plt.ylabel('Loss')\n",
    "plt.legend()\n",
    "\n",
    "plt.show()"
   ]
  },
  {
   "cell_type": "markdown",
   "metadata": {
    "id": "-sn_fDBZTLGW"
   },
   "source": [
    "## Step 9. Stacking recurrent layers\n",
    "\n",
    "Because you’re no longer overfitting but seem to have hit a performance bottleneck, you should consider increasing the capacity of the network.\n",
    "\n",
    "Recall the description of the universal machine-learning workflow: it’s generally a good idea to increase the capacity of your network until overfitting becomes the primary obstacle (assuming you’re already taking basic steps to mitigate overfitting, such as using dropout). As long as you aren’t overfitting too badly, you’re likely under capacity.    \n",
    "\n",
    "Increasing network capacity is typically done by increasing the number of units in the layers or adding more layers. Recurrent layer stacking is a classic way to build more-powerful recurrent networks: for instance, what currently powers the Google to translate algorithm is a stack of seven large LSTM layers—that’s huge.   \n",
    "\n",
    "To stack recurrent layers on top of each other in Keras, all intermediate layers should return their full sequence of outputs (a 3D tensor) rather than their output at the last timestep. This is done by specifying return_sequences=True."
   ]
  },
  {
   "cell_type": "code",
   "execution_count": null,
   "metadata": {
    "execution": {
     "iopub.execute_input": "2025-02-08T13:47:29.853614Z",
     "iopub.status.busy": "2025-02-08T13:47:29.852830Z",
     "iopub.status.idle": "2025-02-08T13:47:29.879265Z",
     "shell.execute_reply": "2025-02-08T13:47:29.877336Z",
     "shell.execute_reply.started": "2025-02-08T13:47:29.853554Z"
    },
    "id": "EbiyUymtXRdy",
    "outputId": "6009b01c-c8fa-409a-cb9f-c1264071ca8c"
   },
   "outputs": [
    {
     "name": "stdout",
     "output_type": "stream",
     "text": [
      "GRUModel(\n",
      "  (gru1): GRU(14, 16, batch_first=True, dropout=0.1)\n",
      "  (gru1_dropout): Dropout(p=0.2, inplace=False)\n",
      "  (gru2): GRU(16, 32, batch_first=True, dropout=0.1)\n",
      "  (gru2_dropout): Dropout(p=0.2, inplace=False)\n",
      "  (dense): Linear(in_features=32, out_features=1, bias=True)\n",
      "  (relu): ReLU()\n",
      ")\n",
      "Total parameters: 6369\n"
     ]
    }
   ],
   "source": [
    "class GRUModel(nn.Module):\n",
    "    def __init__(self, input_size):\n",
    "        super(GRUModel, self).__init__()\n",
    "        # First GRU Layer:\n",
    "        self.gru1 = nn.GRU(input_size, 16, dropout=0.1, bidirectional=False, batch_first=True)\n",
    "        # Here, we manually set recurrent_dropout using a custom wrapper\n",
    "        self.gru1_dropout = nn.Dropout(0.2)\n",
    "\n",
    "        # Second GRU Layer:\n",
    "        self.gru2 = nn.GRU(16, 32, dropout=0.1, bidirectional=False, batch_first=True)\n",
    "        self.gru2_dropout = nn.Dropout(0.2)\n",
    "\n",
    "        # Dense Layer:\n",
    "        self.dense = nn.Linear(32, 1)\n",
    "\n",
    "        # Activation for the second GRU layer\n",
    "        self.relu = nn.ReLU()\n",
    "\n",
    "    def forward(self, x):\n",
    "        # First GRU layer with recurrent dropout\n",
    "        gru1_out, _ = self.gru1(x)\n",
    "        gru1_out = self.gru1_dropout(gru1_out)\n",
    "\n",
    "        # Second GRU layer\n",
    "        gru2_out, _ = self.gru2(gru1_out)\n",
    "        gru2_out = self.gru2_dropout(gru2_out)\n",
    "        gru2_out = self.relu(gru2_out)\n",
    "\n",
    "        # We take the last output of the sequence for prediction\n",
    "        if x.dim() == 3:  # (batch, seq, feature)\n",
    "            gru2_out = gru2_out[:, -1, :]  # Take last time step\n",
    "        else:  # If not batched\n",
    "            gru2_out = gru2_out[-1, :]  # Take last time step\n",
    "\n",
    "        # Dense layer\n",
    "        output = self.dense(gru2_out)\n",
    "        return output\n",
    "\n",
    "# Define the model with the right input size\n",
    "input_size = 14  # Number of features in your data\n",
    "model = GRUModel(input_size)\n",
    "\n",
    "# Print model summary\n",
    "print(model)\n",
    "\n",
    "# If you want to see the number of parameters:\n",
    "total_params = sum(p.numel() for p in model.parameters())\n",
    "print(f\"Total parameters: {total_params}\")"
   ]
  },
  {
   "cell_type": "code",
   "execution_count": null,
   "metadata": {
    "execution": {
     "iopub.execute_input": "2025-02-08T13:47:30.841636Z",
     "iopub.status.busy": "2025-02-08T13:47:30.840767Z",
     "iopub.status.idle": "2025-02-08T13:56:31.230688Z",
     "shell.execute_reply": "2025-02-08T13:56:31.229024Z",
     "shell.execute_reply.started": "2025-02-08T13:47:30.841559Z"
    },
    "id": "aHhrTCGIXRdy",
    "outputId": "a2aeefd0-2972-4ce4-ca40-15eedaeab281"
   },
   "outputs": [
    {
     "name": "stdout",
     "output_type": "stream",
     "text": [
      "cuda\n",
      "Epoch 1/20, Train Loss: 0.3537, Val Loss: 0.3942\n",
      "Epoch 2/20, Train Loss: 0.3101, Val Loss: 0.4251\n",
      "Epoch 3/20, Train Loss: 0.2961, Val Loss: 0.4339\n",
      "Epoch 4/20, Train Loss: 0.2889, Val Loss: 0.4813\n",
      "Epoch 5/20, Train Loss: 0.2895, Val Loss: 0.4397\n",
      "Epoch 6/20, Train Loss: 0.2846, Val Loss: 0.4366\n",
      "Epoch 7/20, Train Loss: 0.2847, Val Loss: 0.4250\n",
      "Epoch 8/20, Train Loss: 0.2948, Val Loss: 0.4414\n",
      "Epoch 9/20, Train Loss: 0.3289, Val Loss: 0.3896\n",
      "Epoch 10/20, Train Loss: 0.3293, Val Loss: 0.4283\n",
      "Epoch 11/20, Train Loss: 0.3296, Val Loss: 0.4200\n",
      "Epoch 12/20, Train Loss: 0.3706, Val Loss: 0.4468\n",
      "Epoch 13/20, Train Loss: 0.3982, Val Loss: 0.3872\n",
      "Epoch 14/20, Train Loss: 0.3926, Val Loss: 0.4126\n",
      "Epoch 15/20, Train Loss: 0.4471, Val Loss: 0.4089\n",
      "Epoch 16/20, Train Loss: 0.4721, Val Loss: 0.4270\n",
      "Epoch 17/20, Train Loss: 0.4888, Val Loss: 0.4378\n",
      "Epoch 18/20, Train Loss: 0.4672, Val Loss: 0.4165\n",
      "Epoch 19/20, Train Loss: 0.4613, Val Loss: 0.4263\n",
      "Epoch 20/20, Train Loss: 0.4735, Val Loss: 0.4252\n"
     ]
    }
   ],
   "source": [
    "# Transfer to GPU if available\n",
    "device = torch.device(\"cuda\" if torch.cuda.is_available() else \"cpu\")\n",
    "model = model.to(device)\n",
    "print(device)\n",
    "\n",
    "# Loss and optimizer\n",
    "criterion = nn.L1Loss()  # MAE in PyTorch\n",
    "optimizer = optim.RMSprop(model.parameters())\n",
    "\n",
    "# We'll use these lists to store loss history\n",
    "train_losses = []\n",
    "val_losses = []\n",
    "\n",
    "# Training loop\n",
    "def train_model(model, train_loader, val_loader, epochs):\n",
    "\n",
    "    for epoch in range(epochs):\n",
    "        model.train()\n",
    "        train_loss = 0.0\n",
    "        for inputs, targets in train_loader:\n",
    "            optimizer.zero_grad()\n",
    "            outputs = model(inputs.to(device))\n",
    "            loss = criterion(outputs, targets.unsqueeze(1).to(device))  # Ensure target matches output shape\n",
    "            loss.backward()\n",
    "            optimizer.step()\n",
    "            train_loss += loss.item()\n",
    "\n",
    "        # Average loss for this epoch\n",
    "        train_loss /= len(train_loader)\n",
    "        train_losses.append(train_loss)  # Store the average loss for plotting\n",
    "\n",
    "        # Validation\n",
    "        model.eval()\n",
    "        val_loss = 0.0\n",
    "        with torch.no_grad():\n",
    "            for inputs, targets in val_loader:\n",
    "                outputs = model(inputs.to(device))\n",
    "                loss = criterion(outputs, targets.unsqueeze(1).to(device))\n",
    "                val_loss += loss.item()\n",
    "\n",
    "        # Average validation loss for this epoch\n",
    "        val_loss /= len(val_loader)\n",
    "        val_losses.append(val_loss)  # Store the average validation loss for plotting\n",
    "\n",
    "        # Print statistics\n",
    "        print(f'Epoch {epoch+1}/{epochs}, Train Loss: {train_loss:.4f}, Val Loss: {val_loss:.4f}')\n",
    "\n",
    "# Train the model\n",
    "train_model(model, train_loader, val_loader, epochs=20)"
   ]
  },
  {
   "cell_type": "markdown",
   "metadata": {
    "id": "-3raLZa2XRdy"
   },
   "source": [
    "Let’s display the loss curves for validation and training."
   ]
  },
  {
   "cell_type": "code",
   "execution_count": null,
   "metadata": {
    "ExecuteTime": {
     "end_time": "2018-11-28T12:27:47.875246Z",
     "start_time": "2018-11-28T12:27:47.756660Z"
    },
    "colab": {
     "base_uri": "https://localhost:8080/",
     "height": 452
    },
    "execution": {
     "iopub.execute_input": "2025-02-08T13:56:31.234630Z",
     "iopub.status.busy": "2025-02-08T13:56:31.233898Z",
     "iopub.status.idle": "2025-02-08T13:56:31.418281Z",
     "shell.execute_reply": "2025-02-08T13:56:31.415818Z",
     "shell.execute_reply.started": "2025-02-08T13:56:31.234559Z"
    },
    "executionInfo": {
     "elapsed": 29,
     "status": "ok",
     "timestamp": 1721787751766,
     "user": {
      "displayName": "kc-aim",
      "userId": "16968997735368758960"
     },
     "user_tz": -480
    },
    "id": "BrJt1omhXRdy",
    "outputId": "f5c44c31-faa9-430f-b224-972d64d90aff"
   },
   "outputs": [
    {
     "data": {
      "image/png": "[encoded data removed]",
      "text/plain": [
       "<Figure size 640x480 with 1 Axes>"
      ]
     },
     "metadata": {},
     "output_type": "display_data"
    }
   ],
   "source": [
    "import matplotlib.pyplot as plt\n",
    "\n",
    "max_loss_threshold = 2\n",
    "\n",
    "# Clip the losses to this threshold\n",
    "clipped_train_losses = np.clip(train_losses, None, max_loss_threshold)\n",
    "clipped_val_losses = np.clip(val_losses, None, max_loss_threshold)\n",
    "\n",
    "# Plotting the loss curves\n",
    "epochs = range(1, len(train_losses) + 1)\n",
    "\n",
    "plt.figure()\n",
    "\n",
    "plt.plot(epochs, clipped_train_losses, 'r', label='Training loss')\n",
    "plt.plot(epochs, clipped_val_losses, 'b', label='Validation loss')\n",
    "plt.title('Training and validation loss')\n",
    "plt.xlabel('Epoch')\n",
    "plt.ylabel('Loss')\n",
    "plt.legend()\n",
    "\n",
    "plt.show()"
   ]
  },
  {
   "cell_type": "markdown",
   "metadata": {
    "id": "FFtewha-VaxY"
   },
   "source": [
    "## Step 10. Go even further!\n",
    "There are many other things you could try, in order to improve performance on the temperature-forecasting problem:\n",
    "- Adjust the learning rate used by the RMSprop optimizer.\n",
    "- Try using LSTM layer then a GRU layer then an LSTM layer again?\n",
    "- Try using a bigger densely connected regressor on top of the recurrent layers: that is, a bigger Dense layer or even a stack of Dense layers.\n",
    "- Don’t forget to eventually run the best-performing models (in terms of validation MAE) on the test set! Otherwise, you’ll develop architectures that are overfitting to the validation set.\n",
    "\n",
    "Deep learning right now is still more like an art than a science. We can provide guidelines that suggest what is likely to work or not work on a given problem, but, ultimately, every problem is unique; you’ll have to evaluate different strategies empirically. There is currently no theory that will tell you in advance precisely what you should do to optimally solve a problem. You must iterate."
   ]
  },
  {
   "cell_type": "markdown",
   "metadata": {
    "id": "sqFnJ5THMcfa"
   },
   "source": [
    "<div class=\"alert alert-block alert-success\">\n",
    "\n",
    "# Main Lessons\n",
    "\n",
    "Here’s what you should take away:\n",
    "\n",
    "* When approaching a new problem, it’s good first to establish common-sense baselines for your metric of choice. You can’t tell whether you’re making real progress if you don't have a baseline to beat.\n",
    "\n",
    "* Try simple models before expensive ones to justify the additional expense. Sometimes a simple model will turn out to be your best option.\n",
    "\n",
    "* When temporal ordering matters in data, recurrent networks are a great fit and easily outperform models that first flatten the temporal data.\n",
    "\n",
    "* To use dropout with recurrent networks, you should use time-constant and recurrent dropout masks. These are built into Keras recurrent layers, so you only have to use the dropout and recurrent_dropout arguments of recurrent layers.\n",
    "\n",
    "* Stacked RNNs provide more representational power than a single RNN layer. They’re also much more expensive and thus not always worth it. Although they offer clear gains on complex problems (such as machine translation), they may not always be relevant to smaller, simpler problems.\n",
    "\n",
    "</div>"
   ]
  }
 ],
 "metadata": {
  "accelerator": "GPU",
  "colab": {
   "collapsed_sections": [
    "iyQ_OX63Mce5"
   ],
   "gpuType": "T4",
   "provenance": [
    {
     "file_id": "1Ke4PltrnU-NvPeahOcI-V5j8bP6osO-S",
     "timestamp": 1715836045670
    }
   ],
   "toc_visible": true
  },
  "kernelspec": {
   "display_name": "mltfpy39",
   "language": "python",
   "name": "python3"
  },
  "language_info": {
   "codemirror_mode": {
    "name": "ipython",
    "version": 3
   },
   "file_extension": ".py",
   "mimetype": "text/x-python",
   "name": "python",
   "nbconvert_exporter": "python",
   "pygments_lexer": "ipython3",
   "version": "3.9.21"
  }
 },
 "nbformat": 4,
 "nbformat_minor": 0
}
